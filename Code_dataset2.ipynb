{
  "nbformat": 4,
  "nbformat_minor": 0,
  "metadata": {
    "colab": {
      "name": "ML_Assignment4_Dataset2",
      "provenance": []
    },
    "kernelspec": {
      "name": "python3",
      "display_name": "Python 3"
    }
  },
  "cells": [
    {
      "cell_type": "code",
      "metadata": {
        "id": "xDfow2Z2ec5q",
        "colab_type": "code",
        "outputId": "64cfef25-d6c5-42ff-dcbd-c8064c113d5a",
        "colab": {
          "base_uri": "https://localhost:8080/",
          "height": 72
        }
      },
      "source": [
        "import pandas as pd\n",
        "import numpy as np\n",
        "import matplotlib.pyplot as plt\n",
        "#import plotly.plotly as py\n",
        "#import plotly.graph_objs as go\n",
        "import warnings\n",
        "#from plotly.offline import download_plotlyjs, init_notebook_mode, plot, iplot\n",
        "import seaborn as sns\n",
        "import os\n",
        "import time\n",
        "\n",
        "#Setting options\n",
        "#init_notebook_mode(connected=True)\n",
        "#warnings.filterwarnings(\"ignore\")\n",
        "\n",
        "#Set Default option\n",
        "from IPython.core.display import display, HTML\n",
        "display(HTML(\"<style>.container { width:90% !important; }</style>\"))\n",
        "pd.options.display.max_rows = 3000"
      ],
      "execution_count": 2,
      "outputs": [
        {
          "output_type": "stream",
          "text": [
            "/usr/local/lib/python3.6/dist-packages/statsmodels/tools/_testing.py:19: FutureWarning: pandas.util.testing is deprecated. Use the functions in the public API at pandas.testing instead.\n",
            "  import pandas.util.testing as tm\n"
          ],
          "name": "stderr"
        },
        {
          "output_type": "display_data",
          "data": {
            "text/html": [
              "<style>.container { width:90% !important; }</style>"
            ],
            "text/plain": [
              "<IPython.core.display.HTML object>"
            ]
          },
          "metadata": {
            "tags": []
          }
        }
      ]
    },
    {
      "cell_type": "code",
      "metadata": {
        "id": "5S7eakdufPEb",
        "colab_type": "code",
        "outputId": "e112da38-72b9-4b12-f9c5-983b7148a8c1",
        "colab": {
          "base_uri": "https://localhost:8080/",
          "height": 35
        }
      },
      "source": [
        "## Data Preperation Libraries\n",
        "import numpy as np\n",
        "import pandas as pd\n",
        "from sklearn.model_selection import train_test_split\n",
        "from sklearn import preprocessing\n",
        "## Cross Validation Libraries \n",
        "from sklearn.model_selection import cross_val_score\n",
        "from sklearn.model_selection import cross_validate\n",
        "## KNN Library\n",
        "from sklearn.neighbors import KNeighborsClassifier\n",
        "## Library for plotting\n",
        "import matplotlib.pyplot as plt\n",
        "## Library for calculating performance metrics\n",
        "from sklearn.metrics import classification_report, confusion_matrix  \n",
        "from sklearn.metrics import accuracy_score\n",
        "from sklearn import metrics\n",
        "### Keras and Tensor flow libraries\n",
        "import tensorflow\n",
        "import keras\n",
        "from keras.models import Sequential\n",
        "from keras.layers import Dense, Activation"
      ],
      "execution_count": 3,
      "outputs": [
        {
          "output_type": "stream",
          "text": [
            "Using TensorFlow backend.\n"
          ],
          "name": "stderr"
        }
      ]
    },
    {
      "cell_type": "code",
      "metadata": {
        "id": "jICf2Q4EfPHY",
        "colab_type": "code",
        "outputId": "cd201e4e-7933-48c1-8c93-5126a87bd0c3",
        "colab": {
          "base_uri": "https://localhost:8080/",
          "height": 72
        }
      },
      "source": [
        "import pandas as pd\n",
        "import numpy as np\n",
        "from sklearn.cluster import KMeans\n",
        "from sklearn.preprocessing import LabelEncoder\n",
        "from sklearn.preprocessing import MinMaxScaler\n",
        "import seaborn as sns\n",
        "#import matplotlib.pyplot as plt\n",
        "## Library for calculating performance metrics\n",
        "from sklearn.metrics import classification_report, confusion_matrix  \n",
        "from sklearn.metrics import accuracy_score\n",
        "from sklearn.decomposition import FastICA\n",
        "from sklearn import metrics\n",
        "from sklearn.cluster import KMeans\n",
        "from sklearn.mixture import GaussianMixture\n",
        "from keras.models import Sequential\n",
        "from sklearn.ensemble import RandomForestRegressor, RandomForestClassifier  \n",
        "from sklearn.metrics import roc_auc_score\n",
        "from mlxtend.feature_selection import SequentialFeatureSelector\n",
        "from keras import regularizers\n",
        "from keras.layers import Dense\n",
        "from keras.optimizers import SGD, Adam"
      ],
      "execution_count": 4,
      "outputs": [
        {
          "output_type": "stream",
          "text": [
            "/usr/local/lib/python3.6/dist-packages/sklearn/externals/joblib/__init__.py:15: FutureWarning: sklearn.externals.joblib is deprecated in 0.21 and will be removed in 0.23. Please import this functionality directly from joblib, which can be installed with: pip install joblib. If this warning is raised when loading pickled models, you may need to re-serialize those models with scikit-learn 0.21+.\n",
            "  warnings.warn(msg, category=FutureWarning)\n"
          ],
          "name": "stderr"
        }
      ]
    },
    {
      "cell_type": "code",
      "metadata": {
        "id": "iy9_2b6_fPLP",
        "colab_type": "code",
        "colab": {}
      },
      "source": [
        "from sklearn.model_selection import train_test_split\n",
        "from sklearn import preprocessing\n",
        "from sklearn.preprocessing import StandardScaler\n",
        "sc = StandardScaler()"
      ],
      "execution_count": 0,
      "outputs": []
    },
    {
      "cell_type": "code",
      "metadata": {
        "id": "wqBGTfyPfPOK",
        "colab_type": "code",
        "outputId": "f283017c-8bff-40d7-fe42-d933f9886417",
        "colab": {
          "base_uri": "https://localhost:8080/",
          "height": 435
        }
      },
      "source": [
        "newdf1 = pd.read_csv('weatheraus.csv')\n",
        "newdf1"
      ],
      "execution_count": 8,
      "outputs": [
        {
          "output_type": "execute_result",
          "data": {
            "text/html": [
              "<div>\n",
              "<style scoped>\n",
              "    .dataframe tbody tr th:only-of-type {\n",
              "        vertical-align: middle;\n",
              "    }\n",
              "\n",
              "    .dataframe tbody tr th {\n",
              "        vertical-align: top;\n",
              "    }\n",
              "\n",
              "    .dataframe thead th {\n",
              "        text-align: right;\n",
              "    }\n",
              "</style>\n",
              "<table border=\"1\" class=\"dataframe\">\n",
              "  <thead>\n",
              "    <tr style=\"text-align: right;\">\n",
              "      <th></th>\n",
              "      <th>Date</th>\n",
              "      <th>Location</th>\n",
              "      <th>MinTemp</th>\n",
              "      <th>MaxTemp</th>\n",
              "      <th>Rainfall</th>\n",
              "      <th>Evaporation</th>\n",
              "      <th>Sunshine</th>\n",
              "      <th>WindGustDir</th>\n",
              "      <th>WindGustSpeed</th>\n",
              "      <th>WindDir9am</th>\n",
              "      <th>WindDir3pm</th>\n",
              "      <th>WindSpeed9am</th>\n",
              "      <th>WindSpeed3pm</th>\n",
              "      <th>Humidity9am</th>\n",
              "      <th>Humidity3pm</th>\n",
              "      <th>Pressure9am</th>\n",
              "      <th>Pressure3pm</th>\n",
              "      <th>Cloud9am</th>\n",
              "      <th>Cloud3pm</th>\n",
              "      <th>Temp9am</th>\n",
              "      <th>Temp3pm</th>\n",
              "      <th>RainToday</th>\n",
              "      <th>RISK_MM</th>\n",
              "      <th>RainTomorrow</th>\n",
              "    </tr>\n",
              "  </thead>\n",
              "  <tbody>\n",
              "    <tr>\n",
              "      <th>0</th>\n",
              "      <td>1/1/2009</td>\n",
              "      <td>Cobar</td>\n",
              "      <td>17.9</td>\n",
              "      <td>35.2</td>\n",
              "      <td>0.0</td>\n",
              "      <td>12.0</td>\n",
              "      <td>12.3</td>\n",
              "      <td>SSW</td>\n",
              "      <td>48</td>\n",
              "      <td>ENE</td>\n",
              "      <td>SW</td>\n",
              "      <td>6</td>\n",
              "      <td>20</td>\n",
              "      <td>20</td>\n",
              "      <td>13</td>\n",
              "      <td>1006.3</td>\n",
              "      <td>1004.4</td>\n",
              "      <td>2</td>\n",
              "      <td>5</td>\n",
              "      <td>26.6</td>\n",
              "      <td>33.4</td>\n",
              "      <td>No</td>\n",
              "      <td>0.0</td>\n",
              "      <td>No</td>\n",
              "    </tr>\n",
              "    <tr>\n",
              "      <th>1</th>\n",
              "      <td>1/2/2009</td>\n",
              "      <td>Cobar</td>\n",
              "      <td>18.4</td>\n",
              "      <td>28.9</td>\n",
              "      <td>0.0</td>\n",
              "      <td>14.8</td>\n",
              "      <td>13.0</td>\n",
              "      <td>S</td>\n",
              "      <td>37</td>\n",
              "      <td>SSE</td>\n",
              "      <td>SSE</td>\n",
              "      <td>19</td>\n",
              "      <td>19</td>\n",
              "      <td>30</td>\n",
              "      <td>8</td>\n",
              "      <td>1012.9</td>\n",
              "      <td>1012.1</td>\n",
              "      <td>1</td>\n",
              "      <td>1</td>\n",
              "      <td>20.3</td>\n",
              "      <td>27.0</td>\n",
              "      <td>No</td>\n",
              "      <td>0.0</td>\n",
              "      <td>No</td>\n",
              "    </tr>\n",
              "    <tr>\n",
              "      <th>2</th>\n",
              "      <td>1/4/2009</td>\n",
              "      <td>Cobar</td>\n",
              "      <td>19.4</td>\n",
              "      <td>37.6</td>\n",
              "      <td>0.0</td>\n",
              "      <td>10.8</td>\n",
              "      <td>10.6</td>\n",
              "      <td>NNE</td>\n",
              "      <td>46</td>\n",
              "      <td>NNE</td>\n",
              "      <td>NNW</td>\n",
              "      <td>30</td>\n",
              "      <td>15</td>\n",
              "      <td>42</td>\n",
              "      <td>22</td>\n",
              "      <td>1012.3</td>\n",
              "      <td>1009.2</td>\n",
              "      <td>1</td>\n",
              "      <td>6</td>\n",
              "      <td>28.7</td>\n",
              "      <td>34.9</td>\n",
              "      <td>No</td>\n",
              "      <td>0.0</td>\n",
              "      <td>No</td>\n",
              "    </tr>\n",
              "    <tr>\n",
              "      <th>3</th>\n",
              "      <td>1/5/2009</td>\n",
              "      <td>Cobar</td>\n",
              "      <td>21.9</td>\n",
              "      <td>38.4</td>\n",
              "      <td>0.0</td>\n",
              "      <td>11.4</td>\n",
              "      <td>12.2</td>\n",
              "      <td>WNW</td>\n",
              "      <td>31</td>\n",
              "      <td>WNW</td>\n",
              "      <td>WSW</td>\n",
              "      <td>6</td>\n",
              "      <td>6</td>\n",
              "      <td>37</td>\n",
              "      <td>22</td>\n",
              "      <td>1012.7</td>\n",
              "      <td>1009.1</td>\n",
              "      <td>1</td>\n",
              "      <td>5</td>\n",
              "      <td>29.1</td>\n",
              "      <td>35.6</td>\n",
              "      <td>No</td>\n",
              "      <td>0.0</td>\n",
              "      <td>No</td>\n",
              "    </tr>\n",
              "    <tr>\n",
              "      <th>4</th>\n",
              "      <td>1/6/2009</td>\n",
              "      <td>Cobar</td>\n",
              "      <td>24.2</td>\n",
              "      <td>41.0</td>\n",
              "      <td>0.0</td>\n",
              "      <td>11.2</td>\n",
              "      <td>8.4</td>\n",
              "      <td>WNW</td>\n",
              "      <td>35</td>\n",
              "      <td>NW</td>\n",
              "      <td>WNW</td>\n",
              "      <td>17</td>\n",
              "      <td>13</td>\n",
              "      <td>19</td>\n",
              "      <td>15</td>\n",
              "      <td>1010.7</td>\n",
              "      <td>1007.4</td>\n",
              "      <td>1</td>\n",
              "      <td>6</td>\n",
              "      <td>33.6</td>\n",
              "      <td>37.6</td>\n",
              "      <td>No</td>\n",
              "      <td>0.0</td>\n",
              "      <td>No</td>\n",
              "    </tr>\n",
              "    <tr>\n",
              "      <th>...</th>\n",
              "      <td>...</td>\n",
              "      <td>...</td>\n",
              "      <td>...</td>\n",
              "      <td>...</td>\n",
              "      <td>...</td>\n",
              "      <td>...</td>\n",
              "      <td>...</td>\n",
              "      <td>...</td>\n",
              "      <td>...</td>\n",
              "      <td>...</td>\n",
              "      <td>...</td>\n",
              "      <td>...</td>\n",
              "      <td>...</td>\n",
              "      <td>...</td>\n",
              "      <td>...</td>\n",
              "      <td>...</td>\n",
              "      <td>...</td>\n",
              "      <td>...</td>\n",
              "      <td>...</td>\n",
              "      <td>...</td>\n",
              "      <td>...</td>\n",
              "      <td>...</td>\n",
              "      <td>...</td>\n",
              "      <td>...</td>\n",
              "    </tr>\n",
              "    <tr>\n",
              "      <th>56415</th>\n",
              "      <td>6/20/2017</td>\n",
              "      <td>Darwin</td>\n",
              "      <td>19.3</td>\n",
              "      <td>33.4</td>\n",
              "      <td>0.0</td>\n",
              "      <td>6.0</td>\n",
              "      <td>11.0</td>\n",
              "      <td>ENE</td>\n",
              "      <td>35</td>\n",
              "      <td>SE</td>\n",
              "      <td>NE</td>\n",
              "      <td>9</td>\n",
              "      <td>20</td>\n",
              "      <td>63</td>\n",
              "      <td>32</td>\n",
              "      <td>1013.9</td>\n",
              "      <td>1010.5</td>\n",
              "      <td>0</td>\n",
              "      <td>1</td>\n",
              "      <td>24.5</td>\n",
              "      <td>32.3</td>\n",
              "      <td>No</td>\n",
              "      <td>0.0</td>\n",
              "      <td>No</td>\n",
              "    </tr>\n",
              "    <tr>\n",
              "      <th>56416</th>\n",
              "      <td>6/21/2017</td>\n",
              "      <td>Darwin</td>\n",
              "      <td>21.2</td>\n",
              "      <td>32.6</td>\n",
              "      <td>0.0</td>\n",
              "      <td>7.6</td>\n",
              "      <td>8.6</td>\n",
              "      <td>E</td>\n",
              "      <td>37</td>\n",
              "      <td>SE</td>\n",
              "      <td>SE</td>\n",
              "      <td>13</td>\n",
              "      <td>11</td>\n",
              "      <td>56</td>\n",
              "      <td>28</td>\n",
              "      <td>1014.6</td>\n",
              "      <td>1011.2</td>\n",
              "      <td>7</td>\n",
              "      <td>0</td>\n",
              "      <td>24.8</td>\n",
              "      <td>32.0</td>\n",
              "      <td>No</td>\n",
              "      <td>0.0</td>\n",
              "      <td>No</td>\n",
              "    </tr>\n",
              "    <tr>\n",
              "      <th>56417</th>\n",
              "      <td>6/22/2017</td>\n",
              "      <td>Darwin</td>\n",
              "      <td>20.7</td>\n",
              "      <td>32.8</td>\n",
              "      <td>0.0</td>\n",
              "      <td>5.6</td>\n",
              "      <td>11.0</td>\n",
              "      <td>E</td>\n",
              "      <td>33</td>\n",
              "      <td>E</td>\n",
              "      <td>W</td>\n",
              "      <td>17</td>\n",
              "      <td>11</td>\n",
              "      <td>46</td>\n",
              "      <td>23</td>\n",
              "      <td>1015.3</td>\n",
              "      <td>1011.8</td>\n",
              "      <td>0</td>\n",
              "      <td>0</td>\n",
              "      <td>24.8</td>\n",
              "      <td>32.1</td>\n",
              "      <td>No</td>\n",
              "      <td>0.0</td>\n",
              "      <td>No</td>\n",
              "    </tr>\n",
              "    <tr>\n",
              "      <th>56418</th>\n",
              "      <td>6/23/2017</td>\n",
              "      <td>Darwin</td>\n",
              "      <td>19.5</td>\n",
              "      <td>31.8</td>\n",
              "      <td>0.0</td>\n",
              "      <td>6.2</td>\n",
              "      <td>10.6</td>\n",
              "      <td>ESE</td>\n",
              "      <td>26</td>\n",
              "      <td>SE</td>\n",
              "      <td>NNW</td>\n",
              "      <td>9</td>\n",
              "      <td>17</td>\n",
              "      <td>62</td>\n",
              "      <td>58</td>\n",
              "      <td>1014.9</td>\n",
              "      <td>1010.7</td>\n",
              "      <td>1</td>\n",
              "      <td>1</td>\n",
              "      <td>24.8</td>\n",
              "      <td>29.2</td>\n",
              "      <td>No</td>\n",
              "      <td>0.0</td>\n",
              "      <td>No</td>\n",
              "    </tr>\n",
              "    <tr>\n",
              "      <th>56419</th>\n",
              "      <td>6/24/2017</td>\n",
              "      <td>Darwin</td>\n",
              "      <td>20.2</td>\n",
              "      <td>31.7</td>\n",
              "      <td>0.0</td>\n",
              "      <td>5.6</td>\n",
              "      <td>10.7</td>\n",
              "      <td>ENE</td>\n",
              "      <td>30</td>\n",
              "      <td>ENE</td>\n",
              "      <td>NNW</td>\n",
              "      <td>15</td>\n",
              "      <td>7</td>\n",
              "      <td>73</td>\n",
              "      <td>32</td>\n",
              "      <td>1013.9</td>\n",
              "      <td>1009.7</td>\n",
              "      <td>6</td>\n",
              "      <td>5</td>\n",
              "      <td>25.4</td>\n",
              "      <td>31.0</td>\n",
              "      <td>No</td>\n",
              "      <td>0.0</td>\n",
              "      <td>No</td>\n",
              "    </tr>\n",
              "  </tbody>\n",
              "</table>\n",
              "<p>56420 rows × 24 columns</p>\n",
              "</div>"
            ],
            "text/plain": [
              "            Date Location  MinTemp  ...  RainToday  RISK_MM  RainTomorrow\n",
              "0       1/1/2009    Cobar     17.9  ...         No      0.0            No\n",
              "1       1/2/2009    Cobar     18.4  ...         No      0.0            No\n",
              "2       1/4/2009    Cobar     19.4  ...         No      0.0            No\n",
              "3       1/5/2009    Cobar     21.9  ...         No      0.0            No\n",
              "4       1/6/2009    Cobar     24.2  ...         No      0.0            No\n",
              "...          ...      ...      ...  ...        ...      ...           ...\n",
              "56415  6/20/2017   Darwin     19.3  ...         No      0.0            No\n",
              "56416  6/21/2017   Darwin     21.2  ...         No      0.0            No\n",
              "56417  6/22/2017   Darwin     20.7  ...         No      0.0            No\n",
              "56418  6/23/2017   Darwin     19.5  ...         No      0.0            No\n",
              "56419  6/24/2017   Darwin     20.2  ...         No      0.0            No\n",
              "\n",
              "[56420 rows x 24 columns]"
            ]
          },
          "metadata": {
            "tags": []
          },
          "execution_count": 8
        }
      ]
    },
    {
      "cell_type": "code",
      "metadata": {
        "id": "299gFAlCfPQ9",
        "colab_type": "code",
        "outputId": "61afea1f-a3bc-48ca-ca2d-d4816a9e647b",
        "colab": {
          "base_uri": "https://localhost:8080/",
          "height": 451
        }
      },
      "source": [
        "#checking for NA\n",
        "newdf1.isnull().sum()\n"
      ],
      "execution_count": 9,
      "outputs": [
        {
          "output_type": "execute_result",
          "data": {
            "text/plain": [
              "Date             0\n",
              "Location         0\n",
              "MinTemp          0\n",
              "MaxTemp          0\n",
              "Rainfall         0\n",
              "Evaporation      0\n",
              "Sunshine         0\n",
              "WindGustDir      0\n",
              "WindGustSpeed    0\n",
              "WindDir9am       0\n",
              "WindDir3pm       0\n",
              "WindSpeed9am     0\n",
              "WindSpeed3pm     0\n",
              "Humidity9am      0\n",
              "Humidity3pm      0\n",
              "Pressure9am      0\n",
              "Pressure3pm      0\n",
              "Cloud9am         0\n",
              "Cloud3pm         0\n",
              "Temp9am          0\n",
              "Temp3pm          0\n",
              "RainToday        0\n",
              "RISK_MM          0\n",
              "RainTomorrow     0\n",
              "dtype: int64"
            ]
          },
          "metadata": {
            "tags": []
          },
          "execution_count": 9
        }
      ]
    },
    {
      "cell_type": "code",
      "metadata": {
        "id": "n991GFUHfPUr",
        "colab_type": "code",
        "outputId": "760de942-8ef7-41a0-e32b-48a9cc38af0e",
        "colab": {
          "base_uri": "https://localhost:8080/",
          "height": 461
        }
      },
      "source": [
        "#finding outliers using boxplot\n",
        "plt.figure(figsize=(16,8))\n",
        "sns.boxplot(data = newdf1 )"
      ],
      "execution_count": 10,
      "outputs": [
        {
          "output_type": "execute_result",
          "data": {
            "text/plain": [
              "<matplotlib.axes._subplots.AxesSubplot at 0x7fd66cc29320>"
            ]
          },
          "metadata": {
            "tags": []
          },
          "execution_count": 10
        },
        {
          "output_type": "display_data",
          "data": {
            "image/png": "[encoded data removed]",
            "text/plain": [
              "<Figure size 1152x576 with 1 Axes>"
            ]
          },
          "metadata": {
            "tags": [],
            "needs_background": "light"
          }
        }
      ]
    },
    {
      "cell_type": "code",
      "metadata": {
        "id": "5PHBXfYVkIXD",
        "colab_type": "code",
        "colab": {}
      },
      "source": [
        "#From the given dataset description, it is given that we should remove RISK_MM column, so it will be dropped as follow:\n",
        "newdf1.drop(['RISK_MM'], axis=1, inplace=True)"
      ],
      "execution_count": 0,
      "outputs": []
    },
    {
      "cell_type": "code",
      "metadata": {
        "id": "0e9aoBGjkIai",
        "colab_type": "code",
        "outputId": "fcff9fa1-2b66-47e7-a4e2-773fae4d7c97",
        "colab": {
          "base_uri": "https://localhost:8080/",
          "height": 89
        }
      },
      "source": [
        "#Exploring categorical values:\n",
        "categorical = [var for var in newdf1.columns if newdf1[var].dtype=='O']\n",
        "\n",
        "print('There are {} categorical variables\\n'.format(len(categorical)))\n",
        "\n",
        "print('The categorical variables are :', categorical)"
      ],
      "execution_count": 12,
      "outputs": [
        {
          "output_type": "stream",
          "text": [
            "There are 7 categorical variables\n",
            "\n",
            "The categorical variables are : ['Date', 'Location', 'WindGustDir', 'WindDir9am', 'WindDir3pm', 'RainToday', 'RainTomorrow']\n"
          ],
          "name": "stdout"
        }
      ]
    },
    {
      "cell_type": "code",
      "metadata": {
        "id": "VDdTHBEgkIjK",
        "colab_type": "code",
        "outputId": "716b8779-4f30-4fed-8d0d-18ee8ab2348f",
        "colab": {
          "base_uri": "https://localhost:8080/",
          "height": 202
        }
      },
      "source": [
        "#View categorical values:\n",
        "newdf1[categorical].head()"
      ],
      "execution_count": 13,
      "outputs": [
        {
          "output_type": "execute_result",
          "data": {
            "text/html": [
              "<div>\n",
              "<style scoped>\n",
              "    .dataframe tbody tr th:only-of-type {\n",
              "        vertical-align: middle;\n",
              "    }\n",
              "\n",
              "    .dataframe tbody tr th {\n",
              "        vertical-align: top;\n",
              "    }\n",
              "\n",
              "    .dataframe thead th {\n",
              "        text-align: right;\n",
              "    }\n",
              "</style>\n",
              "<table border=\"1\" class=\"dataframe\">\n",
              "  <thead>\n",
              "    <tr style=\"text-align: right;\">\n",
              "      <th></th>\n",
              "      <th>Date</th>\n",
              "      <th>Location</th>\n",
              "      <th>WindGustDir</th>\n",
              "      <th>WindDir9am</th>\n",
              "      <th>WindDir3pm</th>\n",
              "      <th>RainToday</th>\n",
              "      <th>RainTomorrow</th>\n",
              "    </tr>\n",
              "  </thead>\n",
              "  <tbody>\n",
              "    <tr>\n",
              "      <th>0</th>\n",
              "      <td>1/1/2009</td>\n",
              "      <td>Cobar</td>\n",
              "      <td>SSW</td>\n",
              "      <td>ENE</td>\n",
              "      <td>SW</td>\n",
              "      <td>No</td>\n",
              "      <td>No</td>\n",
              "    </tr>\n",
              "    <tr>\n",
              "      <th>1</th>\n",
              "      <td>1/2/2009</td>\n",
              "      <td>Cobar</td>\n",
              "      <td>S</td>\n",
              "      <td>SSE</td>\n",
              "      <td>SSE</td>\n",
              "      <td>No</td>\n",
              "      <td>No</td>\n",
              "    </tr>\n",
              "    <tr>\n",
              "      <th>2</th>\n",
              "      <td>1/4/2009</td>\n",
              "      <td>Cobar</td>\n",
              "      <td>NNE</td>\n",
              "      <td>NNE</td>\n",
              "      <td>NNW</td>\n",
              "      <td>No</td>\n",
              "      <td>No</td>\n",
              "    </tr>\n",
              "    <tr>\n",
              "      <th>3</th>\n",
              "      <td>1/5/2009</td>\n",
              "      <td>Cobar</td>\n",
              "      <td>WNW</td>\n",
              "      <td>WNW</td>\n",
              "      <td>WSW</td>\n",
              "      <td>No</td>\n",
              "      <td>No</td>\n",
              "    </tr>\n",
              "    <tr>\n",
              "      <th>4</th>\n",
              "      <td>1/6/2009</td>\n",
              "      <td>Cobar</td>\n",
              "      <td>WNW</td>\n",
              "      <td>NW</td>\n",
              "      <td>WNW</td>\n",
              "      <td>No</td>\n",
              "      <td>No</td>\n",
              "    </tr>\n",
              "  </tbody>\n",
              "</table>\n",
              "</div>"
            ],
            "text/plain": [
              "       Date Location WindGustDir WindDir9am WindDir3pm RainToday RainTomorrow\n",
              "0  1/1/2009    Cobar         SSW        ENE         SW        No           No\n",
              "1  1/2/2009    Cobar           S        SSE        SSE        No           No\n",
              "2  1/4/2009    Cobar         NNE        NNE        NNW        No           No\n",
              "3  1/5/2009    Cobar         WNW        WNW        WSW        No           No\n",
              "4  1/6/2009    Cobar         WNW         NW        WNW        No           No"
            ]
          },
          "metadata": {
            "tags": []
          },
          "execution_count": 13
        }
      ]
    },
    {
      "cell_type": "code",
      "metadata": {
        "id": "1ujQf-BfkIp1",
        "colab_type": "code",
        "outputId": "65adf450-654a-4c99-a2d2-d4ca6c24e364",
        "colab": {
          "base_uri": "https://localhost:8080/",
          "height": 1000
        }
      },
      "source": [
        "#Frequency count of categorical variables:\n",
        "for var in categorical: \n",
        "    \n",
        "    print(newdf1[var].value_counts())"
      ],
      "execution_count": 14,
      "outputs": [
        {
          "output_type": "stream",
          "text": [
            "1/20/2009     25\n",
            "2/2/2009      25\n",
            "4/16/2010     25\n",
            "10/29/2010    25\n",
            "6/6/2010      25\n",
            "              ..\n",
            "1/18/2008      1\n",
            "3/10/2008      1\n",
            "1/14/2008      1\n",
            "6/21/2008      1\n",
            "1/23/2008      1\n",
            "Name: Date, Length: 3416, dtype: int64\n",
            "Darwin              3062\n",
            "Perth               3025\n",
            "Brisbane            2953\n",
            "MelbourneAirport    2929\n",
            "PerthAirport        2913\n",
            "SydneyAirport       2870\n",
            "Watsonia            2730\n",
            "Mildura             2594\n",
            "MountGambier        2465\n",
            "NorfolkIsland       2464\n",
            "Cairns              2444\n",
            "Townsville          2419\n",
            "WaggaWagga          2416\n",
            "AliceSprings        2223\n",
            "Nuriootpa           2008\n",
            "Hobart              1939\n",
            "Moree               1913\n",
            "Melbourne           1898\n",
            "Portland            1863\n",
            "Woomera             1734\n",
            "Sydney              1690\n",
            "Sale                1678\n",
            "CoffsHarbour        1380\n",
            "Williamtown         1198\n",
            "Canberra            1078\n",
            "Cobar                534\n",
            "Name: Location, dtype: int64\n",
            "E      4516\n",
            "N      4210\n",
            "W      4161\n",
            "SW     4052\n",
            "ENE    4028\n",
            "SE     3930\n",
            "SSW    3898\n",
            "WSW    3791\n",
            "S      3636\n",
            "ESE    3312\n",
            "SSE    3295\n",
            "NE     3185\n",
            "WNW    2989\n",
            "NW     2612\n",
            "NNE    2516\n",
            "NNW    2289\n",
            "Name: WindGustDir, dtype: int64\n",
            "N      4967\n",
            "E      4456\n",
            "ENE    3932\n",
            "SSE    3893\n",
            "SE     3880\n",
            "W      3707\n",
            "S      3421\n",
            "ESE    3400\n",
            "NE     3390\n",
            "SW     3356\n",
            "NNE    3267\n",
            "WSW    3037\n",
            "NNW    3016\n",
            "SSW    2926\n",
            "WNW    2918\n",
            "NW     2854\n",
            "Name: WindDir9am, dtype: int64\n",
            "SE     4153\n",
            "S      4109\n",
            "SW     4012\n",
            "ENE    3946\n",
            "W      3922\n",
            "WSW    3856\n",
            "E      3753\n",
            "ESE    3703\n",
            "N      3626\n",
            "SSW    3485\n",
            "NE     3390\n",
            "SSE    3332\n",
            "WNW    3200\n",
            "NNW    2766\n",
            "NW     2727\n",
            "NNE    2440\n",
            "Name: WindDir3pm, dtype: int64\n",
            "No     43958\n",
            "Yes    12462\n",
            "Name: RainToday, dtype: int64\n",
            "No     43993\n",
            "Yes    12427\n",
            "Name: RainTomorrow, dtype: int64\n"
          ],
          "name": "stdout"
        }
      ]
    },
    {
      "cell_type": "code",
      "metadata": {
        "id": "lGrm04hZkIz7",
        "colab_type": "code",
        "outputId": "24889c64-0735-467e-b634-3d2846ff2c22",
        "colab": {
          "base_uri": "https://localhost:8080/",
          "height": 139
        }
      },
      "source": [
        "#check for cardinality \n",
        "for var in categorical:\n",
        "    \n",
        "    print(var, ' contains ', len(newdf1[var].unique()), ' labels')"
      ],
      "execution_count": 15,
      "outputs": [
        {
          "output_type": "stream",
          "text": [
            "Date  contains  3416  labels\n",
            "Location  contains  26  labels\n",
            "WindGustDir  contains  16  labels\n",
            "WindDir9am  contains  16  labels\n",
            "WindDir3pm  contains  16  labels\n",
            "RainToday  contains  2  labels\n",
            "RainTomorrow  contains  2  labels\n"
          ],
          "name": "stdout"
        }
      ]
    },
    {
      "cell_type": "code",
      "metadata": {
        "id": "gYxuEMmSkI4U",
        "colab_type": "code",
        "outputId": "545012fd-f36a-469b-bf0b-b8c9ff832849",
        "colab": {
          "base_uri": "https://localhost:8080/",
          "height": 35
        }
      },
      "source": [
        "#feature engineering of date variable\n",
        "\n",
        "newdf1['Date'].dtypes"
      ],
      "execution_count": 16,
      "outputs": [
        {
          "output_type": "execute_result",
          "data": {
            "text/plain": [
              "dtype('O')"
            ]
          },
          "metadata": {
            "tags": []
          },
          "execution_count": 16
        }
      ]
    },
    {
      "cell_type": "code",
      "metadata": {
        "id": "4rFC-TozkIne",
        "colab_type": "code",
        "colab": {}
      },
      "source": [
        "# parse the dates, currently coded as strings, into datetime format\n",
        "\n",
        "newdf1['Date'] = pd.to_datetime(newdf1['Date'])"
      ],
      "execution_count": 0,
      "outputs": []
    },
    {
      "cell_type": "code",
      "metadata": {
        "id": "t7LgFQW2t5hS",
        "colab_type": "code",
        "outputId": "7eddd152-6a08-4b4f-9188-7e9ed7084b8c",
        "colab": {
          "base_uri": "https://localhost:8080/",
          "height": 121
        }
      },
      "source": [
        "# extract year from date\n",
        "\n",
        "newdf1['Year'] = newdf1['Date'].dt.year\n",
        "\n",
        "newdf1['Year'].head()"
      ],
      "execution_count": 18,
      "outputs": [
        {
          "output_type": "execute_result",
          "data": {
            "text/plain": [
              "0    2009\n",
              "1    2009\n",
              "2    2009\n",
              "3    2009\n",
              "4    2009\n",
              "Name: Year, dtype: int64"
            ]
          },
          "metadata": {
            "tags": []
          },
          "execution_count": 18
        }
      ]
    },
    {
      "cell_type": "code",
      "metadata": {
        "id": "tAhVpyTAt5na",
        "colab_type": "code",
        "outputId": "4d4acfeb-e26d-4211-dcf7-d0d100b236b8",
        "colab": {
          "base_uri": "https://localhost:8080/",
          "height": 121
        }
      },
      "source": [
        "# extract month from date\n",
        "\n",
        "newdf1['Month'] = newdf1['Date'].dt.month\n",
        "\n",
        "newdf1['Month'].head()"
      ],
      "execution_count": 19,
      "outputs": [
        {
          "output_type": "execute_result",
          "data": {
            "text/plain": [
              "0    1\n",
              "1    1\n",
              "2    1\n",
              "3    1\n",
              "4    1\n",
              "Name: Month, dtype: int64"
            ]
          },
          "metadata": {
            "tags": []
          },
          "execution_count": 19
        }
      ]
    },
    {
      "cell_type": "code",
      "metadata": {
        "id": "JyH944sAt5f9",
        "colab_type": "code",
        "outputId": "ac4ef003-5c3d-4b97-cd37-8f165161761f",
        "colab": {
          "base_uri": "https://localhost:8080/",
          "height": 121
        }
      },
      "source": [
        "# extract day from date\n",
        "\n",
        "newdf1['Day'] = newdf1['Date'].dt.day\n",
        "\n",
        "newdf1['Day'].head()"
      ],
      "execution_count": 20,
      "outputs": [
        {
          "output_type": "execute_result",
          "data": {
            "text/plain": [
              "0    1\n",
              "1    2\n",
              "2    4\n",
              "3    5\n",
              "4    6\n",
              "Name: Day, dtype: int64"
            ]
          },
          "metadata": {
            "tags": []
          },
          "execution_count": 20
        }
      ]
    },
    {
      "cell_type": "code",
      "metadata": {
        "id": "OX6LKhhnt5eR",
        "colab_type": "code",
        "outputId": "22d7ab5f-f6b4-43d9-e9cc-5a18175cb93b",
        "colab": {
          "base_uri": "https://localhost:8080/",
          "height": 589
        }
      },
      "source": [
        "newdf1.info()"
      ],
      "execution_count": 21,
      "outputs": [
        {
          "output_type": "stream",
          "text": [
            "<class 'pandas.core.frame.DataFrame'>\n",
            "RangeIndex: 56420 entries, 0 to 56419\n",
            "Data columns (total 26 columns):\n",
            " #   Column         Non-Null Count  Dtype         \n",
            "---  ------         --------------  -----         \n",
            " 0   Date           56420 non-null  datetime64[ns]\n",
            " 1   Location       56420 non-null  object        \n",
            " 2   MinTemp        56420 non-null  float64       \n",
            " 3   MaxTemp        56420 non-null  float64       \n",
            " 4   Rainfall       56420 non-null  float64       \n",
            " 5   Evaporation    56420 non-null  float64       \n",
            " 6   Sunshine       56420 non-null  float64       \n",
            " 7   WindGustDir    56420 non-null  object        \n",
            " 8   WindGustSpeed  56420 non-null  int64         \n",
            " 9   WindDir9am     56420 non-null  object        \n",
            " 10  WindDir3pm     56420 non-null  object        \n",
            " 11  WindSpeed9am   56420 non-null  int64         \n",
            " 12  WindSpeed3pm   56420 non-null  int64         \n",
            " 13  Humidity9am    56420 non-null  int64         \n",
            " 14  Humidity3pm    56420 non-null  int64         \n",
            " 15  Pressure9am    56420 non-null  float64       \n",
            " 16  Pressure3pm    56420 non-null  float64       \n",
            " 17  Cloud9am       56420 non-null  int64         \n",
            " 18  Cloud3pm       56420 non-null  int64         \n",
            " 19  Temp9am        56420 non-null  float64       \n",
            " 20  Temp3pm        56420 non-null  float64       \n",
            " 21  RainToday      56420 non-null  object        \n",
            " 22  RainTomorrow   56420 non-null  object        \n",
            " 23  Year           56420 non-null  int64         \n",
            " 24  Month          56420 non-null  int64         \n",
            " 25  Day            56420 non-null  int64         \n",
            "dtypes: datetime64[ns](1), float64(9), int64(10), object(6)\n",
            "memory usage: 11.2+ MB\n"
          ],
          "name": "stdout"
        }
      ]
    },
    {
      "cell_type": "code",
      "metadata": {
        "id": "Y-b4y-qYt5bp",
        "colab_type": "code",
        "colab": {}
      },
      "source": [
        "#drop the original Date variable\n",
        "\n",
        "newdf1.drop('Date', axis=1, inplace = True)"
      ],
      "execution_count": 0,
      "outputs": []
    },
    {
      "cell_type": "code",
      "metadata": {
        "id": "37q9qVMNt5XT",
        "colab_type": "code",
        "outputId": "55448269-5ceb-4303-8b2b-9236e75ecec5",
        "colab": {
          "base_uri": "https://localhost:8080/",
          "height": 89
        }
      },
      "source": [
        "#exploring other categorical variables one by one:\n",
        "\n",
        "categorical = [var for var in newdf1.columns if newdf1[var].dtype=='O']\n",
        "\n",
        "print('There are {} categorical variables\\n'.format(len(categorical)))\n",
        "\n",
        "print('The categorical variables are :', categorical)"
      ],
      "execution_count": 23,
      "outputs": [
        {
          "output_type": "stream",
          "text": [
            "There are 6 categorical variables\n",
            "\n",
            "The categorical variables are : ['Location', 'WindGustDir', 'WindDir9am', 'WindDir3pm', 'RainToday', 'RainTomorrow']\n"
          ],
          "name": "stdout"
        }
      ]
    },
    {
      "cell_type": "code",
      "metadata": {
        "id": "7ArxcEkZkITm",
        "colab_type": "code",
        "colab": {}
      },
      "source": [
        "# let's do One Hot Encoding of Location variable\n",
        "# get k-1 dummy variables after One Hot Encoding \n",
        "# preview the dataset with head() method\n",
        "newdf2=pd.get_dummies(newdf1)"
      ],
      "execution_count": 0,
      "outputs": []
    },
    {
      "cell_type": "code",
      "metadata": {
        "id": "LgtMf9bkuMKr",
        "colab_type": "code",
        "colab": {}
      },
      "source": [
        "#Dropping extra dummy variables:\n",
        "newdf2=newdf2.drop(['Location_AliceSprings','WindGustDir_E','WindDir9am_E','WindDir3pm_E','RainToday_No','RainTomorrow_No'], axis=1)"
      ],
      "execution_count": 0,
      "outputs": []
    },
    {
      "cell_type": "code",
      "metadata": {
        "id": "W5I-5FkQuMTv",
        "colab_type": "code",
        "outputId": "7100f6d4-60ef-4c12-e735-add33be2ee17",
        "colab": {
          "base_uri": "https://localhost:8080/",
          "height": 343
        }
      },
      "source": [
        "newdf2.describe()"
      ],
      "execution_count": 26,
      "outputs": [
        {
          "output_type": "execute_result",
          "data": {
            "text/html": [
              "<div>\n",
              "<style scoped>\n",
              "    .dataframe tbody tr th:only-of-type {\n",
              "        vertical-align: middle;\n",
              "    }\n",
              "\n",
              "    .dataframe tbody tr th {\n",
              "        vertical-align: top;\n",
              "    }\n",
              "\n",
              "    .dataframe thead th {\n",
              "        text-align: right;\n",
              "    }\n",
              "</style>\n",
              "<table border=\"1\" class=\"dataframe\">\n",
              "  <thead>\n",
              "    <tr style=\"text-align: right;\">\n",
              "      <th></th>\n",
              "      <th>MinTemp</th>\n",
              "      <th>MaxTemp</th>\n",
              "      <th>Rainfall</th>\n",
              "      <th>Evaporation</th>\n",
              "      <th>Sunshine</th>\n",
              "      <th>WindGustSpeed</th>\n",
              "      <th>WindSpeed9am</th>\n",
              "      <th>WindSpeed3pm</th>\n",
              "      <th>Humidity9am</th>\n",
              "      <th>Humidity3pm</th>\n",
              "      <th>Pressure9am</th>\n",
              "      <th>Pressure3pm</th>\n",
              "      <th>Cloud9am</th>\n",
              "      <th>Cloud3pm</th>\n",
              "      <th>Temp9am</th>\n",
              "      <th>Temp3pm</th>\n",
              "      <th>Year</th>\n",
              "      <th>Month</th>\n",
              "      <th>Day</th>\n",
              "      <th>Location_Brisbane</th>\n",
              "      <th>Location_Cairns</th>\n",
              "      <th>Location_Canberra</th>\n",
              "      <th>Location_Cobar</th>\n",
              "      <th>Location_CoffsHarbour</th>\n",
              "      <th>Location_Darwin</th>\n",
              "      <th>Location_Hobart</th>\n",
              "      <th>Location_Melbourne</th>\n",
              "      <th>Location_MelbourneAirport</th>\n",
              "      <th>Location_Mildura</th>\n",
              "      <th>Location_Moree</th>\n",
              "      <th>Location_MountGambier</th>\n",
              "      <th>Location_NorfolkIsland</th>\n",
              "      <th>Location_Nuriootpa</th>\n",
              "      <th>Location_Perth</th>\n",
              "      <th>Location_PerthAirport</th>\n",
              "      <th>Location_Portland</th>\n",
              "      <th>Location_Sale</th>\n",
              "      <th>Location_Sydney</th>\n",
              "      <th>Location_SydneyAirport</th>\n",
              "      <th>Location_Townsville</th>\n",
              "      <th>...</th>\n",
              "      <th>WindGustDir_S</th>\n",
              "      <th>WindGustDir_SE</th>\n",
              "      <th>WindGustDir_SSE</th>\n",
              "      <th>WindGustDir_SSW</th>\n",
              "      <th>WindGustDir_SW</th>\n",
              "      <th>WindGustDir_W</th>\n",
              "      <th>WindGustDir_WNW</th>\n",
              "      <th>WindGustDir_WSW</th>\n",
              "      <th>WindDir9am_ENE</th>\n",
              "      <th>WindDir9am_ESE</th>\n",
              "      <th>WindDir9am_N</th>\n",
              "      <th>WindDir9am_NE</th>\n",
              "      <th>WindDir9am_NNE</th>\n",
              "      <th>WindDir9am_NNW</th>\n",
              "      <th>WindDir9am_NW</th>\n",
              "      <th>WindDir9am_S</th>\n",
              "      <th>WindDir9am_SE</th>\n",
              "      <th>WindDir9am_SSE</th>\n",
              "      <th>WindDir9am_SSW</th>\n",
              "      <th>WindDir9am_SW</th>\n",
              "      <th>WindDir9am_W</th>\n",
              "      <th>WindDir9am_WNW</th>\n",
              "      <th>WindDir9am_WSW</th>\n",
              "      <th>WindDir3pm_ENE</th>\n",
              "      <th>WindDir3pm_ESE</th>\n",
              "      <th>WindDir3pm_N</th>\n",
              "      <th>WindDir3pm_NE</th>\n",
              "      <th>WindDir3pm_NNE</th>\n",
              "      <th>WindDir3pm_NNW</th>\n",
              "      <th>WindDir3pm_NW</th>\n",
              "      <th>WindDir3pm_S</th>\n",
              "      <th>WindDir3pm_SE</th>\n",
              "      <th>WindDir3pm_SSE</th>\n",
              "      <th>WindDir3pm_SSW</th>\n",
              "      <th>WindDir3pm_SW</th>\n",
              "      <th>WindDir3pm_W</th>\n",
              "      <th>WindDir3pm_WNW</th>\n",
              "      <th>WindDir3pm_WSW</th>\n",
              "      <th>RainToday_Yes</th>\n",
              "      <th>RainTomorrow_Yes</th>\n",
              "    </tr>\n",
              "  </thead>\n",
              "  <tbody>\n",
              "    <tr>\n",
              "      <th>count</th>\n",
              "      <td>56420.000000</td>\n",
              "      <td>56420.000000</td>\n",
              "      <td>56420.000000</td>\n",
              "      <td>56420.000000</td>\n",
              "      <td>56420.000000</td>\n",
              "      <td>56420.000000</td>\n",
              "      <td>56420.000000</td>\n",
              "      <td>56420.000000</td>\n",
              "      <td>56420.000000</td>\n",
              "      <td>56420.000000</td>\n",
              "      <td>56420.000000</td>\n",
              "      <td>56420.000000</td>\n",
              "      <td>56420.000000</td>\n",
              "      <td>56420.000000</td>\n",
              "      <td>56420.000000</td>\n",
              "      <td>56420.000000</td>\n",
              "      <td>56420.000000</td>\n",
              "      <td>56420.000000</td>\n",
              "      <td>56420.000000</td>\n",
              "      <td>56420.000000</td>\n",
              "      <td>56420.000000</td>\n",
              "      <td>56420.000000</td>\n",
              "      <td>56420.000000</td>\n",
              "      <td>56420.000000</td>\n",
              "      <td>56420.000000</td>\n",
              "      <td>56420.000000</td>\n",
              "      <td>56420.000000</td>\n",
              "      <td>56420.000000</td>\n",
              "      <td>56420.000000</td>\n",
              "      <td>56420.000000</td>\n",
              "      <td>56420.000000</td>\n",
              "      <td>56420.000000</td>\n",
              "      <td>56420.000000</td>\n",
              "      <td>56420.000000</td>\n",
              "      <td>56420.000000</td>\n",
              "      <td>56420.000000</td>\n",
              "      <td>56420.000000</td>\n",
              "      <td>56420.000000</td>\n",
              "      <td>56420.000000</td>\n",
              "      <td>56420.000000</td>\n",
              "      <td>...</td>\n",
              "      <td>56420.000000</td>\n",
              "      <td>56420.000000</td>\n",
              "      <td>56420.000000</td>\n",
              "      <td>56420.000000</td>\n",
              "      <td>56420.000000</td>\n",
              "      <td>56420.000000</td>\n",
              "      <td>56420.000000</td>\n",
              "      <td>56420.000000</td>\n",
              "      <td>56420.000000</td>\n",
              "      <td>56420.000000</td>\n",
              "      <td>56420.000000</td>\n",
              "      <td>56420.000000</td>\n",
              "      <td>56420.000000</td>\n",
              "      <td>56420.000000</td>\n",
              "      <td>56420.000000</td>\n",
              "      <td>56420.000000</td>\n",
              "      <td>56420.000000</td>\n",
              "      <td>56420.000000</td>\n",
              "      <td>56420.000000</td>\n",
              "      <td>56420.000000</td>\n",
              "      <td>56420.000000</td>\n",
              "      <td>56420.000000</td>\n",
              "      <td>56420.000000</td>\n",
              "      <td>56420.000000</td>\n",
              "      <td>56420.000000</td>\n",
              "      <td>56420.000000</td>\n",
              "      <td>56420.000000</td>\n",
              "      <td>56420.000000</td>\n",
              "      <td>56420.000000</td>\n",
              "      <td>56420.000000</td>\n",
              "      <td>56420.000000</td>\n",
              "      <td>56420.000000</td>\n",
              "      <td>56420.000000</td>\n",
              "      <td>56420.000000</td>\n",
              "      <td>56420.00000</td>\n",
              "      <td>56420.000000</td>\n",
              "      <td>56420.000000</td>\n",
              "      <td>56420.000000</td>\n",
              "      <td>56420.000000</td>\n",
              "      <td>56420.000000</td>\n",
              "    </tr>\n",
              "    <tr>\n",
              "      <th>mean</th>\n",
              "      <td>13.464770</td>\n",
              "      <td>24.219206</td>\n",
              "      <td>2.130397</td>\n",
              "      <td>5.503135</td>\n",
              "      <td>7.735626</td>\n",
              "      <td>40.877366</td>\n",
              "      <td>15.667228</td>\n",
              "      <td>19.786778</td>\n",
              "      <td>65.874123</td>\n",
              "      <td>49.601985</td>\n",
              "      <td>1017.239505</td>\n",
              "      <td>1014.795580</td>\n",
              "      <td>4.241705</td>\n",
              "      <td>4.326515</td>\n",
              "      <td>18.204961</td>\n",
              "      <td>22.710333</td>\n",
              "      <td>2012.221074</td>\n",
              "      <td>6.425009</td>\n",
              "      <td>15.723910</td>\n",
              "      <td>0.052340</td>\n",
              "      <td>0.043318</td>\n",
              "      <td>0.019107</td>\n",
              "      <td>0.009465</td>\n",
              "      <td>0.024459</td>\n",
              "      <td>0.054272</td>\n",
              "      <td>0.034367</td>\n",
              "      <td>0.033641</td>\n",
              "      <td>0.051914</td>\n",
              "      <td>0.045977</td>\n",
              "      <td>0.033906</td>\n",
              "      <td>0.043690</td>\n",
              "      <td>0.043672</td>\n",
              "      <td>0.035590</td>\n",
              "      <td>0.053616</td>\n",
              "      <td>0.051631</td>\n",
              "      <td>0.033020</td>\n",
              "      <td>0.029741</td>\n",
              "      <td>0.029954</td>\n",
              "      <td>0.050868</td>\n",
              "      <td>0.042875</td>\n",
              "      <td>...</td>\n",
              "      <td>0.064445</td>\n",
              "      <td>0.069656</td>\n",
              "      <td>0.058401</td>\n",
              "      <td>0.069089</td>\n",
              "      <td>0.071819</td>\n",
              "      <td>0.073750</td>\n",
              "      <td>0.052978</td>\n",
              "      <td>0.067192</td>\n",
              "      <td>0.069692</td>\n",
              "      <td>0.060262</td>\n",
              "      <td>0.088036</td>\n",
              "      <td>0.060085</td>\n",
              "      <td>0.057905</td>\n",
              "      <td>0.053456</td>\n",
              "      <td>0.050585</td>\n",
              "      <td>0.060635</td>\n",
              "      <td>0.068770</td>\n",
              "      <td>0.069000</td>\n",
              "      <td>0.051861</td>\n",
              "      <td>0.059482</td>\n",
              "      <td>0.065704</td>\n",
              "      <td>0.051719</td>\n",
              "      <td>0.053828</td>\n",
              "      <td>0.069940</td>\n",
              "      <td>0.065633</td>\n",
              "      <td>0.064268</td>\n",
              "      <td>0.060085</td>\n",
              "      <td>0.043247</td>\n",
              "      <td>0.049025</td>\n",
              "      <td>0.048334</td>\n",
              "      <td>0.072829</td>\n",
              "      <td>0.073609</td>\n",
              "      <td>0.059057</td>\n",
              "      <td>0.061769</td>\n",
              "      <td>0.07111</td>\n",
              "      <td>0.069514</td>\n",
              "      <td>0.056717</td>\n",
              "      <td>0.068345</td>\n",
              "      <td>0.220879</td>\n",
              "      <td>0.220259</td>\n",
              "    </tr>\n",
              "    <tr>\n",
              "      <th>std</th>\n",
              "      <td>6.416689</td>\n",
              "      <td>6.970676</td>\n",
              "      <td>7.014822</td>\n",
              "      <td>3.696282</td>\n",
              "      <td>3.758153</td>\n",
              "      <td>13.335232</td>\n",
              "      <td>8.317005</td>\n",
              "      <td>8.510180</td>\n",
              "      <td>18.513289</td>\n",
              "      <td>20.197040</td>\n",
              "      <td>6.909357</td>\n",
              "      <td>6.870892</td>\n",
              "      <td>2.797162</td>\n",
              "      <td>2.647251</td>\n",
              "      <td>6.567991</td>\n",
              "      <td>6.836543</td>\n",
              "      <td>2.450978</td>\n",
              "      <td>3.451383</td>\n",
              "      <td>8.782527</td>\n",
              "      <td>0.222713</td>\n",
              "      <td>0.203574</td>\n",
              "      <td>0.136901</td>\n",
              "      <td>0.096826</td>\n",
              "      <td>0.154472</td>\n",
              "      <td>0.226555</td>\n",
              "      <td>0.182172</td>\n",
              "      <td>0.180304</td>\n",
              "      <td>0.221856</td>\n",
              "      <td>0.209436</td>\n",
              "      <td>0.180990</td>\n",
              "      <td>0.204407</td>\n",
              "      <td>0.204367</td>\n",
              "      <td>0.185268</td>\n",
              "      <td>0.225260</td>\n",
              "      <td>0.221282</td>\n",
              "      <td>0.178691</td>\n",
              "      <td>0.169874</td>\n",
              "      <td>0.170462</td>\n",
              "      <td>0.219731</td>\n",
              "      <td>0.202577</td>\n",
              "      <td>...</td>\n",
              "      <td>0.245547</td>\n",
              "      <td>0.254569</td>\n",
              "      <td>0.234503</td>\n",
              "      <td>0.253608</td>\n",
              "      <td>0.258189</td>\n",
              "      <td>0.261367</td>\n",
              "      <td>0.223991</td>\n",
              "      <td>0.250357</td>\n",
              "      <td>0.254629</td>\n",
              "      <td>0.237974</td>\n",
              "      <td>0.283350</td>\n",
              "      <td>0.237647</td>\n",
              "      <td>0.233566</td>\n",
              "      <td>0.224943</td>\n",
              "      <td>0.219150</td>\n",
              "      <td>0.238661</td>\n",
              "      <td>0.253065</td>\n",
              "      <td>0.253457</td>\n",
              "      <td>0.221748</td>\n",
              "      <td>0.236528</td>\n",
              "      <td>0.247766</td>\n",
              "      <td>0.221462</td>\n",
              "      <td>0.225681</td>\n",
              "      <td>0.255048</td>\n",
              "      <td>0.247641</td>\n",
              "      <td>0.245232</td>\n",
              "      <td>0.237647</td>\n",
              "      <td>0.203415</td>\n",
              "      <td>0.215923</td>\n",
              "      <td>0.214473</td>\n",
              "      <td>0.259858</td>\n",
              "      <td>0.261135</td>\n",
              "      <td>0.235734</td>\n",
              "      <td>0.240737</td>\n",
              "      <td>0.25701</td>\n",
              "      <td>0.254329</td>\n",
              "      <td>0.231304</td>\n",
              "      <td>0.252338</td>\n",
              "      <td>0.414843</td>\n",
              "      <td>0.414425</td>\n",
              "    </tr>\n",
              "    <tr>\n",
              "      <th>min</th>\n",
              "      <td>-6.700000</td>\n",
              "      <td>4.100000</td>\n",
              "      <td>0.000000</td>\n",
              "      <td>0.000000</td>\n",
              "      <td>0.000000</td>\n",
              "      <td>9.000000</td>\n",
              "      <td>2.000000</td>\n",
              "      <td>2.000000</td>\n",
              "      <td>0.000000</td>\n",
              "      <td>0.000000</td>\n",
              "      <td>980.500000</td>\n",
              "      <td>977.100000</td>\n",
              "      <td>0.000000</td>\n",
              "      <td>0.000000</td>\n",
              "      <td>-0.700000</td>\n",
              "      <td>3.700000</td>\n",
              "      <td>2007.000000</td>\n",
              "      <td>1.000000</td>\n",
              "      <td>1.000000</td>\n",
              "      <td>0.000000</td>\n",
              "      <td>0.000000</td>\n",
              "      <td>0.000000</td>\n",
              "      <td>0.000000</td>\n",
              "      <td>0.000000</td>\n",
              "      <td>0.000000</td>\n",
              "      <td>0.000000</td>\n",
              "      <td>0.000000</td>\n",
              "      <td>0.000000</td>\n",
              "      <td>0.000000</td>\n",
              "      <td>0.000000</td>\n",
              "      <td>0.000000</td>\n",
              "      <td>0.000000</td>\n",
              "      <td>0.000000</td>\n",
              "      <td>0.000000</td>\n",
              "      <td>0.000000</td>\n",
              "      <td>0.000000</td>\n",
              "      <td>0.000000</td>\n",
              "      <td>0.000000</td>\n",
              "      <td>0.000000</td>\n",
              "      <td>0.000000</td>\n",
              "      <td>...</td>\n",
              "      <td>0.000000</td>\n",
              "      <td>0.000000</td>\n",
              "      <td>0.000000</td>\n",
              "      <td>0.000000</td>\n",
              "      <td>0.000000</td>\n",
              "      <td>0.000000</td>\n",
              "      <td>0.000000</td>\n",
              "      <td>0.000000</td>\n",
              "      <td>0.000000</td>\n",
              "      <td>0.000000</td>\n",
              "      <td>0.000000</td>\n",
              "      <td>0.000000</td>\n",
              "      <td>0.000000</td>\n",
              "      <td>0.000000</td>\n",
              "      <td>0.000000</td>\n",
              "      <td>0.000000</td>\n",
              "      <td>0.000000</td>\n",
              "      <td>0.000000</td>\n",
              "      <td>0.000000</td>\n",
              "      <td>0.000000</td>\n",
              "      <td>0.000000</td>\n",
              "      <td>0.000000</td>\n",
              "      <td>0.000000</td>\n",
              "      <td>0.000000</td>\n",
              "      <td>0.000000</td>\n",
              "      <td>0.000000</td>\n",
              "      <td>0.000000</td>\n",
              "      <td>0.000000</td>\n",
              "      <td>0.000000</td>\n",
              "      <td>0.000000</td>\n",
              "      <td>0.000000</td>\n",
              "      <td>0.000000</td>\n",
              "      <td>0.000000</td>\n",
              "      <td>0.000000</td>\n",
              "      <td>0.00000</td>\n",
              "      <td>0.000000</td>\n",
              "      <td>0.000000</td>\n",
              "      <td>0.000000</td>\n",
              "      <td>0.000000</td>\n",
              "      <td>0.000000</td>\n",
              "    </tr>\n",
              "    <tr>\n",
              "      <th>25%</th>\n",
              "      <td>8.600000</td>\n",
              "      <td>18.700000</td>\n",
              "      <td>0.000000</td>\n",
              "      <td>2.800000</td>\n",
              "      <td>5.000000</td>\n",
              "      <td>31.000000</td>\n",
              "      <td>9.000000</td>\n",
              "      <td>13.000000</td>\n",
              "      <td>55.000000</td>\n",
              "      <td>35.000000</td>\n",
              "      <td>1012.700000</td>\n",
              "      <td>1010.100000</td>\n",
              "      <td>1.000000</td>\n",
              "      <td>2.000000</td>\n",
              "      <td>13.100000</td>\n",
              "      <td>17.400000</td>\n",
              "      <td>2010.000000</td>\n",
              "      <td>3.000000</td>\n",
              "      <td>8.000000</td>\n",
              "      <td>0.000000</td>\n",
              "      <td>0.000000</td>\n",
              "      <td>0.000000</td>\n",
              "      <td>0.000000</td>\n",
              "      <td>0.000000</td>\n",
              "      <td>0.000000</td>\n",
              "      <td>0.000000</td>\n",
              "      <td>0.000000</td>\n",
              "      <td>0.000000</td>\n",
              "      <td>0.000000</td>\n",
              "      <td>0.000000</td>\n",
              "      <td>0.000000</td>\n",
              "      <td>0.000000</td>\n",
              "      <td>0.000000</td>\n",
              "      <td>0.000000</td>\n",
              "      <td>0.000000</td>\n",
              "      <td>0.000000</td>\n",
              "      <td>0.000000</td>\n",
              "      <td>0.000000</td>\n",
              "      <td>0.000000</td>\n",
              "      <td>0.000000</td>\n",
              "      <td>...</td>\n",
              "      <td>0.000000</td>\n",
              "      <td>0.000000</td>\n",
              "      <td>0.000000</td>\n",
              "      <td>0.000000</td>\n",
              "      <td>0.000000</td>\n",
              "      <td>0.000000</td>\n",
              "      <td>0.000000</td>\n",
              "      <td>0.000000</td>\n",
              "      <td>0.000000</td>\n",
              "      <td>0.000000</td>\n",
              "      <td>0.000000</td>\n",
              "      <td>0.000000</td>\n",
              "      <td>0.000000</td>\n",
              "      <td>0.000000</td>\n",
              "      <td>0.000000</td>\n",
              "      <td>0.000000</td>\n",
              "      <td>0.000000</td>\n",
              "      <td>0.000000</td>\n",
              "      <td>0.000000</td>\n",
              "      <td>0.000000</td>\n",
              "      <td>0.000000</td>\n",
              "      <td>0.000000</td>\n",
              "      <td>0.000000</td>\n",
              "      <td>0.000000</td>\n",
              "      <td>0.000000</td>\n",
              "      <td>0.000000</td>\n",
              "      <td>0.000000</td>\n",
              "      <td>0.000000</td>\n",
              "      <td>0.000000</td>\n",
              "      <td>0.000000</td>\n",
              "      <td>0.000000</td>\n",
              "      <td>0.000000</td>\n",
              "      <td>0.000000</td>\n",
              "      <td>0.000000</td>\n",
              "      <td>0.00000</td>\n",
              "      <td>0.000000</td>\n",
              "      <td>0.000000</td>\n",
              "      <td>0.000000</td>\n",
              "      <td>0.000000</td>\n",
              "      <td>0.000000</td>\n",
              "    </tr>\n",
              "    <tr>\n",
              "      <th>50%</th>\n",
              "      <td>13.200000</td>\n",
              "      <td>23.900000</td>\n",
              "      <td>0.000000</td>\n",
              "      <td>5.000000</td>\n",
              "      <td>8.600000</td>\n",
              "      <td>39.000000</td>\n",
              "      <td>15.000000</td>\n",
              "      <td>19.000000</td>\n",
              "      <td>67.000000</td>\n",
              "      <td>50.000000</td>\n",
              "      <td>1017.200000</td>\n",
              "      <td>1014.700000</td>\n",
              "      <td>5.000000</td>\n",
              "      <td>5.000000</td>\n",
              "      <td>17.800000</td>\n",
              "      <td>22.400000</td>\n",
              "      <td>2012.000000</td>\n",
              "      <td>6.000000</td>\n",
              "      <td>16.000000</td>\n",
              "      <td>0.000000</td>\n",
              "      <td>0.000000</td>\n",
              "      <td>0.000000</td>\n",
              "      <td>0.000000</td>\n",
              "      <td>0.000000</td>\n",
              "      <td>0.000000</td>\n",
              "      <td>0.000000</td>\n",
              "      <td>0.000000</td>\n",
              "      <td>0.000000</td>\n",
              "      <td>0.000000</td>\n",
              "      <td>0.000000</td>\n",
              "      <td>0.000000</td>\n",
              "      <td>0.000000</td>\n",
              "      <td>0.000000</td>\n",
              "      <td>0.000000</td>\n",
              "      <td>0.000000</td>\n",
              "      <td>0.000000</td>\n",
              "      <td>0.000000</td>\n",
              "      <td>0.000000</td>\n",
              "      <td>0.000000</td>\n",
              "      <td>0.000000</td>\n",
              "      <td>...</td>\n",
              "      <td>0.000000</td>\n",
              "      <td>0.000000</td>\n",
              "      <td>0.000000</td>\n",
              "      <td>0.000000</td>\n",
              "      <td>0.000000</td>\n",
              "      <td>0.000000</td>\n",
              "      <td>0.000000</td>\n",
              "      <td>0.000000</td>\n",
              "      <td>0.000000</td>\n",
              "      <td>0.000000</td>\n",
              "      <td>0.000000</td>\n",
              "      <td>0.000000</td>\n",
              "      <td>0.000000</td>\n",
              "      <td>0.000000</td>\n",
              "      <td>0.000000</td>\n",
              "      <td>0.000000</td>\n",
              "      <td>0.000000</td>\n",
              "      <td>0.000000</td>\n",
              "      <td>0.000000</td>\n",
              "      <td>0.000000</td>\n",
              "      <td>0.000000</td>\n",
              "      <td>0.000000</td>\n",
              "      <td>0.000000</td>\n",
              "      <td>0.000000</td>\n",
              "      <td>0.000000</td>\n",
              "      <td>0.000000</td>\n",
              "      <td>0.000000</td>\n",
              "      <td>0.000000</td>\n",
              "      <td>0.000000</td>\n",
              "      <td>0.000000</td>\n",
              "      <td>0.000000</td>\n",
              "      <td>0.000000</td>\n",
              "      <td>0.000000</td>\n",
              "      <td>0.000000</td>\n",
              "      <td>0.00000</td>\n",
              "      <td>0.000000</td>\n",
              "      <td>0.000000</td>\n",
              "      <td>0.000000</td>\n",
              "      <td>0.000000</td>\n",
              "      <td>0.000000</td>\n",
              "    </tr>\n",
              "    <tr>\n",
              "      <th>75%</th>\n",
              "      <td>18.400000</td>\n",
              "      <td>29.700000</td>\n",
              "      <td>0.600000</td>\n",
              "      <td>7.400000</td>\n",
              "      <td>10.700000</td>\n",
              "      <td>48.000000</td>\n",
              "      <td>20.000000</td>\n",
              "      <td>26.000000</td>\n",
              "      <td>79.000000</td>\n",
              "      <td>63.000000</td>\n",
              "      <td>1021.800000</td>\n",
              "      <td>1019.400000</td>\n",
              "      <td>7.000000</td>\n",
              "      <td>7.000000</td>\n",
              "      <td>23.300000</td>\n",
              "      <td>27.900000</td>\n",
              "      <td>2014.000000</td>\n",
              "      <td>9.000000</td>\n",
              "      <td>23.000000</td>\n",
              "      <td>0.000000</td>\n",
              "      <td>0.000000</td>\n",
              "      <td>0.000000</td>\n",
              "      <td>0.000000</td>\n",
              "      <td>0.000000</td>\n",
              "      <td>0.000000</td>\n",
              "      <td>0.000000</td>\n",
              "      <td>0.000000</td>\n",
              "      <td>0.000000</td>\n",
              "      <td>0.000000</td>\n",
              "      <td>0.000000</td>\n",
              "      <td>0.000000</td>\n",
              "      <td>0.000000</td>\n",
              "      <td>0.000000</td>\n",
              "      <td>0.000000</td>\n",
              "      <td>0.000000</td>\n",
              "      <td>0.000000</td>\n",
              "      <td>0.000000</td>\n",
              "      <td>0.000000</td>\n",
              "      <td>0.000000</td>\n",
              "      <td>0.000000</td>\n",
              "      <td>...</td>\n",
              "      <td>0.000000</td>\n",
              "      <td>0.000000</td>\n",
              "      <td>0.000000</td>\n",
              "      <td>0.000000</td>\n",
              "      <td>0.000000</td>\n",
              "      <td>0.000000</td>\n",
              "      <td>0.000000</td>\n",
              "      <td>0.000000</td>\n",
              "      <td>0.000000</td>\n",
              "      <td>0.000000</td>\n",
              "      <td>0.000000</td>\n",
              "      <td>0.000000</td>\n",
              "      <td>0.000000</td>\n",
              "      <td>0.000000</td>\n",
              "      <td>0.000000</td>\n",
              "      <td>0.000000</td>\n",
              "      <td>0.000000</td>\n",
              "      <td>0.000000</td>\n",
              "      <td>0.000000</td>\n",
              "      <td>0.000000</td>\n",
              "      <td>0.000000</td>\n",
              "      <td>0.000000</td>\n",
              "      <td>0.000000</td>\n",
              "      <td>0.000000</td>\n",
              "      <td>0.000000</td>\n",
              "      <td>0.000000</td>\n",
              "      <td>0.000000</td>\n",
              "      <td>0.000000</td>\n",
              "      <td>0.000000</td>\n",
              "      <td>0.000000</td>\n",
              "      <td>0.000000</td>\n",
              "      <td>0.000000</td>\n",
              "      <td>0.000000</td>\n",
              "      <td>0.000000</td>\n",
              "      <td>0.00000</td>\n",
              "      <td>0.000000</td>\n",
              "      <td>0.000000</td>\n",
              "      <td>0.000000</td>\n",
              "      <td>0.000000</td>\n",
              "      <td>0.000000</td>\n",
              "    </tr>\n",
              "    <tr>\n",
              "      <th>max</th>\n",
              "      <td>31.400000</td>\n",
              "      <td>48.100000</td>\n",
              "      <td>206.200000</td>\n",
              "      <td>81.200000</td>\n",
              "      <td>14.500000</td>\n",
              "      <td>124.000000</td>\n",
              "      <td>67.000000</td>\n",
              "      <td>76.000000</td>\n",
              "      <td>100.000000</td>\n",
              "      <td>100.000000</td>\n",
              "      <td>1040.400000</td>\n",
              "      <td>1038.900000</td>\n",
              "      <td>8.000000</td>\n",
              "      <td>9.000000</td>\n",
              "      <td>39.400000</td>\n",
              "      <td>46.100000</td>\n",
              "      <td>2017.000000</td>\n",
              "      <td>12.000000</td>\n",
              "      <td>31.000000</td>\n",
              "      <td>1.000000</td>\n",
              "      <td>1.000000</td>\n",
              "      <td>1.000000</td>\n",
              "      <td>1.000000</td>\n",
              "      <td>1.000000</td>\n",
              "      <td>1.000000</td>\n",
              "      <td>1.000000</td>\n",
              "      <td>1.000000</td>\n",
              "      <td>1.000000</td>\n",
              "      <td>1.000000</td>\n",
              "      <td>1.000000</td>\n",
              "      <td>1.000000</td>\n",
              "      <td>1.000000</td>\n",
              "      <td>1.000000</td>\n",
              "      <td>1.000000</td>\n",
              "      <td>1.000000</td>\n",
              "      <td>1.000000</td>\n",
              "      <td>1.000000</td>\n",
              "      <td>1.000000</td>\n",
              "      <td>1.000000</td>\n",
              "      <td>1.000000</td>\n",
              "      <td>...</td>\n",
              "      <td>1.000000</td>\n",
              "      <td>1.000000</td>\n",
              "      <td>1.000000</td>\n",
              "      <td>1.000000</td>\n",
              "      <td>1.000000</td>\n",
              "      <td>1.000000</td>\n",
              "      <td>1.000000</td>\n",
              "      <td>1.000000</td>\n",
              "      <td>1.000000</td>\n",
              "      <td>1.000000</td>\n",
              "      <td>1.000000</td>\n",
              "      <td>1.000000</td>\n",
              "      <td>1.000000</td>\n",
              "      <td>1.000000</td>\n",
              "      <td>1.000000</td>\n",
              "      <td>1.000000</td>\n",
              "      <td>1.000000</td>\n",
              "      <td>1.000000</td>\n",
              "      <td>1.000000</td>\n",
              "      <td>1.000000</td>\n",
              "      <td>1.000000</td>\n",
              "      <td>1.000000</td>\n",
              "      <td>1.000000</td>\n",
              "      <td>1.000000</td>\n",
              "      <td>1.000000</td>\n",
              "      <td>1.000000</td>\n",
              "      <td>1.000000</td>\n",
              "      <td>1.000000</td>\n",
              "      <td>1.000000</td>\n",
              "      <td>1.000000</td>\n",
              "      <td>1.000000</td>\n",
              "      <td>1.000000</td>\n",
              "      <td>1.000000</td>\n",
              "      <td>1.000000</td>\n",
              "      <td>1.00000</td>\n",
              "      <td>1.000000</td>\n",
              "      <td>1.000000</td>\n",
              "      <td>1.000000</td>\n",
              "      <td>1.000000</td>\n",
              "      <td>1.000000</td>\n",
              "    </tr>\n",
              "  </tbody>\n",
              "</table>\n",
              "<p>8 rows × 91 columns</p>\n",
              "</div>"
            ],
            "text/plain": [
              "            MinTemp       MaxTemp  ...  RainToday_Yes  RainTomorrow_Yes\n",
              "count  56420.000000  56420.000000  ...   56420.000000      56420.000000\n",
              "mean      13.464770     24.219206  ...       0.220879          0.220259\n",
              "std        6.416689      6.970676  ...       0.414843          0.414425\n",
              "min       -6.700000      4.100000  ...       0.000000          0.000000\n",
              "25%        8.600000     18.700000  ...       0.000000          0.000000\n",
              "50%       13.200000     23.900000  ...       0.000000          0.000000\n",
              "75%       18.400000     29.700000  ...       0.000000          0.000000\n",
              "max       31.400000     48.100000  ...       1.000000          1.000000\n",
              "\n",
              "[8 rows x 91 columns]"
            ]
          },
          "metadata": {
            "tags": []
          },
          "execution_count": 26
        }
      ]
    },
    {
      "cell_type": "code",
      "metadata": {
        "id": "WbvxmxFIuMQQ",
        "colab_type": "code",
        "outputId": "644e8ea9-69dd-4e41-f94a-d230b705e495",
        "colab": {
          "base_uri": "https://localhost:8080/",
          "height": 1000
        }
      },
      "source": [
        "newdf2.info()"
      ],
      "execution_count": 27,
      "outputs": [
        {
          "output_type": "stream",
          "text": [
            "<class 'pandas.core.frame.DataFrame'>\n",
            "RangeIndex: 56420 entries, 0 to 56419\n",
            "Data columns (total 91 columns):\n",
            " #   Column                     Non-Null Count  Dtype  \n",
            "---  ------                     --------------  -----  \n",
            " 0   MinTemp                    56420 non-null  float64\n",
            " 1   MaxTemp                    56420 non-null  float64\n",
            " 2   Rainfall                   56420 non-null  float64\n",
            " 3   Evaporation                56420 non-null  float64\n",
            " 4   Sunshine                   56420 non-null  float64\n",
            " 5   WindGustSpeed              56420 non-null  int64  \n",
            " 6   WindSpeed9am               56420 non-null  int64  \n",
            " 7   WindSpeed3pm               56420 non-null  int64  \n",
            " 8   Humidity9am                56420 non-null  int64  \n",
            " 9   Humidity3pm                56420 non-null  int64  \n",
            " 10  Pressure9am                56420 non-null  float64\n",
            " 11  Pressure3pm                56420 non-null  float64\n",
            " 12  Cloud9am                   56420 non-null  int64  \n",
            " 13  Cloud3pm                   56420 non-null  int64  \n",
            " 14  Temp9am                    56420 non-null  float64\n",
            " 15  Temp3pm                    56420 non-null  float64\n",
            " 16  Year                       56420 non-null  int64  \n",
            " 17  Month                      56420 non-null  int64  \n",
            " 18  Day                        56420 non-null  int64  \n",
            " 19  Location_Brisbane          56420 non-null  uint8  \n",
            " 20  Location_Cairns            56420 non-null  uint8  \n",
            " 21  Location_Canberra          56420 non-null  uint8  \n",
            " 22  Location_Cobar             56420 non-null  uint8  \n",
            " 23  Location_CoffsHarbour      56420 non-null  uint8  \n",
            " 24  Location_Darwin            56420 non-null  uint8  \n",
            " 25  Location_Hobart            56420 non-null  uint8  \n",
            " 26  Location_Melbourne         56420 non-null  uint8  \n",
            " 27  Location_MelbourneAirport  56420 non-null  uint8  \n",
            " 28  Location_Mildura           56420 non-null  uint8  \n",
            " 29  Location_Moree             56420 non-null  uint8  \n",
            " 30  Location_MountGambier      56420 non-null  uint8  \n",
            " 31  Location_NorfolkIsland     56420 non-null  uint8  \n",
            " 32  Location_Nuriootpa         56420 non-null  uint8  \n",
            " 33  Location_Perth             56420 non-null  uint8  \n",
            " 34  Location_PerthAirport      56420 non-null  uint8  \n",
            " 35  Location_Portland          56420 non-null  uint8  \n",
            " 36  Location_Sale              56420 non-null  uint8  \n",
            " 37  Location_Sydney            56420 non-null  uint8  \n",
            " 38  Location_SydneyAirport     56420 non-null  uint8  \n",
            " 39  Location_Townsville        56420 non-null  uint8  \n",
            " 40  Location_WaggaWagga        56420 non-null  uint8  \n",
            " 41  Location_Watsonia          56420 non-null  uint8  \n",
            " 42  Location_Williamtown       56420 non-null  uint8  \n",
            " 43  Location_Woomera           56420 non-null  uint8  \n",
            " 44  WindGustDir_ENE            56420 non-null  uint8  \n",
            " 45  WindGustDir_ESE            56420 non-null  uint8  \n",
            " 46  WindGustDir_N              56420 non-null  uint8  \n",
            " 47  WindGustDir_NE             56420 non-null  uint8  \n",
            " 48  WindGustDir_NNE            56420 non-null  uint8  \n",
            " 49  WindGustDir_NNW            56420 non-null  uint8  \n",
            " 50  WindGustDir_NW             56420 non-null  uint8  \n",
            " 51  WindGustDir_S              56420 non-null  uint8  \n",
            " 52  WindGustDir_SE             56420 non-null  uint8  \n",
            " 53  WindGustDir_SSE            56420 non-null  uint8  \n",
            " 54  WindGustDir_SSW            56420 non-null  uint8  \n",
            " 55  WindGustDir_SW             56420 non-null  uint8  \n",
            " 56  WindGustDir_W              56420 non-null  uint8  \n",
            " 57  WindGustDir_WNW            56420 non-null  uint8  \n",
            " 58  WindGustDir_WSW            56420 non-null  uint8  \n",
            " 59  WindDir9am_ENE             56420 non-null  uint8  \n",
            " 60  WindDir9am_ESE             56420 non-null  uint8  \n",
            " 61  WindDir9am_N               56420 non-null  uint8  \n",
            " 62  WindDir9am_NE              56420 non-null  uint8  \n",
            " 63  WindDir9am_NNE             56420 non-null  uint8  \n",
            " 64  WindDir9am_NNW             56420 non-null  uint8  \n",
            " 65  WindDir9am_NW              56420 non-null  uint8  \n",
            " 66  WindDir9am_S               56420 non-null  uint8  \n",
            " 67  WindDir9am_SE              56420 non-null  uint8  \n",
            " 68  WindDir9am_SSE             56420 non-null  uint8  \n",
            " 69  WindDir9am_SSW             56420 non-null  uint8  \n",
            " 70  WindDir9am_SW              56420 non-null  uint8  \n",
            " 71  WindDir9am_W               56420 non-null  uint8  \n",
            " 72  WindDir9am_WNW             56420 non-null  uint8  \n",
            " 73  WindDir9am_WSW             56420 non-null  uint8  \n",
            " 74  WindDir3pm_ENE             56420 non-null  uint8  \n",
            " 75  WindDir3pm_ESE             56420 non-null  uint8  \n",
            " 76  WindDir3pm_N               56420 non-null  uint8  \n",
            " 77  WindDir3pm_NE              56420 non-null  uint8  \n",
            " 78  WindDir3pm_NNE             56420 non-null  uint8  \n",
            " 79  WindDir3pm_NNW             56420 non-null  uint8  \n",
            " 80  WindDir3pm_NW              56420 non-null  uint8  \n",
            " 81  WindDir3pm_S               56420 non-null  uint8  \n",
            " 82  WindDir3pm_SE              56420 non-null  uint8  \n",
            " 83  WindDir3pm_SSE             56420 non-null  uint8  \n",
            " 84  WindDir3pm_SSW             56420 non-null  uint8  \n",
            " 85  WindDir3pm_SW              56420 non-null  uint8  \n",
            " 86  WindDir3pm_W               56420 non-null  uint8  \n",
            " 87  WindDir3pm_WNW             56420 non-null  uint8  \n",
            " 88  WindDir3pm_WSW             56420 non-null  uint8  \n",
            " 89  RainToday_Yes              56420 non-null  uint8  \n",
            " 90  RainTomorrow_Yes           56420 non-null  uint8  \n",
            "dtypes: float64(9), int64(10), uint8(72)\n",
            "memory usage: 12.1 MB\n"
          ],
          "name": "stdout"
        }
      ]
    },
    {
      "cell_type": "code",
      "metadata": {
        "id": "D3aAZUyRuMOM",
        "colab_type": "code",
        "colab": {}
      },
      "source": [
        "x2 = newdf2.iloc[:,1:90].values \n",
        "\n",
        "y2 = newdf2.iloc[:,90].values"
      ],
      "execution_count": 0,
      "outputs": []
    },
    {
      "cell_type": "code",
      "metadata": {
        "id": "tgFV19feuMII",
        "colab_type": "code",
        "colab": {}
      },
      "source": [
        "#splitting the data into test set and training set\n",
        "from sklearn.model_selection import train_test_split\n",
        "X1_train, X1_test, y1_train, y1_test = train_test_split(x2, y2 , test_size = 0.3, random_state = 0)"
      ],
      "execution_count": 0,
      "outputs": []
    },
    {
      "cell_type": "code",
      "metadata": {
        "id": "A6hOaZPkybZ2",
        "colab_type": "code",
        "colab": {}
      },
      "source": [
        "# scaling the data\n",
        "from sklearn.preprocessing import StandardScaler\n",
        "sc = StandardScaler()\n",
        "X1_train = sc.fit_transform(X1_train)\n",
        "X1_test = sc.transform(X1_test)"
      ],
      "execution_count": 0,
      "outputs": []
    },
    {
      "cell_type": "code",
      "metadata": {
        "id": "DQ9dyBsdybcd",
        "colab_type": "code",
        "colab": {}
      },
      "source": [
        "K MEANS"
      ],
      "execution_count": 0,
      "outputs": []
    },
    {
      "cell_type": "markdown",
      "metadata": {
        "id": "7ETTUR8Gy0bl",
        "colab_type": "text"
      },
      "source": [
        ""
      ]
    },
    {
      "cell_type": "code",
      "metadata": {
        "id": "gnKDDWGYybgM",
        "colab_type": "code",
        "outputId": "b9239b44-367c-4376-9344-4effdc0b5ac9",
        "colab": {
          "base_uri": "https://localhost:8080/",
          "height": 295
        }
      },
      "source": [
        "##Determining number of clusters\n",
        "from sklearn.cluster import KMeans \n",
        "Sum_of_squared_distances = []\n",
        "K = range(1,15)\n",
        "for k in K:\n",
        "    km = KMeans(n_clusters=k)\n",
        "    km=km.fit(x2)\n",
        "    Sum_of_squared_distances.append(km.inertia_)\n",
        "    \n",
        "##Checking out which SSE is low for different types of k means value\n",
        "plt.plot(K,Sum_of_squared_distances, 'bx-')\n",
        "plt.xlabel('k')\n",
        "plt.ylabel('Sum_of_squared_distances')\n",
        "plt.title('Elbow method for optimal k')\n",
        "plt.show()"
      ],
      "execution_count": 54,
      "outputs": [
        {
          "output_type": "display_data",
          "data": {
            "image/png": "[encoded data removed]",
            "text/plain": [
              "<Figure size 432x288 with 1 Axes>"
            ]
          },
          "metadata": {
            "tags": [],
            "needs_background": "light"
          }
        }
      ]
    },
    {
      "cell_type": "code",
      "metadata": {
        "id": "7_bPpA2mReQ6",
        "colab_type": "code",
        "colab": {
          "base_uri": "https://localhost:8080/",
          "height": 299
        },
        "outputId": "f77eaf39-cbbb-49f4-e8ee-81f759532a1a"
      },
      "source": [
        "## K-Means Clustering Algorithm  \n",
        "from sklearn.cluster import KMeans\n",
        "kmeans = KMeans(n_clusters=2) \n",
        "kmeans.fit(x2)\n",
        "yp=kmeans.predict(x2)\n",
        "plt.scatter(x2[:, 0], x2[:, 1], c=yp, s=50, cmap='viridis')\n",
        "centers = kmeans.cluster_centers_\n",
        "plt.scatter(centers[:, 0], centers[:, 1], c='red', s=200, alpha=0.5)\n",
        "plt.title('KMeans on Train Data')"
      ],
      "execution_count": 37,
      "outputs": [
        {
          "output_type": "execute_result",
          "data": {
            "text/plain": [
              "Text(0.5, 1.0, 'KMeans on Train Data')"
            ]
          },
          "metadata": {
            "tags": []
          },
          "execution_count": 37
        },
        {
          "output_type": "display_data",
          "data": {
            "image/png": "[encoded data removed]",
            "text/plain": [
              "<Figure size 432x288 with 1 Axes>"
            ]
          },
          "metadata": {
            "tags": [],
            "needs_background": "light"
          }
        }
      ]
    },
    {
      "cell_type": "markdown",
      "metadata": {
        "id": "t6_qO0ahQOLl",
        "colab_type": "text"
      },
      "source": [
        "# Expectation Maximization\n"
      ]
    },
    {
      "cell_type": "code",
      "metadata": {
        "id": "DM5xBu9ezORC",
        "colab_type": "code",
        "outputId": "99b72388-ce1a-4f7e-cc7b-52d6ba2e89d0",
        "colab": {
          "base_uri": "https://localhost:8080/",
          "height": 299
        }
      },
      "source": [
        "## Expectation maximization analysis on Train set\n",
        "from sklearn.mixture import GaussianMixture\n",
        "em = GaussianMixture(n_components=2,random_state=0,covariance_type='tied')\n",
        "em.fit(x2)\n",
        "em_pred = em.predict(x2)\n",
        "plt.scatter(x2[:, 0], x2[:, 1], c=em_pred, s=50, cmap='viridis_r')\n",
        "plt.title('Expectation Maximization on Train Data')"
      ],
      "execution_count": 47,
      "outputs": [
        {
          "output_type": "execute_result",
          "data": {
            "text/plain": [
              "Text(0.5, 1.0, 'Expectation Maximization on Train Data')"
            ]
          },
          "metadata": {
            "tags": []
          },
          "execution_count": 47
        },
        {
          "output_type": "display_data",
          "data": {
            "image/png": "[encoded data removed]",
            "text/plain": [
              "<Figure size 432x288 with 1 Axes>"
            ]
          },
          "metadata": {
            "tags": [],
            "needs_background": "light"
          }
        }
      ]
    },
    {
      "cell_type": "markdown",
      "metadata": {
        "id": "E2ZgPlfmXC5C",
        "colab_type": "text"
      },
      "source": [
        "## PCA\n"
      ]
    },
    {
      "cell_type": "code",
      "metadata": {
        "id": "rQktSmREg6XK",
        "colab_type": "code",
        "colab": {}
      },
      "source": [
        "from sklearn.decomposition import PCA\n",
        "pca = PCA()\n",
        "pca_X_train=pca.fit_transform(x2)"
      ],
      "execution_count": 0,
      "outputs": []
    },
    {
      "cell_type": "code",
      "metadata": {
        "id": "-Qtx_Z6iYnQh",
        "colab_type": "code",
        "colab": {
          "base_uri": "https://localhost:8080/",
          "height": 35
        },
        "outputId": "9cb63190-ce61-4d0f-f58b-dd4de12755f4"
      },
      "source": [
        "explained_variance=pca.explained_variance_ratio_\n",
        "explained_variance.shape"
      ],
      "execution_count": 79,
      "outputs": [
        {
          "output_type": "execute_result",
          "data": {
            "text/plain": [
              "(89,)"
            ]
          },
          "metadata": {
            "tags": []
          },
          "execution_count": 79
        }
      ]
    },
    {
      "cell_type": "code",
      "metadata": {
        "id": "3ER3TWZpYnVH",
        "colab_type": "code",
        "colab": {
          "base_uri": "https://localhost:8080/",
          "height": 297
        },
        "outputId": "f577cf4f-7580-4042-ca52-43e2c9cd5166"
      },
      "source": [
        "with plt.style.context('dark_background'):\n",
        "    plt.figure(figsize=(6, 4))\n",
        "\n",
        "    plt.bar(range(89), explained_variance, alpha=0.5, align='center',\n",
        "            label='individual explained variance')\n",
        "    plt.ylabel('Explained variance ratio')\n",
        "    plt.xlabel('Principal components')\n",
        "    plt.legend(loc='best')\n",
        "    plt.tight_layout()"
      ],
      "execution_count": 81,
      "outputs": [
        {
          "output_type": "display_data",
          "data": {
            "image/png": "[encoded data removed]",
            "text/plain": [
              "<Figure size 432x288 with 1 Axes>"
            ]
          },
          "metadata": {
            "tags": []
          }
        }
      ]
    },
    {
      "cell_type": "code",
      "metadata": {
        "id": "yzM_50DLYnX4",
        "colab_type": "code",
        "colab": {}
      },
      "source": [
        "pca = PCA(n_components=3)\n",
        "pca_X_train=pca.fit_transform(x2)\n",
        "pca_X_test=pca.fit_transform(x2)"
      ],
      "execution_count": 0,
      "outputs": []
    },
    {
      "cell_type": "code",
      "metadata": {
        "id": "x5z2HZw9Yndc",
        "colab_type": "code",
        "colab": {
          "base_uri": "https://localhost:8080/",
          "height": 243
        },
        "outputId": "98afcc78-9bb3-4885-92d7-990548391cfb"
      },
      "source": [
        "pca.get_covariance()"
      ],
      "execution_count": 83,
      "outputs": [
        {
          "output_type": "execute_result",
          "data": {
            "text/plain": [
              "array([[ 2.30878815e+01, -7.90870563e+00,  9.09104349e+00, ...,\n",
              "         1.23645335e-02, -2.59665164e-03, -6.62457715e-01],\n",
              "       [-7.90870563e+00,  1.21278528e+01, -3.34456907e+00, ...,\n",
              "         2.18206164e-02,  1.42834017e-02,  4.82200199e-01],\n",
              "       [ 9.09104349e+00, -3.34456907e+00,  1.10916469e+01, ...,\n",
              "         1.59807179e-02,  3.09426964e-03, -2.91618919e-01],\n",
              "       ...,\n",
              "       [ 1.23645335e-02,  2.18206164e-02,  1.59807179e-02, ...,\n",
              "         5.97103784e+00,  1.42044815e-04,  1.45882373e-03],\n",
              "       [-2.59665164e-03,  1.42834017e-02,  3.09426964e-03, ...,\n",
              "         1.42044815e-04,  5.97079483e+00,  1.02110546e-03],\n",
              "       [-6.62457715e-01,  4.82200199e-01, -2.91618919e-01, ...,\n",
              "         1.45882373e-03,  1.02110546e-03,  6.00875665e+00]])"
            ]
          },
          "metadata": {
            "tags": []
          },
          "execution_count": 83
        }
      ]
    },
    {
      "cell_type": "code",
      "metadata": {
        "id": "NxeBu9D-YnjS",
        "colab_type": "code",
        "colab": {
          "base_uri": "https://localhost:8080/",
          "height": 35
        },
        "outputId": "7d488fcc-729a-4eee-d909-e9ff98b44907"
      },
      "source": [
        "explained_variance=pca.explained_variance_ratio_\n",
        "explained_variance.shape"
      ],
      "execution_count": 94,
      "outputs": [
        {
          "output_type": "execute_result",
          "data": {
            "text/plain": [
              "(3,)"
            ]
          },
          "metadata": {
            "tags": []
          },
          "execution_count": 94
        }
      ]
    },
    {
      "cell_type": "code",
      "metadata": {
        "id": "1-jsyHcgYnh8",
        "colab_type": "code",
        "colab": {
          "base_uri": "https://localhost:8080/",
          "height": 297
        },
        "outputId": "8e875c09-f086-4f51-ddd5-a172fb215e35"
      },
      "source": [
        "with plt.style.context('dark_background'):\n",
        "    plt.figure(figsize=(6, 4))\n",
        "\n",
        "    plt.bar(range(3), explained_variance, alpha=0.5, align='center',\n",
        "            label='individual explained variance')\n",
        "    plt.ylabel('Explained variance ratio')\n",
        "    plt.xlabel('Principal components')\n",
        "    plt.legend(loc='best')\n",
        "    plt.tight_layout()"
      ],
      "execution_count": 95,
      "outputs": [
        {
          "output_type": "display_data",
          "data": {
            "image/png": "[encoded data removed]",
            "text/plain": [
              "<Figure size 432x288 with 1 Axes>"
            ]
          },
          "metadata": {
            "tags": []
          }
        }
      ]
    },
    {
      "cell_type": "markdown",
      "metadata": {
        "id": "rZwBnb0ssS4-",
        "colab_type": "text"
      },
      "source": [
        "## k- means with PCA"
      ]
    },
    {
      "cell_type": "code",
      "metadata": {
        "id": "5v37p86gYnS2",
        "colab_type": "code",
        "colab": {
          "base_uri": "https://localhost:8080/",
          "height": 295
        },
        "outputId": "8a754ef8-fb85-4379-87e1-9076befacecd"
      },
      "source": [
        "##Determining number of clusters\n",
        "from sklearn.cluster import KMeans \n",
        "Sum_of_squared_distances = []\n",
        "K = range(1,15)\n",
        "for k in K:\n",
        "    km = KMeans(n_clusters=k)\n",
        "    km=km.fit(pca_X_train)\n",
        "    Sum_of_squared_distances.append(km.inertia_)\n",
        "    \n",
        "##Checking out which SSE is low for different types of k means value\n",
        "plt.plot(K,Sum_of_squared_distances, 'bx-')\n",
        "plt.xlabel('k')\n",
        "plt.ylabel('Sum_of_squared_distances')\n",
        "plt.title('Elbow method for optimal k')\n",
        "plt.show()"
      ],
      "execution_count": 96,
      "outputs": [
        {
          "output_type": "display_data",
          "data": {
            "image/png": "[encoded data removed]",
            "text/plain": [
              "<Figure size 432x288 with 1 Axes>"
            ]
          },
          "metadata": {
            "tags": [],
            "needs_background": "light"
          }
        }
      ]
    },
    {
      "cell_type": "code",
      "metadata": {
        "id": "4sXO1FbEsskA",
        "colab_type": "code",
        "colab": {
          "base_uri": "https://localhost:8080/",
          "height": 299
        },
        "outputId": "8c38115b-d941-451f-ba27-dcd989dcaede"
      },
      "source": [
        "## K-Means Clustering Algorithm  \n",
        "from sklearn.cluster import KMeans\n",
        "kmeans = KMeans(n_clusters=2) \n",
        "kmeans.fit(pca_X_train)\n",
        "yp=kmeans.predict(pca_X_train)\n",
        "plt.scatter(pca_X_train[:, 0], pca_X_train[:, 1], c=yp, s=50, cmap='viridis')\n",
        "centers = kmeans.cluster_centers_\n",
        "plt.scatter(centers[:, 0], centers[:, 1], c='red', s=200, alpha=0.5)\n",
        "plt.title('KMeans on full dataset')"
      ],
      "execution_count": 100,
      "outputs": [
        {
          "output_type": "execute_result",
          "data": {
            "text/plain": [
              "Text(0.5, 1.0, 'KMeans on full dataset')"
            ]
          },
          "metadata": {
            "tags": []
          },
          "execution_count": 100
        },
        {
          "output_type": "display_data",
          "data": {
            "image/png": "[encoded data removed]",
            "text/plain": [
              "<Figure size 432x288 with 1 Axes>"
            ]
          },
          "metadata": {
            "tags": [],
            "needs_background": "light"
          }
        }
      ]
    },
    {
      "cell_type": "markdown",
      "metadata": {
        "id": "pN_jv3cyvE-c",
        "colab_type": "text"
      },
      "source": [
        "## Expectation Maximization\n"
      ]
    },
    {
      "cell_type": "code",
      "metadata": {
        "id": "yWXa9oTvuHBR",
        "colab_type": "code",
        "colab": {
          "base_uri": "https://localhost:8080/",
          "height": 299
        },
        "outputId": "f0522f40-8528-407c-9be7-9d8bd78121e6"
      },
      "source": [
        "## Expectation maximization analysis on Train set\n",
        "from sklearn.mixture import GaussianMixture\n",
        "em = GaussianMixture(n_components=2,random_state=0,covariance_type='tied')\n",
        "em.fit(pca_X_train)\n",
        "em_pred = em.predict(pca_X_train)\n",
        "plt.scatter(pca_X_train[:, 0], pca_X_train[:, 1], c=em_pred, s=50, cmap='viridis_r')\n",
        "plt.title('Expectation Maximization on full data set')"
      ],
      "execution_count": 99,
      "outputs": [
        {
          "output_type": "execute_result",
          "data": {
            "text/plain": [
              "Text(0.5, 1.0, 'Expectation Maximization on full data set')"
            ]
          },
          "metadata": {
            "tags": []
          },
          "execution_count": 99
        },
        {
          "output_type": "display_data",
          "data": {
            "image/png": "[encoded data removed]",
            "text/plain": [
              "<Figure size 432x288 with 1 Axes>"
            ]
          },
          "metadata": {
            "tags": [],
            "needs_background": "light"
          }
        }
      ]
    },
    {
      "cell_type": "markdown",
      "metadata": {
        "id": "R-vL_xYTwhcP",
        "colab_type": "text"
      },
      "source": [
        "## ICA\n"
      ]
    },
    {
      "cell_type": "code",
      "metadata": {
        "id": "-HeU-FIawx2z",
        "colab_type": "code",
        "colab": {}
      },
      "source": [
        "##ICA\n",
        "from sklearn.decomposition import FastICA \n",
        "ICA = FastICA(n_components=3, random_state=12) \n",
        "X_ICA=ICA.fit_transform(x2)"
      ],
      "execution_count": 0,
      "outputs": []
    },
    {
      "cell_type": "code",
      "metadata": {
        "id": "WT26EpYLw6In",
        "colab_type": "code",
        "colab": {
          "base_uri": "https://localhost:8080/",
          "height": 517
        },
        "outputId": "b39a908e-9600-4965-ed4e-13fe27678fab"
      },
      "source": [
        "plt.figure(figsize=(12,8))\n",
        "plt.title('ICA Components')\n",
        "plt.scatter(X_ICA[:,0], X_ICA[:,1])\n",
        "plt.scatter(X_ICA[:,1], X_ICA[:,2])\n",
        "plt.scatter(X_ICA[:,2], X_ICA[:,0])\n"
      ],
      "execution_count": 115,
      "outputs": [
        {
          "output_type": "execute_result",
          "data": {
            "text/plain": [
              "<matplotlib.collections.PathCollection at 0x7f5a62791908>"
            ]
          },
          "metadata": {
            "tags": []
          },
          "execution_count": 115
        },
        {
          "output_type": "display_data",
          "data": {
            "image/png": "[encoded data removed]",
            "text/plain": [
              "<Figure size 864x576 with 1 Axes>"
            ]
          },
          "metadata": {
            "tags": [],
            "needs_background": "light"
          }
        }
      ]
    },
    {
      "cell_type": "code",
      "metadata": {
        "id": "vgDAHmqNw6LO",
        "colab_type": "code",
        "colab": {
          "base_uri": "https://localhost:8080/",
          "height": 299
        },
        "outputId": "63658f3f-fff7-4e36-f542-4e4fa226f422"
      },
      "source": [
        "kmeans_ica = KMeans(n_clusters=2, random_state=100)\n",
        "kmeans_ica.fit(X_ICA)\n",
        "yp=kmeans.predict(X_ICA)\n",
        "plt.scatter(X_ICA[:, 0], X_ICA[:, 1], c=yp, s=50, cmap='viridis')\n",
        "centers = kmeans.cluster_centers_\n",
        "plt.scatter(centers[:, 0], centers[:, 1], c='red', s=200, alpha=0.5)\n",
        "plt.title('KMeans on full data')"
      ],
      "execution_count": 122,
      "outputs": [
        {
          "output_type": "execute_result",
          "data": {
            "text/plain": [
              "Text(0.5, 1.0, 'KMeans on full data')"
            ]
          },
          "metadata": {
            "tags": []
          },
          "execution_count": 122
        },
        {
          "output_type": "display_data",
          "data": {
            "image/png": "[encoded data removed]",
            "text/plain": [
              "<Figure size 432x288 with 1 Axes>"
            ]
          },
          "metadata": {
            "tags": [],
            "needs_background": "light"
          }
        }
      ]
    },
    {
      "cell_type": "code",
      "metadata": {
        "id": "KkcZbHqpw6Qq",
        "colab_type": "code",
        "colab": {
          "base_uri": "https://localhost:8080/",
          "height": 299
        },
        "outputId": "5011249c-1d7a-4188-d02d-efd653787e0c"
      },
      "source": [
        "## Expectation maximization analysis on Train set\n",
        "from sklearn.mixture import GaussianMixture\n",
        "em = GaussianMixture(n_components=2,random_state=0,covariance_type='tied')\n",
        "em.fit(X_ICA)\n",
        "em_pred = em.predict(X_ICA)\n",
        "plt.scatter(X_ICA[:, 0], X_ICA[:, 1], c=em_pred, s=50, cmap='viridis_r')\n",
        "plt.title('Expectation Maximization on full data set')"
      ],
      "execution_count": 117,
      "outputs": [
        {
          "output_type": "execute_result",
          "data": {
            "text/plain": [
              "Text(0.5, 1.0, 'Expectation Maximization on full data set')"
            ]
          },
          "metadata": {
            "tags": []
          },
          "execution_count": 117
        },
        {
          "output_type": "display_data",
          "data": {
            "image/png": "[encoded data removed]",
            "text/plain": [
              "<Figure size 432x288 with 1 Axes>"
            ]
          },
          "metadata": {
            "tags": [],
            "needs_background": "light"
          }
        }
      ]
    },
    {
      "cell_type": "markdown",
      "metadata": {
        "id": "LK33UaHY4AdW",
        "colab_type": "text"
      },
      "source": [
        "## RCA\n"
      ]
    },
    {
      "cell_type": "code",
      "metadata": {
        "id": "yKky-lS0w6V_",
        "colab_type": "code",
        "colab": {}
      },
      "source": [
        "##Randomized Projection\n",
        "from sklearn.random_projection import GaussianRandomProjection\n",
        "grp = GaussianRandomProjection(n_components=3, eps=0.1, random_state=420)\n",
        "rca_X = grp.fit_transform(x2)"
      ],
      "execution_count": 0,
      "outputs": []
    },
    {
      "cell_type": "code",
      "metadata": {
        "id": "jhUSWGtkAf22",
        "colab_type": "code",
        "colab": {
          "base_uri": "https://localhost:8080/",
          "height": 299
        },
        "outputId": "762dc54b-96ba-4c75-9d78-920ee8161a59"
      },
      "source": [
        "plt.figure(figsize=(8,4))\n",
        "plt.title('RCA Components')\n",
        "plt.scatter(rca_X[:,0], rca_X[:,1])\n",
        "plt.scatter(rca_X[:,1], rca_X[:,2])\n",
        "plt.scatter(rca_X[:,2], rca_X[:,0])"
      ],
      "execution_count": 32,
      "outputs": [
        {
          "output_type": "execute_result",
          "data": {
            "text/plain": [
              "<matplotlib.collections.PathCollection at 0x7fd66c55f240>"
            ]
          },
          "metadata": {
            "tags": []
          },
          "execution_count": 32
        },
        {
          "output_type": "display_data",
          "data": {
            "image/png": "[encoded data removed]",
            "text/plain": [
              "<Figure size 576x288 with 1 Axes>"
            ]
          },
          "metadata": {
            "tags": [],
            "needs_background": "light"
          }
        }
      ]
    },
    {
      "cell_type": "code",
      "metadata": {
        "id": "kRybIKrJw6aI",
        "colab_type": "code",
        "colab": {
          "base_uri": "https://localhost:8080/",
          "height": 299
        },
        "outputId": "23be2428-3782-4679-9447-4541e0296157"
      },
      "source": [
        "## K-Means Clustering Algorithm  \n",
        "from sklearn.cluster import KMeans\n",
        "kmeans = KMeans(n_clusters=2) \n",
        "kmeans.fit(rca_X)\n",
        "yp=kmeans.predict(rca_X)\n",
        "plt.scatter(rca_X[:, 0], rca_X[:, 1], c=yp, s=50, cmap='viridis')\n",
        "centers = kmeans.cluster_centers_\n",
        "plt.scatter(centers[:, 0], centers[:, 1], c='red', s=200, alpha=0.5)\n",
        "plt.title('KMeans on full dataset')"
      ],
      "execution_count": 124,
      "outputs": [
        {
          "output_type": "execute_result",
          "data": {
            "text/plain": [
              "Text(0.5, 1.0, 'KMeans on full dataset')"
            ]
          },
          "metadata": {
            "tags": []
          },
          "execution_count": 124
        },
        {
          "output_type": "display_data",
          "data": {
            "image/png": "[encoded data removed]",
            "text/plain": [
              "<Figure size 432x288 with 1 Axes>"
            ]
          },
          "metadata": {
            "tags": [],
            "needs_background": "light"
          }
        }
      ]
    },
    {
      "cell_type": "code",
      "metadata": {
        "id": "wJ3q0fnTw6Ty",
        "colab_type": "code",
        "colab": {
          "base_uri": "https://localhost:8080/",
          "height": 299
        },
        "outputId": "1ef4474e-c3d2-4121-a300-b1531eb1f322"
      },
      "source": [
        "## Expectation maximization analysis on Train set\n",
        "from sklearn.mixture import GaussianMixture\n",
        "em = GaussianMixture(n_components=2,random_state=0,covariance_type='tied')\n",
        "em.fit(rca_X)\n",
        "em_pred = em.predict(rca_X)\n",
        "plt.scatter(rca_X[:, 0], rca_X[:, 1], c=em_pred, s=50, cmap='viridis_r')\n",
        "plt.title('Expectation Maximization on full data set')"
      ],
      "execution_count": 125,
      "outputs": [
        {
          "output_type": "execute_result",
          "data": {
            "text/plain": [
              "Text(0.5, 1.0, 'Expectation Maximization on full data set')"
            ]
          },
          "metadata": {
            "tags": []
          },
          "execution_count": 125
        },
        {
          "output_type": "display_data",
          "data": {
            "image/png": "[encoded data removed]",
            "text/plain": [
              "<Figure size 432x288 with 1 Axes>"
            ]
          },
          "metadata": {
            "tags": [],
            "needs_background": "light"
          }
        }
      ]
    },
    {
      "cell_type": "code",
      "metadata": {
        "id": "53-hewpMw6O9",
        "colab_type": "code",
        "colab": {}
      },
      "source": [
        "##Feature Selection\n",
        "feature_selector = SequentialFeatureSelector(RandomForestClassifier(n_jobs=-1),  \n",
        "           k_features=20,\n",
        "           forward=True,\n",
        "           verbose=2,\n",
        "           scoring='roc_auc',\n",
        "           cv=2)"
      ],
      "execution_count": 0,
      "outputs": []
    },
    {
      "cell_type": "code",
      "metadata": {
        "id": "yAqt_b7KA74w",
        "colab_type": "code",
        "colab": {
          "base_uri": "https://localhost:8080/",
          "height": 1000
        },
        "outputId": "f91f73b8-9ee2-467c-e0f4-64f95649ff3f"
      },
      "source": [
        "features = feature_selector.fit(x2,y2)"
      ],
      "execution_count": 35,
      "outputs": [
        {
          "output_type": "stream",
          "text": [
            "[Parallel(n_jobs=1)]: Using backend SequentialBackend with 1 concurrent workers.\n",
            "[Parallel(n_jobs=1)]: Done   1 out of   1 | elapsed:    4.4s remaining:    0.0s\n",
            "[Parallel(n_jobs=1)]: Done  89 out of  89 | elapsed:  2.0min finished\n",
            "\n",
            "[2020-05-07 02:55:56] Features: 1/20 -- score: 0.8060111341541607[Parallel(n_jobs=1)]: Using backend SequentialBackend with 1 concurrent workers.\n",
            "[Parallel(n_jobs=1)]: Done   1 out of   1 | elapsed:    4.9s remaining:    0.0s\n",
            "[Parallel(n_jobs=1)]: Done  88 out of  88 | elapsed:  3.6min finished\n",
            "\n",
            "[2020-05-07 02:59:32] Features: 2/20 -- score: 0.8226572992178658[Parallel(n_jobs=1)]: Using backend SequentialBackend with 1 concurrent workers.\n",
            "[Parallel(n_jobs=1)]: Done   1 out of   1 | elapsed:    4.8s remaining:    0.0s\n",
            "[Parallel(n_jobs=1)]: Done  87 out of  87 | elapsed:  4.3min finished\n",
            "\n",
            "[2020-05-07 03:03:51] Features: 3/20 -- score: 0.8228344480241816[Parallel(n_jobs=1)]: Using backend SequentialBackend with 1 concurrent workers.\n",
            "[Parallel(n_jobs=1)]: Done   1 out of   1 | elapsed:    5.4s remaining:    0.0s\n",
            "[Parallel(n_jobs=1)]: Done  86 out of  86 | elapsed:  4.7min finished\n",
            "\n",
            "[2020-05-07 03:08:30] Features: 4/20 -- score: 0.8228921152289788[Parallel(n_jobs=1)]: Using backend SequentialBackend with 1 concurrent workers.\n",
            "[Parallel(n_jobs=1)]: Done   1 out of   1 | elapsed:    5.2s remaining:    0.0s\n",
            "[Parallel(n_jobs=1)]: Done  85 out of  85 | elapsed:  4.6min finished\n",
            "\n",
            "[2020-05-07 03:13:09] Features: 5/20 -- score: 0.8227880407357533[Parallel(n_jobs=1)]: Using backend SequentialBackend with 1 concurrent workers.\n",
            "[Parallel(n_jobs=1)]: Done   1 out of   1 | elapsed:    5.2s remaining:    0.0s\n",
            "[Parallel(n_jobs=1)]: Done  84 out of  84 | elapsed:  4.6min finished\n",
            "\n",
            "[2020-05-07 03:17:44] Features: 6/20 -- score: 0.8225194758242381[Parallel(n_jobs=1)]: Using backend SequentialBackend with 1 concurrent workers.\n",
            "[Parallel(n_jobs=1)]: Done   1 out of   1 | elapsed:    5.2s remaining:    0.0s\n",
            "[Parallel(n_jobs=1)]: Done  83 out of  83 | elapsed:  4.6min finished\n",
            "\n",
            "[2020-05-07 03:22:20] Features: 7/20 -- score: 0.8224270334860257[Parallel(n_jobs=1)]: Using backend SequentialBackend with 1 concurrent workers.\n",
            "[Parallel(n_jobs=1)]: Done   1 out of   1 | elapsed:    5.2s remaining:    0.0s\n",
            "[Parallel(n_jobs=1)]: Done  82 out of  82 | elapsed:  4.8min finished\n",
            "\n",
            "[2020-05-07 03:27:07] Features: 8/20 -- score: 0.8220291832645125[Parallel(n_jobs=1)]: Using backend SequentialBackend with 1 concurrent workers.\n",
            "[Parallel(n_jobs=1)]: Done   1 out of   1 | elapsed:    5.6s remaining:    0.0s\n",
            "[Parallel(n_jobs=1)]: Done  81 out of  81 | elapsed:  4.9min finished\n",
            "\n",
            "[2020-05-07 03:32:02] Features: 9/20 -- score: 0.8215110591247344[Parallel(n_jobs=1)]: Using backend SequentialBackend with 1 concurrent workers.\n",
            "[Parallel(n_jobs=1)]: Done   1 out of   1 | elapsed:    5.3s remaining:    0.0s\n",
            "[Parallel(n_jobs=1)]: Done  80 out of  80 | elapsed:  4.8min finished\n",
            "\n",
            "[2020-05-07 03:36:51] Features: 10/20 -- score: 0.8214226831161758[Parallel(n_jobs=1)]: Using backend SequentialBackend with 1 concurrent workers.\n",
            "[Parallel(n_jobs=1)]: Done   1 out of   1 | elapsed:    5.3s remaining:    0.0s\n",
            "[Parallel(n_jobs=1)]: Done  79 out of  79 | elapsed:  4.8min finished\n",
            "\n",
            "[2020-05-07 03:41:37] Features: 11/20 -- score: 0.8208943563350188[Parallel(n_jobs=1)]: Using backend SequentialBackend with 1 concurrent workers.\n",
            "[Parallel(n_jobs=1)]: Done   1 out of   1 | elapsed:    5.2s remaining:    0.0s\n",
            "[Parallel(n_jobs=1)]: Done  78 out of  78 | elapsed:  4.8min finished\n",
            "\n",
            "[2020-05-07 03:46:24] Features: 12/20 -- score: 0.8206069077414535[Parallel(n_jobs=1)]: Using backend SequentialBackend with 1 concurrent workers.\n",
            "[Parallel(n_jobs=1)]: Done   1 out of   1 | elapsed:    5.2s remaining:    0.0s\n",
            "[Parallel(n_jobs=1)]: Done  77 out of  77 | elapsed:  4.8min finished\n",
            "\n",
            "[2020-05-07 03:51:12] Features: 13/20 -- score: 0.8195832173280186[Parallel(n_jobs=1)]: Using backend SequentialBackend with 1 concurrent workers.\n",
            "[Parallel(n_jobs=1)]: Done   1 out of   1 | elapsed:    5.1s remaining:    0.0s\n",
            "[Parallel(n_jobs=1)]: Done  76 out of  76 | elapsed:  4.8min finished\n",
            "\n",
            "[2020-05-07 03:56:01] Features: 14/20 -- score: 0.8185173751644735[Parallel(n_jobs=1)]: Using backend SequentialBackend with 1 concurrent workers.\n",
            "[Parallel(n_jobs=1)]: Done   1 out of   1 | elapsed:    5.1s remaining:    0.0s\n",
            "[Parallel(n_jobs=1)]: Done  75 out of  75 | elapsed:  4.8min finished\n",
            "\n",
            "[2020-05-07 04:00:49] Features: 15/20 -- score: 0.8170317530970754[Parallel(n_jobs=1)]: Using backend SequentialBackend with 1 concurrent workers.\n",
            "[Parallel(n_jobs=1)]: Done   1 out of   1 | elapsed:    5.3s remaining:    0.0s\n",
            "[Parallel(n_jobs=1)]: Done  74 out of  74 | elapsed:  5.0min finished\n",
            "\n",
            "[2020-05-07 04:05:48] Features: 16/20 -- score: 0.8154013766490421[Parallel(n_jobs=1)]: Using backend SequentialBackend with 1 concurrent workers.\n",
            "[Parallel(n_jobs=1)]: Done   1 out of   1 | elapsed:    5.4s remaining:    0.0s\n",
            "[Parallel(n_jobs=1)]: Done  73 out of  73 | elapsed:  5.0min finished\n",
            "\n",
            "[2020-05-07 04:10:47] Features: 17/20 -- score: 0.8137064191512172[Parallel(n_jobs=1)]: Using backend SequentialBackend with 1 concurrent workers.\n",
            "[Parallel(n_jobs=1)]: Done   1 out of   1 | elapsed:    5.3s remaining:    0.0s\n",
            "[Parallel(n_jobs=1)]: Done  72 out of  72 | elapsed:  5.0min finished\n",
            "\n",
            "[2020-05-07 04:15:44] Features: 18/20 -- score: 0.8113465479892585[Parallel(n_jobs=1)]: Using backend SequentialBackend with 1 concurrent workers.\n",
            "[Parallel(n_jobs=1)]: Done   1 out of   1 | elapsed:    5.2s remaining:    0.0s\n",
            "[Parallel(n_jobs=1)]: Done  71 out of  71 | elapsed:  5.0min finished\n",
            "\n",
            "[2020-05-07 04:20:42] Features: 19/20 -- score: 0.8091592963755911[Parallel(n_jobs=1)]: Using backend SequentialBackend with 1 concurrent workers.\n",
            "[Parallel(n_jobs=1)]: Done   1 out of   1 | elapsed:    5.5s remaining:    0.0s\n",
            "[Parallel(n_jobs=1)]: Done  70 out of  70 | elapsed:  6.2min finished\n",
            "\n",
            "[2020-05-07 04:26:56] Features: 20/20 -- score: 0.8485601201493702"
          ],
          "name": "stderr"
        }
      ]
    },
    {
      "cell_type": "code",
      "metadata": {
        "id": "BdfDjp8KAfy4",
        "colab_type": "code",
        "colab": {
          "base_uri": "https://localhost:8080/",
          "height": 35
        },
        "outputId": "c42e51b3-8acb-4ec6-cc08-f6a2bf5d8127"
      },
      "source": [
        "filtered_features= features.k_feature_idx_\n",
        "filtered_features"
      ],
      "execution_count": 36,
      "outputs": [
        {
          "output_type": "execute_result",
          "data": {
            "text/plain": [
              "(3, 8, 10, 12, 19, 20, 21, 23, 24, 26, 27, 29, 30, 32, 33, 34, 35, 36, 39, 42)"
            ]
          },
          "metadata": {
            "tags": []
          },
          "execution_count": 36
        }
      ]
    },
    {
      "cell_type": "code",
      "metadata": {
        "id": "BqJla10yAf3w",
        "colab_type": "code",
        "colab": {}
      },
      "source": [
        "X_feature = np.array(newdf2.iloc[:,[3, 8, 10, 12, 19, 20, 21, 23, 24, 26, 27, 29, 30, 32, 33, 34, 35, 36, 39, 42]])\n",
        "y_feature = np.array(newdf2['RainTomorrow_Yes'])"
      ],
      "execution_count": 0,
      "outputs": []
    },
    {
      "cell_type": "code",
      "metadata": {
        "id": "Iq39X-0UAf-l",
        "colab_type": "code",
        "colab": {
          "base_uri": "https://localhost:8080/",
          "height": 35
        },
        "outputId": "5c35bb26-2766-4d06-9119-70246e18f5af"
      },
      "source": [
        "X_feature.shape"
      ],
      "execution_count": 38,
      "outputs": [
        {
          "output_type": "execute_result",
          "data": {
            "text/plain": [
              "(56420, 20)"
            ]
          },
          "metadata": {
            "tags": []
          },
          "execution_count": 38
        }
      ]
    },
    {
      "cell_type": "code",
      "metadata": {
        "id": "sLx2byQBAgIl",
        "colab_type": "code",
        "colab": {}
      },
      "source": [
        "X_train_feature, X_test_feature, y_train_feature, y_test_feature = train_test_split(X_feature, y_feature, test_size=0.3, random_state=1)"
      ],
      "execution_count": 0,
      "outputs": []
    },
    {
      "cell_type": "code",
      "metadata": {
        "id": "bzqM8gO-Af8q",
        "colab_type": "code",
        "colab": {
          "base_uri": "https://localhost:8080/",
          "height": 401
        },
        "outputId": "39ef7044-a1ef-4ab8-f07c-8522ade1a276"
      },
      "source": [
        "##Determining number of clusters\n",
        "from sklearn.cluster import KMeans \n",
        "Sum_of_squared_distances = []\n",
        "K = range(1,15)\n",
        "for k in K:\n",
        "    km = KMeans(n_clusters=k)\n",
        "    km=km.fit(X_feature)\n",
        "    Sum_of_squared_distances.append(km.inertia_)\n",
        "    \n",
        "##Checking out which SSE is low for different types of k means value\n",
        "plt.plot(K,Sum_of_squared_distances, 'bx-')\n",
        "plt.xlabel('k')\n",
        "plt.ylabel('Sum_of_squared_distances')\n",
        "plt.title('Elbow method for optimal k')\n",
        "plt.show()"
      ],
      "execution_count": 40,
      "outputs": [
        {
          "output_type": "error",
          "ename": "KeyboardInterrupt",
          "evalue": "ignored",
          "traceback": [
            "\u001b[0;31m---------------------------------------------------------------------------\u001b[0m",
            "\u001b[0;31mKeyboardInterrupt\u001b[0m                         Traceback (most recent call last)",
            "\u001b[0;32m<ipython-input-40-173d71825e7b>\u001b[0m in \u001b[0;36m<module>\u001b[0;34m()\u001b[0m\n\u001b[1;32m      4\u001b[0m \u001b[0;32mfor\u001b[0m \u001b[0mk\u001b[0m \u001b[0;32min\u001b[0m \u001b[0mK\u001b[0m\u001b[0;34m:\u001b[0m\u001b[0;34m\u001b[0m\u001b[0;34m\u001b[0m\u001b[0m\n\u001b[1;32m      5\u001b[0m     \u001b[0mkm\u001b[0m \u001b[0;34m=\u001b[0m \u001b[0mKMeans\u001b[0m\u001b[0;34m(\u001b[0m\u001b[0mn_clusters\u001b[0m\u001b[0;34m=\u001b[0m\u001b[0mk\u001b[0m\u001b[0;34m)\u001b[0m\u001b[0;34m\u001b[0m\u001b[0;34m\u001b[0m\u001b[0m\n\u001b[0;32m----> 6\u001b[0;31m     \u001b[0mkm\u001b[0m\u001b[0;34m=\u001b[0m\u001b[0mkm\u001b[0m\u001b[0;34m.\u001b[0m\u001b[0mfit\u001b[0m\u001b[0;34m(\u001b[0m\u001b[0mX_feature\u001b[0m\u001b[0;34m)\u001b[0m\u001b[0;34m\u001b[0m\u001b[0;34m\u001b[0m\u001b[0m\n\u001b[0m\u001b[1;32m      7\u001b[0m     \u001b[0mSum_of_squared_distances\u001b[0m\u001b[0;34m.\u001b[0m\u001b[0mappend\u001b[0m\u001b[0;34m(\u001b[0m\u001b[0mkm\u001b[0m\u001b[0;34m.\u001b[0m\u001b[0minertia_\u001b[0m\u001b[0;34m)\u001b[0m\u001b[0;34m\u001b[0m\u001b[0;34m\u001b[0m\u001b[0m\n\u001b[1;32m      8\u001b[0m \u001b[0;34m\u001b[0m\u001b[0m\n",
            "\u001b[0;32m/usr/local/lib/python3.6/dist-packages/sklearn/cluster/_kmeans.py\u001b[0m in \u001b[0;36mfit\u001b[0;34m(self, X, y, sample_weight)\u001b[0m\n\u001b[1;32m    935\u001b[0m                     \u001b[0mmax_iter\u001b[0m\u001b[0;34m=\u001b[0m\u001b[0mself\u001b[0m\u001b[0;34m.\u001b[0m\u001b[0mmax_iter\u001b[0m\u001b[0;34m,\u001b[0m \u001b[0minit\u001b[0m\u001b[0;34m=\u001b[0m\u001b[0minit\u001b[0m\u001b[0;34m,\u001b[0m \u001b[0mverbose\u001b[0m\u001b[0;34m=\u001b[0m\u001b[0mself\u001b[0m\u001b[0;34m.\u001b[0m\u001b[0mverbose\u001b[0m\u001b[0;34m,\u001b[0m\u001b[0;34m\u001b[0m\u001b[0;34m\u001b[0m\u001b[0m\n\u001b[1;32m    936\u001b[0m                     \u001b[0mprecompute_distances\u001b[0m\u001b[0;34m=\u001b[0m\u001b[0mprecompute_distances\u001b[0m\u001b[0;34m,\u001b[0m \u001b[0mtol\u001b[0m\u001b[0;34m=\u001b[0m\u001b[0mtol\u001b[0m\u001b[0;34m,\u001b[0m\u001b[0;34m\u001b[0m\u001b[0;34m\u001b[0m\u001b[0m\n\u001b[0;32m--> 937\u001b[0;31m                     x_squared_norms=x_squared_norms, random_state=seed)\n\u001b[0m\u001b[1;32m    938\u001b[0m                 \u001b[0;31m# determine if these results are the best so far\u001b[0m\u001b[0;34m\u001b[0m\u001b[0;34m\u001b[0m\u001b[0;34m\u001b[0m\u001b[0m\n\u001b[1;32m    939\u001b[0m                 \u001b[0;32mif\u001b[0m \u001b[0mbest_inertia\u001b[0m \u001b[0;32mis\u001b[0m \u001b[0;32mNone\u001b[0m \u001b[0;32mor\u001b[0m \u001b[0minertia\u001b[0m \u001b[0;34m<\u001b[0m \u001b[0mbest_inertia\u001b[0m\u001b[0;34m:\u001b[0m\u001b[0;34m\u001b[0m\u001b[0;34m\u001b[0m\u001b[0m\n",
            "\u001b[0;32m/usr/local/lib/python3.6/dist-packages/sklearn/cluster/_kmeans.py\u001b[0m in \u001b[0;36m_kmeans_single_elkan\u001b[0;34m(X, sample_weight, n_clusters, max_iter, init, verbose, x_squared_norms, random_state, tol, precompute_distances)\u001b[0m\n\u001b[1;32m    320\u001b[0m     centers, labels, n_iter = k_means_elkan(X, checked_sample_weight,\n\u001b[1;32m    321\u001b[0m                                             \u001b[0mn_clusters\u001b[0m\u001b[0;34m,\u001b[0m \u001b[0mcenters\u001b[0m\u001b[0;34m,\u001b[0m \u001b[0mtol\u001b[0m\u001b[0;34m=\u001b[0m\u001b[0mtol\u001b[0m\u001b[0;34m,\u001b[0m\u001b[0;34m\u001b[0m\u001b[0;34m\u001b[0m\u001b[0m\n\u001b[0;32m--> 322\u001b[0;31m                                             max_iter=max_iter, verbose=verbose)\n\u001b[0m\u001b[1;32m    323\u001b[0m     \u001b[0;32mif\u001b[0m \u001b[0msample_weight\u001b[0m \u001b[0;32mis\u001b[0m \u001b[0;32mNone\u001b[0m\u001b[0;34m:\u001b[0m\u001b[0;34m\u001b[0m\u001b[0;34m\u001b[0m\u001b[0m\n\u001b[1;32m    324\u001b[0m         \u001b[0minertia\u001b[0m \u001b[0;34m=\u001b[0m \u001b[0mnp\u001b[0m\u001b[0;34m.\u001b[0m\u001b[0msum\u001b[0m\u001b[0;34m(\u001b[0m\u001b[0;34m(\u001b[0m\u001b[0mX\u001b[0m \u001b[0;34m-\u001b[0m \u001b[0mcenters\u001b[0m\u001b[0;34m[\u001b[0m\u001b[0mlabels\u001b[0m\u001b[0;34m]\u001b[0m\u001b[0;34m)\u001b[0m \u001b[0;34m**\u001b[0m \u001b[0;36m2\u001b[0m\u001b[0;34m,\u001b[0m \u001b[0mdtype\u001b[0m\u001b[0;34m=\u001b[0m\u001b[0mnp\u001b[0m\u001b[0;34m.\u001b[0m\u001b[0mfloat64\u001b[0m\u001b[0;34m)\u001b[0m\u001b[0;34m\u001b[0m\u001b[0;34m\u001b[0m\u001b[0m\n",
            "\u001b[0;31mKeyboardInterrupt\u001b[0m: "
          ]
        }
      ]
    },
    {
      "cell_type": "code",
      "metadata": {
        "id": "ryet1DrrAf2A",
        "colab_type": "code",
        "colab": {
          "base_uri": "https://localhost:8080/",
          "height": 299
        },
        "outputId": "3fbe0de0-cf87-4fbc-eefe-cf81ec770673"
      },
      "source": [
        "## K-Means Clustering Algorithm  \n",
        "from sklearn.cluster import KMeans\n",
        "kmeans = KMeans(n_clusters=4) \n",
        "kmeans.fit(X_feature)\n",
        "yp=kmeans.predict(X_feature)\n",
        "plt.scatter(X_feature[:, 0], X_feature[:, 1], c=yp, s=50, cmap='viridis')\n",
        "centers = kmeans.cluster_centers_\n",
        "plt.scatter(centers[:, 0], centers[:, 1], c='red', s=200, alpha=0.5)\n",
        "plt.title('KMeans on full dataset')"
      ],
      "execution_count": 41,
      "outputs": [
        {
          "output_type": "execute_result",
          "data": {
            "text/plain": [
              "Text(0.5, 1.0, 'KMeans on full dataset')"
            ]
          },
          "metadata": {
            "tags": []
          },
          "execution_count": 41
        },
        {
          "output_type": "display_data",
          "data": {
            "image/png": "[encoded data removed]",
            "text/plain": [
              "<Figure size 432x288 with 1 Axes>"
            ]
          },
          "metadata": {
            "tags": [],
            "needs_background": "light"
          }
        }
      ]
    },
    {
      "cell_type": "markdown",
      "metadata": {
        "id": "FwIkRgg3SiNB",
        "colab_type": "text"
      },
      "source": [
        "## Expectation Maximization\n"
      ]
    },
    {
      "cell_type": "code",
      "metadata": {
        "id": "04uDUrxRSgS4",
        "colab_type": "code",
        "colab": {
          "base_uri": "https://localhost:8080/",
          "height": 299
        },
        "outputId": "2a954488-1a93-4a14-aca7-b352db3ff68e"
      },
      "source": [
        "## Expectation maximization analysis on Full data set\n",
        "from sklearn.mixture import GaussianMixture\n",
        "em = GaussianMixture(n_components=4,random_state=0,covariance_type='tied')\n",
        "em.fit(X_feature)\n",
        "em_pred = em.predict(X_feature)\n",
        "plt.scatter(X_feature[:, 0], X_feature[:, 1], c=em_pred, s=50, cmap='viridis_r')\n",
        "plt.title('Expectation Maximization on full data set')"
      ],
      "execution_count": 42,
      "outputs": [
        {
          "output_type": "execute_result",
          "data": {
            "text/plain": [
              "Text(0.5, 1.0, 'Expectation Maximization on full data set')"
            ]
          },
          "metadata": {
            "tags": []
          },
          "execution_count": 42
        },
        {
          "output_type": "display_data",
          "data": {
            "image/png": "[encoded data removed]",
            "text/plain": [
              "<Figure size 432x288 with 1 Axes>"
            ]
          },
          "metadata": {
            "tags": [],
            "needs_background": "light"
          }
        }
      ]
    },
    {
      "cell_type": "markdown",
      "metadata": {
        "id": "enBKJw2sH1r7",
        "colab_type": "text"
      },
      "source": [
        "## ANN\n",
        "**(After PCA)**\n"
      ]
    },
    {
      "cell_type": "code",
      "metadata": {
        "id": "Uu74XqG7Hym9",
        "colab_type": "code",
        "colab": {}
      },
      "source": [
        "from sklearn.decomposition import PCA\n",
        "pca = PCA()\n",
        "pca_X2_ann=pca.fit_transform(x2)"
      ],
      "execution_count": 0,
      "outputs": []
    },
    {
      "cell_type": "code",
      "metadata": {
        "id": "XdKQVocVHyye",
        "colab_type": "code",
        "colab": {}
      },
      "source": [
        "X1_train_pca, X1_test_pca, y1_train, y1_test = train_test_split(pca_X2_ann, y2, test_size = 0.3, random_state = 0)"
      ],
      "execution_count": 0,
      "outputs": []
    },
    {
      "cell_type": "code",
      "metadata": {
        "id": "adtk3LDGHy2v",
        "colab_type": "code",
        "colab": {}
      },
      "source": [
        "from sklearn.preprocessing import StandardScaler\n",
        "sc = StandardScaler()\n",
        "X1_train_pca = sc.fit_transform(X1_train_pca)\n",
        "X1_test_pca = sc.transform(X1_test_pca)"
      ],
      "execution_count": 0,
      "outputs": []
    },
    {
      "cell_type": "code",
      "metadata": {
        "id": "4GPhJ63iHyvd",
        "colab_type": "code",
        "colab": {
          "base_uri": "https://localhost:8080/",
          "height": 1000
        },
        "outputId": "ed90e9d3-6818-420d-b925-2d2e7819e18f"
      },
      "source": [
        "# Initialising the ANN\n",
        "\n",
        "#changing the number of nodes to 16\n",
        "classifier = Sequential()\n",
        "\n",
        "# Adding the input layer and the first hidden layer\n",
        "classifier.add(Dense(activation=\"relu\", input_dim=89, units=16, kernel_initializer=\"uniform\"))\n",
        "\n",
        "# Adding the second hidden layer\n",
        "classifier.add(Dense(activation=\"relu\", units=16, kernel_initializer=\"uniform\"))\n",
        "\n",
        "# Adding the output layer\n",
        "classifier.add(Dense(activation=\"sigmoid\", units=1, kernel_initializer=\"uniform\"))\n",
        "\n",
        "# Compiling the ANN\n",
        "classifier.compile(optimizer = 'adam', loss = 'binary_crossentropy', metrics = ['accuracy'])\n",
        "\n",
        "# Fitting the ANN to the Training set\n",
        "history=classifier.fit(X1_train_pca, y1_train, batch_size = 10, epochs = 400,validation_split=0.3)"
      ],
      "execution_count": 33,
      "outputs": [
        {
          "output_type": "stream",
          "text": [
            "Train on 27645 samples, validate on 11849 samples\n",
            "Epoch 1/400\n",
            "27645/27645 [==============================] - 5s 164us/step - loss: 0.3603 - accuracy: 0.8424 - val_loss: 0.3385 - val_accuracy: 0.8545\n",
            "Epoch 2/400\n",
            "27645/27645 [==============================] - 4s 152us/step - loss: 0.3212 - accuracy: 0.8604 - val_loss: 0.3312 - val_accuracy: 0.8580\n",
            "Epoch 3/400\n",
            "27645/27645 [==============================] - 4s 142us/step - loss: 0.3109 - accuracy: 0.8664 - val_loss: 0.3283 - val_accuracy: 0.8595\n",
            "Epoch 4/400\n",
            "27645/27645 [==============================] - 4s 145us/step - loss: 0.3048 - accuracy: 0.8684 - val_loss: 0.3291 - val_accuracy: 0.8607\n",
            "Epoch 5/400\n",
            "27645/27645 [==============================] - 4s 154us/step - loss: 0.2997 - accuracy: 0.8724 - val_loss: 0.3302 - val_accuracy: 0.8590\n",
            "Epoch 6/400\n",
            "27645/27645 [==============================] - 4s 153us/step - loss: 0.2959 - accuracy: 0.8733 - val_loss: 0.3316 - val_accuracy: 0.8573\n",
            "Epoch 7/400\n",
            "27645/27645 [==============================] - 4s 145us/step - loss: 0.2922 - accuracy: 0.8747 - val_loss: 0.3331 - val_accuracy: 0.8584\n",
            "Epoch 8/400\n",
            "27645/27645 [==============================] - 4s 146us/step - loss: 0.2894 - accuracy: 0.8752 - val_loss: 0.3303 - val_accuracy: 0.8592\n",
            "Epoch 9/400\n",
            "27645/27645 [==============================] - 4s 146us/step - loss: 0.2876 - accuracy: 0.8757 - val_loss: 0.3310 - val_accuracy: 0.8596\n",
            "Epoch 10/400\n",
            "27645/27645 [==============================] - 4s 149us/step - loss: 0.2859 - accuracy: 0.8781 - val_loss: 0.3316 - val_accuracy: 0.8590\n",
            "Epoch 11/400\n",
            "27645/27645 [==============================] - 4s 146us/step - loss: 0.2836 - accuracy: 0.8777 - val_loss: 0.3372 - val_accuracy: 0.8575\n",
            "Epoch 12/400\n",
            "27645/27645 [==============================] - 4s 152us/step - loss: 0.2819 - accuracy: 0.8792 - val_loss: 0.3381 - val_accuracy: 0.8598\n",
            "Epoch 13/400\n",
            "27645/27645 [==============================] - 4s 147us/step - loss: 0.2806 - accuracy: 0.8788 - val_loss: 0.3416 - val_accuracy: 0.8586\n",
            "Epoch 14/400\n",
            "27645/27645 [==============================] - 4s 148us/step - loss: 0.2791 - accuracy: 0.8805 - val_loss: 0.3414 - val_accuracy: 0.8584\n",
            "Epoch 15/400\n",
            "27645/27645 [==============================] - 4s 152us/step - loss: 0.2775 - accuracy: 0.8798 - val_loss: 0.3426 - val_accuracy: 0.8585\n",
            "Epoch 16/400\n",
            "27645/27645 [==============================] - 4s 157us/step - loss: 0.2761 - accuracy: 0.8817 - val_loss: 0.3446 - val_accuracy: 0.8533\n",
            "Epoch 17/400\n",
            "27645/27645 [==============================] - 4s 149us/step - loss: 0.2754 - accuracy: 0.8811 - val_loss: 0.3412 - val_accuracy: 0.8571\n",
            "Epoch 18/400\n",
            "27645/27645 [==============================] - 4s 153us/step - loss: 0.2733 - accuracy: 0.8835 - val_loss: 0.3470 - val_accuracy: 0.8553\n",
            "Epoch 19/400\n",
            "27645/27645 [==============================] - 4s 150us/step - loss: 0.2729 - accuracy: 0.8818 - val_loss: 0.3483 - val_accuracy: 0.8540\n",
            "Epoch 20/400\n",
            "27645/27645 [==============================] - 4s 151us/step - loss: 0.2718 - accuracy: 0.8824 - val_loss: 0.3492 - val_accuracy: 0.8542\n",
            "Epoch 21/400\n",
            "27645/27645 [==============================] - 4s 150us/step - loss: 0.2705 - accuracy: 0.8836 - val_loss: 0.3529 - val_accuracy: 0.8560\n",
            "Epoch 22/400\n",
            "27645/27645 [==============================] - 4s 150us/step - loss: 0.2695 - accuracy: 0.8834 - val_loss: 0.3505 - val_accuracy: 0.8557\n",
            "Epoch 23/400\n",
            "27645/27645 [==============================] - 4s 149us/step - loss: 0.2680 - accuracy: 0.8839 - val_loss: 0.3560 - val_accuracy: 0.8551\n",
            "Epoch 24/400\n",
            "27645/27645 [==============================] - 4s 145us/step - loss: 0.2674 - accuracy: 0.8850 - val_loss: 0.3543 - val_accuracy: 0.8564\n",
            "Epoch 25/400\n",
            "27645/27645 [==============================] - 4s 150us/step - loss: 0.2668 - accuracy: 0.8844 - val_loss: 0.3550 - val_accuracy: 0.8558\n",
            "Epoch 26/400\n",
            "27645/27645 [==============================] - 4s 146us/step - loss: 0.2661 - accuracy: 0.8842 - val_loss: 0.3584 - val_accuracy: 0.8520\n",
            "Epoch 27/400\n",
            "27645/27645 [==============================] - 4s 147us/step - loss: 0.2649 - accuracy: 0.8842 - val_loss: 0.3603 - val_accuracy: 0.8529\n",
            "Epoch 28/400\n",
            "27645/27645 [==============================] - 5s 168us/step - loss: 0.2644 - accuracy: 0.8858 - val_loss: 0.3593 - val_accuracy: 0.8543\n",
            "Epoch 29/400\n",
            "27645/27645 [==============================] - 4s 161us/step - loss: 0.2636 - accuracy: 0.8859 - val_loss: 0.3622 - val_accuracy: 0.8537\n",
            "Epoch 30/400\n",
            "27645/27645 [==============================] - 4s 148us/step - loss: 0.2634 - accuracy: 0.8849 - val_loss: 0.3625 - val_accuracy: 0.8542\n",
            "Epoch 31/400\n",
            "27645/27645 [==============================] - 4s 150us/step - loss: 0.2626 - accuracy: 0.8862 - val_loss: 0.3632 - val_accuracy: 0.8521\n",
            "Epoch 32/400\n",
            "27645/27645 [==============================] - 4s 152us/step - loss: 0.2618 - accuracy: 0.8858 - val_loss: 0.3685 - val_accuracy: 0.8533\n",
            "Epoch 33/400\n",
            "27645/27645 [==============================] - 4s 145us/step - loss: 0.2611 - accuracy: 0.8865 - val_loss: 0.3657 - val_accuracy: 0.8523\n",
            "Epoch 34/400\n",
            "27645/27645 [==============================] - 4s 151us/step - loss: 0.2605 - accuracy: 0.8868 - val_loss: 0.3692 - val_accuracy: 0.8516\n",
            "Epoch 35/400\n",
            "27645/27645 [==============================] - 4s 148us/step - loss: 0.2596 - accuracy: 0.8864 - val_loss: 0.3677 - val_accuracy: 0.8526\n",
            "Epoch 36/400\n",
            "27645/27645 [==============================] - 4s 147us/step - loss: 0.2603 - accuracy: 0.8879 - val_loss: 0.3713 - val_accuracy: 0.8540\n",
            "Epoch 37/400\n",
            "27645/27645 [==============================] - 4s 149us/step - loss: 0.2584 - accuracy: 0.8882 - val_loss: 0.3717 - val_accuracy: 0.8509\n",
            "Epoch 38/400\n",
            "27645/27645 [==============================] - 4s 150us/step - loss: 0.2589 - accuracy: 0.8887 - val_loss: 0.3680 - val_accuracy: 0.8512\n",
            "Epoch 39/400\n",
            "27645/27645 [==============================] - 4s 149us/step - loss: 0.2580 - accuracy: 0.8892 - val_loss: 0.3747 - val_accuracy: 0.8526\n",
            "Epoch 40/400\n",
            "27645/27645 [==============================] - 4s 147us/step - loss: 0.2572 - accuracy: 0.8897 - val_loss: 0.3695 - val_accuracy: 0.8515\n",
            "Epoch 41/400\n",
            "27645/27645 [==============================] - 4s 148us/step - loss: 0.2566 - accuracy: 0.8885 - val_loss: 0.3799 - val_accuracy: 0.8505\n",
            "Epoch 42/400\n",
            "27645/27645 [==============================] - 4s 146us/step - loss: 0.2565 - accuracy: 0.8886 - val_loss: 0.3789 - val_accuracy: 0.8509\n",
            "Epoch 43/400\n",
            "27645/27645 [==============================] - 4s 148us/step - loss: 0.2562 - accuracy: 0.8905 - val_loss: 0.3725 - val_accuracy: 0.8537\n",
            "Epoch 44/400\n",
            "27645/27645 [==============================] - 4s 154us/step - loss: 0.2552 - accuracy: 0.8896 - val_loss: 0.3761 - val_accuracy: 0.8538\n",
            "Epoch 45/400\n",
            "27645/27645 [==============================] - 4s 150us/step - loss: 0.2556 - accuracy: 0.8903 - val_loss: 0.3723 - val_accuracy: 0.8530\n",
            "Epoch 46/400\n",
            "27645/27645 [==============================] - 4s 146us/step - loss: 0.2547 - accuracy: 0.8900 - val_loss: 0.3838 - val_accuracy: 0.8524\n",
            "Epoch 47/400\n",
            "27645/27645 [==============================] - 4s 146us/step - loss: 0.2549 - accuracy: 0.8886 - val_loss: 0.3811 - val_accuracy: 0.8529\n",
            "Epoch 48/400\n",
            "27645/27645 [==============================] - 4s 147us/step - loss: 0.2543 - accuracy: 0.8905 - val_loss: 0.3784 - val_accuracy: 0.8503\n",
            "Epoch 49/400\n",
            "27645/27645 [==============================] - 4s 148us/step - loss: 0.2544 - accuracy: 0.8913 - val_loss: 0.3813 - val_accuracy: 0.8524\n",
            "Epoch 50/400\n",
            "27645/27645 [==============================] - 4s 152us/step - loss: 0.2535 - accuracy: 0.8908 - val_loss: 0.3873 - val_accuracy: 0.8505\n",
            "Epoch 51/400\n",
            "27645/27645 [==============================] - 4s 147us/step - loss: 0.2528 - accuracy: 0.8906 - val_loss: 0.3857 - val_accuracy: 0.8510\n",
            "Epoch 52/400\n",
            "27645/27645 [==============================] - 4s 147us/step - loss: 0.2532 - accuracy: 0.8909 - val_loss: 0.3833 - val_accuracy: 0.8500\n",
            "Epoch 53/400\n",
            "27645/27645 [==============================] - 4s 147us/step - loss: 0.2525 - accuracy: 0.8918 - val_loss: 0.3821 - val_accuracy: 0.8507\n",
            "Epoch 54/400\n",
            "27645/27645 [==============================] - 4s 147us/step - loss: 0.2532 - accuracy: 0.8900 - val_loss: 0.3805 - val_accuracy: 0.8536\n",
            "Epoch 55/400\n",
            "27645/27645 [==============================] - 4s 158us/step - loss: 0.2519 - accuracy: 0.8911 - val_loss: 0.3799 - val_accuracy: 0.8531\n",
            "Epoch 56/400\n",
            "27645/27645 [==============================] - 4s 145us/step - loss: 0.2514 - accuracy: 0.8921 - val_loss: 0.3805 - val_accuracy: 0.8505\n",
            "Epoch 57/400\n",
            "27645/27645 [==============================] - 4s 150us/step - loss: 0.2514 - accuracy: 0.8922 - val_loss: 0.3898 - val_accuracy: 0.8510\n",
            "Epoch 58/400\n",
            "27645/27645 [==============================] - 4s 153us/step - loss: 0.2509 - accuracy: 0.8927 - val_loss: 0.3842 - val_accuracy: 0.8507\n",
            "Epoch 59/400\n",
            "27645/27645 [==============================] - 4s 151us/step - loss: 0.2506 - accuracy: 0.8920 - val_loss: 0.3906 - val_accuracy: 0.8505\n",
            "Epoch 60/400\n",
            "27645/27645 [==============================] - 4s 154us/step - loss: 0.2503 - accuracy: 0.8925 - val_loss: 0.3855 - val_accuracy: 0.8489\n",
            "Epoch 61/400\n",
            "27645/27645 [==============================] - 4s 150us/step - loss: 0.2500 - accuracy: 0.8929 - val_loss: 0.3954 - val_accuracy: 0.8505\n",
            "Epoch 62/400\n",
            "27645/27645 [==============================] - 4s 145us/step - loss: 0.2492 - accuracy: 0.8938 - val_loss: 0.3901 - val_accuracy: 0.8476\n",
            "Epoch 63/400\n",
            "27645/27645 [==============================] - 4s 146us/step - loss: 0.2487 - accuracy: 0.8937 - val_loss: 0.3867 - val_accuracy: 0.8500\n",
            "Epoch 64/400\n",
            "27645/27645 [==============================] - 4s 152us/step - loss: 0.2485 - accuracy: 0.8936 - val_loss: 0.3939 - val_accuracy: 0.8473\n",
            "Epoch 65/400\n",
            "27645/27645 [==============================] - 4s 152us/step - loss: 0.2490 - accuracy: 0.8937 - val_loss: 0.3971 - val_accuracy: 0.8514\n",
            "Epoch 66/400\n",
            "27645/27645 [==============================] - 4s 150us/step - loss: 0.2477 - accuracy: 0.8948 - val_loss: 0.4023 - val_accuracy: 0.8519\n",
            "Epoch 67/400\n",
            "27645/27645 [==============================] - 4s 149us/step - loss: 0.2481 - accuracy: 0.8926 - val_loss: 0.3923 - val_accuracy: 0.8497\n",
            "Epoch 68/400\n",
            "27645/27645 [==============================] - 4s 148us/step - loss: 0.2479 - accuracy: 0.8944 - val_loss: 0.3946 - val_accuracy: 0.8495\n",
            "Epoch 69/400\n",
            "27645/27645 [==============================] - 4s 146us/step - loss: 0.2472 - accuracy: 0.8940 - val_loss: 0.3944 - val_accuracy: 0.8516\n",
            "Epoch 70/400\n",
            "27645/27645 [==============================] - 4s 146us/step - loss: 0.2477 - accuracy: 0.8944 - val_loss: 0.3947 - val_accuracy: 0.8519\n",
            "Epoch 71/400\n",
            "27645/27645 [==============================] - 4s 148us/step - loss: 0.2471 - accuracy: 0.8942 - val_loss: 0.3910 - val_accuracy: 0.8498\n",
            "Epoch 72/400\n",
            "27645/27645 [==============================] - 4s 148us/step - loss: 0.2464 - accuracy: 0.8936 - val_loss: 0.3996 - val_accuracy: 0.8519\n",
            "Epoch 73/400\n",
            "27645/27645 [==============================] - 4s 146us/step - loss: 0.2461 - accuracy: 0.8951 - val_loss: 0.4012 - val_accuracy: 0.8501\n",
            "Epoch 74/400\n",
            "27645/27645 [==============================] - 4s 151us/step - loss: 0.2455 - accuracy: 0.8947 - val_loss: 0.3969 - val_accuracy: 0.8502\n",
            "Epoch 75/400\n",
            "27645/27645 [==============================] - 4s 154us/step - loss: 0.2461 - accuracy: 0.8952 - val_loss: 0.3976 - val_accuracy: 0.8513\n",
            "Epoch 76/400\n",
            "27645/27645 [==============================] - 4s 159us/step - loss: 0.2450 - accuracy: 0.8954 - val_loss: 0.3980 - val_accuracy: 0.8496\n",
            "Epoch 77/400\n",
            "27645/27645 [==============================] - 4s 151us/step - loss: 0.2459 - accuracy: 0.8957 - val_loss: 0.3979 - val_accuracy: 0.8508\n",
            "Epoch 78/400\n",
            "27645/27645 [==============================] - 4s 147us/step - loss: 0.2449 - accuracy: 0.8963 - val_loss: 0.4013 - val_accuracy: 0.8521\n",
            "Epoch 79/400\n",
            "27645/27645 [==============================] - 4s 150us/step - loss: 0.2449 - accuracy: 0.8944 - val_loss: 0.4045 - val_accuracy: 0.8476\n",
            "Epoch 80/400\n",
            "27645/27645 [==============================] - 4s 146us/step - loss: 0.2447 - accuracy: 0.8961 - val_loss: 0.4029 - val_accuracy: 0.8496\n",
            "Epoch 81/400\n",
            "27645/27645 [==============================] - 4s 146us/step - loss: 0.2444 - accuracy: 0.8952 - val_loss: 0.4097 - val_accuracy: 0.8530\n",
            "Epoch 82/400\n",
            "27645/27645 [==============================] - 4s 145us/step - loss: 0.2448 - accuracy: 0.8973 - val_loss: 0.4013 - val_accuracy: 0.8498\n",
            "Epoch 83/400\n",
            "27645/27645 [==============================] - 4s 150us/step - loss: 0.2443 - accuracy: 0.8963 - val_loss: 0.4107 - val_accuracy: 0.8506\n",
            "Epoch 84/400\n",
            "27645/27645 [==============================] - 4s 146us/step - loss: 0.2443 - accuracy: 0.8961 - val_loss: 0.4061 - val_accuracy: 0.8499\n",
            "Epoch 85/400\n",
            "27645/27645 [==============================] - 4s 146us/step - loss: 0.2432 - accuracy: 0.8971 - val_loss: 0.4086 - val_accuracy: 0.8501\n",
            "Epoch 86/400\n",
            "27645/27645 [==============================] - 4s 151us/step - loss: 0.2437 - accuracy: 0.8969 - val_loss: 0.4133 - val_accuracy: 0.8491\n",
            "Epoch 87/400\n",
            "27645/27645 [==============================] - 4s 155us/step - loss: 0.2440 - accuracy: 0.8957 - val_loss: 0.4048 - val_accuracy: 0.8488\n",
            "Epoch 88/400\n",
            "27645/27645 [==============================] - 4s 146us/step - loss: 0.2429 - accuracy: 0.8972 - val_loss: 0.4097 - val_accuracy: 0.8500\n",
            "Epoch 89/400\n",
            "27645/27645 [==============================] - 4s 148us/step - loss: 0.2431 - accuracy: 0.8965 - val_loss: 0.4093 - val_accuracy: 0.8478\n",
            "Epoch 90/400\n",
            "27645/27645 [==============================] - 4s 151us/step - loss: 0.2431 - accuracy: 0.8979 - val_loss: 0.4138 - val_accuracy: 0.8489\n",
            "Epoch 91/400\n",
            "27645/27645 [==============================] - 4s 149us/step - loss: 0.2424 - accuracy: 0.8968 - val_loss: 0.4128 - val_accuracy: 0.8487\n",
            "Epoch 92/400\n",
            "27645/27645 [==============================] - 4s 150us/step - loss: 0.2426 - accuracy: 0.8973 - val_loss: 0.4106 - val_accuracy: 0.8492\n",
            "Epoch 93/400\n",
            "27645/27645 [==============================] - 4s 149us/step - loss: 0.2427 - accuracy: 0.8973 - val_loss: 0.4117 - val_accuracy: 0.8493\n",
            "Epoch 94/400\n",
            "27645/27645 [==============================] - 4s 148us/step - loss: 0.2415 - accuracy: 0.8978 - val_loss: 0.4121 - val_accuracy: 0.8491\n",
            "Epoch 95/400\n",
            "27645/27645 [==============================] - 4s 145us/step - loss: 0.2424 - accuracy: 0.8980 - val_loss: 0.4175 - val_accuracy: 0.8501\n",
            "Epoch 96/400\n",
            "27645/27645 [==============================] - 4s 146us/step - loss: 0.2418 - accuracy: 0.8978 - val_loss: 0.4142 - val_accuracy: 0.8478\n",
            "Epoch 97/400\n",
            "27645/27645 [==============================] - 4s 146us/step - loss: 0.2412 - accuracy: 0.8991 - val_loss: 0.4164 - val_accuracy: 0.8473\n",
            "Epoch 98/400\n",
            "27645/27645 [==============================] - 4s 147us/step - loss: 0.2408 - accuracy: 0.8979 - val_loss: 0.4120 - val_accuracy: 0.8437\n",
            "Epoch 99/400\n",
            "27645/27645 [==============================] - 4s 146us/step - loss: 0.2407 - accuracy: 0.8967 - val_loss: 0.4185 - val_accuracy: 0.8460\n",
            "Epoch 100/400\n",
            "27645/27645 [==============================] - 4s 149us/step - loss: 0.2412 - accuracy: 0.8981 - val_loss: 0.4126 - val_accuracy: 0.8451\n",
            "Epoch 101/400\n",
            "27645/27645 [==============================] - 4s 156us/step - loss: 0.2402 - accuracy: 0.8984 - val_loss: 0.4157 - val_accuracy: 0.8463\n",
            "Epoch 102/400\n",
            "27645/27645 [==============================] - 4s 147us/step - loss: 0.2400 - accuracy: 0.8979 - val_loss: 0.4171 - val_accuracy: 0.8456\n",
            "Epoch 103/400\n",
            "27645/27645 [==============================] - 4s 159us/step - loss: 0.2403 - accuracy: 0.8978 - val_loss: 0.4165 - val_accuracy: 0.8482\n",
            "Epoch 104/400\n",
            "27645/27645 [==============================] - 4s 162us/step - loss: 0.2393 - accuracy: 0.8986 - val_loss: 0.4197 - val_accuracy: 0.8455\n",
            "Epoch 105/400\n",
            "27645/27645 [==============================] - 4s 160us/step - loss: 0.2405 - accuracy: 0.8980 - val_loss: 0.4174 - val_accuracy: 0.8461\n",
            "Epoch 106/400\n",
            "27645/27645 [==============================] - 4s 151us/step - loss: 0.2396 - accuracy: 0.8976 - val_loss: 0.4200 - val_accuracy: 0.8439\n",
            "Epoch 107/400\n",
            "27645/27645 [==============================] - 4s 152us/step - loss: 0.2391 - accuracy: 0.8982 - val_loss: 0.4174 - val_accuracy: 0.8456\n",
            "Epoch 108/400\n",
            "27645/27645 [==============================] - 4s 148us/step - loss: 0.2384 - accuracy: 0.8974 - val_loss: 0.4272 - val_accuracy: 0.8462\n",
            "Epoch 109/400\n",
            "27645/27645 [==============================] - 4s 148us/step - loss: 0.2391 - accuracy: 0.8984 - val_loss: 0.4248 - val_accuracy: 0.8481\n",
            "Epoch 110/400\n",
            "27645/27645 [==============================] - 4s 152us/step - loss: 0.2381 - accuracy: 0.8982 - val_loss: 0.4268 - val_accuracy: 0.8494\n",
            "Epoch 111/400\n",
            "27645/27645 [==============================] - 4s 153us/step - loss: 0.2395 - accuracy: 0.8990 - val_loss: 0.4230 - val_accuracy: 0.8481\n",
            "Epoch 112/400\n",
            "27645/27645 [==============================] - 4s 151us/step - loss: 0.2379 - accuracy: 0.8983 - val_loss: 0.4239 - val_accuracy: 0.8440\n",
            "Epoch 113/400\n",
            "27645/27645 [==============================] - 4s 152us/step - loss: 0.2382 - accuracy: 0.8989 - val_loss: 0.4203 - val_accuracy: 0.8475\n",
            "Epoch 114/400\n",
            "27645/27645 [==============================] - 4s 146us/step - loss: 0.2373 - accuracy: 0.8991 - val_loss: 0.4257 - val_accuracy: 0.8463\n",
            "Epoch 115/400\n",
            "27645/27645 [==============================] - 4s 156us/step - loss: 0.2383 - accuracy: 0.8992 - val_loss: 0.4207 - val_accuracy: 0.8475\n",
            "Epoch 116/400\n",
            "27645/27645 [==============================] - 4s 151us/step - loss: 0.2377 - accuracy: 0.8987 - val_loss: 0.4256 - val_accuracy: 0.8461\n",
            "Epoch 117/400\n",
            "27645/27645 [==============================] - 4s 150us/step - loss: 0.2375 - accuracy: 0.9005 - val_loss: 0.4216 - val_accuracy: 0.8471\n",
            "Epoch 118/400\n",
            "27645/27645 [==============================] - 4s 147us/step - loss: 0.2367 - accuracy: 0.9005 - val_loss: 0.4280 - val_accuracy: 0.8457\n",
            "Epoch 119/400\n",
            "27645/27645 [==============================] - 4s 147us/step - loss: 0.2374 - accuracy: 0.8998 - val_loss: 0.4245 - val_accuracy: 0.8488\n",
            "Epoch 120/400\n",
            "27645/27645 [==============================] - 4s 154us/step - loss: 0.2372 - accuracy: 0.8994 - val_loss: 0.4285 - val_accuracy: 0.8440\n",
            "Epoch 121/400\n",
            "27645/27645 [==============================] - 4s 150us/step - loss: 0.2373 - accuracy: 0.8993 - val_loss: 0.4277 - val_accuracy: 0.8477\n",
            "Epoch 122/400\n",
            "27645/27645 [==============================] - 4s 153us/step - loss: 0.2371 - accuracy: 0.8982 - val_loss: 0.4297 - val_accuracy: 0.8466\n",
            "Epoch 123/400\n",
            "27645/27645 [==============================] - 4s 148us/step - loss: 0.2370 - accuracy: 0.8980 - val_loss: 0.4255 - val_accuracy: 0.8451\n",
            "Epoch 124/400\n",
            "27645/27645 [==============================] - 4s 145us/step - loss: 0.2370 - accuracy: 0.8997 - val_loss: 0.4290 - val_accuracy: 0.8471\n",
            "Epoch 125/400\n",
            "27645/27645 [==============================] - 4s 146us/step - loss: 0.2363 - accuracy: 0.8996 - val_loss: 0.4286 - val_accuracy: 0.8461\n",
            "Epoch 126/400\n",
            "27645/27645 [==============================] - 4s 146us/step - loss: 0.2366 - accuracy: 0.8995 - val_loss: 0.4245 - val_accuracy: 0.8470\n",
            "Epoch 127/400\n",
            "27645/27645 [==============================] - 4s 147us/step - loss: 0.2363 - accuracy: 0.8998 - val_loss: 0.4319 - val_accuracy: 0.8464\n",
            "Epoch 128/400\n",
            "27645/27645 [==============================] - 4s 150us/step - loss: 0.2364 - accuracy: 0.8990 - val_loss: 0.4307 - val_accuracy: 0.8470\n",
            "Epoch 129/400\n",
            "27645/27645 [==============================] - 4s 147us/step - loss: 0.2362 - accuracy: 0.8997 - val_loss: 0.4319 - val_accuracy: 0.8464\n",
            "Epoch 130/400\n",
            "27645/27645 [==============================] - 4s 146us/step - loss: 0.2363 - accuracy: 0.8991 - val_loss: 0.4375 - val_accuracy: 0.8472\n",
            "Epoch 131/400\n",
            "27645/27645 [==============================] - 4s 147us/step - loss: 0.2357 - accuracy: 0.8986 - val_loss: 0.4294 - val_accuracy: 0.8451\n",
            "Epoch 132/400\n",
            "27645/27645 [==============================] - 4s 145us/step - loss: 0.2356 - accuracy: 0.9001 - val_loss: 0.4340 - val_accuracy: 0.8452\n",
            "Epoch 133/400\n",
            "27645/27645 [==============================] - 4s 149us/step - loss: 0.2354 - accuracy: 0.9002 - val_loss: 0.4317 - val_accuracy: 0.8461\n",
            "Epoch 134/400\n",
            "27645/27645 [==============================] - 4s 152us/step - loss: 0.2351 - accuracy: 0.8995 - val_loss: 0.4369 - val_accuracy: 0.8478\n",
            "Epoch 135/400\n",
            "27645/27645 [==============================] - 4s 145us/step - loss: 0.2356 - accuracy: 0.9006 - val_loss: 0.4338 - val_accuracy: 0.8458\n",
            "Epoch 136/400\n",
            "27645/27645 [==============================] - 4s 149us/step - loss: 0.2351 - accuracy: 0.8998 - val_loss: 0.4329 - val_accuracy: 0.8474\n",
            "Epoch 137/400\n",
            "27645/27645 [==============================] - 4s 151us/step - loss: 0.2350 - accuracy: 0.9003 - val_loss: 0.4393 - val_accuracy: 0.8449\n",
            "Epoch 138/400\n",
            "27645/27645 [==============================] - 4s 148us/step - loss: 0.2346 - accuracy: 0.9004 - val_loss: 0.4354 - val_accuracy: 0.8421\n",
            "Epoch 139/400\n",
            "27645/27645 [==============================] - 4s 145us/step - loss: 0.2351 - accuracy: 0.9000 - val_loss: 0.4319 - val_accuracy: 0.8432\n",
            "Epoch 140/400\n",
            "27645/27645 [==============================] - 4s 145us/step - loss: 0.2339 - accuracy: 0.9004 - val_loss: 0.4287 - val_accuracy: 0.8436\n",
            "Epoch 141/400\n",
            "27645/27645 [==============================] - 4s 144us/step - loss: 0.2347 - accuracy: 0.8999 - val_loss: 0.4373 - val_accuracy: 0.8472\n",
            "Epoch 142/400\n",
            "27645/27645 [==============================] - 4s 147us/step - loss: 0.2339 - accuracy: 0.9016 - val_loss: 0.4419 - val_accuracy: 0.8441\n",
            "Epoch 143/400\n",
            "27645/27645 [==============================] - 4s 147us/step - loss: 0.2347 - accuracy: 0.8999 - val_loss: 0.4411 - val_accuracy: 0.8463\n",
            "Epoch 144/400\n",
            "27645/27645 [==============================] - 4s 150us/step - loss: 0.2341 - accuracy: 0.8997 - val_loss: 0.4334 - val_accuracy: 0.8413\n",
            "Epoch 145/400\n",
            "27645/27645 [==============================] - 4s 145us/step - loss: 0.2339 - accuracy: 0.9003 - val_loss: 0.4323 - val_accuracy: 0.8444\n",
            "Epoch 146/400\n",
            "27645/27645 [==============================] - 4s 146us/step - loss: 0.2332 - accuracy: 0.9003 - val_loss: 0.4339 - val_accuracy: 0.8467\n",
            "Epoch 147/400\n",
            "27645/27645 [==============================] - 4s 144us/step - loss: 0.2340 - accuracy: 0.9008 - val_loss: 0.4321 - val_accuracy: 0.8431\n",
            "Epoch 148/400\n",
            "27645/27645 [==============================] - 4s 150us/step - loss: 0.2341 - accuracy: 0.9004 - val_loss: 0.4387 - val_accuracy: 0.8435\n",
            "Epoch 149/400\n",
            "27645/27645 [==============================] - 4s 148us/step - loss: 0.2334 - accuracy: 0.9002 - val_loss: 0.4363 - val_accuracy: 0.8432\n",
            "Epoch 150/400\n",
            "27645/27645 [==============================] - 4s 154us/step - loss: 0.2347 - accuracy: 0.8989 - val_loss: 0.4355 - val_accuracy: 0.8456\n",
            "Epoch 151/400\n",
            "27645/27645 [==============================] - 4s 146us/step - loss: 0.2341 - accuracy: 0.9003 - val_loss: 0.4351 - val_accuracy: 0.8436\n",
            "Epoch 152/400\n",
            "27645/27645 [==============================] - 4s 152us/step - loss: 0.2332 - accuracy: 0.9011 - val_loss: 0.4334 - val_accuracy: 0.8459\n",
            "Epoch 153/400\n",
            "27645/27645 [==============================] - 4s 155us/step - loss: 0.2334 - accuracy: 0.8997 - val_loss: 0.4437 - val_accuracy: 0.8440\n",
            "Epoch 154/400\n",
            "27645/27645 [==============================] - 4s 145us/step - loss: 0.2329 - accuracy: 0.9000 - val_loss: 0.4380 - val_accuracy: 0.8402\n",
            "Epoch 155/400\n",
            "27645/27645 [==============================] - 4s 146us/step - loss: 0.2339 - accuracy: 0.9008 - val_loss: 0.4363 - val_accuracy: 0.8424\n",
            "Epoch 156/400\n",
            "27645/27645 [==============================] - 4s 147us/step - loss: 0.2323 - accuracy: 0.9004 - val_loss: 0.4402 - val_accuracy: 0.8444\n",
            "Epoch 157/400\n",
            "27645/27645 [==============================] - 4s 145us/step - loss: 0.2334 - accuracy: 0.9014 - val_loss: 0.4379 - val_accuracy: 0.8453\n",
            "Epoch 158/400\n",
            "27645/27645 [==============================] - 4s 147us/step - loss: 0.2334 - accuracy: 0.9002 - val_loss: 0.4408 - val_accuracy: 0.8458\n",
            "Epoch 159/400\n",
            "27645/27645 [==============================] - 4s 146us/step - loss: 0.2329 - accuracy: 0.9015 - val_loss: 0.4396 - val_accuracy: 0.8432\n",
            "Epoch 160/400\n",
            "27645/27645 [==============================] - 4s 149us/step - loss: 0.2325 - accuracy: 0.9015 - val_loss: 0.4449 - val_accuracy: 0.8439\n",
            "Epoch 161/400\n",
            "27645/27645 [==============================] - 4s 153us/step - loss: 0.2324 - accuracy: 0.9008 - val_loss: 0.4416 - val_accuracy: 0.8452\n",
            "Epoch 162/400\n",
            "27645/27645 [==============================] - 4s 149us/step - loss: 0.2332 - accuracy: 0.9001 - val_loss: 0.4426 - val_accuracy: 0.8425\n",
            "Epoch 163/400\n",
            "27645/27645 [==============================] - 4s 145us/step - loss: 0.2316 - accuracy: 0.9021 - val_loss: 0.4456 - val_accuracy: 0.8442\n",
            "Epoch 164/400\n",
            "27645/27645 [==============================] - 4s 144us/step - loss: 0.2326 - accuracy: 0.9008 - val_loss: 0.4464 - val_accuracy: 0.8413\n",
            "Epoch 165/400\n",
            "27645/27645 [==============================] - 4s 147us/step - loss: 0.2327 - accuracy: 0.9010 - val_loss: 0.4485 - val_accuracy: 0.8410\n",
            "Epoch 166/400\n",
            "27645/27645 [==============================] - 4s 147us/step - loss: 0.2323 - accuracy: 0.9002 - val_loss: 0.4446 - val_accuracy: 0.8429\n",
            "Epoch 167/400\n",
            "27645/27645 [==============================] - 4s 147us/step - loss: 0.2311 - accuracy: 0.9018 - val_loss: 0.4442 - val_accuracy: 0.8416\n",
            "Epoch 168/400\n",
            "27645/27645 [==============================] - 4s 149us/step - loss: 0.2319 - accuracy: 0.9026 - val_loss: 0.4480 - val_accuracy: 0.8425\n",
            "Epoch 169/400\n",
            "27645/27645 [==============================] - 4s 147us/step - loss: 0.2321 - accuracy: 0.9017 - val_loss: 0.4448 - val_accuracy: 0.8434\n",
            "Epoch 170/400\n",
            "27645/27645 [==============================] - 4s 151us/step - loss: 0.2315 - accuracy: 0.9019 - val_loss: 0.4472 - val_accuracy: 0.8441\n",
            "Epoch 171/400\n",
            "27645/27645 [==============================] - 4s 148us/step - loss: 0.2318 - accuracy: 0.9007 - val_loss: 0.4576 - val_accuracy: 0.8449\n",
            "Epoch 172/400\n",
            "27645/27645 [==============================] - 4s 149us/step - loss: 0.2319 - accuracy: 0.9011 - val_loss: 0.4454 - val_accuracy: 0.8448\n",
            "Epoch 173/400\n",
            "27645/27645 [==============================] - 4s 150us/step - loss: 0.2319 - accuracy: 0.9015 - val_loss: 0.4428 - val_accuracy: 0.8442\n",
            "Epoch 174/400\n",
            "27645/27645 [==============================] - 4s 144us/step - loss: 0.2316 - accuracy: 0.9011 - val_loss: 0.4505 - val_accuracy: 0.8439\n",
            "Epoch 175/400\n",
            "27645/27645 [==============================] - 4s 156us/step - loss: 0.2309 - accuracy: 0.9008 - val_loss: 0.4466 - val_accuracy: 0.8440\n",
            "Epoch 176/400\n",
            "27645/27645 [==============================] - 4s 145us/step - loss: 0.2315 - accuracy: 0.9008 - val_loss: 0.4427 - val_accuracy: 0.8415\n",
            "Epoch 177/400\n",
            "27645/27645 [==============================] - 4s 151us/step - loss: 0.2314 - accuracy: 0.9020 - val_loss: 0.4442 - val_accuracy: 0.8396\n",
            "Epoch 178/400\n",
            "27645/27645 [==============================] - 4s 147us/step - loss: 0.2306 - accuracy: 0.9015 - val_loss: 0.4451 - val_accuracy: 0.8427\n",
            "Epoch 179/400\n",
            "27645/27645 [==============================] - 4s 155us/step - loss: 0.2309 - accuracy: 0.9007 - val_loss: 0.4436 - val_accuracy: 0.8428\n",
            "Epoch 180/400\n",
            "27645/27645 [==============================] - 4s 155us/step - loss: 0.2306 - accuracy: 0.9018 - val_loss: 0.4509 - val_accuracy: 0.8465\n",
            "Epoch 181/400\n",
            "27645/27645 [==============================] - 4s 154us/step - loss: 0.2311 - accuracy: 0.9019 - val_loss: 0.4472 - val_accuracy: 0.8412\n",
            "Epoch 182/400\n",
            "27645/27645 [==============================] - 4s 150us/step - loss: 0.2308 - accuracy: 0.9018 - val_loss: 0.4470 - val_accuracy: 0.8429\n",
            "Epoch 183/400\n",
            "27645/27645 [==============================] - 4s 147us/step - loss: 0.2308 - accuracy: 0.9021 - val_loss: 0.4529 - val_accuracy: 0.8418\n",
            "Epoch 184/400\n",
            "27645/27645 [==============================] - 4s 146us/step - loss: 0.2305 - accuracy: 0.9016 - val_loss: 0.4453 - val_accuracy: 0.8429\n",
            "Epoch 185/400\n",
            "27645/27645 [==============================] - 4s 149us/step - loss: 0.2308 - accuracy: 0.9022 - val_loss: 0.4488 - val_accuracy: 0.8426\n",
            "Epoch 186/400\n",
            "27645/27645 [==============================] - 4s 144us/step - loss: 0.2297 - accuracy: 0.9035 - val_loss: 0.4518 - val_accuracy: 0.8385\n",
            "Epoch 187/400\n",
            "27645/27645 [==============================] - 4s 147us/step - loss: 0.2312 - accuracy: 0.9017 - val_loss: 0.4497 - val_accuracy: 0.8438\n",
            "Epoch 188/400\n",
            "27645/27645 [==============================] - 4s 147us/step - loss: 0.2301 - accuracy: 0.9017 - val_loss: 0.4455 - val_accuracy: 0.8391\n",
            "Epoch 189/400\n",
            "27645/27645 [==============================] - 4s 144us/step - loss: 0.2303 - accuracy: 0.9028 - val_loss: 0.4476 - val_accuracy: 0.8405\n",
            "Epoch 190/400\n",
            "27645/27645 [==============================] - 4s 149us/step - loss: 0.2302 - accuracy: 0.9013 - val_loss: 0.4481 - val_accuracy: 0.8454\n",
            "Epoch 191/400\n",
            "27645/27645 [==============================] - 4s 156us/step - loss: 0.2296 - accuracy: 0.9026 - val_loss: 0.4478 - val_accuracy: 0.8423\n",
            "Epoch 192/400\n",
            "27645/27645 [==============================] - 4s 145us/step - loss: 0.2300 - accuracy: 0.9029 - val_loss: 0.4526 - val_accuracy: 0.8448\n",
            "Epoch 193/400\n",
            "27645/27645 [==============================] - 4s 155us/step - loss: 0.2309 - accuracy: 0.9019 - val_loss: 0.4533 - val_accuracy: 0.8418\n",
            "Epoch 194/400\n",
            "27645/27645 [==============================] - 4s 155us/step - loss: 0.2301 - accuracy: 0.9036 - val_loss: 0.4429 - val_accuracy: 0.8408\n",
            "Epoch 195/400\n",
            "27645/27645 [==============================] - 4s 146us/step - loss: 0.2291 - accuracy: 0.9024 - val_loss: 0.4469 - val_accuracy: 0.8441\n",
            "Epoch 196/400\n",
            "27645/27645 [==============================] - 4s 159us/step - loss: 0.2303 - accuracy: 0.9023 - val_loss: 0.4475 - val_accuracy: 0.8420\n",
            "Epoch 197/400\n",
            "27645/27645 [==============================] - 4s 155us/step - loss: 0.2291 - accuracy: 0.9021 - val_loss: 0.4505 - val_accuracy: 0.8442\n",
            "Epoch 198/400\n",
            "27645/27645 [==============================] - 4s 153us/step - loss: 0.2289 - accuracy: 0.9024 - val_loss: 0.4492 - val_accuracy: 0.8433\n",
            "Epoch 199/400\n",
            "27645/27645 [==============================] - 4s 149us/step - loss: 0.2289 - accuracy: 0.9025 - val_loss: 0.4501 - val_accuracy: 0.8416\n",
            "Epoch 200/400\n",
            "27645/27645 [==============================] - 4s 145us/step - loss: 0.2292 - accuracy: 0.9015 - val_loss: 0.4517 - val_accuracy: 0.8434\n",
            "Epoch 201/400\n",
            "27645/27645 [==============================] - 4s 151us/step - loss: 0.2297 - accuracy: 0.9013 - val_loss: 0.4507 - val_accuracy: 0.8386\n",
            "Epoch 202/400\n",
            "27645/27645 [==============================] - 4s 148us/step - loss: 0.2293 - accuracy: 0.9028 - val_loss: 0.4522 - val_accuracy: 0.8402\n",
            "Epoch 203/400\n",
            "27645/27645 [==============================] - 4s 148us/step - loss: 0.2284 - accuracy: 0.9030 - val_loss: 0.4628 - val_accuracy: 0.8334\n",
            "Epoch 204/400\n",
            "27645/27645 [==============================] - 4s 152us/step - loss: 0.2293 - accuracy: 0.9032 - val_loss: 0.4580 - val_accuracy: 0.8423\n",
            "Epoch 205/400\n",
            "27645/27645 [==============================] - 4s 152us/step - loss: 0.2292 - accuracy: 0.9040 - val_loss: 0.4559 - val_accuracy: 0.8417\n",
            "Epoch 206/400\n",
            "27645/27645 [==============================] - 4s 155us/step - loss: 0.2293 - accuracy: 0.9036 - val_loss: 0.4558 - val_accuracy: 0.8423\n",
            "Epoch 207/400\n",
            "27645/27645 [==============================] - 4s 149us/step - loss: 0.2293 - accuracy: 0.9031 - val_loss: 0.4542 - val_accuracy: 0.8387\n",
            "Epoch 208/400\n",
            "27645/27645 [==============================] - 4s 150us/step - loss: 0.2289 - accuracy: 0.9024 - val_loss: 0.4566 - val_accuracy: 0.8402\n",
            "Epoch 209/400\n",
            "27645/27645 [==============================] - 4s 151us/step - loss: 0.2285 - accuracy: 0.9036 - val_loss: 0.4552 - val_accuracy: 0.8421\n",
            "Epoch 210/400\n",
            "27645/27645 [==============================] - 4s 153us/step - loss: 0.2292 - accuracy: 0.9026 - val_loss: 0.4575 - val_accuracy: 0.8418\n",
            "Epoch 211/400\n",
            "27645/27645 [==============================] - 4s 148us/step - loss: 0.2283 - accuracy: 0.9029 - val_loss: 0.4628 - val_accuracy: 0.8425\n",
            "Epoch 212/400\n",
            "27645/27645 [==============================] - 4s 145us/step - loss: 0.2290 - accuracy: 0.9039 - val_loss: 0.4534 - val_accuracy: 0.8418\n",
            "Epoch 213/400\n",
            "27645/27645 [==============================] - 4s 145us/step - loss: 0.2280 - accuracy: 0.9036 - val_loss: 0.4582 - val_accuracy: 0.8397\n",
            "Epoch 214/400\n",
            "27645/27645 [==============================] - 4s 144us/step - loss: 0.2287 - accuracy: 0.9033 - val_loss: 0.4568 - val_accuracy: 0.8356\n",
            "Epoch 215/400\n",
            "27645/27645 [==============================] - 4s 147us/step - loss: 0.2283 - accuracy: 0.9025 - val_loss: 0.4653 - val_accuracy: 0.8440\n",
            "Epoch 216/400\n",
            "27645/27645 [==============================] - 4s 145us/step - loss: 0.2283 - accuracy: 0.9035 - val_loss: 0.4564 - val_accuracy: 0.8403\n",
            "Epoch 217/400\n",
            "27645/27645 [==============================] - 4s 145us/step - loss: 0.2289 - accuracy: 0.9038 - val_loss: 0.4588 - val_accuracy: 0.8424\n",
            "Epoch 218/400\n",
            "27645/27645 [==============================] - 4s 147us/step - loss: 0.2280 - accuracy: 0.9024 - val_loss: 0.4544 - val_accuracy: 0.8375\n",
            "Epoch 219/400\n",
            "27645/27645 [==============================] - 4s 149us/step - loss: 0.2280 - accuracy: 0.9035 - val_loss: 0.4597 - val_accuracy: 0.8407\n",
            "Epoch 220/400\n",
            "27645/27645 [==============================] - 4s 146us/step - loss: 0.2284 - accuracy: 0.9040 - val_loss: 0.4624 - val_accuracy: 0.8465\n",
            "Epoch 221/400\n",
            "27645/27645 [==============================] - 4s 152us/step - loss: 0.2276 - accuracy: 0.9034 - val_loss: 0.4607 - val_accuracy: 0.8397\n",
            "Epoch 222/400\n",
            "27645/27645 [==============================] - 4s 151us/step - loss: 0.2275 - accuracy: 0.9038 - val_loss: 0.4602 - val_accuracy: 0.8433\n",
            "Epoch 223/400\n",
            "27645/27645 [==============================] - 4s 155us/step - loss: 0.2277 - accuracy: 0.9035 - val_loss: 0.4591 - val_accuracy: 0.8426\n",
            "Epoch 224/400\n",
            "27645/27645 [==============================] - 4s 153us/step - loss: 0.2283 - accuracy: 0.9038 - val_loss: 0.4610 - val_accuracy: 0.8415\n",
            "Epoch 225/400\n",
            "27645/27645 [==============================] - 4s 152us/step - loss: 0.2272 - accuracy: 0.9031 - val_loss: 0.4550 - val_accuracy: 0.8416\n",
            "Epoch 226/400\n",
            "27645/27645 [==============================] - 4s 145us/step - loss: 0.2279 - accuracy: 0.9039 - val_loss: 0.4592 - val_accuracy: 0.8391\n",
            "Epoch 227/400\n",
            "27645/27645 [==============================] - 4s 146us/step - loss: 0.2284 - accuracy: 0.9036 - val_loss: 0.4605 - val_accuracy: 0.8402\n",
            "Epoch 228/400\n",
            "27645/27645 [==============================] - 4s 146us/step - loss: 0.2272 - accuracy: 0.9031 - val_loss: 0.4561 - val_accuracy: 0.8393\n",
            "Epoch 229/400\n",
            "27645/27645 [==============================] - 4s 149us/step - loss: 0.2274 - accuracy: 0.9041 - val_loss: 0.4555 - val_accuracy: 0.8394\n",
            "Epoch 230/400\n",
            "27645/27645 [==============================] - 4s 147us/step - loss: 0.2265 - accuracy: 0.9046 - val_loss: 0.4603 - val_accuracy: 0.8421\n",
            "Epoch 231/400\n",
            "27645/27645 [==============================] - 4s 145us/step - loss: 0.2269 - accuracy: 0.9048 - val_loss: 0.4678 - val_accuracy: 0.8427\n",
            "Epoch 232/400\n",
            "27645/27645 [==============================] - 4s 146us/step - loss: 0.2281 - accuracy: 0.9028 - val_loss: 0.4571 - val_accuracy: 0.8406\n",
            "Epoch 233/400\n",
            "27645/27645 [==============================] - 4s 151us/step - loss: 0.2269 - accuracy: 0.9031 - val_loss: 0.4589 - val_accuracy: 0.8362\n",
            "Epoch 234/400\n",
            "27645/27645 [==============================] - 4s 156us/step - loss: 0.2267 - accuracy: 0.9048 - val_loss: 0.4647 - val_accuracy: 0.8419\n",
            "Epoch 235/400\n",
            "27645/27645 [==============================] - 4s 152us/step - loss: 0.2273 - accuracy: 0.9041 - val_loss: 0.4581 - val_accuracy: 0.8445\n",
            "Epoch 236/400\n",
            "27645/27645 [==============================] - 4s 151us/step - loss: 0.2276 - accuracy: 0.9039 - val_loss: 0.4627 - val_accuracy: 0.8375\n",
            "Epoch 237/400\n",
            "27645/27645 [==============================] - 4s 146us/step - loss: 0.2261 - accuracy: 0.9051 - val_loss: 0.4627 - val_accuracy: 0.8425\n",
            "Epoch 238/400\n",
            "27645/27645 [==============================] - 4s 148us/step - loss: 0.2278 - accuracy: 0.9039 - val_loss: 0.4639 - val_accuracy: 0.8407\n",
            "Epoch 239/400\n",
            "27645/27645 [==============================] - 4s 144us/step - loss: 0.2276 - accuracy: 0.9041 - val_loss: 0.4603 - val_accuracy: 0.8418\n",
            "Epoch 240/400\n",
            "27645/27645 [==============================] - 4s 150us/step - loss: 0.2265 - accuracy: 0.9051 - val_loss: 0.4624 - val_accuracy: 0.8420\n",
            "Epoch 241/400\n",
            "27645/27645 [==============================] - 4s 145us/step - loss: 0.2267 - accuracy: 0.9038 - val_loss: 0.4663 - val_accuracy: 0.8405\n",
            "Epoch 242/400\n",
            "27645/27645 [==============================] - 4s 144us/step - loss: 0.2268 - accuracy: 0.9034 - val_loss: 0.4614 - val_accuracy: 0.8376\n",
            "Epoch 243/400\n",
            "27645/27645 [==============================] - 4s 144us/step - loss: 0.2275 - accuracy: 0.9034 - val_loss: 0.4611 - val_accuracy: 0.8380\n",
            "Epoch 244/400\n",
            "27645/27645 [==============================] - 4s 144us/step - loss: 0.2261 - accuracy: 0.9040 - val_loss: 0.4582 - val_accuracy: 0.8397\n",
            "Epoch 245/400\n",
            "27645/27645 [==============================] - 4s 146us/step - loss: 0.2268 - accuracy: 0.9032 - val_loss: 0.4704 - val_accuracy: 0.8382\n",
            "Epoch 246/400\n",
            "27645/27645 [==============================] - 4s 144us/step - loss: 0.2268 - accuracy: 0.9032 - val_loss: 0.4730 - val_accuracy: 0.8397\n",
            "Epoch 247/400\n",
            "27645/27645 [==============================] - 4s 143us/step - loss: 0.2272 - accuracy: 0.9033 - val_loss: 0.4557 - val_accuracy: 0.8404\n",
            "Epoch 248/400\n",
            "27645/27645 [==============================] - 4s 148us/step - loss: 0.2271 - accuracy: 0.9035 - val_loss: 0.4631 - val_accuracy: 0.8400\n",
            "Epoch 249/400\n",
            "27645/27645 [==============================] - 4s 144us/step - loss: 0.2259 - accuracy: 0.9056 - val_loss: 0.4609 - val_accuracy: 0.8396\n",
            "Epoch 250/400\n",
            "27645/27645 [==============================] - 4s 146us/step - loss: 0.2264 - accuracy: 0.9033 - val_loss: 0.4621 - val_accuracy: 0.8388\n",
            "Epoch 251/400\n",
            "27645/27645 [==============================] - 4s 155us/step - loss: 0.2266 - accuracy: 0.9025 - val_loss: 0.4617 - val_accuracy: 0.8388\n",
            "Epoch 252/400\n",
            "27645/27645 [==============================] - 4s 150us/step - loss: 0.2266 - accuracy: 0.9027 - val_loss: 0.4599 - val_accuracy: 0.8391\n",
            "Epoch 253/400\n",
            "27645/27645 [==============================] - 4s 145us/step - loss: 0.2269 - accuracy: 0.9038 - val_loss: 0.4602 - val_accuracy: 0.8389\n",
            "Epoch 254/400\n",
            "27645/27645 [==============================] - 4s 152us/step - loss: 0.2261 - accuracy: 0.9045 - val_loss: 0.4664 - val_accuracy: 0.8440\n",
            "Epoch 255/400\n",
            "27645/27645 [==============================] - 4s 158us/step - loss: 0.2260 - accuracy: 0.9028 - val_loss: 0.4641 - val_accuracy: 0.8365\n",
            "Epoch 256/400\n",
            "27645/27645 [==============================] - 4s 156us/step - loss: 0.2263 - accuracy: 0.9035 - val_loss: 0.4627 - val_accuracy: 0.8409\n",
            "Epoch 257/400\n",
            "27645/27645 [==============================] - 4s 144us/step - loss: 0.2274 - accuracy: 0.9040 - val_loss: 0.4612 - val_accuracy: 0.8375\n",
            "Epoch 258/400\n",
            "27645/27645 [==============================] - 4s 148us/step - loss: 0.2264 - accuracy: 0.9035 - val_loss: 0.4671 - val_accuracy: 0.8409\n",
            "Epoch 259/400\n",
            "27645/27645 [==============================] - 4s 151us/step - loss: 0.2261 - accuracy: 0.9045 - val_loss: 0.4627 - val_accuracy: 0.8396\n",
            "Epoch 260/400\n",
            "27645/27645 [==============================] - 4s 146us/step - loss: 0.2265 - accuracy: 0.9031 - val_loss: 0.4631 - val_accuracy: 0.8406\n",
            "Epoch 261/400\n",
            "27645/27645 [==============================] - 4s 151us/step - loss: 0.2261 - accuracy: 0.9026 - val_loss: 0.4607 - val_accuracy: 0.8394\n",
            "Epoch 262/400\n",
            "27645/27645 [==============================] - 4s 152us/step - loss: 0.2262 - accuracy: 0.9035 - val_loss: 0.4652 - val_accuracy: 0.8379\n",
            "Epoch 263/400\n",
            "27645/27645 [==============================] - 4s 157us/step - loss: 0.2268 - accuracy: 0.9031 - val_loss: 0.4654 - val_accuracy: 0.8369\n",
            "Epoch 264/400\n",
            "27645/27645 [==============================] - 4s 150us/step - loss: 0.2255 - accuracy: 0.9045 - val_loss: 0.4636 - val_accuracy: 0.8367\n",
            "Epoch 265/400\n",
            "27645/27645 [==============================] - 4s 150us/step - loss: 0.2263 - accuracy: 0.9028 - val_loss: 0.4743 - val_accuracy: 0.8407\n",
            "Epoch 266/400\n",
            "27645/27645 [==============================] - 4s 147us/step - loss: 0.2262 - accuracy: 0.9053 - val_loss: 0.4605 - val_accuracy: 0.8368\n",
            "Epoch 267/400\n",
            "27645/27645 [==============================] - 4s 146us/step - loss: 0.2262 - accuracy: 0.9041 - val_loss: 0.4680 - val_accuracy: 0.8341\n",
            "Epoch 268/400\n",
            "27645/27645 [==============================] - 4s 150us/step - loss: 0.2261 - accuracy: 0.9026 - val_loss: 0.4642 - val_accuracy: 0.8402\n",
            "Epoch 269/400\n",
            "27645/27645 [==============================] - 4s 154us/step - loss: 0.2267 - accuracy: 0.9029 - val_loss: 0.4672 - val_accuracy: 0.8352\n",
            "Epoch 270/400\n",
            "27645/27645 [==============================] - 4s 150us/step - loss: 0.2264 - accuracy: 0.9037 - val_loss: 0.4712 - val_accuracy: 0.8364\n",
            "Epoch 271/400\n",
            "27645/27645 [==============================] - 4s 149us/step - loss: 0.2253 - accuracy: 0.9036 - val_loss: 0.4632 - val_accuracy: 0.8380\n",
            "Epoch 272/400\n",
            "27645/27645 [==============================] - 4s 154us/step - loss: 0.2262 - accuracy: 0.9045 - val_loss: 0.4656 - val_accuracy: 0.8379\n",
            "Epoch 273/400\n",
            "27645/27645 [==============================] - 4s 152us/step - loss: 0.2260 - accuracy: 0.9035 - val_loss: 0.4659 - val_accuracy: 0.8418\n",
            "Epoch 274/400\n",
            "27645/27645 [==============================] - 4s 148us/step - loss: 0.2261 - accuracy: 0.9032 - val_loss: 0.4621 - val_accuracy: 0.8366\n",
            "Epoch 275/400\n",
            "27645/27645 [==============================] - 4s 145us/step - loss: 0.2260 - accuracy: 0.9038 - val_loss: 0.4604 - val_accuracy: 0.8377\n",
            "Epoch 276/400\n",
            "27645/27645 [==============================] - 4s 149us/step - loss: 0.2256 - accuracy: 0.9043 - val_loss: 0.4646 - val_accuracy: 0.8353\n",
            "Epoch 277/400\n",
            "27645/27645 [==============================] - 4s 155us/step - loss: 0.2249 - accuracy: 0.9033 - val_loss: 0.4661 - val_accuracy: 0.8388\n",
            "Epoch 278/400\n",
            "27645/27645 [==============================] - 4s 148us/step - loss: 0.2262 - accuracy: 0.9033 - val_loss: 0.4618 - val_accuracy: 0.8375\n",
            "Epoch 279/400\n",
            "27645/27645 [==============================] - 4s 154us/step - loss: 0.2248 - accuracy: 0.9038 - val_loss: 0.4660 - val_accuracy: 0.8402\n",
            "Epoch 280/400\n",
            "27645/27645 [==============================] - 4s 150us/step - loss: 0.2255 - accuracy: 0.9035 - val_loss: 0.4643 - val_accuracy: 0.8373\n",
            "Epoch 281/400\n",
            "27645/27645 [==============================] - 4s 147us/step - loss: 0.2251 - accuracy: 0.9048 - val_loss: 0.4673 - val_accuracy: 0.8386\n",
            "Epoch 282/400\n",
            "27645/27645 [==============================] - 4s 146us/step - loss: 0.2257 - accuracy: 0.9040 - val_loss: 0.4657 - val_accuracy: 0.8386\n",
            "Epoch 283/400\n",
            "27645/27645 [==============================] - 4s 150us/step - loss: 0.2252 - accuracy: 0.9040 - val_loss: 0.4618 - val_accuracy: 0.8380\n",
            "Epoch 284/400\n",
            "27645/27645 [==============================] - 4s 145us/step - loss: 0.2251 - accuracy: 0.9048 - val_loss: 0.4653 - val_accuracy: 0.8386\n",
            "Epoch 285/400\n",
            "27645/27645 [==============================] - 4s 152us/step - loss: 0.2256 - accuracy: 0.9041 - val_loss: 0.4630 - val_accuracy: 0.8398\n",
            "Epoch 286/400\n",
            "27645/27645 [==============================] - 4s 155us/step - loss: 0.2245 - accuracy: 0.9049 - val_loss: 0.4700 - val_accuracy: 0.8406\n",
            "Epoch 287/400\n",
            "27645/27645 [==============================] - 4s 144us/step - loss: 0.2254 - accuracy: 0.9045 - val_loss: 0.4677 - val_accuracy: 0.8380\n",
            "Epoch 288/400\n",
            "27645/27645 [==============================] - 4s 145us/step - loss: 0.2252 - accuracy: 0.9033 - val_loss: 0.4636 - val_accuracy: 0.8366\n",
            "Epoch 289/400\n",
            "27645/27645 [==============================] - 4s 150us/step - loss: 0.2252 - accuracy: 0.9041 - val_loss: 0.4631 - val_accuracy: 0.8376\n",
            "Epoch 290/400\n",
            "27645/27645 [==============================] - 4s 149us/step - loss: 0.2259 - accuracy: 0.9052 - val_loss: 0.4613 - val_accuracy: 0.8400\n",
            "Epoch 291/400\n",
            "27645/27645 [==============================] - 4s 146us/step - loss: 0.2257 - accuracy: 0.9046 - val_loss: 0.4658 - val_accuracy: 0.8392\n",
            "Epoch 292/400\n",
            "27645/27645 [==============================] - 4s 146us/step - loss: 0.2251 - accuracy: 0.9037 - val_loss: 0.4665 - val_accuracy: 0.8396\n",
            "Epoch 293/400\n",
            "27645/27645 [==============================] - 4s 153us/step - loss: 0.2247 - accuracy: 0.9052 - val_loss: 0.4700 - val_accuracy: 0.8361\n",
            "Epoch 294/400\n",
            "27645/27645 [==============================] - 4s 152us/step - loss: 0.2243 - accuracy: 0.9057 - val_loss: 0.4718 - val_accuracy: 0.8381\n",
            "Epoch 295/400\n",
            "27645/27645 [==============================] - 4s 145us/step - loss: 0.2252 - accuracy: 0.9035 - val_loss: 0.4707 - val_accuracy: 0.8401\n",
            "Epoch 296/400\n",
            "27645/27645 [==============================] - 4s 144us/step - loss: 0.2240 - accuracy: 0.9041 - val_loss: 0.4749 - val_accuracy: 0.8377\n",
            "Epoch 297/400\n",
            "27645/27645 [==============================] - 4s 145us/step - loss: 0.2247 - accuracy: 0.9050 - val_loss: 0.4748 - val_accuracy: 0.8402\n",
            "Epoch 298/400\n",
            "27645/27645 [==============================] - 4s 156us/step - loss: 0.2251 - accuracy: 0.9041 - val_loss: 0.4663 - val_accuracy: 0.8364\n",
            "Epoch 299/400\n",
            "27645/27645 [==============================] - 4s 154us/step - loss: 0.2243 - accuracy: 0.9050 - val_loss: 0.4710 - val_accuracy: 0.8386\n",
            "Epoch 300/400\n",
            "27645/27645 [==============================] - 4s 152us/step - loss: 0.2239 - accuracy: 0.9052 - val_loss: 0.4711 - val_accuracy: 0.8353\n",
            "Epoch 301/400\n",
            "27645/27645 [==============================] - 4s 147us/step - loss: 0.2240 - accuracy: 0.9054 - val_loss: 0.4647 - val_accuracy: 0.8366\n",
            "Epoch 302/400\n",
            "27645/27645 [==============================] - 4s 145us/step - loss: 0.2240 - accuracy: 0.9050 - val_loss: 0.4725 - val_accuracy: 0.8399\n",
            "Epoch 303/400\n",
            "27645/27645 [==============================] - 4s 145us/step - loss: 0.2244 - accuracy: 0.9050 - val_loss: 0.4699 - val_accuracy: 0.8393\n",
            "Epoch 304/400\n",
            "27645/27645 [==============================] - 4s 146us/step - loss: 0.2246 - accuracy: 0.9056 - val_loss: 0.4698 - val_accuracy: 0.8405\n",
            "Epoch 305/400\n",
            "27645/27645 [==============================] - 4s 145us/step - loss: 0.2245 - accuracy: 0.9051 - val_loss: 0.4675 - val_accuracy: 0.8389\n",
            "Epoch 306/400\n",
            "27645/27645 [==============================] - 4s 146us/step - loss: 0.2246 - accuracy: 0.9054 - val_loss: 0.4671 - val_accuracy: 0.8383\n",
            "Epoch 307/400\n",
            "27645/27645 [==============================] - 4s 156us/step - loss: 0.2242 - accuracy: 0.9069 - val_loss: 0.4712 - val_accuracy: 0.8412\n",
            "Epoch 308/400\n",
            "27645/27645 [==============================] - 4s 148us/step - loss: 0.2243 - accuracy: 0.9061 - val_loss: 0.4750 - val_accuracy: 0.8413\n",
            "Epoch 309/400\n",
            "27645/27645 [==============================] - 4s 154us/step - loss: 0.2242 - accuracy: 0.9056 - val_loss: 0.4658 - val_accuracy: 0.8384\n",
            "Epoch 310/400\n",
            "27645/27645 [==============================] - 4s 153us/step - loss: 0.2239 - accuracy: 0.9062 - val_loss: 0.4730 - val_accuracy: 0.8389\n",
            "Epoch 311/400\n",
            "27645/27645 [==============================] - 4s 147us/step - loss: 0.2241 - accuracy: 0.9054 - val_loss: 0.4671 - val_accuracy: 0.8409\n",
            "Epoch 312/400\n",
            "27645/27645 [==============================] - 4s 150us/step - loss: 0.2240 - accuracy: 0.9066 - val_loss: 0.4674 - val_accuracy: 0.8384\n",
            "Epoch 313/400\n",
            "27645/27645 [==============================] - 4s 156us/step - loss: 0.2248 - accuracy: 0.9065 - val_loss: 0.4708 - val_accuracy: 0.8405\n",
            "Epoch 314/400\n",
            "27645/27645 [==============================] - 4s 144us/step - loss: 0.2239 - accuracy: 0.9057 - val_loss: 0.4718 - val_accuracy: 0.8429\n",
            "Epoch 315/400\n",
            "27645/27645 [==============================] - 4s 146us/step - loss: 0.2241 - accuracy: 0.9053 - val_loss: 0.4752 - val_accuracy: 0.8394\n",
            "Epoch 316/400\n",
            "27645/27645 [==============================] - 4s 145us/step - loss: 0.2241 - accuracy: 0.9055 - val_loss: 0.4658 - val_accuracy: 0.8374\n",
            "Epoch 317/400\n",
            "27645/27645 [==============================] - 4s 146us/step - loss: 0.2236 - accuracy: 0.9053 - val_loss: 0.4703 - val_accuracy: 0.8420\n",
            "Epoch 318/400\n",
            "27645/27645 [==============================] - 4s 144us/step - loss: 0.2242 - accuracy: 0.9061 - val_loss: 0.4741 - val_accuracy: 0.8407\n",
            "Epoch 319/400\n",
            "27645/27645 [==============================] - 4s 154us/step - loss: 0.2230 - accuracy: 0.9067 - val_loss: 0.4749 - val_accuracy: 0.8386\n",
            "Epoch 320/400\n",
            "27645/27645 [==============================] - 4s 147us/step - loss: 0.2238 - accuracy: 0.9067 - val_loss: 0.4763 - val_accuracy: 0.8412\n",
            "Epoch 321/400\n",
            "27645/27645 [==============================] - 4s 148us/step - loss: 0.2246 - accuracy: 0.9058 - val_loss: 0.4712 - val_accuracy: 0.8418\n",
            "Epoch 322/400\n",
            "27645/27645 [==============================] - 4s 146us/step - loss: 0.2235 - accuracy: 0.9052 - val_loss: 0.4736 - val_accuracy: 0.8396\n",
            "Epoch 323/400\n",
            "27645/27645 [==============================] - 4s 145us/step - loss: 0.2247 - accuracy: 0.9054 - val_loss: 0.4759 - val_accuracy: 0.8315\n",
            "Epoch 324/400\n",
            "27645/27645 [==============================] - 4s 143us/step - loss: 0.2227 - accuracy: 0.9069 - val_loss: 0.4730 - val_accuracy: 0.8359\n",
            "Epoch 325/400\n",
            "27645/27645 [==============================] - 4s 146us/step - loss: 0.2230 - accuracy: 0.9060 - val_loss: 0.4682 - val_accuracy: 0.8378\n",
            "Epoch 326/400\n",
            "27645/27645 [==============================] - 4s 147us/step - loss: 0.2228 - accuracy: 0.9059 - val_loss: 0.4794 - val_accuracy: 0.8307\n",
            "Epoch 327/400\n",
            "27645/27645 [==============================] - 4s 147us/step - loss: 0.2233 - accuracy: 0.9062 - val_loss: 0.4777 - val_accuracy: 0.8380\n",
            "Epoch 328/400\n",
            "27645/27645 [==============================] - 4s 151us/step - loss: 0.2229 - accuracy: 0.9061 - val_loss: 0.4745 - val_accuracy: 0.8394\n",
            "Epoch 329/400\n",
            "27645/27645 [==============================] - 4s 146us/step - loss: 0.2228 - accuracy: 0.9065 - val_loss: 0.4760 - val_accuracy: 0.8359\n",
            "Epoch 330/400\n",
            "27645/27645 [==============================] - 4s 156us/step - loss: 0.2226 - accuracy: 0.9059 - val_loss: 0.4781 - val_accuracy: 0.8369\n",
            "Epoch 331/400\n",
            "27645/27645 [==============================] - 4s 158us/step - loss: 0.2234 - accuracy: 0.9064 - val_loss: 0.4815 - val_accuracy: 0.8404\n",
            "Epoch 332/400\n",
            "27645/27645 [==============================] - 4s 149us/step - loss: 0.2226 - accuracy: 0.9063 - val_loss: 0.4805 - val_accuracy: 0.8402\n",
            "Epoch 333/400\n",
            "27645/27645 [==============================] - 4s 145us/step - loss: 0.2236 - accuracy: 0.9058 - val_loss: 0.4775 - val_accuracy: 0.8385\n",
            "Epoch 334/400\n",
            "27645/27645 [==============================] - 4s 145us/step - loss: 0.2226 - accuracy: 0.9060 - val_loss: 0.4816 - val_accuracy: 0.8363\n",
            "Epoch 335/400\n",
            "27645/27645 [==============================] - 4s 147us/step - loss: 0.2227 - accuracy: 0.9057 - val_loss: 0.4792 - val_accuracy: 0.8386\n",
            "Epoch 336/400\n",
            "27645/27645 [==============================] - 4s 147us/step - loss: 0.2224 - accuracy: 0.9063 - val_loss: 0.4829 - val_accuracy: 0.8381\n",
            "Epoch 337/400\n",
            "27645/27645 [==============================] - 4s 151us/step - loss: 0.2238 - accuracy: 0.9052 - val_loss: 0.4806 - val_accuracy: 0.8413\n",
            "Epoch 338/400\n",
            "27645/27645 [==============================] - 4s 149us/step - loss: 0.2240 - accuracy: 0.9051 - val_loss: 0.4776 - val_accuracy: 0.8354\n",
            "Epoch 339/400\n",
            "27645/27645 [==============================] - 4s 145us/step - loss: 0.2226 - accuracy: 0.9060 - val_loss: 0.4765 - val_accuracy: 0.8382\n",
            "Epoch 340/400\n",
            "27645/27645 [==============================] - 4s 144us/step - loss: 0.2223 - accuracy: 0.9059 - val_loss: 0.4860 - val_accuracy: 0.8392\n",
            "Epoch 341/400\n",
            "27645/27645 [==============================] - 4s 147us/step - loss: 0.2229 - accuracy: 0.9054 - val_loss: 0.4779 - val_accuracy: 0.8399\n",
            "Epoch 342/400\n",
            "27645/27645 [==============================] - 4s 151us/step - loss: 0.2233 - accuracy: 0.9056 - val_loss: 0.4813 - val_accuracy: 0.8359\n",
            "Epoch 343/400\n",
            "27645/27645 [==============================] - 4s 148us/step - loss: 0.2229 - accuracy: 0.9053 - val_loss: 0.4821 - val_accuracy: 0.8379\n",
            "Epoch 344/400\n",
            "27645/27645 [==============================] - 4s 148us/step - loss: 0.2220 - accuracy: 0.9061 - val_loss: 0.4887 - val_accuracy: 0.8416\n",
            "Epoch 345/400\n",
            "27645/27645 [==============================] - 4s 145us/step - loss: 0.2230 - accuracy: 0.9057 - val_loss: 0.4865 - val_accuracy: 0.8415\n",
            "Epoch 346/400\n",
            "27645/27645 [==============================] - 4s 145us/step - loss: 0.2223 - accuracy: 0.9068 - val_loss: 0.4824 - val_accuracy: 0.8397\n",
            "Epoch 347/400\n",
            "27645/27645 [==============================] - 4s 149us/step - loss: 0.2232 - accuracy: 0.9048 - val_loss: 0.4833 - val_accuracy: 0.8377\n",
            "Epoch 348/400\n",
            "27645/27645 [==============================] - 4s 151us/step - loss: 0.2228 - accuracy: 0.9058 - val_loss: 0.4873 - val_accuracy: 0.8394\n",
            "Epoch 349/400\n",
            "27645/27645 [==============================] - 4s 145us/step - loss: 0.2235 - accuracy: 0.9046 - val_loss: 0.4801 - val_accuracy: 0.8408\n",
            "Epoch 350/400\n",
            "27645/27645 [==============================] - 4s 150us/step - loss: 0.2231 - accuracy: 0.9066 - val_loss: 0.4835 - val_accuracy: 0.8375\n",
            "Epoch 351/400\n",
            "27645/27645 [==============================] - 4s 155us/step - loss: 0.2228 - accuracy: 0.9046 - val_loss: 0.4760 - val_accuracy: 0.8347\n",
            "Epoch 352/400\n",
            "27645/27645 [==============================] - 4s 153us/step - loss: 0.2225 - accuracy: 0.9064 - val_loss: 0.4802 - val_accuracy: 0.8367\n",
            "Epoch 353/400\n",
            "27645/27645 [==============================] - 4s 145us/step - loss: 0.2221 - accuracy: 0.9057 - val_loss: 0.4778 - val_accuracy: 0.8373\n",
            "Epoch 354/400\n",
            "27645/27645 [==============================] - 4s 145us/step - loss: 0.2221 - accuracy: 0.9069 - val_loss: 0.4813 - val_accuracy: 0.8354\n",
            "Epoch 355/400\n",
            "27645/27645 [==============================] - 4s 145us/step - loss: 0.2215 - accuracy: 0.9064 - val_loss: 0.4777 - val_accuracy: 0.8358\n",
            "Epoch 356/400\n",
            "27645/27645 [==============================] - 4s 148us/step - loss: 0.2227 - accuracy: 0.9065 - val_loss: 0.4832 - val_accuracy: 0.8402\n",
            "Epoch 357/400\n",
            "27645/27645 [==============================] - 4s 146us/step - loss: 0.2224 - accuracy: 0.9053 - val_loss: 0.4786 - val_accuracy: 0.8386\n",
            "Epoch 358/400\n",
            "27645/27645 [==============================] - 4s 149us/step - loss: 0.2227 - accuracy: 0.9061 - val_loss: 0.4871 - val_accuracy: 0.8337\n",
            "Epoch 359/400\n",
            "27645/27645 [==============================] - 4s 145us/step - loss: 0.2215 - accuracy: 0.9069 - val_loss: 0.4908 - val_accuracy: 0.8374\n",
            "Epoch 360/400\n",
            "27645/27645 [==============================] - 4s 145us/step - loss: 0.2217 - accuracy: 0.9057 - val_loss: 0.4869 - val_accuracy: 0.8402\n",
            "Epoch 361/400\n",
            "27645/27645 [==============================] - 4s 144us/step - loss: 0.2227 - accuracy: 0.9062 - val_loss: 0.4796 - val_accuracy: 0.8386\n",
            "Epoch 362/400\n",
            "27645/27645 [==============================] - 4s 146us/step - loss: 0.2212 - accuracy: 0.9067 - val_loss: 0.4888 - val_accuracy: 0.8391\n",
            "Epoch 363/400\n",
            "27645/27645 [==============================] - 4s 145us/step - loss: 0.2215 - accuracy: 0.9060 - val_loss: 0.4923 - val_accuracy: 0.8403\n",
            "Epoch 364/400\n",
            "27645/27645 [==============================] - 4s 155us/step - loss: 0.2216 - accuracy: 0.9070 - val_loss: 0.4825 - val_accuracy: 0.8413\n",
            "Epoch 365/400\n",
            "27645/27645 [==============================] - 4s 148us/step - loss: 0.2223 - accuracy: 0.9060 - val_loss: 0.4881 - val_accuracy: 0.8372\n",
            "Epoch 366/400\n",
            "27645/27645 [==============================] - 4s 148us/step - loss: 0.2228 - accuracy: 0.9059 - val_loss: 0.4838 - val_accuracy: 0.8370\n",
            "Epoch 367/400\n",
            "27645/27645 [==============================] - 4s 149us/step - loss: 0.2215 - accuracy: 0.9061 - val_loss: 0.4886 - val_accuracy: 0.8373\n",
            "Epoch 368/400\n",
            "27645/27645 [==============================] - 4s 148us/step - loss: 0.2213 - accuracy: 0.9061 - val_loss: 0.4873 - val_accuracy: 0.8391\n",
            "Epoch 369/400\n",
            "27645/27645 [==============================] - 4s 145us/step - loss: 0.2211 - accuracy: 0.9076 - val_loss: 0.4889 - val_accuracy: 0.8397\n",
            "Epoch 370/400\n",
            "27645/27645 [==============================] - 4s 146us/step - loss: 0.2217 - accuracy: 0.9069 - val_loss: 0.4876 - val_accuracy: 0.8375\n",
            "Epoch 371/400\n",
            "27645/27645 [==============================] - 4s 154us/step - loss: 0.2220 - accuracy: 0.9061 - val_loss: 0.4847 - val_accuracy: 0.8379\n",
            "Epoch 372/400\n",
            "27645/27645 [==============================] - 4s 146us/step - loss: 0.2220 - accuracy: 0.9058 - val_loss: 0.4908 - val_accuracy: 0.8348\n",
            "Epoch 373/400\n",
            "27645/27645 [==============================] - 4s 155us/step - loss: 0.2221 - accuracy: 0.9067 - val_loss: 0.4893 - val_accuracy: 0.8345\n",
            "Epoch 374/400\n",
            "27645/27645 [==============================] - 4s 146us/step - loss: 0.2220 - accuracy: 0.9066 - val_loss: 0.4932 - val_accuracy: 0.8360\n",
            "Epoch 375/400\n",
            "27645/27645 [==============================] - 4s 153us/step - loss: 0.2217 - accuracy: 0.9072 - val_loss: 0.4862 - val_accuracy: 0.8383\n",
            "Epoch 376/400\n",
            "27645/27645 [==============================] - 4s 154us/step - loss: 0.2219 - accuracy: 0.9067 - val_loss: 0.4872 - val_accuracy: 0.8356\n",
            "Epoch 377/400\n",
            "27645/27645 [==============================] - 4s 152us/step - loss: 0.2211 - accuracy: 0.9067 - val_loss: 0.4897 - val_accuracy: 0.8377\n",
            "Epoch 378/400\n",
            "27645/27645 [==============================] - 4s 150us/step - loss: 0.2211 - accuracy: 0.9069 - val_loss: 0.4972 - val_accuracy: 0.8378\n",
            "Epoch 379/400\n",
            "27645/27645 [==============================] - 4s 153us/step - loss: 0.2206 - accuracy: 0.9067 - val_loss: 0.4877 - val_accuracy: 0.8356\n",
            "Epoch 380/400\n",
            "27645/27645 [==============================] - 4s 152us/step - loss: 0.2211 - accuracy: 0.9065 - val_loss: 0.4888 - val_accuracy: 0.8364\n",
            "Epoch 381/400\n",
            "27645/27645 [==============================] - 4s 146us/step - loss: 0.2217 - accuracy: 0.9045 - val_loss: 0.4938 - val_accuracy: 0.8399\n",
            "Epoch 382/400\n",
            "27645/27645 [==============================] - 4s 147us/step - loss: 0.2206 - accuracy: 0.9062 - val_loss: 0.4903 - val_accuracy: 0.8358\n",
            "Epoch 383/400\n",
            "27645/27645 [==============================] - 4s 156us/step - loss: 0.2215 - accuracy: 0.9064 - val_loss: 0.4939 - val_accuracy: 0.8370\n",
            "Epoch 384/400\n",
            "27645/27645 [==============================] - 4s 154us/step - loss: 0.2206 - accuracy: 0.9074 - val_loss: 0.4902 - val_accuracy: 0.8356\n",
            "Epoch 385/400\n",
            "27645/27645 [==============================] - 4s 147us/step - loss: 0.2204 - accuracy: 0.9070 - val_loss: 0.4958 - val_accuracy: 0.8365\n",
            "Epoch 386/400\n",
            "27645/27645 [==============================] - 4s 150us/step - loss: 0.2210 - accuracy: 0.9058 - val_loss: 0.4932 - val_accuracy: 0.8309\n",
            "Epoch 387/400\n",
            "27645/27645 [==============================] - 4s 147us/step - loss: 0.2214 - accuracy: 0.9047 - val_loss: 0.4928 - val_accuracy: 0.8375\n",
            "Epoch 388/400\n",
            "27645/27645 [==============================] - 4s 144us/step - loss: 0.2214 - accuracy: 0.9059 - val_loss: 0.4883 - val_accuracy: 0.8384\n",
            "Epoch 389/400\n",
            "27645/27645 [==============================] - 4s 147us/step - loss: 0.2204 - accuracy: 0.9077 - val_loss: 0.4866 - val_accuracy: 0.8335\n",
            "Epoch 390/400\n",
            "27645/27645 [==============================] - 4s 147us/step - loss: 0.2213 - accuracy: 0.9062 - val_loss: 0.4860 - val_accuracy: 0.8361\n",
            "Epoch 391/400\n",
            "27645/27645 [==============================] - 4s 149us/step - loss: 0.2212 - accuracy: 0.9054 - val_loss: 0.4915 - val_accuracy: 0.8386\n",
            "Epoch 392/400\n",
            "27645/27645 [==============================] - 4s 147us/step - loss: 0.2201 - accuracy: 0.9069 - val_loss: 0.4947 - val_accuracy: 0.8383\n",
            "Epoch 393/400\n",
            "27645/27645 [==============================] - 4s 150us/step - loss: 0.2196 - accuracy: 0.9064 - val_loss: 0.4892 - val_accuracy: 0.8347\n",
            "Epoch 394/400\n",
            "27645/27645 [==============================] - 4s 147us/step - loss: 0.2214 - accuracy: 0.9064 - val_loss: 0.4900 - val_accuracy: 0.8399\n",
            "Epoch 395/400\n",
            "27645/27645 [==============================] - 4s 155us/step - loss: 0.2219 - accuracy: 0.9061 - val_loss: 0.4943 - val_accuracy: 0.8346\n",
            "Epoch 396/400\n",
            "27645/27645 [==============================] - 4s 152us/step - loss: 0.2192 - accuracy: 0.9072 - val_loss: 0.4925 - val_accuracy: 0.8361\n",
            "Epoch 397/400\n",
            "27645/27645 [==============================] - 4s 149us/step - loss: 0.2210 - accuracy: 0.9067 - val_loss: 0.4875 - val_accuracy: 0.8384\n",
            "Epoch 398/400\n",
            "27645/27645 [==============================] - 4s 147us/step - loss: 0.2211 - accuracy: 0.9064 - val_loss: 0.4893 - val_accuracy: 0.8350\n",
            "Epoch 399/400\n",
            "27645/27645 [==============================] - 4s 150us/step - loss: 0.2203 - accuracy: 0.9061 - val_loss: 0.4894 - val_accuracy: 0.8349\n",
            "Epoch 400/400\n",
            "27645/27645 [==============================] - 4s 149us/step - loss: 0.2214 - accuracy: 0.9068 - val_loss: 0.4881 - val_accuracy: 0.8387\n"
          ],
          "name": "stdout"
        }
      ]
    },
    {
      "cell_type": "code",
      "metadata": {
        "id": "0tIgSNFOHys-",
        "colab_type": "code",
        "colab": {
          "base_uri": "https://localhost:8080/",
          "height": 87
        },
        "outputId": "f57f2c11-08d4-415f-9a81-94939d9c5934"
      },
      "source": [
        "# Predicting the Test set results\n",
        "y_pred_ann_pca = classifier.predict_classes(X1_test_pca)\n",
        "from sklearn.metrics import confusion_matrix,accuracy_score\n",
        "cm = confusion_matrix(y1_test, y_pred_ann_pca)\n",
        "accu=accuracy_score(y1_test,y_pred_ann_pca)\n",
        "print(cm,\"\\n\")\n",
        "print(\"The accuracy is\",accu)"
      ],
      "execution_count": 34,
      "outputs": [
        {
          "output_type": "stream",
          "text": [
            "[[12108  1050]\n",
            " [ 1718  2050]] \n",
            "\n",
            "The accuracy is 0.836464610658159\n"
          ],
          "name": "stdout"
        }
      ]
    },
    {
      "cell_type": "code",
      "metadata": {
        "id": "BI6D5Mj8Hyqo",
        "colab_type": "code",
        "colab": {
          "base_uri": "https://localhost:8080/",
          "height": 591
        },
        "outputId": "26bc9bae-5bff-44d2-e80a-057811a42055"
      },
      "source": [
        "# list all data in history\n",
        "print(history.history.keys())\n",
        "# summarize history for accuracy\n",
        "plt.plot(history.history['accuracy'])\n",
        "plt.plot(history.history['val_accuracy'])\n",
        "plt.title('model accuracy')\n",
        "plt.ylabel('accuracy')\n",
        "plt.xlabel('epoch')\n",
        "plt.legend(['train', 'test'], loc='upper left')\n",
        "plt.show()\n",
        "# summarize history for loss\n",
        "plt.plot(history.history['loss'])\n",
        "plt.plot(history.history['val_loss'])\n",
        "plt.title('model loss')\n",
        "plt.ylabel('loss')\n",
        "plt.xlabel('epoch')\n",
        "plt.legend(['train', 'test'], loc='upper left')\n",
        "plt.show()"
      ],
      "execution_count": 35,
      "outputs": [
        {
          "output_type": "stream",
          "text": [
            "dict_keys(['val_loss', 'val_accuracy', 'loss', 'accuracy'])\n"
          ],
          "name": "stdout"
        },
        {
          "output_type": "display_data",
          "data": {
            "image/png": "[encoded data removed]",
            "text/plain": [
              "<Figure size 432x288 with 1 Axes>"
            ]
          },
          "metadata": {
            "tags": [],
            "needs_background": "light"
          }
        },
        {
          "output_type": "display_data",
          "data": {
            "image/png": "[encoded data removed]",
            "text/plain": [
              "<Figure size 432x288 with 1 Axes>"
            ]
          },
          "metadata": {
            "tags": [],
            "needs_background": "light"
          }
        }
      ]
    },
    {
      "cell_type": "markdown",
      "metadata": {
        "id": "0CRXxsyJSnbp",
        "colab_type": "text"
      },
      "source": [
        "## TASK 5\n"
      ]
    },
    {
      "cell_type": "code",
      "metadata": {
        "id": "CALBEAl_Sra-",
        "colab_type": "code",
        "colab": {
          "base_uri": "https://localhost:8080/",
          "height": 415
        },
        "outputId": "7b3c1c55-5a35-4d55-c51c-e5b1aa508259"
      },
      "source": [
        "from sklearn.cluster import KMeans\n",
        "\n",
        "kmeans = KMeans(n_clusters = 2, n_init=10, max_iter=300, init = 'k-means++', random_state = 2)\n",
        "prediction = kmeans.fit_predict(X1_train)\n",
        "\n",
        "em = GaussianMixture(n_components=2,random_state=2,covariance_type='tied')\n",
        "em_pred = em.fit_predict(X1_train)\n",
        "em_probs = em.predict_proba(X1_train)\n",
        "\n",
        "train_df = pd.DataFrame()\n",
        "train_df['KM_Pred']=prediction\n",
        "train_df['EM_Prob']=em_probs[:,1]\n",
        "train_df['y']=y1_train\n",
        "train_df"
      ],
      "execution_count": 77,
      "outputs": [
        {
          "output_type": "execute_result",
          "data": {
            "text/html": [
              "<div>\n",
              "<style scoped>\n",
              "    .dataframe tbody tr th:only-of-type {\n",
              "        vertical-align: middle;\n",
              "    }\n",
              "\n",
              "    .dataframe tbody tr th {\n",
              "        vertical-align: top;\n",
              "    }\n",
              "\n",
              "    .dataframe thead th {\n",
              "        text-align: right;\n",
              "    }\n",
              "</style>\n",
              "<table border=\"1\" class=\"dataframe\">\n",
              "  <thead>\n",
              "    <tr style=\"text-align: right;\">\n",
              "      <th></th>\n",
              "      <th>KM_Pred</th>\n",
              "      <th>EM_Prob</th>\n",
              "      <th>y</th>\n",
              "    </tr>\n",
              "  </thead>\n",
              "  <tbody>\n",
              "    <tr>\n",
              "      <th>0</th>\n",
              "      <td>1</td>\n",
              "      <td>0.0</td>\n",
              "      <td>0</td>\n",
              "    </tr>\n",
              "    <tr>\n",
              "      <th>1</th>\n",
              "      <td>0</td>\n",
              "      <td>0.0</td>\n",
              "      <td>0</td>\n",
              "    </tr>\n",
              "    <tr>\n",
              "      <th>2</th>\n",
              "      <td>0</td>\n",
              "      <td>0.0</td>\n",
              "      <td>0</td>\n",
              "    </tr>\n",
              "    <tr>\n",
              "      <th>3</th>\n",
              "      <td>0</td>\n",
              "      <td>0.0</td>\n",
              "      <td>0</td>\n",
              "    </tr>\n",
              "    <tr>\n",
              "      <th>4</th>\n",
              "      <td>0</td>\n",
              "      <td>0.0</td>\n",
              "      <td>0</td>\n",
              "    </tr>\n",
              "    <tr>\n",
              "      <th>...</th>\n",
              "      <td>...</td>\n",
              "      <td>...</td>\n",
              "      <td>...</td>\n",
              "    </tr>\n",
              "    <tr>\n",
              "      <th>39489</th>\n",
              "      <td>0</td>\n",
              "      <td>0.0</td>\n",
              "      <td>0</td>\n",
              "    </tr>\n",
              "    <tr>\n",
              "      <th>39490</th>\n",
              "      <td>1</td>\n",
              "      <td>1.0</td>\n",
              "      <td>0</td>\n",
              "    </tr>\n",
              "    <tr>\n",
              "      <th>39491</th>\n",
              "      <td>1</td>\n",
              "      <td>0.0</td>\n",
              "      <td>1</td>\n",
              "    </tr>\n",
              "    <tr>\n",
              "      <th>39492</th>\n",
              "      <td>1</td>\n",
              "      <td>0.0</td>\n",
              "      <td>0</td>\n",
              "    </tr>\n",
              "    <tr>\n",
              "      <th>39493</th>\n",
              "      <td>0</td>\n",
              "      <td>1.0</td>\n",
              "      <td>0</td>\n",
              "    </tr>\n",
              "  </tbody>\n",
              "</table>\n",
              "<p>39494 rows × 3 columns</p>\n",
              "</div>"
            ],
            "text/plain": [
              "       KM_Pred  EM_Prob  y\n",
              "0            1      0.0  0\n",
              "1            0      0.0  0\n",
              "2            0      0.0  0\n",
              "3            0      0.0  0\n",
              "4            0      0.0  0\n",
              "...        ...      ... ..\n",
              "39489        0      0.0  0\n",
              "39490        1      1.0  0\n",
              "39491        1      0.0  1\n",
              "39492        1      0.0  0\n",
              "39493        0      1.0  0\n",
              "\n",
              "[39494 rows x 3 columns]"
            ]
          },
          "metadata": {
            "tags": []
          },
          "execution_count": 77
        }
      ]
    },
    {
      "cell_type": "code",
      "metadata": {
        "id": "DsAYGsk-SrhU",
        "colab_type": "code",
        "colab": {
          "base_uri": "https://localhost:8080/",
          "height": 415
        },
        "outputId": "e9020066-5a3e-4ff8-b669-a44b5f19e51a"
      },
      "source": [
        "from sklearn.cluster import KMeans\n",
        "\n",
        "kmeans = KMeans(n_clusters = 2, n_init=10, max_iter=300, init = 'k-means++', random_state = 2)\n",
        "prediction = kmeans.fit_predict(X1_test)\n",
        "\n",
        "em = GaussianMixture(n_components=2,random_state=2,covariance_type='tied')\n",
        "em_pred = em.fit_predict(X1_test)\n",
        "em_probs = em.predict_proba(X1_test)\n",
        "\n",
        "test_df = pd.DataFrame()\n",
        "test_df['KM_Pred']=prediction\n",
        "test_df['EM_Prob']=em_probs[:,1]\n",
        "test_df['y']=y1_test\n",
        "test_df"
      ],
      "execution_count": 78,
      "outputs": [
        {
          "output_type": "execute_result",
          "data": {
            "text/html": [
              "<div>\n",
              "<style scoped>\n",
              "    .dataframe tbody tr th:only-of-type {\n",
              "        vertical-align: middle;\n",
              "    }\n",
              "\n",
              "    .dataframe tbody tr th {\n",
              "        vertical-align: top;\n",
              "    }\n",
              "\n",
              "    .dataframe thead th {\n",
              "        text-align: right;\n",
              "    }\n",
              "</style>\n",
              "<table border=\"1\" class=\"dataframe\">\n",
              "  <thead>\n",
              "    <tr style=\"text-align: right;\">\n",
              "      <th></th>\n",
              "      <th>KM_Pred</th>\n",
              "      <th>EM_Prob</th>\n",
              "      <th>y</th>\n",
              "    </tr>\n",
              "  </thead>\n",
              "  <tbody>\n",
              "    <tr>\n",
              "      <th>0</th>\n",
              "      <td>1</td>\n",
              "      <td>0.0</td>\n",
              "      <td>0</td>\n",
              "    </tr>\n",
              "    <tr>\n",
              "      <th>1</th>\n",
              "      <td>0</td>\n",
              "      <td>0.0</td>\n",
              "      <td>0</td>\n",
              "    </tr>\n",
              "    <tr>\n",
              "      <th>2</th>\n",
              "      <td>0</td>\n",
              "      <td>1.0</td>\n",
              "      <td>1</td>\n",
              "    </tr>\n",
              "    <tr>\n",
              "      <th>3</th>\n",
              "      <td>1</td>\n",
              "      <td>0.0</td>\n",
              "      <td>0</td>\n",
              "    </tr>\n",
              "    <tr>\n",
              "      <th>4</th>\n",
              "      <td>1</td>\n",
              "      <td>0.0</td>\n",
              "      <td>0</td>\n",
              "    </tr>\n",
              "    <tr>\n",
              "      <th>...</th>\n",
              "      <td>...</td>\n",
              "      <td>...</td>\n",
              "      <td>...</td>\n",
              "    </tr>\n",
              "    <tr>\n",
              "      <th>16921</th>\n",
              "      <td>1</td>\n",
              "      <td>0.0</td>\n",
              "      <td>0</td>\n",
              "    </tr>\n",
              "    <tr>\n",
              "      <th>16922</th>\n",
              "      <td>1</td>\n",
              "      <td>0.0</td>\n",
              "      <td>0</td>\n",
              "    </tr>\n",
              "    <tr>\n",
              "      <th>16923</th>\n",
              "      <td>0</td>\n",
              "      <td>1.0</td>\n",
              "      <td>0</td>\n",
              "    </tr>\n",
              "    <tr>\n",
              "      <th>16924</th>\n",
              "      <td>1</td>\n",
              "      <td>0.0</td>\n",
              "      <td>0</td>\n",
              "    </tr>\n",
              "    <tr>\n",
              "      <th>16925</th>\n",
              "      <td>1</td>\n",
              "      <td>0.0</td>\n",
              "      <td>0</td>\n",
              "    </tr>\n",
              "  </tbody>\n",
              "</table>\n",
              "<p>16926 rows × 3 columns</p>\n",
              "</div>"
            ],
            "text/plain": [
              "       KM_Pred  EM_Prob  y\n",
              "0            1      0.0  0\n",
              "1            0      0.0  0\n",
              "2            0      1.0  1\n",
              "3            1      0.0  0\n",
              "4            1      0.0  0\n",
              "...        ...      ... ..\n",
              "16921        1      0.0  0\n",
              "16922        1      0.0  0\n",
              "16923        0      1.0  0\n",
              "16924        1      0.0  0\n",
              "16925        1      0.0  0\n",
              "\n",
              "[16926 rows x 3 columns]"
            ]
          },
          "metadata": {
            "tags": []
          },
          "execution_count": 78
        }
      ]
    },
    {
      "cell_type": "code",
      "metadata": {
        "id": "eKfv7lKwSr7S",
        "colab_type": "code",
        "colab": {}
      },
      "source": [
        "#Creating binary classification target variable\n",
        "train_y=train_df[['y']].values\n",
        "train_x=train_df.drop(columns=['y'],axis=1).values\n",
        "test_y=test_df[['y']]\n",
        "test_x=test_df.drop(columns=['y'],axis=1)"
      ],
      "execution_count": 0,
      "outputs": []
    },
    {
      "cell_type": "code",
      "metadata": {
        "id": "QaGQ-WdBSr4A",
        "colab_type": "code",
        "colab": {
          "base_uri": "https://localhost:8080/",
          "height": 1000
        },
        "outputId": "9d24e1be-49e5-400f-89f6-b1637f2ac7d5"
      },
      "source": [
        "# Initialising the ANN\n",
        "classifier = Sequential()\n",
        "\n",
        "# Adding the input layer and the first hidden layer\n",
        "classifier.add(Dense(32,activation=\"softmax\"))\n",
        "\n",
        "# Adding the second hidden layer\n",
        "classifier.add(Dense(16,activation=\"softmax\"))\n",
        "\n",
        "# Adding the output layer\n",
        "classifier.add(Dense(1,activation=\"sigmoid\"))\n",
        "\n",
        "# Compiling the ANN\n",
        "classifier.compile(optimizer = 'adam', loss = 'binary_crossentropy', metrics = ['accuracy'])\n",
        "\n",
        "# Fitting the ANN to the Training set\n",
        "history=classifier.fit(train_x, train_y, batch_size = 10, epochs=100,validation_split=0.3)"
      ],
      "execution_count": 80,
      "outputs": [
        {
          "output_type": "stream",
          "text": [
            "Train on 27645 samples, validate on 11849 samples\n",
            "Epoch 1/100\n",
            "27645/27645 [==============================] - 5s 165us/step - loss: 0.5281 - accuracy: 0.7815 - val_loss: 0.5071 - val_accuracy: 0.7790\n",
            "Epoch 2/100\n",
            "27645/27645 [==============================] - 5s 163us/step - loss: 0.5009 - accuracy: 0.7815 - val_loss: 0.5005 - val_accuracy: 0.7790\n",
            "Epoch 3/100\n",
            "27645/27645 [==============================] - 4s 163us/step - loss: 0.4993 - accuracy: 0.7815 - val_loss: 0.4993 - val_accuracy: 0.7790\n",
            "Epoch 4/100\n",
            "27645/27645 [==============================] - 5s 164us/step - loss: 0.4982 - accuracy: 0.7815 - val_loss: 0.4979 - val_accuracy: 0.7790\n",
            "Epoch 5/100\n",
            "27645/27645 [==============================] - 5s 164us/step - loss: 0.4974 - accuracy: 0.7815 - val_loss: 0.4973 - val_accuracy: 0.7790\n",
            "Epoch 6/100\n",
            "27645/27645 [==============================] - 5s 166us/step - loss: 0.4972 - accuracy: 0.7815 - val_loss: 0.4972 - val_accuracy: 0.7790\n",
            "Epoch 7/100\n",
            "27645/27645 [==============================] - 5s 167us/step - loss: 0.4973 - accuracy: 0.7815 - val_loss: 0.4971 - val_accuracy: 0.7790\n",
            "Epoch 8/100\n",
            "27645/27645 [==============================] - 5s 168us/step - loss: 0.4972 - accuracy: 0.7815 - val_loss: 0.4970 - val_accuracy: 0.7790\n",
            "Epoch 9/100\n",
            "27645/27645 [==============================] - 5s 164us/step - loss: 0.4972 - accuracy: 0.7815 - val_loss: 0.4970 - val_accuracy: 0.7790\n",
            "Epoch 10/100\n",
            "27645/27645 [==============================] - 5s 168us/step - loss: 0.4971 - accuracy: 0.7815 - val_loss: 0.4972 - val_accuracy: 0.7790\n",
            "Epoch 11/100\n",
            "27645/27645 [==============================] - 5s 165us/step - loss: 0.4971 - accuracy: 0.7815 - val_loss: 0.4973 - val_accuracy: 0.7790\n",
            "Epoch 12/100\n",
            "27645/27645 [==============================] - 5s 166us/step - loss: 0.4971 - accuracy: 0.7815 - val_loss: 0.4969 - val_accuracy: 0.7790\n",
            "Epoch 13/100\n",
            "27645/27645 [==============================] - 5s 167us/step - loss: 0.4971 - accuracy: 0.7815 - val_loss: 0.4973 - val_accuracy: 0.7790\n",
            "Epoch 14/100\n",
            "27645/27645 [==============================] - 5s 165us/step - loss: 0.4971 - accuracy: 0.7815 - val_loss: 0.4969 - val_accuracy: 0.7790\n",
            "Epoch 15/100\n",
            "27645/27645 [==============================] - 5s 166us/step - loss: 0.4971 - accuracy: 0.7815 - val_loss: 0.4969 - val_accuracy: 0.7790\n",
            "Epoch 16/100\n",
            "27645/27645 [==============================] - 5s 164us/step - loss: 0.4970 - accuracy: 0.7815 - val_loss: 0.4973 - val_accuracy: 0.7790\n",
            "Epoch 17/100\n",
            "27645/27645 [==============================] - 5s 167us/step - loss: 0.4971 - accuracy: 0.7815 - val_loss: 0.4970 - val_accuracy: 0.7790\n",
            "Epoch 18/100\n",
            "27645/27645 [==============================] - 5s 166us/step - loss: 0.4971 - accuracy: 0.7815 - val_loss: 0.4968 - val_accuracy: 0.7790\n",
            "Epoch 19/100\n",
            "27645/27645 [==============================] - 5s 167us/step - loss: 0.4970 - accuracy: 0.7815 - val_loss: 0.4973 - val_accuracy: 0.7790\n",
            "Epoch 20/100\n",
            "27645/27645 [==============================] - 5s 164us/step - loss: 0.4970 - accuracy: 0.7815 - val_loss: 0.4969 - val_accuracy: 0.7790\n",
            "Epoch 21/100\n",
            "27645/27645 [==============================] - 5s 167us/step - loss: 0.4971 - accuracy: 0.7815 - val_loss: 0.4968 - val_accuracy: 0.7790\n",
            "Epoch 22/100\n",
            "27645/27645 [==============================] - 4s 163us/step - loss: 0.4971 - accuracy: 0.7815 - val_loss: 0.4968 - val_accuracy: 0.7790\n",
            "Epoch 23/100\n",
            "27645/27645 [==============================] - 5s 164us/step - loss: 0.4970 - accuracy: 0.7815 - val_loss: 0.4970 - val_accuracy: 0.7790\n",
            "Epoch 24/100\n",
            "27645/27645 [==============================] - 5s 165us/step - loss: 0.4970 - accuracy: 0.7815 - val_loss: 0.4968 - val_accuracy: 0.7790\n",
            "Epoch 25/100\n",
            "27645/27645 [==============================] - 5s 167us/step - loss: 0.4971 - accuracy: 0.7815 - val_loss: 0.4969 - val_accuracy: 0.7790\n",
            "Epoch 26/100\n",
            "27645/27645 [==============================] - 5s 166us/step - loss: 0.4970 - accuracy: 0.7815 - val_loss: 0.4968 - val_accuracy: 0.7790\n",
            "Epoch 27/100\n",
            "27645/27645 [==============================] - 5s 171us/step - loss: 0.4971 - accuracy: 0.7815 - val_loss: 0.4968 - val_accuracy: 0.7790\n",
            "Epoch 28/100\n",
            "27645/27645 [==============================] - 5s 167us/step - loss: 0.4970 - accuracy: 0.7815 - val_loss: 0.4972 - val_accuracy: 0.7790\n",
            "Epoch 29/100\n",
            "27645/27645 [==============================] - 5s 164us/step - loss: 0.4971 - accuracy: 0.7815 - val_loss: 0.4973 - val_accuracy: 0.7790\n",
            "Epoch 30/100\n",
            "27645/27645 [==============================] - 7s 237us/step - loss: 0.4971 - accuracy: 0.7815 - val_loss: 0.4972 - val_accuracy: 0.7790\n",
            "Epoch 31/100\n",
            "27645/27645 [==============================] - 4s 161us/step - loss: 0.4970 - accuracy: 0.7815 - val_loss: 0.4970 - val_accuracy: 0.7790\n",
            "Epoch 32/100\n",
            "27645/27645 [==============================] - 5s 166us/step - loss: 0.4971 - accuracy: 0.7815 - val_loss: 0.4974 - val_accuracy: 0.7790\n",
            "Epoch 33/100\n",
            "27645/27645 [==============================] - 5s 163us/step - loss: 0.4970 - accuracy: 0.7815 - val_loss: 0.4970 - val_accuracy: 0.7790\n",
            "Epoch 34/100\n",
            "27645/27645 [==============================] - 4s 162us/step - loss: 0.4971 - accuracy: 0.7815 - val_loss: 0.4970 - val_accuracy: 0.7790\n",
            "Epoch 35/100\n",
            "27645/27645 [==============================] - 5s 164us/step - loss: 0.4970 - accuracy: 0.7815 - val_loss: 0.4969 - val_accuracy: 0.7790\n",
            "Epoch 36/100\n",
            "27645/27645 [==============================] - 5s 163us/step - loss: 0.4971 - accuracy: 0.7815 - val_loss: 0.4968 - val_accuracy: 0.7790\n",
            "Epoch 37/100\n",
            "27645/27645 [==============================] - 5s 164us/step - loss: 0.4971 - accuracy: 0.7815 - val_loss: 0.4968 - val_accuracy: 0.7790\n",
            "Epoch 38/100\n",
            "27645/27645 [==============================] - 4s 162us/step - loss: 0.4971 - accuracy: 0.7815 - val_loss: 0.4968 - val_accuracy: 0.7790\n",
            "Epoch 39/100\n",
            "27645/27645 [==============================] - 5s 164us/step - loss: 0.4970 - accuracy: 0.7815 - val_loss: 0.4968 - val_accuracy: 0.7790\n",
            "Epoch 40/100\n",
            "27645/27645 [==============================] - 5s 164us/step - loss: 0.4971 - accuracy: 0.7815 - val_loss: 0.4970 - val_accuracy: 0.7790\n",
            "Epoch 41/100\n",
            "27645/27645 [==============================] - 5s 166us/step - loss: 0.4971 - accuracy: 0.7815 - val_loss: 0.4971 - val_accuracy: 0.7790\n",
            "Epoch 42/100\n",
            "27645/27645 [==============================] - 4s 163us/step - loss: 0.4971 - accuracy: 0.7815 - val_loss: 0.4968 - val_accuracy: 0.7790\n",
            "Epoch 43/100\n",
            "27645/27645 [==============================] - 5s 164us/step - loss: 0.4971 - accuracy: 0.7815 - val_loss: 0.4968 - val_accuracy: 0.7790\n",
            "Epoch 44/100\n",
            "27645/27645 [==============================] - 5s 168us/step - loss: 0.4970 - accuracy: 0.7815 - val_loss: 0.4968 - val_accuracy: 0.7790\n",
            "Epoch 45/100\n",
            "27645/27645 [==============================] - 5s 165us/step - loss: 0.4970 - accuracy: 0.7815 - val_loss: 0.4971 - val_accuracy: 0.7790\n",
            "Epoch 46/100\n",
            "27645/27645 [==============================] - 5s 166us/step - loss: 0.4971 - accuracy: 0.7815 - val_loss: 0.4968 - val_accuracy: 0.7790\n",
            "Epoch 47/100\n",
            "27645/27645 [==============================] - 5s 166us/step - loss: 0.4970 - accuracy: 0.7815 - val_loss: 0.4968 - val_accuracy: 0.7790\n",
            "Epoch 48/100\n",
            "27645/27645 [==============================] - 5s 165us/step - loss: 0.4971 - accuracy: 0.7815 - val_loss: 0.4970 - val_accuracy: 0.7790\n",
            "Epoch 49/100\n",
            "27645/27645 [==============================] - 5s 165us/step - loss: 0.4969 - accuracy: 0.7815 - val_loss: 0.4969 - val_accuracy: 0.7790\n",
            "Epoch 50/100\n",
            "27645/27645 [==============================] - 5s 167us/step - loss: 0.4971 - accuracy: 0.7815 - val_loss: 0.4969 - val_accuracy: 0.7790\n",
            "Epoch 51/100\n",
            "27645/27645 [==============================] - 5s 168us/step - loss: 0.4970 - accuracy: 0.7815 - val_loss: 0.4968 - val_accuracy: 0.7790\n",
            "Epoch 52/100\n",
            "27645/27645 [==============================] - 5s 165us/step - loss: 0.4970 - accuracy: 0.7815 - val_loss: 0.4968 - val_accuracy: 0.7790\n",
            "Epoch 53/100\n",
            "27645/27645 [==============================] - 5s 168us/step - loss: 0.4970 - accuracy: 0.7815 - val_loss: 0.4970 - val_accuracy: 0.7790\n",
            "Epoch 54/100\n",
            "27645/27645 [==============================] - 5s 165us/step - loss: 0.4971 - accuracy: 0.7815 - val_loss: 0.4968 - val_accuracy: 0.7790\n",
            "Epoch 55/100\n",
            "27645/27645 [==============================] - 5s 168us/step - loss: 0.4971 - accuracy: 0.7815 - val_loss: 0.4970 - val_accuracy: 0.7790\n",
            "Epoch 56/100\n",
            "27645/27645 [==============================] - 5s 165us/step - loss: 0.4970 - accuracy: 0.7815 - val_loss: 0.4971 - val_accuracy: 0.7790\n",
            "Epoch 57/100\n",
            "27645/27645 [==============================] - 5s 170us/step - loss: 0.4971 - accuracy: 0.7815 - val_loss: 0.4971 - val_accuracy: 0.7790\n",
            "Epoch 58/100\n",
            "27645/27645 [==============================] - 5s 167us/step - loss: 0.4971 - accuracy: 0.7815 - val_loss: 0.4968 - val_accuracy: 0.7790\n",
            "Epoch 59/100\n",
            "27645/27645 [==============================] - 5s 167us/step - loss: 0.4970 - accuracy: 0.7815 - val_loss: 0.4970 - val_accuracy: 0.7790\n",
            "Epoch 60/100\n",
            "27645/27645 [==============================] - 5s 166us/step - loss: 0.4971 - accuracy: 0.7815 - val_loss: 0.4969 - val_accuracy: 0.7790\n",
            "Epoch 61/100\n",
            "27645/27645 [==============================] - 5s 168us/step - loss: 0.4970 - accuracy: 0.7815 - val_loss: 0.4974 - val_accuracy: 0.7790\n",
            "Epoch 62/100\n",
            "27645/27645 [==============================] - 5s 179us/step - loss: 0.4971 - accuracy: 0.7815 - val_loss: 0.4972 - val_accuracy: 0.7790\n",
            "Epoch 63/100\n",
            "27645/27645 [==============================] - 5s 175us/step - loss: 0.4971 - accuracy: 0.7815 - val_loss: 0.4969 - val_accuracy: 0.7790\n",
            "Epoch 64/100\n",
            "27645/27645 [==============================] - 5s 171us/step - loss: 0.4971 - accuracy: 0.7815 - val_loss: 0.4970 - val_accuracy: 0.7790\n",
            "Epoch 65/100\n",
            "27645/27645 [==============================] - 5s 184us/step - loss: 0.4971 - accuracy: 0.7815 - val_loss: 0.4970 - val_accuracy: 0.7790\n",
            "Epoch 66/100\n",
            "27645/27645 [==============================] - 5s 171us/step - loss: 0.4970 - accuracy: 0.7815 - val_loss: 0.4968 - val_accuracy: 0.7790\n",
            "Epoch 67/100\n",
            "27645/27645 [==============================] - 5s 169us/step - loss: 0.4971 - accuracy: 0.7815 - val_loss: 0.4968 - val_accuracy: 0.7790\n",
            "Epoch 68/100\n",
            "27645/27645 [==============================] - 5s 166us/step - loss: 0.4970 - accuracy: 0.7815 - val_loss: 0.4969 - val_accuracy: 0.7790\n",
            "Epoch 69/100\n",
            "27645/27645 [==============================] - 5s 167us/step - loss: 0.4971 - accuracy: 0.7815 - val_loss: 0.4971 - val_accuracy: 0.7790\n",
            "Epoch 70/100\n",
            "27645/27645 [==============================] - 5s 171us/step - loss: 0.4971 - accuracy: 0.7815 - val_loss: 0.4968 - val_accuracy: 0.7790\n",
            "Epoch 71/100\n",
            "27645/27645 [==============================] - 5s 169us/step - loss: 0.4970 - accuracy: 0.7815 - val_loss: 0.4969 - val_accuracy: 0.7790\n",
            "Epoch 72/100\n",
            "27645/27645 [==============================] - 5s 168us/step - loss: 0.4971 - accuracy: 0.7815 - val_loss: 0.4968 - val_accuracy: 0.7790\n",
            "Epoch 73/100\n",
            "27645/27645 [==============================] - 5s 167us/step - loss: 0.4970 - accuracy: 0.7815 - val_loss: 0.4969 - val_accuracy: 0.7790\n",
            "Epoch 74/100\n",
            "27645/27645 [==============================] - 5s 169us/step - loss: 0.4971 - accuracy: 0.7815 - val_loss: 0.4969 - val_accuracy: 0.7790\n",
            "Epoch 75/100\n",
            "27645/27645 [==============================] - 5s 169us/step - loss: 0.4971 - accuracy: 0.7815 - val_loss: 0.4968 - val_accuracy: 0.7790\n",
            "Epoch 76/100\n",
            "27645/27645 [==============================] - 5s 169us/step - loss: 0.4970 - accuracy: 0.7815 - val_loss: 0.4970 - val_accuracy: 0.7790\n",
            "Epoch 77/100\n",
            "27645/27645 [==============================] - 5s 169us/step - loss: 0.4971 - accuracy: 0.7815 - val_loss: 0.4971 - val_accuracy: 0.7790\n",
            "Epoch 78/100\n",
            "27645/27645 [==============================] - 5s 170us/step - loss: 0.4970 - accuracy: 0.7815 - val_loss: 0.4970 - val_accuracy: 0.7790\n",
            "Epoch 79/100\n",
            "27645/27645 [==============================] - 5s 167us/step - loss: 0.4971 - accuracy: 0.7815 - val_loss: 0.4968 - val_accuracy: 0.7790\n",
            "Epoch 80/100\n",
            "27645/27645 [==============================] - 5s 166us/step - loss: 0.4971 - accuracy: 0.7815 - val_loss: 0.4969 - val_accuracy: 0.7790\n",
            "Epoch 81/100\n",
            "27645/27645 [==============================] - 5s 167us/step - loss: 0.4971 - accuracy: 0.7815 - val_loss: 0.4968 - val_accuracy: 0.7790\n",
            "Epoch 82/100\n",
            "27645/27645 [==============================] - 5s 166us/step - loss: 0.4971 - accuracy: 0.7815 - val_loss: 0.4968 - val_accuracy: 0.7790\n",
            "Epoch 83/100\n",
            "27645/27645 [==============================] - 5s 166us/step - loss: 0.4970 - accuracy: 0.7815 - val_loss: 0.4972 - val_accuracy: 0.7790\n",
            "Epoch 84/100\n",
            "27645/27645 [==============================] - 5s 165us/step - loss: 0.4970 - accuracy: 0.7815 - val_loss: 0.4968 - val_accuracy: 0.7790\n",
            "Epoch 85/100\n",
            "27645/27645 [==============================] - 5s 169us/step - loss: 0.4971 - accuracy: 0.7815 - val_loss: 0.4969 - val_accuracy: 0.7790\n",
            "Epoch 86/100\n",
            "27645/27645 [==============================] - 5s 170us/step - loss: 0.4971 - accuracy: 0.7815 - val_loss: 0.4968 - val_accuracy: 0.7790\n",
            "Epoch 87/100\n",
            "27645/27645 [==============================] - 5s 166us/step - loss: 0.4971 - accuracy: 0.7815 - val_loss: 0.4969 - val_accuracy: 0.7790\n",
            "Epoch 88/100\n",
            "27645/27645 [==============================] - 5s 168us/step - loss: 0.4970 - accuracy: 0.7815 - val_loss: 0.4968 - val_accuracy: 0.7790\n",
            "Epoch 89/100\n",
            "27645/27645 [==============================] - 5s 169us/step - loss: 0.4971 - accuracy: 0.7815 - val_loss: 0.4970 - val_accuracy: 0.7790\n",
            "Epoch 90/100\n",
            "27645/27645 [==============================] - 5s 168us/step - loss: 0.4970 - accuracy: 0.7815 - val_loss: 0.4973 - val_accuracy: 0.7790\n",
            "Epoch 91/100\n",
            "27645/27645 [==============================] - 5s 166us/step - loss: 0.4971 - accuracy: 0.7815 - val_loss: 0.4968 - val_accuracy: 0.7790\n",
            "Epoch 92/100\n",
            "27645/27645 [==============================] - 5s 168us/step - loss: 0.4971 - accuracy: 0.7815 - val_loss: 0.4969 - val_accuracy: 0.7790\n",
            "Epoch 93/100\n",
            "27645/27645 [==============================] - 5s 170us/step - loss: 0.4971 - accuracy: 0.7815 - val_loss: 0.4968 - val_accuracy: 0.7790\n",
            "Epoch 94/100\n",
            "27645/27645 [==============================] - 5s 170us/step - loss: 0.4971 - accuracy: 0.7815 - val_loss: 0.4969 - val_accuracy: 0.7790\n",
            "Epoch 95/100\n",
            "27645/27645 [==============================] - 5s 166us/step - loss: 0.4971 - accuracy: 0.7815 - val_loss: 0.4968 - val_accuracy: 0.7790\n",
            "Epoch 96/100\n",
            "27645/27645 [==============================] - 5s 170us/step - loss: 0.4971 - accuracy: 0.7815 - val_loss: 0.4968 - val_accuracy: 0.7790\n",
            "Epoch 97/100\n",
            "27645/27645 [==============================] - 5s 168us/step - loss: 0.4971 - accuracy: 0.7815 - val_loss: 0.4970 - val_accuracy: 0.7790\n",
            "Epoch 98/100\n",
            "27645/27645 [==============================] - 5s 167us/step - loss: 0.4970 - accuracy: 0.7815 - val_loss: 0.4970 - val_accuracy: 0.7790\n",
            "Epoch 99/100\n",
            "27645/27645 [==============================] - 5s 166us/step - loss: 0.4970 - accuracy: 0.7815 - val_loss: 0.4970 - val_accuracy: 0.7790\n",
            "Epoch 100/100\n",
            "27645/27645 [==============================] - 5s 169us/step - loss: 0.4970 - accuracy: 0.7815 - val_loss: 0.4968 - val_accuracy: 0.7790\n"
          ],
          "name": "stdout"
        }
      ]
    },
    {
      "cell_type": "code",
      "metadata": {
        "id": "K_zjqnPaSr1-",
        "colab_type": "code",
        "colab": {
          "base_uri": "https://localhost:8080/",
          "height": 87
        },
        "outputId": "37ec7a8b-3857-4289-b5e4-9f3567954f05"
      },
      "source": [
        "# Predicting the Test set results\n",
        "y_pred = classifier.predict_classes(test_x)\n",
        "from sklearn.metrics import confusion_matrix,accuracy_score\n",
        "cm = confusion_matrix(test_y, y_pred)\n",
        "accu=accuracy_score(test_y,y_pred)\n",
        "print(cm,\"\\n\")\n",
        "print(\"The accuracy is\",accu)\n",
        "\n"
      ],
      "execution_count": 81,
      "outputs": [
        {
          "output_type": "stream",
          "text": [
            "[[13158     0]\n",
            " [ 3768     0]] \n",
            "\n",
            "The accuracy is 0.7773839064161645\n"
          ],
          "name": "stdout"
        }
      ]
    },
    {
      "cell_type": "code",
      "metadata": {
        "id": "C7e8pH9Zq4cC",
        "colab_type": "code",
        "colab": {
          "base_uri": "https://localhost:8080/",
          "height": 591
        },
        "outputId": "db1c55ce-ad32-4964-be6e-5cd73ff5f246"
      },
      "source": [
        "# list all data in history\n",
        "print(history.history.keys())\n",
        "# summarize history for accuracy\n",
        "plt.plot(history.history['accuracy'])\n",
        "plt.plot(history.history['val_accuracy'])\n",
        "plt.title('model accuracy')\n",
        "plt.ylabel('accuracy')\n",
        "plt.xlabel('epoch')\n",
        "plt.legend(['train', 'test'], loc='upper left')\n",
        "plt.show()\n",
        "# summarize history for loss\n",
        "plt.plot(history.history['loss'])\n",
        "plt.plot(history.history['val_loss'])\n",
        "plt.title('model loss')\n",
        "plt.ylabel('loss')\n",
        "plt.xlabel('epoch')\n",
        "plt.legend(['train', 'test'], loc='upper left') \n",
        "plt.show()"
      ],
      "execution_count": 82,
      "outputs": [
        {
          "output_type": "stream",
          "text": [
            "dict_keys(['val_loss', 'val_accuracy', 'loss', 'accuracy'])\n"
          ],
          "name": "stdout"
        },
        {
          "output_type": "display_data",
          "data": {
            "image/png": "[encoded data removed]",
            "text/plain": [
              "<Figure size 432x288 with 1 Axes>"
            ]
          },
          "metadata": {
            "tags": [],
            "needs_background": "light"
          }
        },
        {
          "output_type": "display_data",
          "data": {
            "image/png": "[encoded data removed]",
            "text/plain": [
              "<Figure size 432x288 with 1 Axes>"
            ]
          },
          "metadata": {
            "tags": [],
            "needs_background": "light"
          }
        }
      ]
    },
    {
      "cell_type": "code",
      "metadata": {
        "id": "RiGBrJSxSrfT",
        "colab_type": "code",
        "colab": {}
      },
      "source": [
        ""
      ],
      "execution_count": 0,
      "outputs": []
    }
  ]
}