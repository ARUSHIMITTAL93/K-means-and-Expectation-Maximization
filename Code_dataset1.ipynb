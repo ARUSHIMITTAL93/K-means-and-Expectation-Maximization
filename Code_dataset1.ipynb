{
  "nbformat": 4,
  "nbformat_minor": 0,
  "metadata": {
    "colab": {
      "name": "ML_Assignment4_Dataset1",
      "provenance": []
    },
    "kernelspec": {
      "name": "python3",
      "display_name": "Python 3"
    }
  },
  "cells": [
    {
      "cell_type": "code",
      "metadata": {
        "id": "OkYGVZPreNrX",
        "colab_type": "code",
        "colab": {
          "base_uri": "https://localhost:8080/",
          "height": 72
        },
        "outputId": "459f040b-da98-4a63-cebd-7a04425c210c"
      },
      "source": [
        "import pandas as pd\n",
        "import numpy as np\n",
        "import matplotlib.pyplot as plt\n",
        "#import plotly.plotly as py\n",
        "#import plotly.graph_objs as go\n",
        "import warnings\n",
        "#from plotly.offline import download_plotlyjs, init_notebook_mode, plot, iplot\n",
        "import seaborn as sns\n",
        "import os\n",
        "import time\n",
        "\n",
        "#Setting options\n",
        "#init_notebook_mode(connected=True)\n",
        "#warnings.filterwarnings(\"ignore\")\n",
        "\n",
        "#Set Default option\n",
        "from IPython.core.display import display, HTML\n",
        "display(HTML(\"<style>.container { width:90% !important; }</style>\"))\n",
        "pd.options.display.max_rows = 3000"
      ],
      "execution_count": 1,
      "outputs": [
        {
          "output_type": "stream",
          "text": [
            "/usr/local/lib/python3.6/dist-packages/statsmodels/tools/_testing.py:19: FutureWarning: pandas.util.testing is deprecated. Use the functions in the public API at pandas.testing instead.\n",
            "  import pandas.util.testing as tm\n"
          ],
          "name": "stderr"
        },
        {
          "output_type": "display_data",
          "data": {
            "text/html": [
              "<style>.container { width:90% !important; }</style>"
            ],
            "text/plain": [
              "<IPython.core.display.HTML object>"
            ]
          },
          "metadata": {
            "tags": []
          }
        }
      ]
    },
    {
      "cell_type": "code",
      "metadata": {
        "id": "NUgQUPZFe-M-",
        "colab_type": "code",
        "colab": {
          "base_uri": "https://localhost:8080/",
          "height": 35
        },
        "outputId": "ffa6a725-05c9-4cea-db64-04b7de2e37e2"
      },
      "source": [
        "## Data Preperation Libraries\n",
        "import numpy as np\n",
        "import pandas as pd\n",
        "from sklearn.model_selection import train_test_split\n",
        "from sklearn import preprocessing\n",
        "## Cross Validation Libraries \n",
        "from sklearn.model_selection import cross_val_score\n",
        "from sklearn.model_selection import cross_validate\n",
        "## KNN Library\n",
        "from sklearn.neighbors import KNeighborsClassifier\n",
        "## Library for plotting\n",
        "import matplotlib.pyplot as plt\n",
        "## Library for calculating performance metrics\n",
        "from sklearn.metrics import classification_report, confusion_matrix  \n",
        "from sklearn.metrics import accuracy_score\n",
        "from sklearn import metrics\n",
        "### Keras and Tensor flow libraries\n",
        "import tensorflow\n",
        "import keras\n",
        "from keras.models import Sequential\n",
        "from keras.layers import Dense, Activation"
      ],
      "execution_count": 2,
      "outputs": [
        {
          "output_type": "stream",
          "text": [
            "Using TensorFlow backend.\n"
          ],
          "name": "stderr"
        }
      ]
    },
    {
      "cell_type": "code",
      "metadata": {
        "id": "quTKNokWe-Pn",
        "colab_type": "code",
        "colab": {
          "base_uri": "https://localhost:8080/",
          "height": 72
        },
        "outputId": "d9ec4ddf-392f-4e95-a11e-7c1d24e8bad6"
      },
      "source": [
        "import pandas as pd\n",
        "import numpy as np\n",
        "from sklearn.cluster import KMeans\n",
        "from sklearn.preprocessing import LabelEncoder\n",
        "from sklearn.preprocessing import MinMaxScaler\n",
        "import seaborn as sns\n",
        "#import matplotlib.pyplot as plt\n",
        "## Library for calculating performance metrics\n",
        "from sklearn.metrics import classification_report, confusion_matrix  \n",
        "from sklearn.metrics import accuracy_score\n",
        "from sklearn.decomposition import FastICA\n",
        "from sklearn import metrics\n",
        "from sklearn.cluster import KMeans\n",
        "from sklearn.mixture import GaussianMixture\n",
        "from keras.models import Sequential\n",
        "from sklearn.ensemble import RandomForestRegressor, RandomForestClassifier  \n",
        "from sklearn.metrics import roc_auc_score\n",
        "from mlxtend.feature_selection import SequentialFeatureSelector\n",
        "from keras import regularizers\n",
        "from keras.layers import Dense\n",
        "from keras.optimizers import SGD, Adam"
      ],
      "execution_count": 3,
      "outputs": [
        {
          "output_type": "stream",
          "text": [
            "/usr/local/lib/python3.6/dist-packages/sklearn/externals/joblib/__init__.py:15: FutureWarning: sklearn.externals.joblib is deprecated in 0.21 and will be removed in 0.23. Please import this functionality directly from joblib, which can be installed with: pip install joblib. If this warning is raised when loading pickled models, you may need to re-serialize those models with scikit-learn 0.21+.\n",
            "  warnings.warn(msg, category=FutureWarning)\n"
          ],
          "name": "stderr"
        }
      ]
    },
    {
      "cell_type": "code",
      "metadata": {
        "id": "dJuHs-m9e-Sg",
        "colab_type": "code",
        "colab": {}
      },
      "source": [
        "from sklearn.model_selection import train_test_split\n",
        "from sklearn import preprocessing\n",
        "from sklearn.preprocessing import StandardScaler\n",
        "sc = StandardScaler()"
      ],
      "execution_count": 0,
      "outputs": []
    },
    {
      "cell_type": "code",
      "metadata": {
        "id": "YjxHsMnUe-VI",
        "colab_type": "code",
        "colab": {
          "base_uri": "https://localhost:8080/",
          "height": 451
        },
        "outputId": "eedcc2cc-daae-4ca6-d5d2-33e339bd4cd3"
      },
      "source": [
        "# Importing the dataset\n",
        "df1 = pd.read_csv('sgemm_product.csv')\n",
        "df1.info()"
      ],
      "execution_count": 5,
      "outputs": [
        {
          "output_type": "stream",
          "text": [
            "<class 'pandas.core.frame.DataFrame'>\n",
            "RangeIndex: 241600 entries, 0 to 241599\n",
            "Data columns (total 18 columns):\n",
            " #   Column     Non-Null Count   Dtype  \n",
            "---  ------     --------------   -----  \n",
            " 0   MWG        241600 non-null  int64  \n",
            " 1   NWG        241600 non-null  int64  \n",
            " 2   KWG        241600 non-null  int64  \n",
            " 3   MDIMC      241600 non-null  int64  \n",
            " 4   NDIMC      241600 non-null  int64  \n",
            " 5   MDIMA      241600 non-null  int64  \n",
            " 6   NDIMB      241600 non-null  int64  \n",
            " 7   KWI        241600 non-null  int64  \n",
            " 8   VWM        241600 non-null  int64  \n",
            " 9   VWN        241600 non-null  int64  \n",
            " 10  STRM       241600 non-null  int64  \n",
            " 11  STRN       241600 non-null  int64  \n",
            " 12  SA         241600 non-null  int64  \n",
            " 13  SB         241600 non-null  int64  \n",
            " 14  Run1 (ms)  241600 non-null  float64\n",
            " 15  Run2 (ms)  241600 non-null  float64\n",
            " 16  Run3 (ms)  241600 non-null  float64\n",
            " 17  Run4 (ms)  241600 non-null  float64\n",
            "dtypes: float64(4), int64(14)\n",
            "memory usage: 33.2 MB\n"
          ],
          "name": "stdout"
        }
      ]
    },
    {
      "cell_type": "code",
      "metadata": {
        "id": "82ehojPne-Xq",
        "colab_type": "code",
        "colab": {
          "base_uri": "https://localhost:8080/",
          "height": 347
        },
        "outputId": "7c5fa992-f16f-40c6-88c1-bab678e52cce"
      },
      "source": [
        "#checking for NA\n",
        "df1.isnull().sum()"
      ],
      "execution_count": 6,
      "outputs": [
        {
          "output_type": "execute_result",
          "data": {
            "text/plain": [
              "MWG          0\n",
              "NWG          0\n",
              "KWG          0\n",
              "MDIMC        0\n",
              "NDIMC        0\n",
              "MDIMA        0\n",
              "NDIMB        0\n",
              "KWI          0\n",
              "VWM          0\n",
              "VWN          0\n",
              "STRM         0\n",
              "STRN         0\n",
              "SA           0\n",
              "SB           0\n",
              "Run1 (ms)    0\n",
              "Run2 (ms)    0\n",
              "Run3 (ms)    0\n",
              "Run4 (ms)    0\n",
              "dtype: int64"
            ]
          },
          "metadata": {
            "tags": []
          },
          "execution_count": 6
        }
      ]
    },
    {
      "cell_type": "code",
      "metadata": {
        "id": "ROOcJy4Ge-aK",
        "colab_type": "code",
        "colab": {
          "base_uri": "https://localhost:8080/",
          "height": 468
        },
        "outputId": "70d67b31-bcf5-465e-c184-8e15198795ce"
      },
      "source": [
        "#Average runtime calculations\n",
        "df1['average_runtime']=df1[['Run1 (ms)','Run2 (ms)','Run3 (ms)','Run4 (ms)']].mean(axis=1)\n",
        "df1.info()"
      ],
      "execution_count": 7,
      "outputs": [
        {
          "output_type": "stream",
          "text": [
            "<class 'pandas.core.frame.DataFrame'>\n",
            "RangeIndex: 241600 entries, 0 to 241599\n",
            "Data columns (total 19 columns):\n",
            " #   Column           Non-Null Count   Dtype  \n",
            "---  ------           --------------   -----  \n",
            " 0   MWG              241600 non-null  int64  \n",
            " 1   NWG              241600 non-null  int64  \n",
            " 2   KWG              241600 non-null  int64  \n",
            " 3   MDIMC            241600 non-null  int64  \n",
            " 4   NDIMC            241600 non-null  int64  \n",
            " 5   MDIMA            241600 non-null  int64  \n",
            " 6   NDIMB            241600 non-null  int64  \n",
            " 7   KWI              241600 non-null  int64  \n",
            " 8   VWM              241600 non-null  int64  \n",
            " 9   VWN              241600 non-null  int64  \n",
            " 10  STRM             241600 non-null  int64  \n",
            " 11  STRN             241600 non-null  int64  \n",
            " 12  SA               241600 non-null  int64  \n",
            " 13  SB               241600 non-null  int64  \n",
            " 14  Run1 (ms)        241600 non-null  float64\n",
            " 15  Run2 (ms)        241600 non-null  float64\n",
            " 16  Run3 (ms)        241600 non-null  float64\n",
            " 17  Run4 (ms)        241600 non-null  float64\n",
            " 18  average_runtime  241600 non-null  float64\n",
            "dtypes: float64(5), int64(14)\n",
            "memory usage: 35.0 MB\n"
          ],
          "name": "stdout"
        }
      ]
    },
    {
      "cell_type": "code",
      "metadata": {
        "id": "eqlXxHuGe-dy",
        "colab_type": "code",
        "colab": {
          "base_uri": "https://localhost:8080/",
          "height": 202
        },
        "outputId": "c9f74323-ff74-469e-fd85-94d319283605"
      },
      "source": [
        "df1=df1.drop(['Run1 (ms)','Run2 (ms)','Run3 (ms)','Run4 (ms)'],axis=1)\n",
        "df1.head()"
      ],
      "execution_count": 8,
      "outputs": [
        {
          "output_type": "execute_result",
          "data": {
            "text/html": [
              "<div>\n",
              "<style scoped>\n",
              "    .dataframe tbody tr th:only-of-type {\n",
              "        vertical-align: middle;\n",
              "    }\n",
              "\n",
              "    .dataframe tbody tr th {\n",
              "        vertical-align: top;\n",
              "    }\n",
              "\n",
              "    .dataframe thead th {\n",
              "        text-align: right;\n",
              "    }\n",
              "</style>\n",
              "<table border=\"1\" class=\"dataframe\">\n",
              "  <thead>\n",
              "    <tr style=\"text-align: right;\">\n",
              "      <th></th>\n",
              "      <th>MWG</th>\n",
              "      <th>NWG</th>\n",
              "      <th>KWG</th>\n",
              "      <th>MDIMC</th>\n",
              "      <th>NDIMC</th>\n",
              "      <th>MDIMA</th>\n",
              "      <th>NDIMB</th>\n",
              "      <th>KWI</th>\n",
              "      <th>VWM</th>\n",
              "      <th>VWN</th>\n",
              "      <th>STRM</th>\n",
              "      <th>STRN</th>\n",
              "      <th>SA</th>\n",
              "      <th>SB</th>\n",
              "      <th>average_runtime</th>\n",
              "    </tr>\n",
              "  </thead>\n",
              "  <tbody>\n",
              "    <tr>\n",
              "      <th>0</th>\n",
              "      <td>16</td>\n",
              "      <td>16</td>\n",
              "      <td>16</td>\n",
              "      <td>8</td>\n",
              "      <td>8</td>\n",
              "      <td>8</td>\n",
              "      <td>8</td>\n",
              "      <td>2</td>\n",
              "      <td>1</td>\n",
              "      <td>1</td>\n",
              "      <td>0</td>\n",
              "      <td>0</td>\n",
              "      <td>0</td>\n",
              "      <td>0</td>\n",
              "      <td>116.3700</td>\n",
              "    </tr>\n",
              "    <tr>\n",
              "      <th>1</th>\n",
              "      <td>16</td>\n",
              "      <td>16</td>\n",
              "      <td>16</td>\n",
              "      <td>8</td>\n",
              "      <td>8</td>\n",
              "      <td>8</td>\n",
              "      <td>8</td>\n",
              "      <td>2</td>\n",
              "      <td>1</td>\n",
              "      <td>1</td>\n",
              "      <td>0</td>\n",
              "      <td>0</td>\n",
              "      <td>0</td>\n",
              "      <td>1</td>\n",
              "      <td>78.7050</td>\n",
              "    </tr>\n",
              "    <tr>\n",
              "      <th>2</th>\n",
              "      <td>16</td>\n",
              "      <td>16</td>\n",
              "      <td>16</td>\n",
              "      <td>8</td>\n",
              "      <td>8</td>\n",
              "      <td>8</td>\n",
              "      <td>8</td>\n",
              "      <td>2</td>\n",
              "      <td>1</td>\n",
              "      <td>1</td>\n",
              "      <td>0</td>\n",
              "      <td>0</td>\n",
              "      <td>1</td>\n",
              "      <td>0</td>\n",
              "      <td>80.5650</td>\n",
              "    </tr>\n",
              "    <tr>\n",
              "      <th>3</th>\n",
              "      <td>16</td>\n",
              "      <td>16</td>\n",
              "      <td>16</td>\n",
              "      <td>8</td>\n",
              "      <td>8</td>\n",
              "      <td>8</td>\n",
              "      <td>8</td>\n",
              "      <td>2</td>\n",
              "      <td>1</td>\n",
              "      <td>1</td>\n",
              "      <td>0</td>\n",
              "      <td>0</td>\n",
              "      <td>1</td>\n",
              "      <td>1</td>\n",
              "      <td>86.6375</td>\n",
              "    </tr>\n",
              "    <tr>\n",
              "      <th>4</th>\n",
              "      <td>16</td>\n",
              "      <td>16</td>\n",
              "      <td>16</td>\n",
              "      <td>8</td>\n",
              "      <td>8</td>\n",
              "      <td>8</td>\n",
              "      <td>8</td>\n",
              "      <td>2</td>\n",
              "      <td>1</td>\n",
              "      <td>1</td>\n",
              "      <td>0</td>\n",
              "      <td>1</td>\n",
              "      <td>0</td>\n",
              "      <td>0</td>\n",
              "      <td>118.6625</td>\n",
              "    </tr>\n",
              "  </tbody>\n",
              "</table>\n",
              "</div>"
            ],
            "text/plain": [
              "   MWG  NWG  KWG  MDIMC  NDIMC  MDIMA  ...  VWN  STRM  STRN  SA  SB  average_runtime\n",
              "0   16   16   16      8      8      8  ...    1     0     0   0   0         116.3700\n",
              "1   16   16   16      8      8      8  ...    1     0     0   0   1          78.7050\n",
              "2   16   16   16      8      8      8  ...    1     0     0   1   0          80.5650\n",
              "3   16   16   16      8      8      8  ...    1     0     0   1   1          86.6375\n",
              "4   16   16   16      8      8      8  ...    1     0     1   0   0         118.6625\n",
              "\n",
              "[5 rows x 15 columns]"
            ]
          },
          "metadata": {
            "tags": []
          },
          "execution_count": 8
        }
      ]
    },
    {
      "cell_type": "code",
      "metadata": {
        "id": "zpxAMELtCaBR",
        "colab_type": "code",
        "colab": {
          "base_uri": "https://localhost:8080/",
          "height": 482
        },
        "outputId": "e224c707-3b7f-4175-beaa-a4ae5e7401a0"
      },
      "source": [
        "#finding outliers using boxplot\n",
        "plt.figure(figsize=(16,8))\n",
        "sns.boxplot(x='average_runtime', data = df1 )"
      ],
      "execution_count": 9,
      "outputs": [
        {
          "output_type": "execute_result",
          "data": {
            "text/plain": [
              "<matplotlib.axes._subplots.AxesSubplot at 0x7f7cb3e3ab70>"
            ]
          },
          "metadata": {
            "tags": []
          },
          "execution_count": 9
        },
        {
          "output_type": "display_data",
          "data": {
            "image/png": "[encoded data removed]",
            "text/plain": [
              "<Figure size 1152x576 with 1 Axes>"
            ]
          },
          "metadata": {
            "tags": [],
            "needs_background": "light"
          }
        }
      ]
    },
    {
      "cell_type": "code",
      "metadata": {
        "id": "wwDqb4EACaD0",
        "colab_type": "code",
        "colab": {}
      },
      "source": [
        "#outlier removal\n",
        "Q1=df1['average_runtime'].quantile(0.25)\n",
        "Q3=df1['average_runtime'].quantile(0.75)\n",
        "IQR = Q3 - Q1\n",
        "LL=Q1-1.5*IQR\n",
        "UL=Q3+1.5*IQR"
      ],
      "execution_count": 0,
      "outputs": []
    },
    {
      "cell_type": "code",
      "metadata": {
        "id": "qLAWPv1_CaGf",
        "colab_type": "code",
        "colab": {
          "base_uri": "https://localhost:8080/",
          "height": 509
        },
        "outputId": "dbc86cc2-3d5d-4eaa-f6bf-ace0903311e9"
      },
      "source": [
        "df2 = df1[(df1.average_runtime>LL) & (df1.average_runtime<UL)]\n",
        "df2.describe().T"
      ],
      "execution_count": 11,
      "outputs": [
        {
          "output_type": "execute_result",
          "data": {
            "text/html": [
              "<div>\n",
              "<style scoped>\n",
              "    .dataframe tbody tr th:only-of-type {\n",
              "        vertical-align: middle;\n",
              "    }\n",
              "\n",
              "    .dataframe tbody tr th {\n",
              "        vertical-align: top;\n",
              "    }\n",
              "\n",
              "    .dataframe thead th {\n",
              "        text-align: right;\n",
              "    }\n",
              "</style>\n",
              "<table border=\"1\" class=\"dataframe\">\n",
              "  <thead>\n",
              "    <tr style=\"text-align: right;\">\n",
              "      <th></th>\n",
              "      <th>count</th>\n",
              "      <th>mean</th>\n",
              "      <th>std</th>\n",
              "      <th>min</th>\n",
              "      <th>25%</th>\n",
              "      <th>50%</th>\n",
              "      <th>75%</th>\n",
              "      <th>max</th>\n",
              "    </tr>\n",
              "  </thead>\n",
              "  <tbody>\n",
              "    <tr>\n",
              "      <th>MWG</th>\n",
              "      <td>214833.0</td>\n",
              "      <td>75.688037</td>\n",
              "      <td>41.968313</td>\n",
              "      <td>16.0000</td>\n",
              "      <td>32.000</td>\n",
              "      <td>64.00</td>\n",
              "      <td>128.0000</td>\n",
              "      <td>128.0000</td>\n",
              "    </tr>\n",
              "    <tr>\n",
              "      <th>NWG</th>\n",
              "      <td>214833.0</td>\n",
              "      <td>75.761619</td>\n",
              "      <td>41.997377</td>\n",
              "      <td>16.0000</td>\n",
              "      <td>32.000</td>\n",
              "      <td>64.00</td>\n",
              "      <td>128.0000</td>\n",
              "      <td>128.0000</td>\n",
              "    </tr>\n",
              "    <tr>\n",
              "      <th>KWG</th>\n",
              "      <td>214833.0</td>\n",
              "      <td>25.592567</td>\n",
              "      <td>7.839899</td>\n",
              "      <td>16.0000</td>\n",
              "      <td>16.000</td>\n",
              "      <td>32.00</td>\n",
              "      <td>32.0000</td>\n",
              "      <td>32.0000</td>\n",
              "    </tr>\n",
              "    <tr>\n",
              "      <th>MDIMC</th>\n",
              "      <td>214833.0</td>\n",
              "      <td>14.475690</td>\n",
              "      <td>8.111065</td>\n",
              "      <td>8.0000</td>\n",
              "      <td>8.000</td>\n",
              "      <td>16.00</td>\n",
              "      <td>16.0000</td>\n",
              "      <td>32.0000</td>\n",
              "    </tr>\n",
              "    <tr>\n",
              "      <th>NDIMC</th>\n",
              "      <td>214833.0</td>\n",
              "      <td>14.470700</td>\n",
              "      <td>8.111264</td>\n",
              "      <td>8.0000</td>\n",
              "      <td>8.000</td>\n",
              "      <td>16.00</td>\n",
              "      <td>16.0000</td>\n",
              "      <td>32.0000</td>\n",
              "    </tr>\n",
              "    <tr>\n",
              "      <th>MDIMA</th>\n",
              "      <td>214833.0</td>\n",
              "      <td>17.390550</td>\n",
              "      <td>9.375134</td>\n",
              "      <td>8.0000</td>\n",
              "      <td>8.000</td>\n",
              "      <td>16.00</td>\n",
              "      <td>32.0000</td>\n",
              "      <td>32.0000</td>\n",
              "    </tr>\n",
              "    <tr>\n",
              "      <th>NDIMB</th>\n",
              "      <td>214833.0</td>\n",
              "      <td>17.388762</td>\n",
              "      <td>9.374445</td>\n",
              "      <td>8.0000</td>\n",
              "      <td>8.000</td>\n",
              "      <td>16.00</td>\n",
              "      <td>32.0000</td>\n",
              "      <td>32.0000</td>\n",
              "    </tr>\n",
              "    <tr>\n",
              "      <th>KWI</th>\n",
              "      <td>214833.0</td>\n",
              "      <td>5.005544</td>\n",
              "      <td>3.000002</td>\n",
              "      <td>2.0000</td>\n",
              "      <td>2.000</td>\n",
              "      <td>8.00</td>\n",
              "      <td>8.0000</td>\n",
              "      <td>8.0000</td>\n",
              "    </tr>\n",
              "    <tr>\n",
              "      <th>VWM</th>\n",
              "      <td>214833.0</td>\n",
              "      <td>2.339538</td>\n",
              "      <td>1.858623</td>\n",
              "      <td>1.0000</td>\n",
              "      <td>1.000</td>\n",
              "      <td>2.00</td>\n",
              "      <td>4.0000</td>\n",
              "      <td>8.0000</td>\n",
              "    </tr>\n",
              "    <tr>\n",
              "      <th>VWN</th>\n",
              "      <td>214833.0</td>\n",
              "      <td>2.345156</td>\n",
              "      <td>1.862122</td>\n",
              "      <td>1.0000</td>\n",
              "      <td>1.000</td>\n",
              "      <td>2.00</td>\n",
              "      <td>4.0000</td>\n",
              "      <td>8.0000</td>\n",
              "    </tr>\n",
              "    <tr>\n",
              "      <th>STRM</th>\n",
              "      <td>214833.0</td>\n",
              "      <td>0.500580</td>\n",
              "      <td>0.500001</td>\n",
              "      <td>0.0000</td>\n",
              "      <td>0.000</td>\n",
              "      <td>1.00</td>\n",
              "      <td>1.0000</td>\n",
              "      <td>1.0000</td>\n",
              "    </tr>\n",
              "    <tr>\n",
              "      <th>STRN</th>\n",
              "      <td>214833.0</td>\n",
              "      <td>0.500044</td>\n",
              "      <td>0.500001</td>\n",
              "      <td>0.0000</td>\n",
              "      <td>0.000</td>\n",
              "      <td>1.00</td>\n",
              "      <td>1.0000</td>\n",
              "      <td>1.0000</td>\n",
              "    </tr>\n",
              "    <tr>\n",
              "      <th>SA</th>\n",
              "      <td>214833.0</td>\n",
              "      <td>0.486038</td>\n",
              "      <td>0.499806</td>\n",
              "      <td>0.0000</td>\n",
              "      <td>0.000</td>\n",
              "      <td>0.00</td>\n",
              "      <td>1.0000</td>\n",
              "      <td>1.0000</td>\n",
              "    </tr>\n",
              "    <tr>\n",
              "      <th>SB</th>\n",
              "      <td>214833.0</td>\n",
              "      <td>0.485056</td>\n",
              "      <td>0.499778</td>\n",
              "      <td>0.0000</td>\n",
              "      <td>0.000</td>\n",
              "      <td>0.00</td>\n",
              "      <td>1.0000</td>\n",
              "      <td>1.0000</td>\n",
              "    </tr>\n",
              "    <tr>\n",
              "      <th>average_runtime</th>\n",
              "      <td>214833.0</td>\n",
              "      <td>114.554350</td>\n",
              "      <td>113.825481</td>\n",
              "      <td>13.3175</td>\n",
              "      <td>39.095</td>\n",
              "      <td>61.79</td>\n",
              "      <td>157.8925</td>\n",
              "      <td>509.9625</td>\n",
              "    </tr>\n",
              "  </tbody>\n",
              "</table>\n",
              "</div>"
            ],
            "text/plain": [
              "                    count        mean         std  ...    50%       75%       max\n",
              "MWG              214833.0   75.688037   41.968313  ...  64.00  128.0000  128.0000\n",
              "NWG              214833.0   75.761619   41.997377  ...  64.00  128.0000  128.0000\n",
              "KWG              214833.0   25.592567    7.839899  ...  32.00   32.0000   32.0000\n",
              "MDIMC            214833.0   14.475690    8.111065  ...  16.00   16.0000   32.0000\n",
              "NDIMC            214833.0   14.470700    8.111264  ...  16.00   16.0000   32.0000\n",
              "MDIMA            214833.0   17.390550    9.375134  ...  16.00   32.0000   32.0000\n",
              "NDIMB            214833.0   17.388762    9.374445  ...  16.00   32.0000   32.0000\n",
              "KWI              214833.0    5.005544    3.000002  ...   8.00    8.0000    8.0000\n",
              "VWM              214833.0    2.339538    1.858623  ...   2.00    4.0000    8.0000\n",
              "VWN              214833.0    2.345156    1.862122  ...   2.00    4.0000    8.0000\n",
              "STRM             214833.0    0.500580    0.500001  ...   1.00    1.0000    1.0000\n",
              "STRN             214833.0    0.500044    0.500001  ...   1.00    1.0000    1.0000\n",
              "SA               214833.0    0.486038    0.499806  ...   0.00    1.0000    1.0000\n",
              "SB               214833.0    0.485056    0.499778  ...   0.00    1.0000    1.0000\n",
              "average_runtime  214833.0  114.554350  113.825481  ...  61.79  157.8925  509.9625\n",
              "\n",
              "[15 rows x 8 columns]"
            ]
          },
          "metadata": {
            "tags": []
          },
          "execution_count": 11
        }
      ]
    },
    {
      "cell_type": "code",
      "metadata": {
        "id": "jXbXRHxuCaIz",
        "colab_type": "code",
        "colab": {
          "base_uri": "https://localhost:8080/",
          "height": 141
        },
        "outputId": "161d0806-bbb9-4da4-9688-d6584ec86bfa"
      },
      "source": [
        "#converting average_runtime into 1 and 0 form for sv\n",
        "\n",
        "mean = df2['average_runtime'].mean()\n",
        "df2.loc[df2['average_runtime'] <= mean, 'average_runtime'] = 0\n",
        "df2.loc[df2['average_runtime'] > mean, 'average_runtime'] = 1"
      ],
      "execution_count": 12,
      "outputs": [
        {
          "output_type": "stream",
          "text": [
            "/usr/local/lib/python3.6/dist-packages/pandas/core/indexing.py:966: SettingWithCopyWarning: \n",
            "A value is trying to be set on a copy of a slice from a DataFrame.\n",
            "Try using .loc[row_indexer,col_indexer] = value instead\n",
            "\n",
            "See the caveats in the documentation: https://pandas.pydata.org/pandas-docs/stable/user_guide/indexing.html#returning-a-view-versus-a-copy\n",
            "  self.obj[item] = s\n"
          ],
          "name": "stderr"
        }
      ]
    },
    {
      "cell_type": "code",
      "metadata": {
        "id": "AqEyMQFaCaLX",
        "colab_type": "code",
        "colab": {}
      },
      "source": [
        "x1 = df2.iloc[:,1:14].values \n",
        "\n",
        "y1 = df2.iloc[:,14].values"
      ],
      "execution_count": 0,
      "outputs": []
    },
    {
      "cell_type": "code",
      "metadata": {
        "id": "jcB-I0_wCaOD",
        "colab_type": "code",
        "colab": {}
      },
      "source": [
        "#splitting the data into test set and training set\n",
        "from sklearn.model_selection import train_test_split\n",
        "X_train, X_test, y_train, y_test = train_test_split(x1, y1, test_size = 0.3, random_state = 0)"
      ],
      "execution_count": 0,
      "outputs": []
    },
    {
      "cell_type": "code",
      "metadata": {
        "id": "Pl8ViJeVCaRJ",
        "colab_type": "code",
        "colab": {}
      },
      "source": [
        "from sklearn.preprocessing import StandardScaler\n",
        "sc = StandardScaler()\n",
        "X_train = sc.fit_transform(X_train)\n",
        "X_test = sc.transform(X_test)"
      ],
      "execution_count": 0,
      "outputs": []
    },
    {
      "cell_type": "code",
      "metadata": {
        "id": "AsemXTF3TWzv",
        "colab_type": "code",
        "colab": {
          "base_uri": "https://localhost:8080/",
          "height": 35
        },
        "outputId": "b22bca58-b03f-4606-d305-6206b6de31d8"
      },
      "source": [
        "x1.shape"
      ],
      "execution_count": 47,
      "outputs": [
        {
          "output_type": "execute_result",
          "data": {
            "text/plain": [
              "(214833, 13)"
            ]
          },
          "metadata": {
            "tags": []
          },
          "execution_count": 47
        }
      ]
    },
    {
      "cell_type": "markdown",
      "metadata": {
        "id": "ufNg4VKGGDKv",
        "colab_type": "text"
      },
      "source": [
        "## K Means\n"
      ]
    },
    {
      "cell_type": "code",
      "metadata": {
        "id": "X2an3zLUfDZy",
        "colab_type": "code",
        "colab": {
          "base_uri": "https://localhost:8080/",
          "height": 295
        },
        "outputId": "6b3c5e2d-3cd3-44b1-84c1-e037ec3a4531"
      },
      "source": [
        "##Determining number of clusters\n",
        "from sklearn.cluster import KMeans \n",
        "Sum_of_squared_distances = []\n",
        "K = range(1,15)\n",
        "for k in K:\n",
        "    km = KMeans(n_clusters=k)\n",
        "    km=km.fit(x1)\n",
        "    Sum_of_squared_distances.append(km.inertia_)\n",
        "    \n",
        "##Checking out which SSE is low for different types of k means value\n",
        "plt.plot(K,Sum_of_squared_distances, 'bx-')\n",
        "plt.xlabel('k')\n",
        "plt.ylabel('Sum_of_squared_distances')\n",
        "plt.title('Elbow method for optimal k')\n",
        "plt.show()"
      ],
      "execution_count": 48,
      "outputs": [
        {
          "output_type": "display_data",
          "data": {
            "image/png": "[encoded data removed]",
            "text/plain": [
              "<Figure size 432x288 with 1 Axes>"
            ]
          },
          "metadata": {
            "tags": [],
            "needs_background": "light"
          }
        }
      ]
    },
    {
      "cell_type": "code",
      "metadata": {
        "id": "BosnbTGSCq8e",
        "colab_type": "code",
        "colab": {
          "base_uri": "https://localhost:8080/",
          "height": 299
        },
        "outputId": "5ad6f446-e299-46b0-fdf1-e4bf505e5bf8"
      },
      "source": [
        "## K-Means Clustering Algorithm  \n",
        "from sklearn.cluster import KMeans\n",
        "kmeans = KMeans(n_clusters=3) \n",
        "kmeans.fit(x1)\n",
        "yp=kmeans.predict(x1)\n",
        "plt.scatter(x1[:, 0], x1[:, 1], c=yp, s=50, cmap='viridis')\n",
        "centers = kmeans.cluster_centers_\n",
        "plt.scatter(centers[:, 0], centers[:, 1], c='red', s=200, alpha=0.5)\n",
        "plt.title('KMeans on Full Data')"
      ],
      "execution_count": 49,
      "outputs": [
        {
          "output_type": "execute_result",
          "data": {
            "text/plain": [
              "Text(0.5, 1.0, 'KMeans on Full Data')"
            ]
          },
          "metadata": {
            "tags": []
          },
          "execution_count": 49
        },
        {
          "output_type": "display_data",
          "data": {
            "image/png": "[encoded data removed]",
            "text/plain": [
              "<Figure size 432x288 with 1 Axes>"
            ]
          },
          "metadata": {
            "tags": [],
            "needs_background": "light"
          }
        }
      ]
    },
    {
      "cell_type": "code",
      "metadata": {
        "id": "Fu00KZzDTPPU",
        "colab_type": "code",
        "colab": {
          "base_uri": "https://localhost:8080/",
          "height": 35
        },
        "outputId": "2a8cea91-d607-4a29-e278-50b11626e919"
      },
      "source": [
        "yp.shape"
      ],
      "execution_count": 50,
      "outputs": [
        {
          "output_type": "execute_result",
          "data": {
            "text/plain": [
              "(214833,)"
            ]
          },
          "metadata": {
            "tags": []
          },
          "execution_count": 50
        }
      ]
    },
    {
      "cell_type": "markdown",
      "metadata": {
        "id": "yUyChb4_GHCX",
        "colab_type": "text"
      },
      "source": [
        "## Expectation Maximization\n"
      ]
    },
    {
      "cell_type": "code",
      "metadata": {
        "id": "Zt9NvmG4CrBs",
        "colab_type": "code",
        "colab": {
          "base_uri": "https://localhost:8080/",
          "height": 299
        },
        "outputId": "76f67713-8efb-4195-c80c-5cd19ed44c17"
      },
      "source": [
        "## Expectation maximization analysis on Train set\n",
        "from sklearn.mixture import GaussianMixture\n",
        "em = GaussianMixture(n_components=2,random_state=0,covariance_type='tied')\n",
        "em.fit(x1)\n",
        "em_pred = em.predict(x1)\n",
        "plt.scatter(x1[:, 0], x1[:, 1], c=em_pred, s=50, cmap='viridis_r')\n",
        "plt.title('Expectation Maximization on Full Data')"
      ],
      "execution_count": 51,
      "outputs": [
        {
          "output_type": "execute_result",
          "data": {
            "text/plain": [
              "Text(0.5, 1.0, 'Expectation Maximization on Full Data')"
            ]
          },
          "metadata": {
            "tags": []
          },
          "execution_count": 51
        },
        {
          "output_type": "display_data",
          "data": {
            "image/png": "[encoded data removed]",
            "text/plain": [
              "<Figure size 432x288 with 1 Axes>"
            ]
          },
          "metadata": {
            "tags": [],
            "needs_background": "light"
          }
        }
      ]
    },
    {
      "cell_type": "markdown",
      "metadata": {
        "id": "6efWYsf_GMHP",
        "colab_type": "text"
      },
      "source": [
        "## PCA\n"
      ]
    },
    {
      "cell_type": "code",
      "metadata": {
        "id": "5vyGpOwBFVNH",
        "colab_type": "code",
        "colab": {}
      },
      "source": [
        "from sklearn.decomposition import PCA\n",
        "pca = PCA()\n",
        "pca_X_train=pca.fit_transform(x1)"
      ],
      "execution_count": 0,
      "outputs": []
    },
    {
      "cell_type": "code",
      "metadata": {
        "id": "sbk7GQZIFVPr",
        "colab_type": "code",
        "colab": {
          "base_uri": "https://localhost:8080/",
          "height": 35
        },
        "outputId": "372b8a88-3fd0-47c3-b359-f0fe9a7eec3b"
      },
      "source": [
        "explained_variance=pca.explained_variance_ratio_\n",
        "explained_variance.shape"
      ],
      "execution_count": 53,
      "outputs": [
        {
          "output_type": "execute_result",
          "data": {
            "text/plain": [
              "(13,)"
            ]
          },
          "metadata": {
            "tags": []
          },
          "execution_count": 53
        }
      ]
    },
    {
      "cell_type": "code",
      "metadata": {
        "id": "pGpO6Zz-FVSe",
        "colab_type": "code",
        "colab": {
          "base_uri": "https://localhost:8080/",
          "height": 297
        },
        "outputId": "895563b1-9af4-42a9-ad87-8cf1056ac746"
      },
      "source": [
        "with plt.style.context('dark_background'):\n",
        "    plt.figure(figsize=(6, 4))\n",
        "\n",
        "    plt.bar(range(13), explained_variance, alpha=0.5, align='center',\n",
        "            label='individual explained variance')\n",
        "    plt.ylabel('Explained variance ratio')\n",
        "    plt.xlabel('Principal components')\n",
        "    plt.legend(loc='best')\n",
        "    plt.tight_layout()"
      ],
      "execution_count": 54,
      "outputs": [
        {
          "output_type": "display_data",
          "data": {
            "image/png": "[encoded data removed]",
            "text/plain": [
              "<Figure size 432x288 with 1 Axes>"
            ]
          },
          "metadata": {
            "tags": []
          }
        }
      ]
    },
    {
      "cell_type": "code",
      "metadata": {
        "id": "qaCe-L5yFVVF",
        "colab_type": "code",
        "colab": {}
      },
      "source": [
        "pca = PCA(n_components=2)\n",
        "pca_X_train=pca.fit_transform(x1)"
      ],
      "execution_count": 0,
      "outputs": []
    },
    {
      "cell_type": "code",
      "metadata": {
        "id": "3yUhkSgYFVa2",
        "colab_type": "code",
        "colab": {
          "base_uri": "https://localhost:8080/",
          "height": 35
        },
        "outputId": "cb6d5b83-430e-4bb0-8ed7-c46f3cbcd188"
      },
      "source": [
        "explained_variance=pca.explained_variance_ratio_\n",
        "explained_variance.shape"
      ],
      "execution_count": 56,
      "outputs": [
        {
          "output_type": "execute_result",
          "data": {
            "text/plain": [
              "(2,)"
            ]
          },
          "metadata": {
            "tags": []
          },
          "execution_count": 56
        }
      ]
    },
    {
      "cell_type": "code",
      "metadata": {
        "id": "6ERNt0R9FVZF",
        "colab_type": "code",
        "colab": {
          "base_uri": "https://localhost:8080/",
          "height": 297
        },
        "outputId": "bf5f5980-4f14-46b0-e21a-6f4adcb09318"
      },
      "source": [
        "with plt.style.context('dark_background'):\n",
        "    plt.figure(figsize=(6, 4))\n",
        "\n",
        "    plt.bar(range(2), explained_variance, alpha=0.5, align='center',\n",
        "            label='individual explained variance')\n",
        "    plt.ylabel('Explained variance ratio')\n",
        "    plt.xlabel('Principal components')\n",
        "    plt.legend(loc='best')\n",
        "    plt.tight_layout()"
      ],
      "execution_count": 57,
      "outputs": [
        {
          "output_type": "display_data",
          "data": {
            "image/png": "[encoded data removed]",
            "text/plain": [
              "<Figure size 432x288 with 1 Axes>"
            ]
          },
          "metadata": {
            "tags": []
          }
        }
      ]
    },
    {
      "cell_type": "markdown",
      "metadata": {
        "id": "Nw_lUBhuGXGK",
        "colab_type": "text"
      },
      "source": [
        "## K-MEANS with PCA\n"
      ]
    },
    {
      "cell_type": "code",
      "metadata": {
        "id": "y2ip68MyCrD_",
        "colab_type": "code",
        "colab": {
          "base_uri": "https://localhost:8080/",
          "height": 295
        },
        "outputId": "a34063d3-c6ba-4a4e-cca5-c0c581f5bb8a"
      },
      "source": [
        "##Determining number of clusters\n",
        "from sklearn.cluster import KMeans \n",
        "Sum_of_squared_distances = []\n",
        "K = range(1,15)\n",
        "for k in K:\n",
        "    km = KMeans(n_clusters=k)\n",
        "    km=km.fit(pca_X_train)\n",
        "    Sum_of_squared_distances.append(km.inertia_)\n",
        "    \n",
        "##Checking out which SSE is low for different types of k means value\n",
        "plt.plot(K,Sum_of_squared_distances, 'bx-')\n",
        "plt.xlabel('k')\n",
        "plt.ylabel('Sum_of_squared_distances')\n",
        "plt.title('Elbow method for optimal k')\n",
        "plt.show()"
      ],
      "execution_count": 58,
      "outputs": [
        {
          "output_type": "display_data",
          "data": {
            "image/png": "[encoded data removed]",
            "text/plain": [
              "<Figure size 432x288 with 1 Axes>"
            ]
          },
          "metadata": {
            "tags": [],
            "needs_background": "light"
          }
        }
      ]
    },
    {
      "cell_type": "code",
      "metadata": {
        "id": "N9Ufz9OACrGT",
        "colab_type": "code",
        "colab": {
          "base_uri": "https://localhost:8080/",
          "height": 299
        },
        "outputId": "09af9b70-5d8d-4ec8-d2c4-1b56206fe00d"
      },
      "source": [
        "## K-Means Clustering Algorithm  \n",
        "from sklearn.cluster import KMeans\n",
        "kmeans = KMeans(n_clusters=3) \n",
        "kmeans.fit(pca_X_train)\n",
        "yp=kmeans.predict(pca_X_train)\n",
        "plt.scatter(pca_X_train[:, 0], pca_X_train[:, 1], c=yp, s=50, cmap='viridis')\n",
        "centers = kmeans.cluster_centers_\n",
        "plt.scatter(centers[:, 0], centers[:, 1], c='red', s=200, alpha=0.5)\n",
        "plt.title('KMeans on full dataset')"
      ],
      "execution_count": 59,
      "outputs": [
        {
          "output_type": "execute_result",
          "data": {
            "text/plain": [
              "Text(0.5, 1.0, 'KMeans on full dataset')"
            ]
          },
          "metadata": {
            "tags": []
          },
          "execution_count": 59
        },
        {
          "output_type": "display_data",
          "data": {
            "image/png": "[encoded data removed]",
            "text/plain": [
              "<Figure size 432x288 with 1 Axes>"
            ]
          },
          "metadata": {
            "tags": [],
            "needs_background": "light"
          }
        }
      ]
    },
    {
      "cell_type": "markdown",
      "metadata": {
        "id": "mIm9XG41GlEn",
        "colab_type": "text"
      },
      "source": [
        "## EXPECTATION MAXIMIZATION WITH PCA\n"
      ]
    },
    {
      "cell_type": "code",
      "metadata": {
        "id": "aw5waDl2CrJK",
        "colab_type": "code",
        "colab": {
          "base_uri": "https://localhost:8080/",
          "height": 299
        },
        "outputId": "b34ab2c1-215e-471b-86bb-b788e91a96b4"
      },
      "source": [
        "## Expectation maximization analysis on Train set\n",
        "from sklearn.mixture import GaussianMixture\n",
        "em = GaussianMixture(n_components=2,random_state=0,covariance_type='tied')\n",
        "em.fit(pca_X_train)\n",
        "em_pred = em.predict(pca_X_train)\n",
        "plt.scatter(pca_X_train[:, 0], pca_X_train[:, 1], c=em_pred, s=50, cmap='viridis_r')\n",
        "plt.title('Expectation Maximization on full data set')"
      ],
      "execution_count": 60,
      "outputs": [
        {
          "output_type": "execute_result",
          "data": {
            "text/plain": [
              "Text(0.5, 1.0, 'Expectation Maximization on full data set')"
            ]
          },
          "metadata": {
            "tags": []
          },
          "execution_count": 60
        },
        {
          "output_type": "display_data",
          "data": {
            "image/png": "[encoded data removed]",
            "text/plain": [
              "<Figure size 432x288 with 1 Axes>"
            ]
          },
          "metadata": {
            "tags": [],
            "needs_background": "light"
          }
        }
      ]
    },
    {
      "cell_type": "code",
      "metadata": {
        "id": "343auVEWDmTx",
        "colab_type": "code",
        "colab": {}
      },
      "source": [
        "from sklearn.decomposition import PCA\n",
        "pca = PCA()\n",
        "pca_X1_ann=pca.fit_transform(x1)\n"
      ],
      "execution_count": 0,
      "outputs": []
    },
    {
      "cell_type": "code",
      "metadata": {
        "id": "uWOH8kJzQ8rz",
        "colab_type": "code",
        "colab": {}
      },
      "source": [
        "X_train_pca, X_test_pca, y_train, y_test = train_test_split(pca_X1_ann, y1, test_size = 0.3, random_state = 0)"
      ],
      "execution_count": 0,
      "outputs": []
    },
    {
      "cell_type": "code",
      "metadata": {
        "id": "V_FZWji0GRD0",
        "colab_type": "code",
        "colab": {}
      },
      "source": [
        "from sklearn.preprocessing import StandardScaler\n",
        "sc = StandardScaler()\n",
        "X_train_pca = sc.fit_transform(X_train_pca)\n",
        "X_test_pca = sc.transform(X_test_pca)"
      ],
      "execution_count": 0,
      "outputs": []
    },
    {
      "cell_type": "code",
      "metadata": {
        "id": "OM0SFhxCNRTc",
        "colab_type": "code",
        "colab": {
          "base_uri": "https://localhost:8080/",
          "height": 1000
        },
        "outputId": "1b321368-b9c6-4ef6-d084-cb61a213e308"
      },
      "source": [
        "# Initialising the ANN\n",
        "\n",
        "#changing the number of nodes to 16\n",
        "classifier = Sequential()\n",
        "\n",
        "# Adding the input layer and the first hidden layer\n",
        "classifier.add(Dense(activation=\"relu\", input_dim=13, units=16, kernel_initializer=\"uniform\"))\n",
        "\n",
        "# Adding the second hidden layer\n",
        "classifier.add(Dense(activation=\"relu\", units=16, kernel_initializer=\"uniform\"))\n",
        "\n",
        "# Adding the output layer\n",
        "classifier.add(Dense(activation=\"sigmoid\", units=1, kernel_initializer=\"uniform\"))\n",
        "\n",
        "# Compiling the ANN\n",
        "classifier.compile(optimizer = 'adam', loss = 'binary_crossentropy', metrics = ['accuracy'])\n",
        "\n",
        "# Fitting the ANN to the Training set\n",
        "history=classifier.fit(X_train_pca, y_train, batch_size = 10, epochs = 400,validation_split=0.3)\n",
        "\n"
      ],
      "execution_count": 21,
      "outputs": [
        {
          "output_type": "stream",
          "text": [
            "Train on 105268 samples, validate on 45115 samples\n",
            "Epoch 1/400\n",
            "105268/105268 [==============================] - 16s 151us/step - loss: 0.4797 - accuracy: 0.7634 - val_loss: 0.4486 - val_accuracy: 0.7704\n",
            "Epoch 2/400\n",
            "105268/105268 [==============================] - 16s 150us/step - loss: 0.4313 - accuracy: 0.7761 - val_loss: 0.4209 - val_accuracy: 0.7815\n",
            "Epoch 3/400\n",
            "105268/105268 [==============================] - 16s 151us/step - loss: 0.4174 - accuracy: 0.7823 - val_loss: 0.4202 - val_accuracy: 0.7765\n",
            "Epoch 4/400\n",
            "105268/105268 [==============================] - 16s 151us/step - loss: 0.4110 - accuracy: 0.7846 - val_loss: 0.4109 - val_accuracy: 0.7838\n",
            "Epoch 5/400\n",
            "105268/105268 [==============================] - 16s 153us/step - loss: 0.4066 - accuracy: 0.7859 - val_loss: 0.4082 - val_accuracy: 0.7847\n",
            "Epoch 6/400\n",
            "105268/105268 [==============================] - 16s 151us/step - loss: 0.4029 - accuracy: 0.7871 - val_loss: 0.4044 - val_accuracy: 0.7849\n",
            "Epoch 7/400\n",
            "105268/105268 [==============================] - 17s 158us/step - loss: 0.4008 - accuracy: 0.7886 - val_loss: 0.4019 - val_accuracy: 0.7850\n",
            "Epoch 8/400\n",
            "105268/105268 [==============================] - 16s 151us/step - loss: 0.3989 - accuracy: 0.7883 - val_loss: 0.3994 - val_accuracy: 0.7850\n",
            "Epoch 9/400\n",
            "105268/105268 [==============================] - 16s 151us/step - loss: 0.3983 - accuracy: 0.7883 - val_loss: 0.4001 - val_accuracy: 0.7849\n",
            "Epoch 10/400\n",
            "105268/105268 [==============================] - 16s 151us/step - loss: 0.3969 - accuracy: 0.7885 - val_loss: 0.3977 - val_accuracy: 0.7853\n",
            "Epoch 11/400\n",
            "105268/105268 [==============================] - 16s 152us/step - loss: 0.3961 - accuracy: 0.7896 - val_loss: 0.3987 - val_accuracy: 0.7879\n",
            "Epoch 12/400\n",
            "105268/105268 [==============================] - 16s 151us/step - loss: 0.3956 - accuracy: 0.7887 - val_loss: 0.3967 - val_accuracy: 0.7858\n",
            "Epoch 13/400\n",
            "105268/105268 [==============================] - 17s 159us/step - loss: 0.3945 - accuracy: 0.7896 - val_loss: 0.3977 - val_accuracy: 0.7873\n",
            "Epoch 14/400\n",
            "105268/105268 [==============================] - 16s 154us/step - loss: 0.3933 - accuracy: 0.7903 - val_loss: 0.3976 - val_accuracy: 0.7879\n",
            "Epoch 15/400\n",
            "105268/105268 [==============================] - 16s 155us/step - loss: 0.3932 - accuracy: 0.7898 - val_loss: 0.4031 - val_accuracy: 0.7846\n",
            "Epoch 16/400\n",
            "105268/105268 [==============================] - 16s 153us/step - loss: 0.3921 - accuracy: 0.7905 - val_loss: 0.3947 - val_accuracy: 0.7868\n",
            "Epoch 17/400\n",
            "105268/105268 [==============================] - 16s 153us/step - loss: 0.3920 - accuracy: 0.7910 - val_loss: 0.3938 - val_accuracy: 0.7865\n",
            "Epoch 18/400\n",
            "105268/105268 [==============================] - 16s 152us/step - loss: 0.3913 - accuracy: 0.7905 - val_loss: 0.4055 - val_accuracy: 0.7790\n",
            "Epoch 19/400\n",
            "105268/105268 [==============================] - 16s 154us/step - loss: 0.3909 - accuracy: 0.7920 - val_loss: 0.3909 - val_accuracy: 0.7895\n",
            "Epoch 20/400\n",
            "105268/105268 [==============================] - 16s 152us/step - loss: 0.3897 - accuracy: 0.7922 - val_loss: 0.3917 - val_accuracy: 0.7908\n",
            "Epoch 21/400\n",
            "105268/105268 [==============================] - 16s 152us/step - loss: 0.3887 - accuracy: 0.7916 - val_loss: 0.3937 - val_accuracy: 0.7901\n",
            "Epoch 22/400\n",
            "105268/105268 [==============================] - 16s 151us/step - loss: 0.3885 - accuracy: 0.7915 - val_loss: 0.3902 - val_accuracy: 0.7881\n",
            "Epoch 23/400\n",
            "105268/105268 [==============================] - 16s 151us/step - loss: 0.3876 - accuracy: 0.7921 - val_loss: 0.3889 - val_accuracy: 0.7899\n",
            "Epoch 24/400\n",
            "105268/105268 [==============================] - 16s 152us/step - loss: 0.3866 - accuracy: 0.7924 - val_loss: 0.3905 - val_accuracy: 0.7895\n",
            "Epoch 25/400\n",
            "105268/105268 [==============================] - 16s 151us/step - loss: 0.3853 - accuracy: 0.7934 - val_loss: 0.3871 - val_accuracy: 0.7895\n",
            "Epoch 26/400\n",
            "105268/105268 [==============================] - 16s 156us/step - loss: 0.3845 - accuracy: 0.7920 - val_loss: 0.3925 - val_accuracy: 0.7875\n",
            "Epoch 27/400\n",
            "105268/105268 [==============================] - 16s 153us/step - loss: 0.3838 - accuracy: 0.7922 - val_loss: 0.3865 - val_accuracy: 0.7891\n",
            "Epoch 28/400\n",
            "105268/105268 [==============================] - 16s 151us/step - loss: 0.3833 - accuracy: 0.7936 - val_loss: 0.3862 - val_accuracy: 0.7883\n",
            "Epoch 29/400\n",
            "105268/105268 [==============================] - 16s 152us/step - loss: 0.3826 - accuracy: 0.7929 - val_loss: 0.3885 - val_accuracy: 0.7889\n",
            "Epoch 30/400\n",
            "105268/105268 [==============================] - 16s 151us/step - loss: 0.3824 - accuracy: 0.7933 - val_loss: 0.3858 - val_accuracy: 0.7891\n",
            "Epoch 31/400\n",
            "105268/105268 [==============================] - 16s 150us/step - loss: 0.3820 - accuracy: 0.7927 - val_loss: 0.3890 - val_accuracy: 0.7885\n",
            "Epoch 32/400\n",
            "105268/105268 [==============================] - 16s 156us/step - loss: 0.3819 - accuracy: 0.7934 - val_loss: 0.3843 - val_accuracy: 0.7891\n",
            "Epoch 33/400\n",
            "105268/105268 [==============================] - 16s 150us/step - loss: 0.3811 - accuracy: 0.7929 - val_loss: 0.3891 - val_accuracy: 0.7884\n",
            "Epoch 34/400\n",
            "105268/105268 [==============================] - 16s 152us/step - loss: 0.3808 - accuracy: 0.7926 - val_loss: 0.3862 - val_accuracy: 0.7892\n",
            "Epoch 35/400\n",
            "105268/105268 [==============================] - 16s 151us/step - loss: 0.3806 - accuracy: 0.7936 - val_loss: 0.3870 - val_accuracy: 0.7890\n",
            "Epoch 36/400\n",
            "105268/105268 [==============================] - 16s 156us/step - loss: 0.3807 - accuracy: 0.7920 - val_loss: 0.3860 - val_accuracy: 0.7881\n",
            "Epoch 37/400\n",
            "105268/105268 [==============================] - 17s 157us/step - loss: 0.3808 - accuracy: 0.7923 - val_loss: 0.3965 - val_accuracy: 0.7823\n",
            "Epoch 38/400\n",
            "105268/105268 [==============================] - 16s 150us/step - loss: 0.3803 - accuracy: 0.7922 - val_loss: 0.3837 - val_accuracy: 0.7892\n",
            "Epoch 39/400\n",
            "105268/105268 [==============================] - 16s 151us/step - loss: 0.3799 - accuracy: 0.7922 - val_loss: 0.3848 - val_accuracy: 0.7892\n",
            "Epoch 40/400\n",
            "105268/105268 [==============================] - 16s 150us/step - loss: 0.3802 - accuracy: 0.7930 - val_loss: 0.3834 - val_accuracy: 0.7899\n",
            "Epoch 41/400\n",
            "105268/105268 [==============================] - 16s 150us/step - loss: 0.3801 - accuracy: 0.7921 - val_loss: 0.3837 - val_accuracy: 0.7904\n",
            "Epoch 42/400\n",
            "105268/105268 [==============================] - 16s 150us/step - loss: 0.3794 - accuracy: 0.7928 - val_loss: 0.3870 - val_accuracy: 0.7901\n",
            "Epoch 43/400\n",
            "105268/105268 [==============================] - 16s 151us/step - loss: 0.3794 - accuracy: 0.7923 - val_loss: 0.3847 - val_accuracy: 0.7885\n",
            "Epoch 44/400\n",
            "105268/105268 [==============================] - 16s 152us/step - loss: 0.3795 - accuracy: 0.7926 - val_loss: 0.3851 - val_accuracy: 0.7896\n",
            "Epoch 45/400\n",
            "105268/105268 [==============================] - 17s 159us/step - loss: 0.3793 - accuracy: 0.7919 - val_loss: 0.3837 - val_accuracy: 0.7881\n",
            "Epoch 46/400\n",
            "105268/105268 [==============================] - 17s 165us/step - loss: 0.3791 - accuracy: 0.7930 - val_loss: 0.3817 - val_accuracy: 0.7900\n",
            "Epoch 47/400\n",
            "105268/105268 [==============================] - 16s 151us/step - loss: 0.3790 - accuracy: 0.7923 - val_loss: 0.3824 - val_accuracy: 0.7880\n",
            "Epoch 48/400\n",
            "105268/105268 [==============================] - 16s 151us/step - loss: 0.3785 - accuracy: 0.7939 - val_loss: 0.3816 - val_accuracy: 0.7900\n",
            "Epoch 49/400\n",
            "105268/105268 [==============================] - 16s 151us/step - loss: 0.3780 - accuracy: 0.7929 - val_loss: 0.3816 - val_accuracy: 0.7906\n",
            "Epoch 50/400\n",
            "105268/105268 [==============================] - 16s 151us/step - loss: 0.3789 - accuracy: 0.7924 - val_loss: 0.3815 - val_accuracy: 0.7896\n",
            "Epoch 51/400\n",
            "105268/105268 [==============================] - 17s 157us/step - loss: 0.3784 - accuracy: 0.7922 - val_loss: 0.3830 - val_accuracy: 0.7909\n",
            "Epoch 52/400\n",
            "105268/105268 [==============================] - 16s 151us/step - loss: 0.3784 - accuracy: 0.7930 - val_loss: 0.3817 - val_accuracy: 0.7890\n",
            "Epoch 53/400\n",
            "105268/105268 [==============================] - 16s 152us/step - loss: 0.3782 - accuracy: 0.7934 - val_loss: 0.3808 - val_accuracy: 0.7893\n",
            "Epoch 54/400\n",
            "105268/105268 [==============================] - 16s 151us/step - loss: 0.3782 - accuracy: 0.7929 - val_loss: 0.3830 - val_accuracy: 0.7914\n",
            "Epoch 55/400\n",
            "105268/105268 [==============================] - 17s 158us/step - loss: 0.3782 - accuracy: 0.7930 - val_loss: 0.3813 - val_accuracy: 0.7904\n",
            "Epoch 56/400\n",
            "105268/105268 [==============================] - 16s 156us/step - loss: 0.3780 - accuracy: 0.7942 - val_loss: 0.3824 - val_accuracy: 0.7898\n",
            "Epoch 57/400\n",
            "105268/105268 [==============================] - 16s 156us/step - loss: 0.3780 - accuracy: 0.7940 - val_loss: 0.3838 - val_accuracy: 0.7881\n",
            "Epoch 58/400\n",
            "105268/105268 [==============================] - 16s 157us/step - loss: 0.3780 - accuracy: 0.7930 - val_loss: 0.3823 - val_accuracy: 0.7875\n",
            "Epoch 59/400\n",
            "105268/105268 [==============================] - 16s 155us/step - loss: 0.3779 - accuracy: 0.7938 - val_loss: 0.3812 - val_accuracy: 0.7881\n",
            "Epoch 60/400\n",
            "105268/105268 [==============================] - 17s 158us/step - loss: 0.3775 - accuracy: 0.7931 - val_loss: 0.3823 - val_accuracy: 0.7891\n",
            "Epoch 61/400\n",
            "105268/105268 [==============================] - 16s 154us/step - loss: 0.3776 - accuracy: 0.7936 - val_loss: 0.3854 - val_accuracy: 0.7885\n",
            "Epoch 62/400\n",
            "105268/105268 [==============================] - 16s 156us/step - loss: 0.3775 - accuracy: 0.7926 - val_loss: 0.3817 - val_accuracy: 0.7885\n",
            "Epoch 63/400\n",
            "105268/105268 [==============================] - 16s 154us/step - loss: 0.3774 - accuracy: 0.7928 - val_loss: 0.3808 - val_accuracy: 0.7894\n",
            "Epoch 64/400\n",
            "105268/105268 [==============================] - 17s 157us/step - loss: 0.3773 - accuracy: 0.7922 - val_loss: 0.3845 - val_accuracy: 0.7895\n",
            "Epoch 65/400\n",
            "105268/105268 [==============================] - 18s 167us/step - loss: 0.3774 - accuracy: 0.7933 - val_loss: 0.3816 - val_accuracy: 0.7899\n",
            "Epoch 66/400\n",
            "105268/105268 [==============================] - 16s 155us/step - loss: 0.3773 - accuracy: 0.7919 - val_loss: 0.3813 - val_accuracy: 0.7899\n",
            "Epoch 67/400\n",
            "105268/105268 [==============================] - 16s 155us/step - loss: 0.3771 - accuracy: 0.7932 - val_loss: 0.3803 - val_accuracy: 0.7904\n",
            "Epoch 68/400\n",
            "105268/105268 [==============================] - 16s 154us/step - loss: 0.3769 - accuracy: 0.7935 - val_loss: 0.3869 - val_accuracy: 0.7851\n",
            "Epoch 69/400\n",
            "105268/105268 [==============================] - 16s 155us/step - loss: 0.3771 - accuracy: 0.7927 - val_loss: 0.3840 - val_accuracy: 0.7904\n",
            "Epoch 70/400\n",
            "105268/105268 [==============================] - 17s 163us/step - loss: 0.3772 - accuracy: 0.7926 - val_loss: 0.3808 - val_accuracy: 0.7912\n",
            "Epoch 71/400\n",
            "105268/105268 [==============================] - 16s 157us/step - loss: 0.3767 - accuracy: 0.7930 - val_loss: 0.3797 - val_accuracy: 0.7908\n",
            "Epoch 72/400\n",
            "105268/105268 [==============================] - 16s 154us/step - loss: 0.3770 - accuracy: 0.7935 - val_loss: 0.3805 - val_accuracy: 0.7892\n",
            "Epoch 73/400\n",
            "105268/105268 [==============================] - 16s 155us/step - loss: 0.3767 - accuracy: 0.7929 - val_loss: 0.3844 - val_accuracy: 0.7858\n",
            "Epoch 74/400\n",
            "105268/105268 [==============================] - 16s 151us/step - loss: 0.3769 - accuracy: 0.7929 - val_loss: 0.3834 - val_accuracy: 0.7872\n",
            "Epoch 75/400\n",
            "105268/105268 [==============================] - 16s 151us/step - loss: 0.3767 - accuracy: 0.7926 - val_loss: 0.3799 - val_accuracy: 0.7906\n",
            "Epoch 76/400\n",
            "105268/105268 [==============================] - 16s 150us/step - loss: 0.3768 - accuracy: 0.7926 - val_loss: 0.3812 - val_accuracy: 0.7888\n",
            "Epoch 77/400\n",
            "105268/105268 [==============================] - 16s 153us/step - loss: 0.3761 - accuracy: 0.7942 - val_loss: 0.3804 - val_accuracy: 0.7892\n",
            "Epoch 78/400\n",
            "105268/105268 [==============================] - 16s 154us/step - loss: 0.3765 - accuracy: 0.7925 - val_loss: 0.3790 - val_accuracy: 0.7899\n",
            "Epoch 79/400\n",
            "105268/105268 [==============================] - 16s 155us/step - loss: 0.3763 - accuracy: 0.7928 - val_loss: 0.3795 - val_accuracy: 0.7906\n",
            "Epoch 80/400\n",
            "105268/105268 [==============================] - 16s 156us/step - loss: 0.3764 - accuracy: 0.7924 - val_loss: 0.3773 - val_accuracy: 0.7912\n",
            "Epoch 81/400\n",
            "105268/105268 [==============================] - 16s 155us/step - loss: 0.3760 - accuracy: 0.7927 - val_loss: 0.3782 - val_accuracy: 0.7897\n",
            "Epoch 82/400\n",
            "105268/105268 [==============================] - 16s 154us/step - loss: 0.3761 - accuracy: 0.7928 - val_loss: 0.3843 - val_accuracy: 0.7867\n",
            "Epoch 83/400\n",
            "105268/105268 [==============================] - 17s 158us/step - loss: 0.3764 - accuracy: 0.7924 - val_loss: 0.3784 - val_accuracy: 0.7901\n",
            "Epoch 84/400\n",
            "105268/105268 [==============================] - 17s 160us/step - loss: 0.3762 - accuracy: 0.7926 - val_loss: 0.3796 - val_accuracy: 0.7899\n",
            "Epoch 85/400\n",
            "105268/105268 [==============================] - 16s 150us/step - loss: 0.3761 - accuracy: 0.7930 - val_loss: 0.3818 - val_accuracy: 0.7881\n",
            "Epoch 86/400\n",
            "105268/105268 [==============================] - 16s 149us/step - loss: 0.3759 - accuracy: 0.7929 - val_loss: 0.3776 - val_accuracy: 0.7912\n",
            "Epoch 87/400\n",
            "105268/105268 [==============================] - 16s 149us/step - loss: 0.3754 - accuracy: 0.7933 - val_loss: 0.3930 - val_accuracy: 0.7812\n",
            "Epoch 88/400\n",
            "105268/105268 [==============================] - 16s 150us/step - loss: 0.3759 - accuracy: 0.7925 - val_loss: 0.3873 - val_accuracy: 0.7900\n",
            "Epoch 89/400\n",
            "105268/105268 [==============================] - 17s 162us/step - loss: 0.3758 - accuracy: 0.7932 - val_loss: 0.3852 - val_accuracy: 0.7866\n",
            "Epoch 90/400\n",
            "105268/105268 [==============================] - 16s 151us/step - loss: 0.3758 - accuracy: 0.7937 - val_loss: 0.3776 - val_accuracy: 0.7896\n",
            "Epoch 91/400\n",
            "105268/105268 [==============================] - 16s 151us/step - loss: 0.3756 - accuracy: 0.7928 - val_loss: 0.3834 - val_accuracy: 0.7885\n",
            "Epoch 92/400\n",
            "105268/105268 [==============================] - 16s 152us/step - loss: 0.3755 - accuracy: 0.7938 - val_loss: 0.3797 - val_accuracy: 0.7878\n",
            "Epoch 93/400\n",
            "105268/105268 [==============================] - 16s 155us/step - loss: 0.3754 - accuracy: 0.7914 - val_loss: 0.3779 - val_accuracy: 0.7894\n",
            "Epoch 94/400\n",
            "105268/105268 [==============================] - 16s 154us/step - loss: 0.3754 - accuracy: 0.7928 - val_loss: 0.3780 - val_accuracy: 0.7916\n",
            "Epoch 95/400\n",
            "105268/105268 [==============================] - 16s 153us/step - loss: 0.3754 - accuracy: 0.7919 - val_loss: 0.3773 - val_accuracy: 0.7918\n",
            "Epoch 96/400\n",
            "105268/105268 [==============================] - 16s 152us/step - loss: 0.3750 - accuracy: 0.7936 - val_loss: 0.3791 - val_accuracy: 0.7897\n",
            "Epoch 97/400\n",
            "105268/105268 [==============================] - 16s 152us/step - loss: 0.3749 - accuracy: 0.7927 - val_loss: 0.3838 - val_accuracy: 0.7911\n",
            "Epoch 98/400\n",
            "105268/105268 [==============================] - 16s 151us/step - loss: 0.3748 - accuracy: 0.7934 - val_loss: 0.3776 - val_accuracy: 0.7905\n",
            "Epoch 99/400\n",
            "105268/105268 [==============================] - 16s 151us/step - loss: 0.3745 - accuracy: 0.7929 - val_loss: 0.3758 - val_accuracy: 0.7908\n",
            "Epoch 100/400\n",
            "105268/105268 [==============================] - 16s 151us/step - loss: 0.3742 - accuracy: 0.7934 - val_loss: 0.3818 - val_accuracy: 0.7900\n",
            "Epoch 101/400\n",
            "105268/105268 [==============================] - 16s 151us/step - loss: 0.3736 - accuracy: 0.7935 - val_loss: 0.3792 - val_accuracy: 0.7888\n",
            "Epoch 102/400\n",
            "105268/105268 [==============================] - 16s 151us/step - loss: 0.3738 - accuracy: 0.7934 - val_loss: 0.3818 - val_accuracy: 0.7912\n",
            "Epoch 103/400\n",
            "105268/105268 [==============================] - 17s 158us/step - loss: 0.3735 - accuracy: 0.7938 - val_loss: 0.3769 - val_accuracy: 0.7882\n",
            "Epoch 104/400\n",
            "105268/105268 [==============================] - 16s 153us/step - loss: 0.3737 - accuracy: 0.7928 - val_loss: 0.3793 - val_accuracy: 0.7900\n",
            "Epoch 105/400\n",
            "105268/105268 [==============================] - 16s 151us/step - loss: 0.3735 - accuracy: 0.7926 - val_loss: 0.3822 - val_accuracy: 0.7858\n",
            "Epoch 106/400\n",
            "105268/105268 [==============================] - 16s 150us/step - loss: 0.3732 - accuracy: 0.7937 - val_loss: 0.3808 - val_accuracy: 0.7888\n",
            "Epoch 107/400\n",
            "105268/105268 [==============================] - 16s 151us/step - loss: 0.3734 - accuracy: 0.7930 - val_loss: 0.3772 - val_accuracy: 0.7893\n",
            "Epoch 108/400\n",
            "105268/105268 [==============================] - 17s 164us/step - loss: 0.3729 - accuracy: 0.7929 - val_loss: 0.3769 - val_accuracy: 0.7901\n",
            "Epoch 109/400\n",
            "105268/105268 [==============================] - 16s 152us/step - loss: 0.3728 - accuracy: 0.7929 - val_loss: 0.3751 - val_accuracy: 0.7902\n",
            "Epoch 110/400\n",
            "105268/105268 [==============================] - 16s 152us/step - loss: 0.3727 - accuracy: 0.7922 - val_loss: 0.3755 - val_accuracy: 0.7885\n",
            "Epoch 111/400\n",
            "105268/105268 [==============================] - 16s 154us/step - loss: 0.3728 - accuracy: 0.7936 - val_loss: 0.3764 - val_accuracy: 0.7906\n",
            "Epoch 112/400\n",
            "105268/105268 [==============================] - 16s 152us/step - loss: 0.3726 - accuracy: 0.7935 - val_loss: 0.3747 - val_accuracy: 0.7908\n",
            "Epoch 113/400\n",
            "105268/105268 [==============================] - 16s 156us/step - loss: 0.3724 - accuracy: 0.7931 - val_loss: 0.3760 - val_accuracy: 0.7900\n",
            "Epoch 114/400\n",
            "105268/105268 [==============================] - 16s 156us/step - loss: 0.3728 - accuracy: 0.7933 - val_loss: 0.3841 - val_accuracy: 0.7882\n",
            "Epoch 115/400\n",
            "105268/105268 [==============================] - 16s 156us/step - loss: 0.3722 - accuracy: 0.7940 - val_loss: 0.3759 - val_accuracy: 0.7896\n",
            "Epoch 116/400\n",
            "105268/105268 [==============================] - 16s 155us/step - loss: 0.3721 - accuracy: 0.7933 - val_loss: 0.3784 - val_accuracy: 0.7872\n",
            "Epoch 117/400\n",
            "105268/105268 [==============================] - 16s 150us/step - loss: 0.3719 - accuracy: 0.7934 - val_loss: 0.3816 - val_accuracy: 0.7893\n",
            "Epoch 118/400\n",
            "105268/105268 [==============================] - 16s 151us/step - loss: 0.3723 - accuracy: 0.7941 - val_loss: 0.3810 - val_accuracy: 0.7891\n",
            "Epoch 119/400\n",
            "105268/105268 [==============================] - 16s 153us/step - loss: 0.3719 - accuracy: 0.7938 - val_loss: 0.3751 - val_accuracy: 0.7901\n",
            "Epoch 120/400\n",
            "105268/105268 [==============================] - 16s 152us/step - loss: 0.3717 - accuracy: 0.7940 - val_loss: 0.3750 - val_accuracy: 0.7907\n",
            "Epoch 121/400\n",
            "105268/105268 [==============================] - 16s 150us/step - loss: 0.3717 - accuracy: 0.7942 - val_loss: 0.3758 - val_accuracy: 0.7890\n",
            "Epoch 122/400\n",
            "105268/105268 [==============================] - 16s 153us/step - loss: 0.3714 - accuracy: 0.7930 - val_loss: 0.3752 - val_accuracy: 0.7910\n",
            "Epoch 123/400\n",
            "105268/105268 [==============================] - 16s 155us/step - loss: 0.3712 - accuracy: 0.7937 - val_loss: 0.3770 - val_accuracy: 0.7889\n",
            "Epoch 124/400\n",
            "105268/105268 [==============================] - 16s 150us/step - loss: 0.3709 - accuracy: 0.7938 - val_loss: 0.3772 - val_accuracy: 0.7884\n",
            "Epoch 125/400\n",
            "105268/105268 [==============================] - 16s 151us/step - loss: 0.3709 - accuracy: 0.7944 - val_loss: 0.3754 - val_accuracy: 0.7892\n",
            "Epoch 126/400\n",
            "105268/105268 [==============================] - 16s 151us/step - loss: 0.3709 - accuracy: 0.7935 - val_loss: 0.3799 - val_accuracy: 0.7849\n",
            "Epoch 127/400\n",
            "105268/105268 [==============================] - 16s 157us/step - loss: 0.3711 - accuracy: 0.7932 - val_loss: 0.3750 - val_accuracy: 0.7885\n",
            "Epoch 128/400\n",
            "105268/105268 [==============================] - 16s 150us/step - loss: 0.3713 - accuracy: 0.7931 - val_loss: 0.3753 - val_accuracy: 0.7893\n",
            "Epoch 129/400\n",
            "105268/105268 [==============================] - 16s 150us/step - loss: 0.3711 - accuracy: 0.7945 - val_loss: 0.3756 - val_accuracy: 0.7881\n",
            "Epoch 130/400\n",
            "105268/105268 [==============================] - 16s 150us/step - loss: 0.3712 - accuracy: 0.7941 - val_loss: 0.3758 - val_accuracy: 0.7893\n",
            "Epoch 131/400\n",
            "105268/105268 [==============================] - 16s 149us/step - loss: 0.3708 - accuracy: 0.7937 - val_loss: 0.3763 - val_accuracy: 0.7896\n",
            "Epoch 132/400\n",
            "105268/105268 [==============================] - 16s 150us/step - loss: 0.3706 - accuracy: 0.7944 - val_loss: 0.3739 - val_accuracy: 0.7901\n",
            "Epoch 133/400\n",
            "105268/105268 [==============================] - 16s 150us/step - loss: 0.3708 - accuracy: 0.7934 - val_loss: 0.3825 - val_accuracy: 0.7897\n",
            "Epoch 134/400\n",
            "105268/105268 [==============================] - 16s 149us/step - loss: 0.3707 - accuracy: 0.7932 - val_loss: 0.3748 - val_accuracy: 0.7903\n",
            "Epoch 135/400\n",
            "105268/105268 [==============================] - 16s 150us/step - loss: 0.3705 - accuracy: 0.7932 - val_loss: 0.3755 - val_accuracy: 0.7914\n",
            "Epoch 136/400\n",
            "105268/105268 [==============================] - 16s 150us/step - loss: 0.3704 - accuracy: 0.7938 - val_loss: 0.3762 - val_accuracy: 0.7901\n",
            "Epoch 137/400\n",
            "105268/105268 [==============================] - 16s 150us/step - loss: 0.3702 - accuracy: 0.7935 - val_loss: 0.3780 - val_accuracy: 0.7885\n",
            "Epoch 138/400\n",
            "105268/105268 [==============================] - 16s 149us/step - loss: 0.3703 - accuracy: 0.7944 - val_loss: 0.3773 - val_accuracy: 0.7892\n",
            "Epoch 139/400\n",
            "105268/105268 [==============================] - 16s 150us/step - loss: 0.3704 - accuracy: 0.7943 - val_loss: 0.3849 - val_accuracy: 0.7881\n",
            "Epoch 140/400\n",
            "105268/105268 [==============================] - 16s 150us/step - loss: 0.3703 - accuracy: 0.7937 - val_loss: 0.3757 - val_accuracy: 0.7905\n",
            "Epoch 141/400\n",
            "105268/105268 [==============================] - 16s 150us/step - loss: 0.3705 - accuracy: 0.7938 - val_loss: 0.3729 - val_accuracy: 0.7904\n",
            "Epoch 142/400\n",
            "105268/105268 [==============================] - 17s 157us/step - loss: 0.3702 - accuracy: 0.7940 - val_loss: 0.3741 - val_accuracy: 0.7905\n",
            "Epoch 143/400\n",
            "105268/105268 [==============================] - 20s 186us/step - loss: 0.3700 - accuracy: 0.7942 - val_loss: 0.3731 - val_accuracy: 0.7908\n",
            "Epoch 144/400\n",
            "105268/105268 [==============================] - 16s 152us/step - loss: 0.3698 - accuracy: 0.7947 - val_loss: 0.3745 - val_accuracy: 0.7890\n",
            "Epoch 145/400\n",
            "105268/105268 [==============================] - 16s 150us/step - loss: 0.3703 - accuracy: 0.7953 - val_loss: 0.3776 - val_accuracy: 0.7896\n",
            "Epoch 146/400\n",
            "105268/105268 [==============================] - 17s 157us/step - loss: 0.3697 - accuracy: 0.7951 - val_loss: 0.3750 - val_accuracy: 0.7901\n",
            "Epoch 147/400\n",
            "105268/105268 [==============================] - 16s 155us/step - loss: 0.3701 - accuracy: 0.7939 - val_loss: 0.3735 - val_accuracy: 0.7910\n",
            "Epoch 148/400\n",
            "105268/105268 [==============================] - 17s 159us/step - loss: 0.3697 - accuracy: 0.7943 - val_loss: 0.3816 - val_accuracy: 0.7879\n",
            "Epoch 149/400\n",
            "105268/105268 [==============================] - 16s 154us/step - loss: 0.3698 - accuracy: 0.7946 - val_loss: 0.3780 - val_accuracy: 0.7902\n",
            "Epoch 150/400\n",
            "105268/105268 [==============================] - 17s 158us/step - loss: 0.3701 - accuracy: 0.7944 - val_loss: 0.3725 - val_accuracy: 0.7904\n",
            "Epoch 151/400\n",
            "105268/105268 [==============================] - 16s 155us/step - loss: 0.3700 - accuracy: 0.7944 - val_loss: 0.3849 - val_accuracy: 0.7896\n",
            "Epoch 152/400\n",
            "105268/105268 [==============================] - 17s 158us/step - loss: 0.3702 - accuracy: 0.7942 - val_loss: 0.3766 - val_accuracy: 0.7889\n",
            "Epoch 153/400\n",
            "105268/105268 [==============================] - 17s 158us/step - loss: 0.3698 - accuracy: 0.7945 - val_loss: 0.3741 - val_accuracy: 0.7902\n",
            "Epoch 154/400\n",
            "105268/105268 [==============================] - 17s 157us/step - loss: 0.3694 - accuracy: 0.7951 - val_loss: 0.3725 - val_accuracy: 0.7916\n",
            "Epoch 155/400\n",
            "105268/105268 [==============================] - 17s 157us/step - loss: 0.3698 - accuracy: 0.7949 - val_loss: 0.3751 - val_accuracy: 0.7910\n",
            "Epoch 156/400\n",
            "105268/105268 [==============================] - 16s 157us/step - loss: 0.3696 - accuracy: 0.7946 - val_loss: 0.3759 - val_accuracy: 0.7887\n",
            "Epoch 157/400\n",
            "105268/105268 [==============================] - 17s 157us/step - loss: 0.3698 - accuracy: 0.7940 - val_loss: 0.3736 - val_accuracy: 0.7895\n",
            "Epoch 158/400\n",
            "105268/105268 [==============================] - 16s 156us/step - loss: 0.3695 - accuracy: 0.7945 - val_loss: 0.3752 - val_accuracy: 0.7892\n",
            "Epoch 159/400\n",
            "105268/105268 [==============================] - 17s 157us/step - loss: 0.3694 - accuracy: 0.7938 - val_loss: 0.3749 - val_accuracy: 0.7907\n",
            "Epoch 160/400\n",
            "105268/105268 [==============================] - 17s 157us/step - loss: 0.3694 - accuracy: 0.7945 - val_loss: 0.3764 - val_accuracy: 0.7897\n",
            "Epoch 161/400\n",
            "105268/105268 [==============================] - 18s 173us/step - loss: 0.3697 - accuracy: 0.7935 - val_loss: 0.3720 - val_accuracy: 0.7912\n",
            "Epoch 162/400\n",
            "105268/105268 [==============================] - 16s 156us/step - loss: 0.3695 - accuracy: 0.7942 - val_loss: 0.3731 - val_accuracy: 0.7891\n",
            "Epoch 163/400\n",
            "105268/105268 [==============================] - 17s 157us/step - loss: 0.3696 - accuracy: 0.7946 - val_loss: 0.3827 - val_accuracy: 0.7905\n",
            "Epoch 164/400\n",
            "105268/105268 [==============================] - 17s 161us/step - loss: 0.3689 - accuracy: 0.7952 - val_loss: 0.3767 - val_accuracy: 0.7845\n",
            "Epoch 165/400\n",
            "105268/105268 [==============================] - 17s 159us/step - loss: 0.3693 - accuracy: 0.7938 - val_loss: 0.3742 - val_accuracy: 0.7877\n",
            "Epoch 166/400\n",
            "105268/105268 [==============================] - 17s 158us/step - loss: 0.3692 - accuracy: 0.7931 - val_loss: 0.3722 - val_accuracy: 0.7922\n",
            "Epoch 167/400\n",
            "105268/105268 [==============================] - 17s 157us/step - loss: 0.3691 - accuracy: 0.7942 - val_loss: 0.3723 - val_accuracy: 0.7902\n",
            "Epoch 168/400\n",
            "105268/105268 [==============================] - 16s 155us/step - loss: 0.3696 - accuracy: 0.7942 - val_loss: 0.3742 - val_accuracy: 0.7892\n",
            "Epoch 169/400\n",
            "105268/105268 [==============================] - 16s 151us/step - loss: 0.3700 - accuracy: 0.7937 - val_loss: 0.3722 - val_accuracy: 0.7900\n",
            "Epoch 170/400\n",
            "105268/105268 [==============================] - 16s 150us/step - loss: 0.3694 - accuracy: 0.7933 - val_loss: 0.3781 - val_accuracy: 0.7893\n",
            "Epoch 171/400\n",
            "105268/105268 [==============================] - 16s 150us/step - loss: 0.3691 - accuracy: 0.7944 - val_loss: 0.3782 - val_accuracy: 0.7910\n",
            "Epoch 172/400\n",
            "105268/105268 [==============================] - 16s 150us/step - loss: 0.3692 - accuracy: 0.7940 - val_loss: 0.3759 - val_accuracy: 0.7906\n",
            "Epoch 173/400\n",
            "105268/105268 [==============================] - 16s 155us/step - loss: 0.3695 - accuracy: 0.7945 - val_loss: 0.3729 - val_accuracy: 0.7897\n",
            "Epoch 174/400\n",
            "105268/105268 [==============================] - 16s 157us/step - loss: 0.3691 - accuracy: 0.7944 - val_loss: 0.3784 - val_accuracy: 0.7840\n",
            "Epoch 175/400\n",
            "105268/105268 [==============================] - 16s 154us/step - loss: 0.3693 - accuracy: 0.7939 - val_loss: 0.3751 - val_accuracy: 0.7906\n",
            "Epoch 176/400\n",
            "105268/105268 [==============================] - 17s 158us/step - loss: 0.3687 - accuracy: 0.7949 - val_loss: 0.3769 - val_accuracy: 0.7910\n",
            "Epoch 177/400\n",
            "105268/105268 [==============================] - 17s 158us/step - loss: 0.3688 - accuracy: 0.7951 - val_loss: 0.3778 - val_accuracy: 0.7882\n",
            "Epoch 178/400\n",
            "105268/105268 [==============================] - 16s 156us/step - loss: 0.3691 - accuracy: 0.7935 - val_loss: 0.3743 - val_accuracy: 0.7904\n",
            "Epoch 179/400\n",
            "105268/105268 [==============================] - 16s 156us/step - loss: 0.3686 - accuracy: 0.7945 - val_loss: 0.3771 - val_accuracy: 0.7867\n",
            "Epoch 180/400\n",
            "105268/105268 [==============================] - 22s 208us/step - loss: 0.3689 - accuracy: 0.7942 - val_loss: 0.3762 - val_accuracy: 0.7855\n",
            "Epoch 181/400\n",
            "105268/105268 [==============================] - 17s 158us/step - loss: 0.3685 - accuracy: 0.7938 - val_loss: 0.3726 - val_accuracy: 0.7906\n",
            "Epoch 182/400\n",
            "105268/105268 [==============================] - 17s 158us/step - loss: 0.3686 - accuracy: 0.7935 - val_loss: 0.3730 - val_accuracy: 0.7898\n",
            "Epoch 183/400\n",
            "105268/105268 [==============================] - 17s 164us/step - loss: 0.3689 - accuracy: 0.7954 - val_loss: 0.3749 - val_accuracy: 0.7889\n",
            "Epoch 184/400\n",
            "105268/105268 [==============================] - 16s 156us/step - loss: 0.3684 - accuracy: 0.7949 - val_loss: 0.3796 - val_accuracy: 0.7823\n",
            "Epoch 185/400\n",
            "105268/105268 [==============================] - 16s 156us/step - loss: 0.3685 - accuracy: 0.7945 - val_loss: 0.3722 - val_accuracy: 0.7906\n",
            "Epoch 186/400\n",
            "105268/105268 [==============================] - 16s 156us/step - loss: 0.3686 - accuracy: 0.7944 - val_loss: 0.3726 - val_accuracy: 0.7908\n",
            "Epoch 187/400\n",
            "105268/105268 [==============================] - 17s 158us/step - loss: 0.3685 - accuracy: 0.7942 - val_loss: 0.3752 - val_accuracy: 0.7864\n",
            "Epoch 188/400\n",
            "105268/105268 [==============================] - 17s 159us/step - loss: 0.3684 - accuracy: 0.7956 - val_loss: 0.3718 - val_accuracy: 0.7911\n",
            "Epoch 189/400\n",
            "105268/105268 [==============================] - 16s 156us/step - loss: 0.3683 - accuracy: 0.7948 - val_loss: 0.3715 - val_accuracy: 0.7900\n",
            "Epoch 190/400\n",
            "105268/105268 [==============================] - 17s 158us/step - loss: 0.3684 - accuracy: 0.7937 - val_loss: 0.3741 - val_accuracy: 0.7916\n",
            "Epoch 191/400\n",
            "105268/105268 [==============================] - 16s 154us/step - loss: 0.3683 - accuracy: 0.7943 - val_loss: 0.3709 - val_accuracy: 0.7904\n",
            "Epoch 192/400\n",
            "105268/105268 [==============================] - 17s 165us/step - loss: 0.3683 - accuracy: 0.7946 - val_loss: 0.3736 - val_accuracy: 0.7906\n",
            "Epoch 193/400\n",
            "105268/105268 [==============================] - 17s 160us/step - loss: 0.3683 - accuracy: 0.7945 - val_loss: 0.3795 - val_accuracy: 0.7895\n",
            "Epoch 194/400\n",
            "105268/105268 [==============================] - 16s 154us/step - loss: 0.3687 - accuracy: 0.7934 - val_loss: 0.3744 - val_accuracy: 0.7890\n",
            "Epoch 195/400\n",
            "105268/105268 [==============================] - 16s 152us/step - loss: 0.3682 - accuracy: 0.7945 - val_loss: 0.3778 - val_accuracy: 0.7895\n",
            "Epoch 196/400\n",
            "105268/105268 [==============================] - 16s 155us/step - loss: 0.3680 - accuracy: 0.7948 - val_loss: 0.3780 - val_accuracy: 0.7905\n",
            "Epoch 197/400\n",
            "105268/105268 [==============================] - 16s 153us/step - loss: 0.3680 - accuracy: 0.7945 - val_loss: 0.3715 - val_accuracy: 0.7909\n",
            "Epoch 198/400\n",
            "105268/105268 [==============================] - 17s 158us/step - loss: 0.3682 - accuracy: 0.7946 - val_loss: 0.3758 - val_accuracy: 0.7871\n",
            "Epoch 199/400\n",
            "105268/105268 [==============================] - 16s 153us/step - loss: 0.3684 - accuracy: 0.7939 - val_loss: 0.3763 - val_accuracy: 0.7890\n",
            "Epoch 200/400\n",
            "105268/105268 [==============================] - 16s 153us/step - loss: 0.3679 - accuracy: 0.7949 - val_loss: 0.3724 - val_accuracy: 0.7895\n",
            "Epoch 201/400\n",
            "105268/105268 [==============================] - 17s 160us/step - loss: 0.3681 - accuracy: 0.7950 - val_loss: 0.3713 - val_accuracy: 0.7913\n",
            "Epoch 202/400\n",
            "105268/105268 [==============================] - 18s 168us/step - loss: 0.3678 - accuracy: 0.7948 - val_loss: 0.3717 - val_accuracy: 0.7914\n",
            "Epoch 203/400\n",
            "105268/105268 [==============================] - 16s 157us/step - loss: 0.3682 - accuracy: 0.7937 - val_loss: 0.3719 - val_accuracy: 0.7904\n",
            "Epoch 204/400\n",
            "105268/105268 [==============================] - 16s 153us/step - loss: 0.3680 - accuracy: 0.7943 - val_loss: 0.3722 - val_accuracy: 0.7903\n",
            "Epoch 205/400\n",
            "105268/105268 [==============================] - 16s 153us/step - loss: 0.3679 - accuracy: 0.7938 - val_loss: 0.3742 - val_accuracy: 0.7889\n",
            "Epoch 206/400\n",
            "105268/105268 [==============================] - 16s 155us/step - loss: 0.3677 - accuracy: 0.7948 - val_loss: 0.3723 - val_accuracy: 0.7916\n",
            "Epoch 207/400\n",
            "105268/105268 [==============================] - 16s 153us/step - loss: 0.3676 - accuracy: 0.7946 - val_loss: 0.3794 - val_accuracy: 0.7898\n",
            "Epoch 208/400\n",
            "105268/105268 [==============================] - 16s 154us/step - loss: 0.3679 - accuracy: 0.7942 - val_loss: 0.3713 - val_accuracy: 0.7892\n",
            "Epoch 209/400\n",
            "105268/105268 [==============================] - 16s 153us/step - loss: 0.3676 - accuracy: 0.7947 - val_loss: 0.3739 - val_accuracy: 0.7907\n",
            "Epoch 210/400\n",
            "105268/105268 [==============================] - 16s 152us/step - loss: 0.3681 - accuracy: 0.7949 - val_loss: 0.3715 - val_accuracy: 0.7909\n",
            "Epoch 211/400\n",
            "105268/105268 [==============================] - 16s 151us/step - loss: 0.3677 - accuracy: 0.7952 - val_loss: 0.3759 - val_accuracy: 0.7878\n",
            "Epoch 212/400\n",
            "105268/105268 [==============================] - 16s 151us/step - loss: 0.3677 - accuracy: 0.7941 - val_loss: 0.3727 - val_accuracy: 0.7875\n",
            "Epoch 213/400\n",
            "105268/105268 [==============================] - 16s 151us/step - loss: 0.3679 - accuracy: 0.7949 - val_loss: 0.3735 - val_accuracy: 0.7888\n",
            "Epoch 214/400\n",
            "105268/105268 [==============================] - 16s 150us/step - loss: 0.3678 - accuracy: 0.7945 - val_loss: 0.3715 - val_accuracy: 0.7920\n",
            "Epoch 215/400\n",
            "105268/105268 [==============================] - 16s 151us/step - loss: 0.3678 - accuracy: 0.7943 - val_loss: 0.3726 - val_accuracy: 0.7907\n",
            "Epoch 216/400\n",
            "105268/105268 [==============================] - 16s 150us/step - loss: 0.3673 - accuracy: 0.7950 - val_loss: 0.3730 - val_accuracy: 0.7889\n",
            "Epoch 217/400\n",
            "105268/105268 [==============================] - 17s 157us/step - loss: 0.3674 - accuracy: 0.7953 - val_loss: 0.3721 - val_accuracy: 0.7893\n",
            "Epoch 218/400\n",
            "105268/105268 [==============================] - 17s 164us/step - loss: 0.3675 - accuracy: 0.7940 - val_loss: 0.3741 - val_accuracy: 0.7908\n",
            "Epoch 219/400\n",
            "105268/105268 [==============================] - 16s 152us/step - loss: 0.3679 - accuracy: 0.7939 - val_loss: 0.3706 - val_accuracy: 0.7912\n",
            "Epoch 220/400\n",
            "105268/105268 [==============================] - 17s 157us/step - loss: 0.3675 - accuracy: 0.7949 - val_loss: 0.3717 - val_accuracy: 0.7877\n",
            "Epoch 221/400\n",
            "105268/105268 [==============================] - 16s 156us/step - loss: 0.3678 - accuracy: 0.7942 - val_loss: 0.3709 - val_accuracy: 0.7896\n",
            "Epoch 222/400\n",
            "105268/105268 [==============================] - 16s 153us/step - loss: 0.3677 - accuracy: 0.7949 - val_loss: 0.3698 - val_accuracy: 0.7913\n",
            "Epoch 223/400\n",
            "105268/105268 [==============================] - 16s 154us/step - loss: 0.3674 - accuracy: 0.7940 - val_loss: 0.3704 - val_accuracy: 0.7904\n",
            "Epoch 224/400\n",
            "105268/105268 [==============================] - 16s 152us/step - loss: 0.3676 - accuracy: 0.7942 - val_loss: 0.3697 - val_accuracy: 0.7915\n",
            "Epoch 225/400\n",
            "105268/105268 [==============================] - 16s 151us/step - loss: 0.3677 - accuracy: 0.7946 - val_loss: 0.3721 - val_accuracy: 0.7916\n",
            "Epoch 226/400\n",
            "105268/105268 [==============================] - 16s 154us/step - loss: 0.3675 - accuracy: 0.7952 - val_loss: 0.3726 - val_accuracy: 0.7895\n",
            "Epoch 227/400\n",
            "105268/105268 [==============================] - 16s 153us/step - loss: 0.3675 - accuracy: 0.7946 - val_loss: 0.3801 - val_accuracy: 0.7875\n",
            "Epoch 228/400\n",
            "105268/105268 [==============================] - 16s 152us/step - loss: 0.3675 - accuracy: 0.7953 - val_loss: 0.3717 - val_accuracy: 0.7905\n",
            "Epoch 229/400\n",
            "105268/105268 [==============================] - 16s 154us/step - loss: 0.3674 - accuracy: 0.7948 - val_loss: 0.3781 - val_accuracy: 0.7894\n",
            "Epoch 230/400\n",
            "105268/105268 [==============================] - 16s 154us/step - loss: 0.3676 - accuracy: 0.7941 - val_loss: 0.3711 - val_accuracy: 0.7894\n",
            "Epoch 231/400\n",
            "105268/105268 [==============================] - 16s 154us/step - loss: 0.3675 - accuracy: 0.7948 - val_loss: 0.3725 - val_accuracy: 0.7915\n",
            "Epoch 232/400\n",
            "105268/105268 [==============================] - 16s 154us/step - loss: 0.3674 - accuracy: 0.7958 - val_loss: 0.3729 - val_accuracy: 0.7908\n",
            "Epoch 233/400\n",
            "105268/105268 [==============================] - 16s 156us/step - loss: 0.3674 - accuracy: 0.7951 - val_loss: 0.3702 - val_accuracy: 0.7908\n",
            "Epoch 234/400\n",
            "105268/105268 [==============================] - 16s 153us/step - loss: 0.3673 - accuracy: 0.7955 - val_loss: 0.3700 - val_accuracy: 0.7911\n",
            "Epoch 235/400\n",
            "105268/105268 [==============================] - 16s 151us/step - loss: 0.3674 - accuracy: 0.7946 - val_loss: 0.3743 - val_accuracy: 0.7899\n",
            "Epoch 236/400\n",
            "105268/105268 [==============================] - 16s 152us/step - loss: 0.3671 - accuracy: 0.7953 - val_loss: 0.3730 - val_accuracy: 0.7906\n",
            "Epoch 237/400\n",
            "105268/105268 [==============================] - 17s 157us/step - loss: 0.3673 - accuracy: 0.7958 - val_loss: 0.3737 - val_accuracy: 0.7899\n",
            "Epoch 238/400\n",
            "105268/105268 [==============================] - 16s 150us/step - loss: 0.3671 - accuracy: 0.7950 - val_loss: 0.3733 - val_accuracy: 0.7890\n",
            "Epoch 239/400\n",
            "105268/105268 [==============================] - 16s 152us/step - loss: 0.3673 - accuracy: 0.7949 - val_loss: 0.3715 - val_accuracy: 0.7917\n",
            "Epoch 240/400\n",
            "105268/105268 [==============================] - 16s 154us/step - loss: 0.3674 - accuracy: 0.7945 - val_loss: 0.3738 - val_accuracy: 0.7894\n",
            "Epoch 241/400\n",
            "105268/105268 [==============================] - 16s 150us/step - loss: 0.3673 - accuracy: 0.7949 - val_loss: 0.3734 - val_accuracy: 0.7906\n",
            "Epoch 242/400\n",
            "105268/105268 [==============================] - 16s 150us/step - loss: 0.3671 - accuracy: 0.7952 - val_loss: 0.3713 - val_accuracy: 0.7900\n",
            "Epoch 243/400\n",
            "105268/105268 [==============================] - 16s 150us/step - loss: 0.3674 - accuracy: 0.7945 - val_loss: 0.3708 - val_accuracy: 0.7908\n",
            "Epoch 244/400\n",
            "105268/105268 [==============================] - 16s 150us/step - loss: 0.3675 - accuracy: 0.7950 - val_loss: 0.3727 - val_accuracy: 0.7880\n",
            "Epoch 245/400\n",
            "105268/105268 [==============================] - 16s 150us/step - loss: 0.3674 - accuracy: 0.7942 - val_loss: 0.3715 - val_accuracy: 0.7903\n",
            "Epoch 246/400\n",
            "105268/105268 [==============================] - 16s 150us/step - loss: 0.3672 - accuracy: 0.7942 - val_loss: 0.3734 - val_accuracy: 0.7908\n",
            "Epoch 247/400\n",
            "105268/105268 [==============================] - 16s 150us/step - loss: 0.3670 - accuracy: 0.7958 - val_loss: 0.3699 - val_accuracy: 0.7921\n",
            "Epoch 248/400\n",
            "105268/105268 [==============================] - 16s 152us/step - loss: 0.3672 - accuracy: 0.7946 - val_loss: 0.3717 - val_accuracy: 0.7903\n",
            "Epoch 249/400\n",
            "105268/105268 [==============================] - 16s 149us/step - loss: 0.3670 - accuracy: 0.7942 - val_loss: 0.3709 - val_accuracy: 0.7906\n",
            "Epoch 250/400\n",
            "105268/105268 [==============================] - 16s 150us/step - loss: 0.3669 - accuracy: 0.7949 - val_loss: 0.3802 - val_accuracy: 0.7836\n",
            "Epoch 251/400\n",
            "105268/105268 [==============================] - 16s 151us/step - loss: 0.3675 - accuracy: 0.7951 - val_loss: 0.3719 - val_accuracy: 0.7892\n",
            "Epoch 252/400\n",
            "105268/105268 [==============================] - 16s 151us/step - loss: 0.3668 - accuracy: 0.7951 - val_loss: 0.3709 - val_accuracy: 0.7927\n",
            "Epoch 253/400\n",
            "105268/105268 [==============================] - 16s 150us/step - loss: 0.3670 - accuracy: 0.7946 - val_loss: 0.3724 - val_accuracy: 0.7906\n",
            "Epoch 254/400\n",
            "105268/105268 [==============================] - 16s 150us/step - loss: 0.3672 - accuracy: 0.7950 - val_loss: 0.3702 - val_accuracy: 0.7912\n",
            "Epoch 255/400\n",
            "105268/105268 [==============================] - 16s 150us/step - loss: 0.3670 - accuracy: 0.7957 - val_loss: 0.3700 - val_accuracy: 0.7900\n",
            "Epoch 256/400\n",
            "105268/105268 [==============================] - 16s 156us/step - loss: 0.3673 - accuracy: 0.7955 - val_loss: 0.3743 - val_accuracy: 0.7897\n",
            "Epoch 257/400\n",
            "105268/105268 [==============================] - 16s 151us/step - loss: 0.3672 - accuracy: 0.7941 - val_loss: 0.3719 - val_accuracy: 0.7914\n",
            "Epoch 258/400\n",
            "105268/105268 [==============================] - 16s 150us/step - loss: 0.3670 - accuracy: 0.7943 - val_loss: 0.3702 - val_accuracy: 0.7901\n",
            "Epoch 259/400\n",
            "105268/105268 [==============================] - 16s 156us/step - loss: 0.3668 - accuracy: 0.7949 - val_loss: 0.3687 - val_accuracy: 0.7912\n",
            "Epoch 260/400\n",
            "105268/105268 [==============================] - 16s 150us/step - loss: 0.3668 - accuracy: 0.7949 - val_loss: 0.3796 - val_accuracy: 0.7896\n",
            "Epoch 261/400\n",
            "105268/105268 [==============================] - 16s 150us/step - loss: 0.3669 - accuracy: 0.7956 - val_loss: 0.3778 - val_accuracy: 0.7879\n",
            "Epoch 262/400\n",
            "105268/105268 [==============================] - 16s 149us/step - loss: 0.3672 - accuracy: 0.7950 - val_loss: 0.3733 - val_accuracy: 0.7875\n",
            "Epoch 263/400\n",
            "105268/105268 [==============================] - 16s 151us/step - loss: 0.3669 - accuracy: 0.7945 - val_loss: 0.3776 - val_accuracy: 0.7885\n",
            "Epoch 264/400\n",
            "105268/105268 [==============================] - 16s 149us/step - loss: 0.3670 - accuracy: 0.7942 - val_loss: 0.3681 - val_accuracy: 0.7910\n",
            "Epoch 265/400\n",
            "105268/105268 [==============================] - 16s 149us/step - loss: 0.3670 - accuracy: 0.7943 - val_loss: 0.3704 - val_accuracy: 0.7910\n",
            "Epoch 266/400\n",
            "105268/105268 [==============================] - 16s 150us/step - loss: 0.3669 - accuracy: 0.7944 - val_loss: 0.3746 - val_accuracy: 0.7895\n",
            "Epoch 267/400\n",
            "105268/105268 [==============================] - 16s 151us/step - loss: 0.3671 - accuracy: 0.7937 - val_loss: 0.3726 - val_accuracy: 0.7898\n",
            "Epoch 268/400\n",
            "105268/105268 [==============================] - 16s 150us/step - loss: 0.3672 - accuracy: 0.7941 - val_loss: 0.3770 - val_accuracy: 0.7879\n",
            "Epoch 269/400\n",
            "105268/105268 [==============================] - 16s 150us/step - loss: 0.3671 - accuracy: 0.7945 - val_loss: 0.3694 - val_accuracy: 0.7913\n",
            "Epoch 270/400\n",
            "105268/105268 [==============================] - 16s 150us/step - loss: 0.3670 - accuracy: 0.7950 - val_loss: 0.3705 - val_accuracy: 0.7889\n",
            "Epoch 271/400\n",
            "105268/105268 [==============================] - 16s 151us/step - loss: 0.3673 - accuracy: 0.7950 - val_loss: 0.3710 - val_accuracy: 0.7910\n",
            "Epoch 272/400\n",
            "105268/105268 [==============================] - 16s 150us/step - loss: 0.3668 - accuracy: 0.7948 - val_loss: 0.3740 - val_accuracy: 0.7887\n",
            "Epoch 273/400\n",
            "105268/105268 [==============================] - 16s 151us/step - loss: 0.3669 - accuracy: 0.7945 - val_loss: 0.3740 - val_accuracy: 0.7897\n",
            "Epoch 274/400\n",
            "105268/105268 [==============================] - 16s 151us/step - loss: 0.3671 - accuracy: 0.7945 - val_loss: 0.3785 - val_accuracy: 0.7886\n",
            "Epoch 275/400\n",
            "105268/105268 [==============================] - 16s 151us/step - loss: 0.3671 - accuracy: 0.7954 - val_loss: 0.3736 - val_accuracy: 0.7908\n",
            "Epoch 276/400\n",
            "105268/105268 [==============================] - 17s 159us/step - loss: 0.3671 - accuracy: 0.7942 - val_loss: 0.3700 - val_accuracy: 0.7922\n",
            "Epoch 277/400\n",
            "105268/105268 [==============================] - 16s 150us/step - loss: 0.3665 - accuracy: 0.7952 - val_loss: 0.3751 - val_accuracy: 0.7878\n",
            "Epoch 278/400\n",
            "105268/105268 [==============================] - 16s 156us/step - loss: 0.3666 - accuracy: 0.7954 - val_loss: 0.3721 - val_accuracy: 0.7917\n",
            "Epoch 279/400\n",
            "105268/105268 [==============================] - 16s 150us/step - loss: 0.3666 - accuracy: 0.7947 - val_loss: 0.3737 - val_accuracy: 0.7883\n",
            "Epoch 280/400\n",
            "105268/105268 [==============================] - 16s 153us/step - loss: 0.3669 - accuracy: 0.7951 - val_loss: 0.3707 - val_accuracy: 0.7908\n",
            "Epoch 281/400\n",
            "105268/105268 [==============================] - 16s 153us/step - loss: 0.3669 - accuracy: 0.7950 - val_loss: 0.3776 - val_accuracy: 0.7865\n",
            "Epoch 282/400\n",
            "105268/105268 [==============================] - 16s 151us/step - loss: 0.3672 - accuracy: 0.7956 - val_loss: 0.3703 - val_accuracy: 0.7911\n",
            "Epoch 283/400\n",
            "105268/105268 [==============================] - 16s 151us/step - loss: 0.3670 - accuracy: 0.7949 - val_loss: 0.3729 - val_accuracy: 0.7891\n",
            "Epoch 284/400\n",
            "105268/105268 [==============================] - 16s 151us/step - loss: 0.3671 - accuracy: 0.7946 - val_loss: 0.3725 - val_accuracy: 0.7901\n",
            "Epoch 285/400\n",
            "105268/105268 [==============================] - 16s 151us/step - loss: 0.3672 - accuracy: 0.7944 - val_loss: 0.3714 - val_accuracy: 0.7901\n",
            "Epoch 286/400\n",
            "105268/105268 [==============================] - 16s 154us/step - loss: 0.3672 - accuracy: 0.7956 - val_loss: 0.3708 - val_accuracy: 0.7907\n",
            "Epoch 287/400\n",
            "105268/105268 [==============================] - 16s 153us/step - loss: 0.3670 - accuracy: 0.7959 - val_loss: 0.3707 - val_accuracy: 0.7914\n",
            "Epoch 288/400\n",
            "105268/105268 [==============================] - 16s 153us/step - loss: 0.3667 - accuracy: 0.7960 - val_loss: 0.3708 - val_accuracy: 0.7920\n",
            "Epoch 289/400\n",
            "105268/105268 [==============================] - 16s 153us/step - loss: 0.3668 - accuracy: 0.7946 - val_loss: 0.3717 - val_accuracy: 0.7907\n",
            "Epoch 290/400\n",
            "105268/105268 [==============================] - 16s 154us/step - loss: 0.3669 - accuracy: 0.7952 - val_loss: 0.3720 - val_accuracy: 0.7896\n",
            "Epoch 291/400\n",
            "105268/105268 [==============================] - 16s 153us/step - loss: 0.3667 - accuracy: 0.7947 - val_loss: 0.3741 - val_accuracy: 0.7895\n",
            "Epoch 292/400\n",
            "105268/105268 [==============================] - 16s 153us/step - loss: 0.3671 - accuracy: 0.7949 - val_loss: 0.3728 - val_accuracy: 0.7897\n",
            "Epoch 293/400\n",
            "105268/105268 [==============================] - 16s 153us/step - loss: 0.3670 - accuracy: 0.7945 - val_loss: 0.3724 - val_accuracy: 0.7893\n",
            "Epoch 294/400\n",
            "105268/105268 [==============================] - 16s 154us/step - loss: 0.3669 - accuracy: 0.7944 - val_loss: 0.3749 - val_accuracy: 0.7898\n",
            "Epoch 295/400\n",
            "105268/105268 [==============================] - 17s 159us/step - loss: 0.3670 - accuracy: 0.7945 - val_loss: 0.3693 - val_accuracy: 0.7915\n",
            "Epoch 296/400\n",
            "105268/105268 [==============================] - 16s 153us/step - loss: 0.3670 - accuracy: 0.7949 - val_loss: 0.3699 - val_accuracy: 0.7918\n",
            "Epoch 297/400\n",
            "105268/105268 [==============================] - 17s 159us/step - loss: 0.3667 - accuracy: 0.7952 - val_loss: 0.3697 - val_accuracy: 0.7922\n",
            "Epoch 298/400\n",
            "105268/105268 [==============================] - 16s 152us/step - loss: 0.3668 - accuracy: 0.7950 - val_loss: 0.3715 - val_accuracy: 0.7917\n",
            "Epoch 299/400\n",
            "105268/105268 [==============================] - 16s 153us/step - loss: 0.3666 - accuracy: 0.7948 - val_loss: 0.3698 - val_accuracy: 0.7914\n",
            "Epoch 300/400\n",
            "105268/105268 [==============================] - 16s 153us/step - loss: 0.3665 - accuracy: 0.7948 - val_loss: 0.3724 - val_accuracy: 0.7907\n",
            "Epoch 301/400\n",
            "105268/105268 [==============================] - 16s 153us/step - loss: 0.3667 - accuracy: 0.7943 - val_loss: 0.3725 - val_accuracy: 0.7892\n",
            "Epoch 302/400\n",
            "105268/105268 [==============================] - 16s 152us/step - loss: 0.3667 - accuracy: 0.7945 - val_loss: 0.3697 - val_accuracy: 0.7924\n",
            "Epoch 303/400\n",
            "105268/105268 [==============================] - 16s 154us/step - loss: 0.3665 - accuracy: 0.7950 - val_loss: 0.3707 - val_accuracy: 0.7904\n",
            "Epoch 304/400\n",
            "105268/105268 [==============================] - 16s 153us/step - loss: 0.3669 - accuracy: 0.7939 - val_loss: 0.3728 - val_accuracy: 0.7906\n",
            "Epoch 305/400\n",
            "105268/105268 [==============================] - 16s 153us/step - loss: 0.3666 - accuracy: 0.7953 - val_loss: 0.3760 - val_accuracy: 0.7913\n",
            "Epoch 306/400\n",
            "105268/105268 [==============================] - 16s 155us/step - loss: 0.3668 - accuracy: 0.7947 - val_loss: 0.3714 - val_accuracy: 0.7908\n",
            "Epoch 307/400\n",
            "105268/105268 [==============================] - 16s 152us/step - loss: 0.3668 - accuracy: 0.7941 - val_loss: 0.3724 - val_accuracy: 0.7911\n",
            "Epoch 308/400\n",
            "105268/105268 [==============================] - 16s 152us/step - loss: 0.3665 - accuracy: 0.7950 - val_loss: 0.3720 - val_accuracy: 0.7894\n",
            "Epoch 309/400\n",
            "105268/105268 [==============================] - 16s 151us/step - loss: 0.3663 - accuracy: 0.7958 - val_loss: 0.3775 - val_accuracy: 0.7924\n",
            "Epoch 310/400\n",
            "105268/105268 [==============================] - 16s 149us/step - loss: 0.3666 - accuracy: 0.7951 - val_loss: 0.3698 - val_accuracy: 0.7916\n",
            "Epoch 311/400\n",
            "105268/105268 [==============================] - 16s 150us/step - loss: 0.3670 - accuracy: 0.7945 - val_loss: 0.3694 - val_accuracy: 0.7916\n",
            "Epoch 312/400\n",
            "105268/105268 [==============================] - 16s 151us/step - loss: 0.3669 - accuracy: 0.7949 - val_loss: 0.3716 - val_accuracy: 0.7912\n",
            "Epoch 313/400\n",
            "105268/105268 [==============================] - 16s 151us/step - loss: 0.3667 - accuracy: 0.7947 - val_loss: 0.3751 - val_accuracy: 0.7897\n",
            "Epoch 314/400\n",
            "105268/105268 [==============================] - 16s 155us/step - loss: 0.3666 - accuracy: 0.7948 - val_loss: 0.3722 - val_accuracy: 0.7908\n",
            "Epoch 315/400\n",
            "105268/105268 [==============================] - 17s 165us/step - loss: 0.3665 - accuracy: 0.7958 - val_loss: 0.3738 - val_accuracy: 0.7906\n",
            "Epoch 316/400\n",
            "105268/105268 [==============================] - 17s 162us/step - loss: 0.3666 - accuracy: 0.7954 - val_loss: 0.3690 - val_accuracy: 0.7907\n",
            "Epoch 317/400\n",
            "105268/105268 [==============================] - 16s 155us/step - loss: 0.3668 - accuracy: 0.7943 - val_loss: 0.3723 - val_accuracy: 0.7880\n",
            "Epoch 318/400\n",
            "105268/105268 [==============================] - 17s 157us/step - loss: 0.3669 - accuracy: 0.7946 - val_loss: 0.3701 - val_accuracy: 0.7921\n",
            "Epoch 319/400\n",
            "105268/105268 [==============================] - 17s 157us/step - loss: 0.3668 - accuracy: 0.7950 - val_loss: 0.3783 - val_accuracy: 0.7889\n",
            "Epoch 320/400\n",
            "105268/105268 [==============================] - 17s 157us/step - loss: 0.3664 - accuracy: 0.7945 - val_loss: 0.3705 - val_accuracy: 0.7914\n",
            "Epoch 321/400\n",
            "105268/105268 [==============================] - 16s 156us/step - loss: 0.3668 - accuracy: 0.7946 - val_loss: 0.3696 - val_accuracy: 0.7908\n",
            "Epoch 322/400\n",
            "105268/105268 [==============================] - 17s 157us/step - loss: 0.3665 - accuracy: 0.7948 - val_loss: 0.3757 - val_accuracy: 0.7882\n",
            "Epoch 323/400\n",
            "105268/105268 [==============================] - 17s 158us/step - loss: 0.3669 - accuracy: 0.7954 - val_loss: 0.3705 - val_accuracy: 0.7914\n",
            "Epoch 324/400\n",
            "105268/105268 [==============================] - 17s 158us/step - loss: 0.3668 - accuracy: 0.7953 - val_loss: 0.3710 - val_accuracy: 0.7895\n",
            "Epoch 325/400\n",
            "105268/105268 [==============================] - 16s 156us/step - loss: 0.3667 - accuracy: 0.7953 - val_loss: 0.3704 - val_accuracy: 0.7894\n",
            "Epoch 326/400\n",
            "105268/105268 [==============================] - 16s 150us/step - loss: 0.3666 - accuracy: 0.7944 - val_loss: 0.3693 - val_accuracy: 0.7921\n",
            "Epoch 327/400\n",
            "105268/105268 [==============================] - 16s 156us/step - loss: 0.3668 - accuracy: 0.7951 - val_loss: 0.3695 - val_accuracy: 0.7932\n",
            "Epoch 328/400\n",
            "105268/105268 [==============================] - 17s 158us/step - loss: 0.3664 - accuracy: 0.7945 - val_loss: 0.3721 - val_accuracy: 0.7903\n",
            "Epoch 329/400\n",
            "105268/105268 [==============================] - 17s 158us/step - loss: 0.3664 - accuracy: 0.7958 - val_loss: 0.3704 - val_accuracy: 0.7909\n",
            "Epoch 330/400\n",
            "105268/105268 [==============================] - 16s 156us/step - loss: 0.3667 - accuracy: 0.7949 - val_loss: 0.3706 - val_accuracy: 0.7915\n",
            "Epoch 331/400\n",
            "105268/105268 [==============================] - 16s 155us/step - loss: 0.3665 - accuracy: 0.7947 - val_loss: 0.3723 - val_accuracy: 0.7903\n",
            "Epoch 332/400\n",
            "105268/105268 [==============================] - 16s 155us/step - loss: 0.3667 - accuracy: 0.7950 - val_loss: 0.3711 - val_accuracy: 0.7901\n",
            "Epoch 333/400\n",
            "105268/105268 [==============================] - 17s 161us/step - loss: 0.3665 - accuracy: 0.7947 - val_loss: 0.3731 - val_accuracy: 0.7891\n",
            "Epoch 334/400\n",
            "105268/105268 [==============================] - 17s 161us/step - loss: 0.3665 - accuracy: 0.7951 - val_loss: 0.3730 - val_accuracy: 0.7888\n",
            "Epoch 335/400\n",
            "105268/105268 [==============================] - 17s 162us/step - loss: 0.3668 - accuracy: 0.7941 - val_loss: 0.3750 - val_accuracy: 0.7873\n",
            "Epoch 336/400\n",
            "105268/105268 [==============================] - 16s 157us/step - loss: 0.3662 - accuracy: 0.7960 - val_loss: 0.3771 - val_accuracy: 0.7885\n",
            "Epoch 337/400\n",
            "105268/105268 [==============================] - 16s 156us/step - loss: 0.3669 - accuracy: 0.7948 - val_loss: 0.3721 - val_accuracy: 0.7900\n",
            "Epoch 338/400\n",
            "105268/105268 [==============================] - 16s 154us/step - loss: 0.3663 - accuracy: 0.7953 - val_loss: 0.3712 - val_accuracy: 0.7907\n",
            "Epoch 339/400\n",
            "105268/105268 [==============================] - 17s 157us/step - loss: 0.3665 - accuracy: 0.7942 - val_loss: 0.3709 - val_accuracy: 0.7908\n",
            "Epoch 340/400\n",
            "105268/105268 [==============================] - 17s 163us/step - loss: 0.3664 - accuracy: 0.7951 - val_loss: 0.3759 - val_accuracy: 0.7883\n",
            "Epoch 341/400\n",
            "105268/105268 [==============================] - 17s 165us/step - loss: 0.3665 - accuracy: 0.7954 - val_loss: 0.3690 - val_accuracy: 0.7911\n",
            "Epoch 342/400\n",
            "105268/105268 [==============================] - 17s 161us/step - loss: 0.3668 - accuracy: 0.7947 - val_loss: 0.3712 - val_accuracy: 0.7918\n",
            "Epoch 343/400\n",
            "105268/105268 [==============================] - 17s 161us/step - loss: 0.3665 - accuracy: 0.7952 - val_loss: 0.3725 - val_accuracy: 0.7898\n",
            "Epoch 344/400\n",
            "105268/105268 [==============================] - 18s 167us/step - loss: 0.3665 - accuracy: 0.7956 - val_loss: 0.3722 - val_accuracy: 0.7912\n",
            "Epoch 345/400\n",
            "105268/105268 [==============================] - 17s 160us/step - loss: 0.3666 - accuracy: 0.7949 - val_loss: 0.3710 - val_accuracy: 0.7908\n",
            "Epoch 346/400\n",
            "105268/105268 [==============================] - 17s 160us/step - loss: 0.3667 - accuracy: 0.7951 - val_loss: 0.3703 - val_accuracy: 0.7899\n",
            "Epoch 347/400\n",
            "105268/105268 [==============================] - 17s 164us/step - loss: 0.3668 - accuracy: 0.7945 - val_loss: 0.3708 - val_accuracy: 0.7907\n",
            "Epoch 348/400\n",
            "105268/105268 [==============================] - 17s 159us/step - loss: 0.3668 - accuracy: 0.7943 - val_loss: 0.3693 - val_accuracy: 0.7913\n",
            "Epoch 349/400\n",
            "105268/105268 [==============================] - 17s 160us/step - loss: 0.3667 - accuracy: 0.7947 - val_loss: 0.3721 - val_accuracy: 0.7914\n",
            "Epoch 350/400\n",
            "105268/105268 [==============================] - 17s 160us/step - loss: 0.3666 - accuracy: 0.7942 - val_loss: 0.3724 - val_accuracy: 0.7912\n",
            "Epoch 351/400\n",
            "105268/105268 [==============================] - 17s 160us/step - loss: 0.3667 - accuracy: 0.7946 - val_loss: 0.3706 - val_accuracy: 0.7925\n",
            "Epoch 352/400\n",
            "105268/105268 [==============================] - 18s 169us/step - loss: 0.3665 - accuracy: 0.7961 - val_loss: 0.3724 - val_accuracy: 0.7889\n",
            "Epoch 353/400\n",
            "105268/105268 [==============================] - 17s 166us/step - loss: 0.3669 - accuracy: 0.7955 - val_loss: 0.3749 - val_accuracy: 0.7890\n",
            "Epoch 354/400\n",
            "105268/105268 [==============================] - 17s 157us/step - loss: 0.3665 - accuracy: 0.7961 - val_loss: 0.3699 - val_accuracy: 0.7922\n",
            "Epoch 355/400\n",
            "105268/105268 [==============================] - 22s 205us/step - loss: 0.3667 - accuracy: 0.7949 - val_loss: 0.3702 - val_accuracy: 0.7902\n",
            "Epoch 356/400\n",
            "105268/105268 [==============================] - 18s 173us/step - loss: 0.3669 - accuracy: 0.7946 - val_loss: 0.3689 - val_accuracy: 0.7919\n",
            "Epoch 357/400\n",
            "105268/105268 [==============================] - 20s 188us/step - loss: 0.3667 - accuracy: 0.7955 - val_loss: 0.3717 - val_accuracy: 0.7912\n",
            "Epoch 358/400\n",
            "105268/105268 [==============================] - 19s 183us/step - loss: 0.3664 - accuracy: 0.7958 - val_loss: 0.3709 - val_accuracy: 0.7914\n",
            "Epoch 359/400\n",
            "105268/105268 [==============================] - 19s 176us/step - loss: 0.3666 - accuracy: 0.7957 - val_loss: 0.3730 - val_accuracy: 0.7900\n",
            "Epoch 360/400\n",
            "105268/105268 [==============================] - 19s 180us/step - loss: 0.3667 - accuracy: 0.7948 - val_loss: 0.3725 - val_accuracy: 0.7916\n",
            "Epoch 361/400\n",
            "105268/105268 [==============================] - 18s 174us/step - loss: 0.3667 - accuracy: 0.7951 - val_loss: 0.3763 - val_accuracy: 0.7896\n",
            "Epoch 362/400\n",
            "105268/105268 [==============================] - 19s 183us/step - loss: 0.3663 - accuracy: 0.7949 - val_loss: 0.3714 - val_accuracy: 0.7901\n",
            "Epoch 363/400\n",
            "105268/105268 [==============================] - 17s 166us/step - loss: 0.3668 - accuracy: 0.7946 - val_loss: 0.3707 - val_accuracy: 0.7921\n",
            "Epoch 364/400\n",
            "105268/105268 [==============================] - 18s 175us/step - loss: 0.3666 - accuracy: 0.7952 - val_loss: 0.3696 - val_accuracy: 0.7902\n",
            "Epoch 365/400\n",
            "105268/105268 [==============================] - 17s 160us/step - loss: 0.3670 - accuracy: 0.7948 - val_loss: 0.3697 - val_accuracy: 0.7926\n",
            "Epoch 366/400\n",
            "105268/105268 [==============================] - 17s 166us/step - loss: 0.3663 - accuracy: 0.7956 - val_loss: 0.3718 - val_accuracy: 0.7913\n",
            "Epoch 367/400\n",
            "105268/105268 [==============================] - 18s 171us/step - loss: 0.3665 - accuracy: 0.7960 - val_loss: 0.3800 - val_accuracy: 0.7895\n",
            "Epoch 368/400\n",
            "105268/105268 [==============================] - 16s 157us/step - loss: 0.3663 - accuracy: 0.7960 - val_loss: 0.3723 - val_accuracy: 0.7895\n",
            "Epoch 369/400\n",
            "105268/105268 [==============================] - 19s 180us/step - loss: 0.3662 - accuracy: 0.7953 - val_loss: 0.3726 - val_accuracy: 0.7910\n",
            "Epoch 370/400\n",
            "105268/105268 [==============================] - 18s 171us/step - loss: 0.3664 - accuracy: 0.7948 - val_loss: 0.3697 - val_accuracy: 0.7910\n",
            "Epoch 371/400\n",
            "105268/105268 [==============================] - 18s 167us/step - loss: 0.3664 - accuracy: 0.7948 - val_loss: 0.3765 - val_accuracy: 0.7901\n",
            "Epoch 372/400\n",
            "105268/105268 [==============================] - 18s 168us/step - loss: 0.3664 - accuracy: 0.7961 - val_loss: 0.3721 - val_accuracy: 0.7901\n",
            "Epoch 373/400\n",
            "105268/105268 [==============================] - 18s 167us/step - loss: 0.3666 - accuracy: 0.7947 - val_loss: 0.3700 - val_accuracy: 0.7906\n",
            "Epoch 374/400\n",
            "105268/105268 [==============================] - 17s 160us/step - loss: 0.3662 - accuracy: 0.7954 - val_loss: 0.3723 - val_accuracy: 0.7884\n",
            "Epoch 375/400\n",
            "105268/105268 [==============================] - 17s 162us/step - loss: 0.3666 - accuracy: 0.7952 - val_loss: 0.3695 - val_accuracy: 0.7907\n",
            "Epoch 376/400\n",
            "105268/105268 [==============================] - 16s 155us/step - loss: 0.3669 - accuracy: 0.7956 - val_loss: 0.3704 - val_accuracy: 0.7901\n",
            "Epoch 377/400\n",
            "105268/105268 [==============================] - 17s 166us/step - loss: 0.3661 - accuracy: 0.7953 - val_loss: 0.3691 - val_accuracy: 0.7920\n",
            "Epoch 378/400\n",
            "105268/105268 [==============================] - 17s 157us/step - loss: 0.3664 - accuracy: 0.7959 - val_loss: 0.3725 - val_accuracy: 0.7879\n",
            "Epoch 379/400\n",
            "105268/105268 [==============================] - 17s 157us/step - loss: 0.3668 - accuracy: 0.7947 - val_loss: 0.3811 - val_accuracy: 0.7879\n",
            "Epoch 380/400\n",
            "105268/105268 [==============================] - 18s 167us/step - loss: 0.3665 - accuracy: 0.7944 - val_loss: 0.3717 - val_accuracy: 0.7911\n",
            "Epoch 381/400\n",
            "105268/105268 [==============================] - 17s 164us/step - loss: 0.3664 - accuracy: 0.7952 - val_loss: 0.3718 - val_accuracy: 0.7898\n",
            "Epoch 382/400\n",
            "105268/105268 [==============================] - 17s 160us/step - loss: 0.3662 - accuracy: 0.7955 - val_loss: 0.3706 - val_accuracy: 0.7922\n",
            "Epoch 383/400\n",
            "105268/105268 [==============================] - 17s 159us/step - loss: 0.3667 - accuracy: 0.7936 - val_loss: 0.3699 - val_accuracy: 0.7907\n",
            "Epoch 384/400\n",
            "105268/105268 [==============================] - 21s 199us/step - loss: 0.3664 - accuracy: 0.7949 - val_loss: 0.3712 - val_accuracy: 0.7898\n",
            "Epoch 385/400\n",
            "105268/105268 [==============================] - 17s 163us/step - loss: 0.3663 - accuracy: 0.7957 - val_loss: 0.3715 - val_accuracy: 0.7918\n",
            "Epoch 386/400\n",
            "105268/105268 [==============================] - 17s 159us/step - loss: 0.3666 - accuracy: 0.7953 - val_loss: 0.3768 - val_accuracy: 0.7897\n",
            "Epoch 387/400\n",
            "105268/105268 [==============================] - 20s 195us/step - loss: 0.3667 - accuracy: 0.7951 - val_loss: 0.3702 - val_accuracy: 0.7921\n",
            "Epoch 388/400\n",
            "105268/105268 [==============================] - 17s 164us/step - loss: 0.3665 - accuracy: 0.7954 - val_loss: 0.3697 - val_accuracy: 0.7920\n",
            "Epoch 389/400\n",
            "105268/105268 [==============================] - 17s 158us/step - loss: 0.3664 - accuracy: 0.7953 - val_loss: 0.3727 - val_accuracy: 0.7888\n",
            "Epoch 390/400\n",
            "105268/105268 [==============================] - 17s 163us/step - loss: 0.3665 - accuracy: 0.7957 - val_loss: 0.3721 - val_accuracy: 0.7917\n",
            "Epoch 391/400\n",
            "105268/105268 [==============================] - 17s 164us/step - loss: 0.3664 - accuracy: 0.7963 - val_loss: 0.3722 - val_accuracy: 0.7908\n",
            "Epoch 392/400\n",
            "105268/105268 [==============================] - 17s 159us/step - loss: 0.3664 - accuracy: 0.7941 - val_loss: 0.3763 - val_accuracy: 0.7884\n",
            "Epoch 393/400\n",
            "105268/105268 [==============================] - 19s 177us/step - loss: 0.3665 - accuracy: 0.7955 - val_loss: 0.3713 - val_accuracy: 0.7894\n",
            "Epoch 394/400\n",
            "105268/105268 [==============================] - 18s 169us/step - loss: 0.3665 - accuracy: 0.7941 - val_loss: 0.3712 - val_accuracy: 0.7887\n",
            "Epoch 395/400\n",
            "105268/105268 [==============================] - 19s 181us/step - loss: 0.3665 - accuracy: 0.7954 - val_loss: 0.3729 - val_accuracy: 0.7893\n",
            "Epoch 396/400\n",
            "105268/105268 [==============================] - 17s 159us/step - loss: 0.3663 - accuracy: 0.7958 - val_loss: 0.3713 - val_accuracy: 0.7910\n",
            "Epoch 397/400\n",
            "105268/105268 [==============================] - 21s 204us/step - loss: 0.3666 - accuracy: 0.7946 - val_loss: 0.3717 - val_accuracy: 0.7900\n",
            "Epoch 398/400\n",
            "105268/105268 [==============================] - 25s 233us/step - loss: 0.3666 - accuracy: 0.7946 - val_loss: 0.3704 - val_accuracy: 0.7913\n",
            "Epoch 399/400\n",
            "105268/105268 [==============================] - 22s 206us/step - loss: 0.3663 - accuracy: 0.7952 - val_loss: 0.3727 - val_accuracy: 0.7906\n",
            "Epoch 400/400\n",
            "105268/105268 [==============================] - 20s 192us/step - loss: 0.3665 - accuracy: 0.7951 - val_loss: 0.3704 - val_accuracy: 0.7914\n"
          ],
          "name": "stdout"
        }
      ]
    },
    {
      "cell_type": "code",
      "metadata": {
        "id": "M2CnjowUN6z5",
        "colab_type": "code",
        "colab": {
          "base_uri": "https://localhost:8080/",
          "height": 401
        },
        "outputId": "6b8846ce-dcf2-41dd-99f7-00633990c7d5"
      },
      "source": [
        "# Predicting the Test set results\n",
        "y_pred = classifier.predict_classes(X_test)\n",
        "from sklearn.metrics import confusion_matrix,accuracy_score\n",
        "cm = confusion_matrix(y_test, y_pred)\n",
        "accu=accuracy_score(y_test,y_pred)\n",
        "print(cm,\"\\n\")\n",
        "print(\"The accuracy is\",accu)"
      ],
      "execution_count": 30,
      "outputs": [
        {
          "output_type": "error",
          "ename": "ValueError",
          "evalue": "ignored",
          "traceback": [
            "\u001b[0;31m---------------------------------------------------------------------------\u001b[0m",
            "\u001b[0;31mValueError\u001b[0m                                Traceback (most recent call last)",
            "\u001b[0;32m<ipython-input-30-3a90ad10ed50>\u001b[0m in \u001b[0;36m<module>\u001b[0;34m()\u001b[0m\n\u001b[0;32m----> 1\u001b[0;31m \u001b[0my_pred\u001b[0m \u001b[0;34m=\u001b[0m \u001b[0mclassifier\u001b[0m\u001b[0;34m.\u001b[0m\u001b[0mpredict_classes\u001b[0m\u001b[0;34m(\u001b[0m\u001b[0mX_test\u001b[0m\u001b[0;34m)\u001b[0m\u001b[0;34m\u001b[0m\u001b[0;34m\u001b[0m\u001b[0m\n\u001b[0m\u001b[1;32m      2\u001b[0m \u001b[0;32mfrom\u001b[0m \u001b[0msklearn\u001b[0m\u001b[0;34m.\u001b[0m\u001b[0mmetrics\u001b[0m \u001b[0;32mimport\u001b[0m \u001b[0mconfusion_matrix\u001b[0m\u001b[0;34m,\u001b[0m\u001b[0maccuracy_score\u001b[0m\u001b[0;34m\u001b[0m\u001b[0;34m\u001b[0m\u001b[0m\n\u001b[1;32m      3\u001b[0m \u001b[0mcm\u001b[0m \u001b[0;34m=\u001b[0m \u001b[0mconfusion_matrix\u001b[0m\u001b[0;34m(\u001b[0m\u001b[0my_test\u001b[0m\u001b[0;34m,\u001b[0m \u001b[0my_pred\u001b[0m\u001b[0;34m)\u001b[0m\u001b[0;34m\u001b[0m\u001b[0;34m\u001b[0m\u001b[0m\n\u001b[1;32m      4\u001b[0m \u001b[0maccu\u001b[0m\u001b[0;34m=\u001b[0m\u001b[0maccuracy_score\u001b[0m\u001b[0;34m(\u001b[0m\u001b[0my_test\u001b[0m\u001b[0;34m,\u001b[0m\u001b[0my_pred\u001b[0m\u001b[0;34m)\u001b[0m\u001b[0;34m\u001b[0m\u001b[0;34m\u001b[0m\u001b[0m\n\u001b[1;32m      5\u001b[0m \u001b[0mprint\u001b[0m\u001b[0;34m(\u001b[0m\u001b[0mcm\u001b[0m\u001b[0;34m,\u001b[0m\u001b[0;34m\"\\n\"\u001b[0m\u001b[0;34m)\u001b[0m\u001b[0;34m\u001b[0m\u001b[0;34m\u001b[0m\u001b[0m\n",
            "\u001b[0;32m/usr/local/lib/python3.6/dist-packages/keras/engine/sequential.py\u001b[0m in \u001b[0;36mpredict_classes\u001b[0;34m(self, x, batch_size, verbose)\u001b[0m\n\u001b[1;32m    266\u001b[0m             \u001b[0mA\u001b[0m \u001b[0mnumpy\u001b[0m \u001b[0marray\u001b[0m \u001b[0mof\u001b[0m \u001b[0;32mclass\u001b[0m \u001b[0mpredictions\u001b[0m\u001b[0;34m.\u001b[0m\u001b[0;34m\u001b[0m\u001b[0;34m\u001b[0m\u001b[0m\n\u001b[1;32m    267\u001b[0m         \"\"\"\n\u001b[0;32m--> 268\u001b[0;31m         \u001b[0mproba\u001b[0m \u001b[0;34m=\u001b[0m \u001b[0mself\u001b[0m\u001b[0;34m.\u001b[0m\u001b[0mpredict\u001b[0m\u001b[0;34m(\u001b[0m\u001b[0mx\u001b[0m\u001b[0;34m,\u001b[0m \u001b[0mbatch_size\u001b[0m\u001b[0;34m=\u001b[0m\u001b[0mbatch_size\u001b[0m\u001b[0;34m,\u001b[0m \u001b[0mverbose\u001b[0m\u001b[0;34m=\u001b[0m\u001b[0mverbose\u001b[0m\u001b[0;34m)\u001b[0m\u001b[0;34m\u001b[0m\u001b[0;34m\u001b[0m\u001b[0m\n\u001b[0m\u001b[1;32m    269\u001b[0m         \u001b[0;32mif\u001b[0m \u001b[0mproba\u001b[0m\u001b[0;34m.\u001b[0m\u001b[0mshape\u001b[0m\u001b[0;34m[\u001b[0m\u001b[0;34m-\u001b[0m\u001b[0;36m1\u001b[0m\u001b[0;34m]\u001b[0m \u001b[0;34m>\u001b[0m \u001b[0;36m1\u001b[0m\u001b[0;34m:\u001b[0m\u001b[0;34m\u001b[0m\u001b[0;34m\u001b[0m\u001b[0m\n\u001b[1;32m    270\u001b[0m             \u001b[0;32mreturn\u001b[0m \u001b[0mproba\u001b[0m\u001b[0;34m.\u001b[0m\u001b[0margmax\u001b[0m\u001b[0;34m(\u001b[0m\u001b[0maxis\u001b[0m\u001b[0;34m=\u001b[0m\u001b[0;34m-\u001b[0m\u001b[0;36m1\u001b[0m\u001b[0;34m)\u001b[0m\u001b[0;34m\u001b[0m\u001b[0;34m\u001b[0m\u001b[0m\n",
            "\u001b[0;32m/usr/local/lib/python3.6/dist-packages/keras/engine/training.py\u001b[0m in \u001b[0;36mpredict\u001b[0;34m(self, x, batch_size, verbose, steps, callbacks, max_queue_size, workers, use_multiprocessing)\u001b[0m\n\u001b[1;32m   1439\u001b[0m \u001b[0;34m\u001b[0m\u001b[0m\n\u001b[1;32m   1440\u001b[0m         \u001b[0;31m# Case 2: Symbolic tensors or Numpy array-like.\u001b[0m\u001b[0;34m\u001b[0m\u001b[0;34m\u001b[0m\u001b[0;34m\u001b[0m\u001b[0m\n\u001b[0;32m-> 1441\u001b[0;31m         \u001b[0mx\u001b[0m\u001b[0;34m,\u001b[0m \u001b[0m_\u001b[0m\u001b[0;34m,\u001b[0m \u001b[0m_\u001b[0m \u001b[0;34m=\u001b[0m \u001b[0mself\u001b[0m\u001b[0;34m.\u001b[0m\u001b[0m_standardize_user_data\u001b[0m\u001b[0;34m(\u001b[0m\u001b[0mx\u001b[0m\u001b[0;34m)\u001b[0m\u001b[0;34m\u001b[0m\u001b[0;34m\u001b[0m\u001b[0m\n\u001b[0m\u001b[1;32m   1442\u001b[0m         \u001b[0;32mif\u001b[0m \u001b[0mself\u001b[0m\u001b[0;34m.\u001b[0m\u001b[0mstateful\u001b[0m\u001b[0;34m:\u001b[0m\u001b[0;34m\u001b[0m\u001b[0;34m\u001b[0m\u001b[0m\n\u001b[1;32m   1443\u001b[0m             \u001b[0;32mif\u001b[0m \u001b[0mx\u001b[0m\u001b[0;34m[\u001b[0m\u001b[0;36m0\u001b[0m\u001b[0;34m]\u001b[0m\u001b[0;34m.\u001b[0m\u001b[0mshape\u001b[0m\u001b[0;34m[\u001b[0m\u001b[0;36m0\u001b[0m\u001b[0;34m]\u001b[0m \u001b[0;34m>\u001b[0m \u001b[0mbatch_size\u001b[0m \u001b[0;32mand\u001b[0m \u001b[0mx\u001b[0m\u001b[0;34m[\u001b[0m\u001b[0;36m0\u001b[0m\u001b[0;34m]\u001b[0m\u001b[0;34m.\u001b[0m\u001b[0mshape\u001b[0m\u001b[0;34m[\u001b[0m\u001b[0;36m0\u001b[0m\u001b[0;34m]\u001b[0m \u001b[0;34m%\u001b[0m \u001b[0mbatch_size\u001b[0m \u001b[0;34m!=\u001b[0m \u001b[0;36m0\u001b[0m\u001b[0;34m:\u001b[0m\u001b[0;34m\u001b[0m\u001b[0;34m\u001b[0m\u001b[0m\n",
            "\u001b[0;32m/usr/local/lib/python3.6/dist-packages/keras/engine/training.py\u001b[0m in \u001b[0;36m_standardize_user_data\u001b[0;34m(self, x, y, sample_weight, class_weight, check_array_lengths, batch_size)\u001b[0m\n\u001b[1;32m    577\u001b[0m             \u001b[0mfeed_input_shapes\u001b[0m\u001b[0;34m,\u001b[0m\u001b[0;34m\u001b[0m\u001b[0;34m\u001b[0m\u001b[0m\n\u001b[1;32m    578\u001b[0m             \u001b[0mcheck_batch_axis\u001b[0m\u001b[0;34m=\u001b[0m\u001b[0;32mFalse\u001b[0m\u001b[0;34m,\u001b[0m  \u001b[0;31m# Don't enforce the batch size.\u001b[0m\u001b[0;34m\u001b[0m\u001b[0;34m\u001b[0m\u001b[0m\n\u001b[0;32m--> 579\u001b[0;31m             exception_prefix='input')\n\u001b[0m\u001b[1;32m    580\u001b[0m \u001b[0;34m\u001b[0m\u001b[0m\n\u001b[1;32m    581\u001b[0m         \u001b[0;32mif\u001b[0m \u001b[0my\u001b[0m \u001b[0;32mis\u001b[0m \u001b[0;32mnot\u001b[0m \u001b[0;32mNone\u001b[0m\u001b[0;34m:\u001b[0m\u001b[0;34m\u001b[0m\u001b[0;34m\u001b[0m\u001b[0m\n",
            "\u001b[0;32m/usr/local/lib/python3.6/dist-packages/keras/engine/training_utils.py\u001b[0m in \u001b[0;36mstandardize_input_data\u001b[0;34m(data, names, shapes, check_batch_axis, exception_prefix)\u001b[0m\n\u001b[1;32m    143\u001b[0m                             \u001b[0;34m': expected '\u001b[0m \u001b[0;34m+\u001b[0m \u001b[0mnames\u001b[0m\u001b[0;34m[\u001b[0m\u001b[0mi\u001b[0m\u001b[0;34m]\u001b[0m \u001b[0;34m+\u001b[0m \u001b[0;34m' to have shape '\u001b[0m \u001b[0;34m+\u001b[0m\u001b[0;34m\u001b[0m\u001b[0;34m\u001b[0m\u001b[0m\n\u001b[1;32m    144\u001b[0m                             \u001b[0mstr\u001b[0m\u001b[0;34m(\u001b[0m\u001b[0mshape\u001b[0m\u001b[0;34m)\u001b[0m \u001b[0;34m+\u001b[0m \u001b[0;34m' but got array with shape '\u001b[0m \u001b[0;34m+\u001b[0m\u001b[0;34m\u001b[0m\u001b[0;34m\u001b[0m\u001b[0m\n\u001b[0;32m--> 145\u001b[0;31m                             str(data_shape))\n\u001b[0m\u001b[1;32m    146\u001b[0m     \u001b[0;32mreturn\u001b[0m \u001b[0mdata\u001b[0m\u001b[0;34m\u001b[0m\u001b[0;34m\u001b[0m\u001b[0m\n\u001b[1;32m    147\u001b[0m \u001b[0;34m\u001b[0m\u001b[0m\n",
            "\u001b[0;31mValueError\u001b[0m: Error when checking input: expected sequential_3_input to have shape (2,) but got array with shape (13,)"
          ]
        }
      ]
    },
    {
      "cell_type": "code",
      "metadata": {
        "id": "k9w7AErJVN-V",
        "colab_type": "code",
        "colab": {
          "base_uri": "https://localhost:8080/",
          "height": 591
        },
        "outputId": "1fded58f-bad8-474e-b0de-697d63661253"
      },
      "source": [
        "# list all data in history\n",
        "print(history.history.keys())\n",
        "# summarize history for accuracy\n",
        "plt.plot(history.history['accuracy'])\n",
        "plt.plot(history.history['val_accuracy'])\n",
        "plt.title('model accuracy')\n",
        "plt.ylabel('accuracy')\n",
        "plt.xlabel('epoch')\n",
        "plt.legend(['train', 'test'], loc='upper left')\n",
        "plt.show()\n",
        "# summarize history for loss\n",
        "plt.plot(history.history['loss'])\n",
        "plt.plot(history.history['val_loss'])\n",
        "plt.title('model loss')\n",
        "plt.ylabel('loss')\n",
        "plt.xlabel('epoch')\n",
        "plt.legend(['train', 'test'], loc='upper left')\n",
        "plt.show()"
      ],
      "execution_count": 23,
      "outputs": [
        {
          "output_type": "stream",
          "text": [
            "dict_keys(['val_loss', 'val_accuracy', 'loss', 'accuracy'])\n"
          ],
          "name": "stdout"
        },
        {
          "output_type": "display_data",
          "data": {
            "image/png": "[encoded data removed]",
            "text/plain": [
              "<Figure size 432x288 with 1 Axes>"
            ]
          },
          "metadata": {
            "tags": [],
            "needs_background": "light"
          }
        },
        {
          "output_type": "display_data",
          "data": {
            "image/png": "[encoded data removed]",
            "text/plain": [
              "<Figure size 432x288 with 1 Axes>"
            ]
          },
          "metadata": {
            "tags": [],
            "needs_background": "light"
          }
        }
      ]
    },
    {
      "cell_type": "markdown",
      "metadata": {
        "id": "W-jS-eyjGrcd",
        "colab_type": "text"
      },
      "source": [
        "##ICA\n"
      ]
    },
    {
      "cell_type": "code",
      "metadata": {
        "id": "HBOgISymFxic",
        "colab_type": "code",
        "colab": {}
      },
      "source": [
        "##ICA\n",
        "from sklearn.decomposition import FastICA \n",
        "ICA = FastICA(n_components=3, random_state=12) \n",
        "X_ICA=ICA.fit_transform(x1)"
      ],
      "execution_count": 0,
      "outputs": []
    },
    {
      "cell_type": "code",
      "metadata": {
        "id": "QAX97s9gFxlV",
        "colab_type": "code",
        "colab": {
          "base_uri": "https://localhost:8080/",
          "height": 517
        },
        "outputId": "27d6858c-f5d6-42b0-d775-1e6cd275707a"
      },
      "source": [
        "plt.figure(figsize=(12,8))\n",
        "plt.title('ICA Components')\n",
        "plt.scatter(X_ICA[:,0], X_ICA[:,1])\n",
        "plt.scatter(X_ICA[:,1], X_ICA[:,2])\n",
        "plt.scatter(X_ICA[:,2], X_ICA[:,0])"
      ],
      "execution_count": 74,
      "outputs": [
        {
          "output_type": "execute_result",
          "data": {
            "text/plain": [
              "<matplotlib.collections.PathCollection at 0x7f8ff7579518>"
            ]
          },
          "metadata": {
            "tags": []
          },
          "execution_count": 74
        },
        {
          "output_type": "display_data",
          "data": {
            "image/png": "[encoded data removed]",
            "text/plain": [
              "<Figure size 864x576 with 1 Axes>"
            ]
          },
          "metadata": {
            "tags": [],
            "needs_background": "light"
          }
        }
      ]
    },
    {
      "cell_type": "markdown",
      "metadata": {
        "id": "hVMJV_rSGuqN",
        "colab_type": "text"
      },
      "source": [
        "## K-Means\n"
      ]
    },
    {
      "cell_type": "code",
      "metadata": {
        "id": "sdxfpx9DXBFl",
        "colab_type": "code",
        "colab": {
          "base_uri": "https://localhost:8080/",
          "height": 295
        },
        "outputId": "acb273ed-fc2e-490e-89c0-98dfb745c9cb"
      },
      "source": [
        "##Determining number of clusters\n",
        "from sklearn.cluster import KMeans \n",
        "Sum_of_squared_distances = []\n",
        "K = range(1,15)\n",
        "for k in K:\n",
        "    km = KMeans(n_clusters=k)\n",
        "    km=km.fit(X_ICA)\n",
        "    Sum_of_squared_distances.append(km.inertia_)\n",
        "    \n",
        "##Checking out which SSE is low for different types of k means value\n",
        "plt.plot(K,Sum_of_squared_distances, 'bx-')\n",
        "plt.xlabel('k')\n",
        "plt.ylabel('Sum_of_squared_distances')\n",
        "plt.title('Elbow method for optimal k')\n",
        "plt.show()"
      ],
      "execution_count": 76,
      "outputs": [
        {
          "output_type": "display_data",
          "data": {
            "image/png": "[encoded data removed]",
            "text/plain": [
              "<Figure size 432x288 with 1 Axes>"
            ]
          },
          "metadata": {
            "tags": [],
            "needs_background": "light"
          }
        }
      ]
    },
    {
      "cell_type": "code",
      "metadata": {
        "id": "OdO4z9lyFxnq",
        "colab_type": "code",
        "colab": {
          "base_uri": "https://localhost:8080/",
          "height": 299
        },
        "outputId": "8ac29006-2527-4468-926e-65f42fb66337"
      },
      "source": [
        "kmeans_ica = KMeans(n_clusters=6, random_state=100)\n",
        "kmeans_ica.fit(X_ICA)\n",
        "yp=kmeans.fit_predict(X_ICA)\n",
        "plt.scatter(X_ICA[:, 0], X_ICA[:, 1], c=yp, s=50, cmap='viridis')\n",
        "centers = kmeans.cluster_centers_\n",
        "plt.scatter(centers[:, 0], centers[:, 1], c='red', s=200, alpha=0.5)\n",
        "plt.title('KMeans on full data')"
      ],
      "execution_count": 79,
      "outputs": [
        {
          "output_type": "execute_result",
          "data": {
            "text/plain": [
              "Text(0.5, 1.0, 'KMeans on full data')"
            ]
          },
          "metadata": {
            "tags": []
          },
          "execution_count": 79
        },
        {
          "output_type": "display_data",
          "data": {
            "image/png": "[encoded data removed]",
            "text/plain": [
              "<Figure size 432x288 with 1 Axes>"
            ]
          },
          "metadata": {
            "tags": [],
            "needs_background": "light"
          }
        }
      ]
    },
    {
      "cell_type": "markdown",
      "metadata": {
        "id": "Q0xhO4GCGx24",
        "colab_type": "text"
      },
      "source": [
        "## Expectation Maximization\n"
      ]
    },
    {
      "cell_type": "code",
      "metadata": {
        "id": "7I1ROzkQFxqX",
        "colab_type": "code",
        "colab": {
          "base_uri": "https://localhost:8080/",
          "height": 299
        },
        "outputId": "c397a791-a875-4350-b784-c94b08988fde"
      },
      "source": [
        "## Expectation maximization analysis on Train set\n",
        "from sklearn.mixture import GaussianMixture\n",
        "em = GaussianMixture(n_components=2,random_state=0,covariance_type='tied')\n",
        "em.fit(X_ICA)\n",
        "em_pred = em.fit_predict(X_ICA)\n",
        "plt.scatter(X_ICA[:, 0], X_ICA[:, 1], c=em_pred, s=50, cmap='viridis_r')\n",
        "plt.title('Expectation Maximization on full data set')"
      ],
      "execution_count": 80,
      "outputs": [
        {
          "output_type": "execute_result",
          "data": {
            "text/plain": [
              "Text(0.5, 1.0, 'Expectation Maximization on full data set')"
            ]
          },
          "metadata": {
            "tags": []
          },
          "execution_count": 80
        },
        {
          "output_type": "display_data",
          "data": {
            "image/png": "[encoded data removed]",
            "text/plain": [
              "<Figure size 432x288 with 1 Axes>"
            ]
          },
          "metadata": {
            "tags": [],
            "needs_background": "light"
          }
        }
      ]
    },
    {
      "cell_type": "markdown",
      "metadata": {
        "id": "XVdZAa-4G2Xc",
        "colab_type": "text"
      },
      "source": [
        "## RCA\n"
      ]
    },
    {
      "cell_type": "code",
      "metadata": {
        "id": "wgBHCOsIFxsw",
        "colab_type": "code",
        "colab": {}
      },
      "source": [
        "##Randomized Projection\n",
        "from sklearn.random_projection import GaussianRandomProjection\n",
        "grp = GaussianRandomProjection(n_components=3, eps=0.1, random_state=420)\n",
        "rca_X = grp.fit_transform(x1)"
      ],
      "execution_count": 0,
      "outputs": []
    },
    {
      "cell_type": "code",
      "metadata": {
        "id": "gWjKx82l6MKl",
        "colab_type": "code",
        "colab": {
          "base_uri": "https://localhost:8080/",
          "height": 299
        },
        "outputId": "6b5d2d3b-bc23-4cf6-8f0f-81b76fc2e975"
      },
      "source": [
        "plt.figure(figsize=(8,4))\n",
        "plt.title('RCA Components')\n",
        "plt.scatter(rca_X[:,0], rca_X[:,1])\n",
        "plt.scatter(rca_X[:,1], rca_X[:,2])\n",
        "plt.scatter(rca_X[:,2], rca_X[:,0])"
      ],
      "execution_count": 112,
      "outputs": [
        {
          "output_type": "execute_result",
          "data": {
            "text/plain": [
              "<matplotlib.collections.PathCollection at 0x7f8ff60a44e0>"
            ]
          },
          "metadata": {
            "tags": []
          },
          "execution_count": 112
        },
        {
          "output_type": "display_data",
          "data": {
            "image/png": "[encoded data removed]",
            "text/plain": [
              "<Figure size 576x288 with 1 Axes>"
            ]
          },
          "metadata": {
            "tags": [],
            "needs_background": "light"
          }
        }
      ]
    },
    {
      "cell_type": "code",
      "metadata": {
        "id": "Hit0WBGdoVLi",
        "colab_type": "code",
        "colab": {
          "base_uri": "https://localhost:8080/",
          "height": 295
        },
        "outputId": "44f5358f-7352-4c09-95cb-6b62c00698b7"
      },
      "source": [
        "##Determining number of clusters\n",
        "from sklearn.cluster import KMeans \n",
        "Sum_of_squared_distances = []\n",
        "K = range(1,15)\n",
        "for k in K:\n",
        "    km = KMeans(n_clusters=k)\n",
        "    km=km.fit(rca_X)\n",
        "    Sum_of_squared_distances.append(km.inertia_)\n",
        "    \n",
        "##Checking out which SSE is low for different types of k means value\n",
        "plt.plot(K,Sum_of_squared_distances, 'bx-')\n",
        "plt.xlabel('k')\n",
        "plt.ylabel('Sum_of_squared_distances')\n",
        "plt.title('Elbow method for optimal k')\n",
        "plt.show()"
      ],
      "execution_count": 98,
      "outputs": [
        {
          "output_type": "display_data",
          "data": {
            "image/png": "[encoded data removed]",
            "text/plain": [
              "<Figure size 432x288 with 1 Axes>"
            ]
          },
          "metadata": {
            "tags": [],
            "needs_background": "light"
          }
        }
      ]
    },
    {
      "cell_type": "markdown",
      "metadata": {
        "id": "a1JSC3qWG-gX",
        "colab_type": "text"
      },
      "source": [
        "# K-Means with RCA\n"
      ]
    },
    {
      "cell_type": "code",
      "metadata": {
        "id": "OP7GjEzhFxvs",
        "colab_type": "code",
        "colab": {
          "base_uri": "https://localhost:8080/",
          "height": 299
        },
        "outputId": "bc3504df-bdbf-402c-f77c-1ea9c22f544c"
      },
      "source": [
        "## K-Means Clustering Algorithm  \n",
        "from sklearn.cluster import KMeans\n",
        "kmeans = KMeans(n_clusters=3) \n",
        "kmeans.fit(rca_X)\n",
        "yp=kmeans.predict(rca_X)\n",
        "plt.scatter(rca_X[:, 0], rca_X[:, 1], c=yp, s=50, cmap='viridis')\n",
        "centers = kmeans.cluster_centers_\n",
        "plt.scatter(centers[:, 0], centers[:, 1], c='red', s=200, alpha=0.5)\n",
        "plt.title('KMeans on full dataset')"
      ],
      "execution_count": 99,
      "outputs": [
        {
          "output_type": "execute_result",
          "data": {
            "text/plain": [
              "Text(0.5, 1.0, 'KMeans on full dataset')"
            ]
          },
          "metadata": {
            "tags": []
          },
          "execution_count": 99
        },
        {
          "output_type": "display_data",
          "data": {
            "image/png": "[encoded data removed]",
            "text/plain": [
              "<Figure size 432x288 with 1 Axes>"
            ]
          },
          "metadata": {
            "tags": [],
            "needs_background": "light"
          }
        }
      ]
    },
    {
      "cell_type": "markdown",
      "metadata": {
        "id": "6lEUuXH5pW-5",
        "colab_type": "text"
      },
      "source": [
        "## Expectation Maximization\n",
        "\n"
      ]
    },
    {
      "cell_type": "code",
      "metadata": {
        "id": "dGs4EiQnFx3n",
        "colab_type": "code",
        "colab": {
          "base_uri": "https://localhost:8080/",
          "height": 299
        },
        "outputId": "dc919fcb-ce4a-4a2b-c38e-9d23a91ab890"
      },
      "source": [
        "## Expectation maximization analysis on Train set\n",
        "from sklearn.mixture import GaussianMixture\n",
        "em = GaussianMixture(n_components=2,random_state=0,covariance_type='tied')\n",
        "em.fit(rca_X)\n",
        "em_pred = em.predict(rca_X)\n",
        "plt.scatter(rca_X[:, 0], rca_X[:, 1], c=em_pred, s=50, cmap='viridis_r')\n",
        "plt.title('Expectation Maximization on full data set')"
      ],
      "execution_count": 100,
      "outputs": [
        {
          "output_type": "execute_result",
          "data": {
            "text/plain": [
              "Text(0.5, 1.0, 'Expectation Maximization on full data set')"
            ]
          },
          "metadata": {
            "tags": []
          },
          "execution_count": 100
        },
        {
          "output_type": "display_data",
          "data": {
            "image/png": "[encoded data removed]",
            "text/plain": [
              "<Figure size 432x288 with 1 Axes>"
            ]
          },
          "metadata": {
            "tags": [],
            "needs_background": "light"
          }
        }
      ]
    },
    {
      "cell_type": "markdown",
      "metadata": {
        "id": "Jacx6MNIsmnl",
        "colab_type": "text"
      },
      "source": [
        "## Feature Selection\n"
      ]
    },
    {
      "cell_type": "code",
      "metadata": {
        "id": "NgZd9-krFxy3",
        "colab_type": "code",
        "colab": {}
      },
      "source": [
        "##Feature Selection\n",
        "feature_selector = SequentialFeatureSelector(RandomForestClassifier(n_jobs=-1),  \n",
        "           k_features=7,\n",
        "           forward=True,\n",
        "           verbose=2,\n",
        "           scoring='roc_auc',\n",
        "           cv=2)\n",
        "\n"
      ],
      "execution_count": 0,
      "outputs": []
    },
    {
      "cell_type": "code",
      "metadata": {
        "id": "K9hqMUBCuG5K",
        "colab_type": "code",
        "colab": {
          "base_uri": "https://localhost:8080/",
          "height": 540
        },
        "outputId": "896904fd-125d-4161-f1d7-8f36c113490d"
      },
      "source": [
        "features = feature_selector.fit(x1,y1)"
      ],
      "execution_count": 115,
      "outputs": [
        {
          "output_type": "stream",
          "text": [
            "[Parallel(n_jobs=1)]: Using backend SequentialBackend with 1 concurrent workers.\n",
            "[Parallel(n_jobs=1)]: Done   1 out of   1 | elapsed:    4.4s remaining:    0.0s\n",
            "[Parallel(n_jobs=1)]: Done  13 out of  13 | elapsed:   43.3s finished\n",
            "\n",
            "[2020-05-06 03:22:23] Features: 1/7 -- score: 0.5909781999086686[Parallel(n_jobs=1)]: Using backend SequentialBackend with 1 concurrent workers.\n",
            "[Parallel(n_jobs=1)]: Done   1 out of   1 | elapsed:    3.7s remaining:    0.0s\n",
            "[Parallel(n_jobs=1)]: Done  12 out of  12 | elapsed:   44.0s finished\n",
            "\n",
            "[2020-05-06 03:23:07] Features: 2/7 -- score: 0.6272503179910707[Parallel(n_jobs=1)]: Using backend SequentialBackend with 1 concurrent workers.\n",
            "[Parallel(n_jobs=1)]: Done   1 out of   1 | elapsed:    3.9s remaining:    0.0s\n",
            "[Parallel(n_jobs=1)]: Done  11 out of  11 | elapsed:   43.2s finished\n",
            "\n",
            "[2020-05-06 03:23:50] Features: 3/7 -- score: 0.6446312348185387[Parallel(n_jobs=1)]: Using backend SequentialBackend with 1 concurrent workers.\n",
            "[Parallel(n_jobs=1)]: Done   1 out of   1 | elapsed:    5.1s remaining:    0.0s\n",
            "[Parallel(n_jobs=1)]: Done  10 out of  10 | elapsed:   47.3s finished\n",
            "\n",
            "[2020-05-06 03:24:37] Features: 4/7 -- score: 0.6446389223226292[Parallel(n_jobs=1)]: Using backend SequentialBackend with 1 concurrent workers.\n",
            "[Parallel(n_jobs=1)]: Done   1 out of   1 | elapsed:    5.2s remaining:    0.0s\n",
            "[Parallel(n_jobs=1)]: Done   9 out of   9 | elapsed:   47.3s finished\n",
            "\n",
            "[2020-05-06 03:25:25] Features: 5/7 -- score: 0.6429487465598[Parallel(n_jobs=1)]: Using backend SequentialBackend with 1 concurrent workers.\n",
            "[Parallel(n_jobs=1)]: Done   1 out of   1 | elapsed:    5.7s remaining:    0.0s\n",
            "[Parallel(n_jobs=1)]: Done   8 out of   8 | elapsed:   45.9s finished\n",
            "\n",
            "[2020-05-06 03:26:10] Features: 6/7 -- score: 0.6413850793052086[Parallel(n_jobs=1)]: Using backend SequentialBackend with 1 concurrent workers.\n",
            "[Parallel(n_jobs=1)]: Done   1 out of   1 | elapsed:    6.4s remaining:    0.0s\n",
            "[Parallel(n_jobs=1)]: Done   7 out of   7 | elapsed:   45.7s finished\n",
            "\n",
            "[2020-05-06 03:26:56] Features: 7/7 -- score: 0.6347697746906288"
          ],
          "name": "stderr"
        }
      ]
    },
    {
      "cell_type": "code",
      "metadata": {
        "id": "PrFBUFk2uG8K",
        "colab_type": "code",
        "colab": {
          "base_uri": "https://localhost:8080/",
          "height": 35
        },
        "outputId": "12f65168-16f5-4dc9-caf7-a33f40a01ae9"
      },
      "source": [
        "filtered_features= features.k_feature_idx_\n",
        "filtered_features"
      ],
      "execution_count": 116,
      "outputs": [
        {
          "output_type": "execute_result",
          "data": {
            "text/plain": [
              "(2, 3, 4, 6, 9, 10, 12)"
            ]
          },
          "metadata": {
            "tags": []
          },
          "execution_count": 116
        }
      ]
    },
    {
      "cell_type": "code",
      "metadata": {
        "id": "J8TNV2MKuHD_",
        "colab_type": "code",
        "colab": {}
      },
      "source": [
        "X_feature = np.array(df2.iloc[:,[2,3,4,6,9,10,12]])\n",
        "y_feature = np.array(df2['average_runtime'])"
      ],
      "execution_count": 0,
      "outputs": []
    },
    {
      "cell_type": "code",
      "metadata": {
        "id": "ujz9grTSuHHF",
        "colab_type": "code",
        "colab": {
          "base_uri": "https://localhost:8080/",
          "height": 35
        },
        "outputId": "89a963c6-2a03-42ab-9c93-015914f02e31"
      },
      "source": [
        "X_feature.shape"
      ],
      "execution_count": 121,
      "outputs": [
        {
          "output_type": "execute_result",
          "data": {
            "text/plain": [
              "(214833, 7)"
            ]
          },
          "metadata": {
            "tags": []
          },
          "execution_count": 121
        }
      ]
    },
    {
      "cell_type": "code",
      "metadata": {
        "id": "-YGuPKMNuHMW",
        "colab_type": "code",
        "colab": {}
      },
      "source": [
        "X_train_feature, X_test_feature, y_train_feature, y_test_feature = train_test_split(X_feature, y_feature, test_size=0.3, random_state=1)"
      ],
      "execution_count": 0,
      "outputs": []
    },
    {
      "cell_type": "code",
      "metadata": {
        "id": "LdVOZZeauHPf",
        "colab_type": "code",
        "colab": {
          "base_uri": "https://localhost:8080/",
          "height": 295
        },
        "outputId": "eeed9086-71c6-42e6-9466-cf7d92540969"
      },
      "source": [
        "##Determining number of clusters\n",
        "from sklearn.cluster import KMeans \n",
        "Sum_of_squared_distances = []\n",
        "K = range(1,15)\n",
        "for k in K:\n",
        "    km = KMeans(n_clusters=k)\n",
        "    km=km.fit(X_feature)\n",
        "    Sum_of_squared_distances.append(km.inertia_)\n",
        "    \n",
        "##Checking out which SSE is low for different types of k means value\n",
        "plt.plot(K,Sum_of_squared_distances, 'bx-')\n",
        "plt.xlabel('k')\n",
        "plt.ylabel('Sum_of_squared_distances')\n",
        "plt.title('Elbow method for optimal k')\n",
        "plt.show()"
      ],
      "execution_count": 123,
      "outputs": [
        {
          "output_type": "display_data",
          "data": {
            "image/png": "[encoded data removed]",
            "text/plain": [
              "<Figure size 432x288 with 1 Axes>"
            ]
          },
          "metadata": {
            "tags": [],
            "needs_background": "light"
          }
        }
      ]
    },
    {
      "cell_type": "code",
      "metadata": {
        "id": "CH5ZkA4GuHLG",
        "colab_type": "code",
        "colab": {
          "base_uri": "https://localhost:8080/",
          "height": 299
        },
        "outputId": "ea0e3c16-5b9b-4626-f834-57706d29015d"
      },
      "source": [
        "## K-Means Clustering Algorithm  \n",
        "from sklearn.cluster import KMeans\n",
        "kmeans = KMeans(n_clusters=4) \n",
        "kmeans.fit(X_feature)\n",
        "yp=kmeans.predict(X_feature)\n",
        "plt.scatter(X_feature[:, 0], X_feature[:, 1], c=yp, s=50, cmap='viridis')\n",
        "centers = kmeans.cluster_centers_\n",
        "plt.scatter(centers[:, 0], centers[:, 1], c='red', s=200, alpha=0.5)\n",
        "plt.title('KMeans on full dataset')"
      ],
      "execution_count": 125,
      "outputs": [
        {
          "output_type": "execute_result",
          "data": {
            "text/plain": [
              "Text(0.5, 1.0, 'KMeans on full dataset')"
            ]
          },
          "metadata": {
            "tags": []
          },
          "execution_count": 125
        },
        {
          "output_type": "display_data",
          "data": {
            "image/png": "[encoded data removed]",
            "text/plain": [
              "<Figure size 432x288 with 1 Axes>"
            ]
          },
          "metadata": {
            "tags": [],
            "needs_background": "light"
          }
        }
      ]
    },
    {
      "cell_type": "code",
      "metadata": {
        "id": "1NR7kUSquHBh",
        "colab_type": "code",
        "colab": {
          "base_uri": "https://localhost:8080/",
          "height": 299
        },
        "outputId": "dd8a282a-543f-4477-9f28-654628b2dab4"
      },
      "source": [
        "## Expectation maximization analysis on Full data set\n",
        "from sklearn.mixture import GaussianMixture\n",
        "em = GaussianMixture(n_components=4,random_state=0,covariance_type='tied')\n",
        "em.fit(X_feature)\n",
        "em_pred = em.predict(X_feature)\n",
        "plt.scatter(X_feature[:, 0], X_feature[:, 1], c=em_pred, s=50, cmap='viridis_r')\n",
        "plt.title('Expectation Maximization on full data set')"
      ],
      "execution_count": 127,
      "outputs": [
        {
          "output_type": "execute_result",
          "data": {
            "text/plain": [
              "Text(0.5, 1.0, 'Expectation Maximization on full data set')"
            ]
          },
          "metadata": {
            "tags": []
          },
          "execution_count": 127
        },
        {
          "output_type": "display_data",
          "data": {
            "image/png": "[encoded data removed]",
            "text/plain": [
              "<Figure size 432x288 with 1 Axes>"
            ]
          },
          "metadata": {
            "tags": [],
            "needs_background": "light"
          }
        }
      ]
    },
    {
      "cell_type": "markdown",
      "metadata": {
        "id": "E7H3uRIQMMqy",
        "colab_type": "text"
      },
      "source": [
        "## TASK 5\n",
        "\n",
        "\n",
        "\n"
      ]
    },
    {
      "cell_type": "code",
      "metadata": {
        "id": "bu21GqdgMPuz",
        "colab_type": "code",
        "colab": {
          "base_uri": "https://localhost:8080/",
          "height": 415
        },
        "outputId": "81fb07dc-0512-4eb6-d0ec-f199bd58f30b"
      },
      "source": [
        "from sklearn.cluster import KMeans\n",
        "\n",
        "kmeans = KMeans(n_clusters = 2, n_init=10, max_iter=300, init = 'k-means++', random_state = 2)\n",
        "prediction = kmeans.fit_predict(X_train)\n",
        "\n",
        "em = GaussianMixture(n_components=2,random_state=2,covariance_type='tied')\n",
        "em_pred = em.fit_predict(X_train)\n",
        "em_probs = em.predict_proba(X_train)\n",
        "\n",
        "train_df = pd.DataFrame()\n",
        "train_df['KM_Pred']=prediction\n",
        "train_df['EM_Prob']=em_probs[:,1]\n",
        "train_df['y']=y_train\n",
        "train_df"
      ],
      "execution_count": 24,
      "outputs": [
        {
          "output_type": "execute_result",
          "data": {
            "text/html": [
              "<div>\n",
              "<style scoped>\n",
              "    .dataframe tbody tr th:only-of-type {\n",
              "        vertical-align: middle;\n",
              "    }\n",
              "\n",
              "    .dataframe tbody tr th {\n",
              "        vertical-align: top;\n",
              "    }\n",
              "\n",
              "    .dataframe thead th {\n",
              "        text-align: right;\n",
              "    }\n",
              "</style>\n",
              "<table border=\"1\" class=\"dataframe\">\n",
              "  <thead>\n",
              "    <tr style=\"text-align: right;\">\n",
              "      <th></th>\n",
              "      <th>KM_Pred</th>\n",
              "      <th>EM_Prob</th>\n",
              "      <th>y</th>\n",
              "    </tr>\n",
              "  </thead>\n",
              "  <tbody>\n",
              "    <tr>\n",
              "      <th>0</th>\n",
              "      <td>1</td>\n",
              "      <td>9.999995e-01</td>\n",
              "      <td>1.0</td>\n",
              "    </tr>\n",
              "    <tr>\n",
              "      <th>1</th>\n",
              "      <td>0</td>\n",
              "      <td>1.063441e-09</td>\n",
              "      <td>0.0</td>\n",
              "    </tr>\n",
              "    <tr>\n",
              "      <th>2</th>\n",
              "      <td>0</td>\n",
              "      <td>2.482059e-10</td>\n",
              "      <td>1.0</td>\n",
              "    </tr>\n",
              "    <tr>\n",
              "      <th>3</th>\n",
              "      <td>0</td>\n",
              "      <td>1.511451e-09</td>\n",
              "      <td>0.0</td>\n",
              "    </tr>\n",
              "    <tr>\n",
              "      <th>4</th>\n",
              "      <td>1</td>\n",
              "      <td>9.999999e-01</td>\n",
              "      <td>1.0</td>\n",
              "    </tr>\n",
              "    <tr>\n",
              "      <th>...</th>\n",
              "      <td>...</td>\n",
              "      <td>...</td>\n",
              "      <td>...</td>\n",
              "    </tr>\n",
              "    <tr>\n",
              "      <th>150378</th>\n",
              "      <td>0</td>\n",
              "      <td>1.382699e-04</td>\n",
              "      <td>1.0</td>\n",
              "    </tr>\n",
              "    <tr>\n",
              "      <th>150379</th>\n",
              "      <td>1</td>\n",
              "      <td>9.999997e-01</td>\n",
              "      <td>1.0</td>\n",
              "    </tr>\n",
              "    <tr>\n",
              "      <th>150380</th>\n",
              "      <td>0</td>\n",
              "      <td>5.779021e-05</td>\n",
              "      <td>0.0</td>\n",
              "    </tr>\n",
              "    <tr>\n",
              "      <th>150381</th>\n",
              "      <td>0</td>\n",
              "      <td>4.525326e-04</td>\n",
              "      <td>0.0</td>\n",
              "    </tr>\n",
              "    <tr>\n",
              "      <th>150382</th>\n",
              "      <td>1</td>\n",
              "      <td>9.999998e-01</td>\n",
              "      <td>1.0</td>\n",
              "    </tr>\n",
              "  </tbody>\n",
              "</table>\n",
              "<p>150383 rows × 3 columns</p>\n",
              "</div>"
            ],
            "text/plain": [
              "        KM_Pred       EM_Prob    y\n",
              "0             1  9.999995e-01  1.0\n",
              "1             0  1.063441e-09  0.0\n",
              "2             0  2.482059e-10  1.0\n",
              "3             0  1.511451e-09  0.0\n",
              "4             1  9.999999e-01  1.0\n",
              "...         ...           ...  ...\n",
              "150378        0  1.382699e-04  1.0\n",
              "150379        1  9.999997e-01  1.0\n",
              "150380        0  5.779021e-05  0.0\n",
              "150381        0  4.525326e-04  0.0\n",
              "150382        1  9.999998e-01  1.0\n",
              "\n",
              "[150383 rows x 3 columns]"
            ]
          },
          "metadata": {
            "tags": []
          },
          "execution_count": 24
        }
      ]
    },
    {
      "cell_type": "code",
      "metadata": {
        "id": "066p1diOMP23",
        "colab_type": "code",
        "colab": {
          "base_uri": "https://localhost:8080/",
          "height": 415
        },
        "outputId": "e9e48706-78d6-4e63-ec4f-db6fd5e51d15"
      },
      "source": [
        "from sklearn.cluster import KMeans\n",
        "\n",
        "kmeans = KMeans(n_clusters = 2, n_init=10, max_iter=300, init = 'k-means++', random_state = 2)\n",
        "prediction = kmeans.fit_predict(X_test)\n",
        "\n",
        "em = GaussianMixture(n_components=2,random_state=2,covariance_type='tied')\n",
        "em_pred = em.fit_predict(X_test)\n",
        "em_probs = em.predict_proba(X_test)\n",
        "\n",
        "test_df = pd.DataFrame()\n",
        "test_df['KM_Pred']=prediction\n",
        "test_df['EM_Prob']=em_probs[:,1]\n",
        "test_df['y']=y_test\n",
        "test_df"
      ],
      "execution_count": 25,
      "outputs": [
        {
          "output_type": "execute_result",
          "data": {
            "text/html": [
              "<div>\n",
              "<style scoped>\n",
              "    .dataframe tbody tr th:only-of-type {\n",
              "        vertical-align: middle;\n",
              "    }\n",
              "\n",
              "    .dataframe tbody tr th {\n",
              "        vertical-align: top;\n",
              "    }\n",
              "\n",
              "    .dataframe thead th {\n",
              "        text-align: right;\n",
              "    }\n",
              "</style>\n",
              "<table border=\"1\" class=\"dataframe\">\n",
              "  <thead>\n",
              "    <tr style=\"text-align: right;\">\n",
              "      <th></th>\n",
              "      <th>KM_Pred</th>\n",
              "      <th>EM_Prob</th>\n",
              "      <th>y</th>\n",
              "    </tr>\n",
              "  </thead>\n",
              "  <tbody>\n",
              "    <tr>\n",
              "      <th>0</th>\n",
              "      <td>0</td>\n",
              "      <td>2.179784e-04</td>\n",
              "      <td>1.0</td>\n",
              "    </tr>\n",
              "    <tr>\n",
              "      <th>1</th>\n",
              "      <td>1</td>\n",
              "      <td>9.999993e-01</td>\n",
              "      <td>0.0</td>\n",
              "    </tr>\n",
              "    <tr>\n",
              "      <th>2</th>\n",
              "      <td>0</td>\n",
              "      <td>5.510730e-05</td>\n",
              "      <td>0.0</td>\n",
              "    </tr>\n",
              "    <tr>\n",
              "      <th>3</th>\n",
              "      <td>1</td>\n",
              "      <td>9.999993e-01</td>\n",
              "      <td>0.0</td>\n",
              "    </tr>\n",
              "    <tr>\n",
              "      <th>4</th>\n",
              "      <td>0</td>\n",
              "      <td>1.499440e-04</td>\n",
              "      <td>0.0</td>\n",
              "    </tr>\n",
              "    <tr>\n",
              "      <th>...</th>\n",
              "      <td>...</td>\n",
              "      <td>...</td>\n",
              "      <td>...</td>\n",
              "    </tr>\n",
              "    <tr>\n",
              "      <th>64445</th>\n",
              "      <td>1</td>\n",
              "      <td>9.999996e-01</td>\n",
              "      <td>0.0</td>\n",
              "    </tr>\n",
              "    <tr>\n",
              "      <th>64446</th>\n",
              "      <td>0</td>\n",
              "      <td>1.252054e-04</td>\n",
              "      <td>0.0</td>\n",
              "    </tr>\n",
              "    <tr>\n",
              "      <th>64447</th>\n",
              "      <td>0</td>\n",
              "      <td>8.254326e-12</td>\n",
              "      <td>1.0</td>\n",
              "    </tr>\n",
              "    <tr>\n",
              "      <th>64448</th>\n",
              "      <td>1</td>\n",
              "      <td>9.999988e-01</td>\n",
              "      <td>0.0</td>\n",
              "    </tr>\n",
              "    <tr>\n",
              "      <th>64449</th>\n",
              "      <td>0</td>\n",
              "      <td>1.839769e-04</td>\n",
              "      <td>1.0</td>\n",
              "    </tr>\n",
              "  </tbody>\n",
              "</table>\n",
              "<p>64450 rows × 3 columns</p>\n",
              "</div>"
            ],
            "text/plain": [
              "       KM_Pred       EM_Prob    y\n",
              "0            0  2.179784e-04  1.0\n",
              "1            1  9.999993e-01  0.0\n",
              "2            0  5.510730e-05  0.0\n",
              "3            1  9.999993e-01  0.0\n",
              "4            0  1.499440e-04  0.0\n",
              "...        ...           ...  ...\n",
              "64445        1  9.999996e-01  0.0\n",
              "64446        0  1.252054e-04  0.0\n",
              "64447        0  8.254326e-12  1.0\n",
              "64448        1  9.999988e-01  0.0\n",
              "64449        0  1.839769e-04  1.0\n",
              "\n",
              "[64450 rows x 3 columns]"
            ]
          },
          "metadata": {
            "tags": []
          },
          "execution_count": 25
        }
      ]
    },
    {
      "cell_type": "code",
      "metadata": {
        "id": "eWUYnlzrMQRR",
        "colab_type": "code",
        "colab": {}
      },
      "source": [
        "\n",
        "train_y=train_df[['y']].values\n",
        "train_x=train_df.drop(columns=['y'],axis=1).values\n",
        "test_y=test_df[['y']]\n",
        "test_x=test_df.drop(columns=['y'],axis=1)"
      ],
      "execution_count": 0,
      "outputs": []
    },
    {
      "cell_type": "code",
      "metadata": {
        "id": "zBvn37qkMQUl",
        "colab_type": "code",
        "colab": {
          "base_uri": "https://localhost:8080/",
          "height": 1000
        },
        "outputId": "3cf2b0cc-8604-479f-ff53-92f937157c86"
      },
      "source": [
        "# Initialising the ANN\n",
        "classifier = Sequential()\n",
        "\n",
        "# Adding the input layer and the first hidden layer\n",
        "classifier.add(Dense(32,activation=\"softmax\"))\n",
        "\n",
        "# Adding the second hidden layer\n",
        "classifier.add(Dense(16,activation=\"softmax\"))\n",
        "\n",
        "# Adding the output layer\n",
        "classifier.add(Dense(1,activation=\"sigmoid\"))\n",
        "\n",
        "# Compiling the ANN\n",
        "classifier.compile(optimizer = 'adam', loss = 'binary_crossentropy', metrics = ['accuracy'])\n",
        "\n",
        "# Fitting the ANN to the Training set\n",
        "history=classifier.fit(train_x, train_y, batch_size = 10, epochs=100,validation_split=0.3)"
      ],
      "execution_count": 27,
      "outputs": [
        {
          "output_type": "stream",
          "text": [
            "Train on 105268 samples, validate on 45115 samples\n",
            "Epoch 1/100\n",
            "105268/105268 [==============================] - 17s 158us/step - loss: 0.6069 - accuracy: 0.6708 - val_loss: 0.6030 - val_accuracy: 0.6679\n",
            "Epoch 2/100\n",
            "105268/105268 [==============================] - 17s 158us/step - loss: 0.6015 - accuracy: 0.6708 - val_loss: 0.6034 - val_accuracy: 0.6679\n",
            "Epoch 3/100\n",
            "105268/105268 [==============================] - 16s 151us/step - loss: 0.6015 - accuracy: 0.6696 - val_loss: 0.6030 - val_accuracy: 0.6679\n",
            "Epoch 4/100\n",
            "105268/105268 [==============================] - 19s 184us/step - loss: 0.6016 - accuracy: 0.6706 - val_loss: 0.6030 - val_accuracy: 0.6679\n",
            "Epoch 5/100\n",
            "105268/105268 [==============================] - 17s 161us/step - loss: 0.6015 - accuracy: 0.6705 - val_loss: 0.6032 - val_accuracy: 0.6679\n",
            "Epoch 6/100\n",
            "105268/105268 [==============================] - 17s 158us/step - loss: 0.6015 - accuracy: 0.6709 - val_loss: 0.6033 - val_accuracy: 0.6679\n",
            "Epoch 7/100\n",
            "105268/105268 [==============================] - 17s 158us/step - loss: 0.6015 - accuracy: 0.6711 - val_loss: 0.6031 - val_accuracy: 0.6679\n",
            "Epoch 8/100\n",
            "105268/105268 [==============================] - 17s 157us/step - loss: 0.6015 - accuracy: 0.6707 - val_loss: 0.6032 - val_accuracy: 0.6679\n",
            "Epoch 9/100\n",
            "105268/105268 [==============================] - 17s 158us/step - loss: 0.6015 - accuracy: 0.6705 - val_loss: 0.6030 - val_accuracy: 0.6679\n",
            "Epoch 10/100\n",
            "105268/105268 [==============================] - 17s 158us/step - loss: 0.6015 - accuracy: 0.6707 - val_loss: 0.6033 - val_accuracy: 0.6679\n",
            "Epoch 11/100\n",
            "105268/105268 [==============================] - 17s 160us/step - loss: 0.6015 - accuracy: 0.6707 - val_loss: 0.6030 - val_accuracy: 0.6679\n",
            "Epoch 12/100\n",
            "105268/105268 [==============================] - 17s 158us/step - loss: 0.6015 - accuracy: 0.6707 - val_loss: 0.6030 - val_accuracy: 0.6679\n",
            "Epoch 13/100\n",
            "105268/105268 [==============================] - 17s 161us/step - loss: 0.6015 - accuracy: 0.6704 - val_loss: 0.6032 - val_accuracy: 0.6679\n",
            "Epoch 14/100\n",
            "105268/105268 [==============================] - 17s 165us/step - loss: 0.6015 - accuracy: 0.6709 - val_loss: 0.6031 - val_accuracy: 0.6679\n",
            "Epoch 15/100\n",
            "105268/105268 [==============================] - 16s 156us/step - loss: 0.6015 - accuracy: 0.6707 - val_loss: 0.6031 - val_accuracy: 0.6679\n",
            "Epoch 16/100\n",
            "105268/105268 [==============================] - 16s 155us/step - loss: 0.6015 - accuracy: 0.6704 - val_loss: 0.6030 - val_accuracy: 0.6679\n",
            "Epoch 17/100\n",
            "105268/105268 [==============================] - 17s 157us/step - loss: 0.6015 - accuracy: 0.6711 - val_loss: 0.6032 - val_accuracy: 0.6679\n",
            "Epoch 18/100\n",
            "105268/105268 [==============================] - 16s 155us/step - loss: 0.6015 - accuracy: 0.6712 - val_loss: 0.6031 - val_accuracy: 0.6679\n",
            "Epoch 19/100\n",
            "105268/105268 [==============================] - 16s 156us/step - loss: 0.6015 - accuracy: 0.6710 - val_loss: 0.6030 - val_accuracy: 0.6679\n",
            "Epoch 20/100\n",
            "105268/105268 [==============================] - 16s 155us/step - loss: 0.6015 - accuracy: 0.6709 - val_loss: 0.6034 - val_accuracy: 0.6679\n",
            "Epoch 21/100\n",
            "105268/105268 [==============================] - 16s 155us/step - loss: 0.6015 - accuracy: 0.6705 - val_loss: 0.6031 - val_accuracy: 0.6679\n",
            "Epoch 22/100\n",
            "105268/105268 [==============================] - 17s 157us/step - loss: 0.6015 - accuracy: 0.6713 - val_loss: 0.6031 - val_accuracy: 0.6679\n",
            "Epoch 23/100\n",
            "105268/105268 [==============================] - 16s 156us/step - loss: 0.6015 - accuracy: 0.6707 - val_loss: 0.6032 - val_accuracy: 0.6679\n",
            "Epoch 24/100\n",
            "105268/105268 [==============================] - 17s 158us/step - loss: 0.6015 - accuracy: 0.6709 - val_loss: 0.6032 - val_accuracy: 0.6679\n",
            "Epoch 25/100\n",
            "105268/105268 [==============================] - 16s 153us/step - loss: 0.6015 - accuracy: 0.6706 - val_loss: 0.6036 - val_accuracy: 0.6679\n",
            "Epoch 26/100\n",
            "105268/105268 [==============================] - 17s 158us/step - loss: 0.6015 - accuracy: 0.6707 - val_loss: 0.6030 - val_accuracy: 0.6679\n",
            "Epoch 27/100\n",
            "105268/105268 [==============================] - 17s 158us/step - loss: 0.6015 - accuracy: 0.6708 - val_loss: 0.6031 - val_accuracy: 0.6679\n",
            "Epoch 28/100\n",
            "105268/105268 [==============================] - 16s 156us/step - loss: 0.6015 - accuracy: 0.6712 - val_loss: 0.6030 - val_accuracy: 0.6679\n",
            "Epoch 29/100\n",
            "105268/105268 [==============================] - 17s 163us/step - loss: 0.6015 - accuracy: 0.6710 - val_loss: 0.6030 - val_accuracy: 0.6679\n",
            "Epoch 30/100\n",
            "105268/105268 [==============================] - 16s 154us/step - loss: 0.6015 - accuracy: 0.6708 - val_loss: 0.6032 - val_accuracy: 0.6679\n",
            "Epoch 31/100\n",
            "105268/105268 [==============================] - 17s 158us/step - loss: 0.6015 - accuracy: 0.6707 - val_loss: 0.6030 - val_accuracy: 0.6679\n",
            "Epoch 32/100\n",
            "105268/105268 [==============================] - 17s 162us/step - loss: 0.6015 - accuracy: 0.6708 - val_loss: 0.6031 - val_accuracy: 0.6679\n",
            "Epoch 33/100\n",
            "105268/105268 [==============================] - 17s 160us/step - loss: 0.6015 - accuracy: 0.6710 - val_loss: 0.6031 - val_accuracy: 0.6679\n",
            "Epoch 34/100\n",
            "105268/105268 [==============================] - 16s 156us/step - loss: 0.6015 - accuracy: 0.6709 - val_loss: 0.6030 - val_accuracy: 0.6679\n",
            "Epoch 35/100\n",
            "105268/105268 [==============================] - 17s 158us/step - loss: 0.6015 - accuracy: 0.6708 - val_loss: 0.6031 - val_accuracy: 0.6679\n",
            "Epoch 36/100\n",
            "105268/105268 [==============================] - 17s 157us/step - loss: 0.6015 - accuracy: 0.6707 - val_loss: 0.6032 - val_accuracy: 0.6679\n",
            "Epoch 37/100\n",
            "105268/105268 [==============================] - 17s 157us/step - loss: 0.6015 - accuracy: 0.6708 - val_loss: 0.6030 - val_accuracy: 0.6679\n",
            "Epoch 38/100\n",
            "105268/105268 [==============================] - 17s 157us/step - loss: 0.6015 - accuracy: 0.6711 - val_loss: 0.6031 - val_accuracy: 0.6679\n",
            "Epoch 39/100\n",
            "105268/105268 [==============================] - 17s 159us/step - loss: 0.6015 - accuracy: 0.6710 - val_loss: 0.6031 - val_accuracy: 0.6679\n",
            "Epoch 40/100\n",
            "105268/105268 [==============================] - 17s 158us/step - loss: 0.6015 - accuracy: 0.6706 - val_loss: 0.6031 - val_accuracy: 0.6679\n",
            "Epoch 41/100\n",
            "105268/105268 [==============================] - 21s 203us/step - loss: 0.6015 - accuracy: 0.6712 - val_loss: 0.6033 - val_accuracy: 0.6679\n",
            "Epoch 42/100\n",
            "105268/105268 [==============================] - 17s 160us/step - loss: 0.6015 - accuracy: 0.6710 - val_loss: 0.6030 - val_accuracy: 0.6679\n",
            "Epoch 43/100\n",
            "105268/105268 [==============================] - 17s 159us/step - loss: 0.6015 - accuracy: 0.6707 - val_loss: 0.6030 - val_accuracy: 0.6679\n",
            "Epoch 44/100\n",
            "105268/105268 [==============================] - 17s 162us/step - loss: 0.6015 - accuracy: 0.6710 - val_loss: 0.6034 - val_accuracy: 0.6679\n",
            "Epoch 45/100\n",
            "105268/105268 [==============================] - 17s 160us/step - loss: 0.6015 - accuracy: 0.6708 - val_loss: 0.6030 - val_accuracy: 0.6679\n",
            "Epoch 46/100\n",
            "105268/105268 [==============================] - 17s 159us/step - loss: 0.6015 - accuracy: 0.6711 - val_loss: 0.6031 - val_accuracy: 0.6679\n",
            "Epoch 47/100\n",
            "105268/105268 [==============================] - 18s 169us/step - loss: 0.6015 - accuracy: 0.6705 - val_loss: 0.6031 - val_accuracy: 0.6679\n",
            "Epoch 48/100\n",
            "105268/105268 [==============================] - 17s 159us/step - loss: 0.6015 - accuracy: 0.6710 - val_loss: 0.6030 - val_accuracy: 0.6679\n",
            "Epoch 49/100\n",
            "105268/105268 [==============================] - 17s 158us/step - loss: 0.6015 - accuracy: 0.6713 - val_loss: 0.6030 - val_accuracy: 0.6679\n",
            "Epoch 50/100\n",
            "105268/105268 [==============================] - 17s 161us/step - loss: 0.6015 - accuracy: 0.6707 - val_loss: 0.6030 - val_accuracy: 0.6679\n",
            "Epoch 51/100\n",
            "105268/105268 [==============================] - 18s 168us/step - loss: 0.6015 - accuracy: 0.6708 - val_loss: 0.6031 - val_accuracy: 0.6679\n",
            "Epoch 52/100\n",
            "105268/105268 [==============================] - 17s 159us/step - loss: 0.6015 - accuracy: 0.6711 - val_loss: 0.6031 - val_accuracy: 0.6679\n",
            "Epoch 53/100\n",
            "105268/105268 [==============================] - 17s 159us/step - loss: 0.6015 - accuracy: 0.6710 - val_loss: 0.6032 - val_accuracy: 0.6679\n",
            "Epoch 54/100\n",
            "105268/105268 [==============================] - 17s 157us/step - loss: 0.6015 - accuracy: 0.6711 - val_loss: 0.6030 - val_accuracy: 0.6679\n",
            "Epoch 55/100\n",
            "105268/105268 [==============================] - 17s 159us/step - loss: 0.6015 - accuracy: 0.6705 - val_loss: 0.6030 - val_accuracy: 0.6679\n",
            "Epoch 56/100\n",
            "105268/105268 [==============================] - 17s 159us/step - loss: 0.6015 - accuracy: 0.6709 - val_loss: 0.6032 - val_accuracy: 0.6679\n",
            "Epoch 57/100\n",
            "105268/105268 [==============================] - 17s 158us/step - loss: 0.6015 - accuracy: 0.6713 - val_loss: 0.6033 - val_accuracy: 0.6679\n",
            "Epoch 58/100\n",
            "105268/105268 [==============================] - 17s 159us/step - loss: 0.6015 - accuracy: 0.6707 - val_loss: 0.6030 - val_accuracy: 0.6679\n",
            "Epoch 59/100\n",
            "105268/105268 [==============================] - 17s 158us/step - loss: 0.6015 - accuracy: 0.6708 - val_loss: 0.6030 - val_accuracy: 0.6679\n",
            "Epoch 60/100\n",
            "105268/105268 [==============================] - 16s 156us/step - loss: 0.6015 - accuracy: 0.6707 - val_loss: 0.6032 - val_accuracy: 0.6679\n",
            "Epoch 61/100\n",
            "105268/105268 [==============================] - 16s 155us/step - loss: 0.6015 - accuracy: 0.6703 - val_loss: 0.6031 - val_accuracy: 0.6679\n",
            "Epoch 62/100\n",
            "105268/105268 [==============================] - 16s 152us/step - loss: 0.6015 - accuracy: 0.6712 - val_loss: 0.6032 - val_accuracy: 0.6679\n",
            "Epoch 63/100\n",
            "105268/105268 [==============================] - 17s 157us/step - loss: 0.6015 - accuracy: 0.6708 - val_loss: 0.6030 - val_accuracy: 0.6679\n",
            "Epoch 64/100\n",
            "105268/105268 [==============================] - 17s 157us/step - loss: 0.6015 - accuracy: 0.6711 - val_loss: 0.6031 - val_accuracy: 0.6679\n",
            "Epoch 65/100\n",
            "105268/105268 [==============================] - 17s 160us/step - loss: 0.6015 - accuracy: 0.6710 - val_loss: 0.6031 - val_accuracy: 0.6679\n",
            "Epoch 66/100\n",
            "105268/105268 [==============================] - 17s 160us/step - loss: 0.6014 - accuracy: 0.6709 - val_loss: 0.6030 - val_accuracy: 0.6679\n",
            "Epoch 67/100\n",
            "105268/105268 [==============================] - 17s 159us/step - loss: 0.6015 - accuracy: 0.6711 - val_loss: 0.6030 - val_accuracy: 0.6679\n",
            "Epoch 68/100\n",
            "105268/105268 [==============================] - 17s 157us/step - loss: 0.6015 - accuracy: 0.6709 - val_loss: 0.6031 - val_accuracy: 0.6679\n",
            "Epoch 69/100\n",
            "105268/105268 [==============================] - 17s 164us/step - loss: 0.6015 - accuracy: 0.6710 - val_loss: 0.6032 - val_accuracy: 0.6679\n",
            "Epoch 70/100\n",
            "105268/105268 [==============================] - 17s 160us/step - loss: 0.6015 - accuracy: 0.6712 - val_loss: 0.6031 - val_accuracy: 0.6679\n",
            "Epoch 71/100\n",
            "105268/105268 [==============================] - 17s 157us/step - loss: 0.6015 - accuracy: 0.6712 - val_loss: 0.6031 - val_accuracy: 0.6636\n",
            "Epoch 72/100\n",
            "105268/105268 [==============================] - 17s 157us/step - loss: 0.6015 - accuracy: 0.6709 - val_loss: 0.6030 - val_accuracy: 0.6679\n",
            "Epoch 73/100\n",
            "105268/105268 [==============================] - 16s 156us/step - loss: 0.6015 - accuracy: 0.6705 - val_loss: 0.6033 - val_accuracy: 0.6679\n",
            "Epoch 74/100\n",
            "105268/105268 [==============================] - 17s 157us/step - loss: 0.6015 - accuracy: 0.6709 - val_loss: 0.6031 - val_accuracy: 0.6679\n",
            "Epoch 75/100\n",
            "105268/105268 [==============================] - 17s 157us/step - loss: 0.6015 - accuracy: 0.6711 - val_loss: 0.6030 - val_accuracy: 0.6679\n",
            "Epoch 76/100\n",
            "105268/105268 [==============================] - 17s 158us/step - loss: 0.6015 - accuracy: 0.6712 - val_loss: 0.6030 - val_accuracy: 0.6679\n",
            "Epoch 77/100\n",
            "105268/105268 [==============================] - 21s 196us/step - loss: 0.6015 - accuracy: 0.6710 - val_loss: 0.6030 - val_accuracy: 0.6679\n",
            "Epoch 78/100\n",
            "105268/105268 [==============================] - 17s 159us/step - loss: 0.6015 - accuracy: 0.6710 - val_loss: 0.6031 - val_accuracy: 0.6679\n",
            "Epoch 79/100\n",
            "105268/105268 [==============================] - 17s 158us/step - loss: 0.6015 - accuracy: 0.6709 - val_loss: 0.6030 - val_accuracy: 0.6679\n",
            "Epoch 80/100\n",
            "105268/105268 [==============================] - 17s 157us/step - loss: 0.6015 - accuracy: 0.6711 - val_loss: 0.6030 - val_accuracy: 0.6679\n",
            "Epoch 81/100\n",
            "105268/105268 [==============================] - 17s 159us/step - loss: 0.6015 - accuracy: 0.6710 - val_loss: 0.6032 - val_accuracy: 0.6679\n",
            "Epoch 82/100\n",
            "105268/105268 [==============================] - 17s 158us/step - loss: 0.6015 - accuracy: 0.6707 - val_loss: 0.6032 - val_accuracy: 0.6679\n",
            "Epoch 83/100\n",
            "105268/105268 [==============================] - 17s 158us/step - loss: 0.6015 - accuracy: 0.6711 - val_loss: 0.6031 - val_accuracy: 0.6679\n",
            "Epoch 84/100\n",
            "105268/105268 [==============================] - 17s 162us/step - loss: 0.6015 - accuracy: 0.6710 - val_loss: 0.6030 - val_accuracy: 0.6679\n",
            "Epoch 85/100\n",
            "105268/105268 [==============================] - 16s 152us/step - loss: 0.6015 - accuracy: 0.6711 - val_loss: 0.6030 - val_accuracy: 0.6679\n",
            "Epoch 86/100\n",
            "105268/105268 [==============================] - 17s 158us/step - loss: 0.6015 - accuracy: 0.6709 - val_loss: 0.6032 - val_accuracy: 0.6679\n",
            "Epoch 87/100\n",
            "105268/105268 [==============================] - 16s 156us/step - loss: 0.6015 - accuracy: 0.6709 - val_loss: 0.6031 - val_accuracy: 0.6679\n",
            "Epoch 88/100\n",
            "105268/105268 [==============================] - 18s 168us/step - loss: 0.6015 - accuracy: 0.6708 - val_loss: 0.6031 - val_accuracy: 0.6679\n",
            "Epoch 89/100\n",
            "105268/105268 [==============================] - 16s 152us/step - loss: 0.6015 - accuracy: 0.6706 - val_loss: 0.6030 - val_accuracy: 0.6679\n",
            "Epoch 90/100\n",
            "105268/105268 [==============================] - 17s 158us/step - loss: 0.6015 - accuracy: 0.6714 - val_loss: 0.6031 - val_accuracy: 0.6636\n",
            "Epoch 91/100\n",
            "105268/105268 [==============================] - 16s 157us/step - loss: 0.6015 - accuracy: 0.6701 - val_loss: 0.6031 - val_accuracy: 0.6679\n",
            "Epoch 92/100\n",
            "105268/105268 [==============================] - 17s 157us/step - loss: 0.6015 - accuracy: 0.6715 - val_loss: 0.6033 - val_accuracy: 0.6679\n",
            "Epoch 93/100\n",
            "105268/105268 [==============================] - 16s 153us/step - loss: 0.6015 - accuracy: 0.6715 - val_loss: 0.6030 - val_accuracy: 0.6679\n",
            "Epoch 94/100\n",
            "105268/105268 [==============================] - 16s 156us/step - loss: 0.6015 - accuracy: 0.6708 - val_loss: 0.6030 - val_accuracy: 0.6679\n",
            "Epoch 95/100\n",
            "105268/105268 [==============================] - 17s 157us/step - loss: 0.6015 - accuracy: 0.6711 - val_loss: 0.6031 - val_accuracy: 0.6679\n",
            "Epoch 96/100\n",
            "105268/105268 [==============================] - 16s 153us/step - loss: 0.6015 - accuracy: 0.6710 - val_loss: 0.6030 - val_accuracy: 0.6679\n",
            "Epoch 97/100\n",
            "105268/105268 [==============================] - 17s 157us/step - loss: 0.6015 - accuracy: 0.6712 - val_loss: 0.6031 - val_accuracy: 0.6679\n",
            "Epoch 98/100\n",
            "105268/105268 [==============================] - 16s 156us/step - loss: 0.6015 - accuracy: 0.6708 - val_loss: 0.6031 - val_accuracy: 0.6636\n",
            "Epoch 99/100\n",
            "105268/105268 [==============================] - 16s 156us/step - loss: 0.6015 - accuracy: 0.6710 - val_loss: 0.6033 - val_accuracy: 0.6679\n",
            "Epoch 100/100\n",
            "105268/105268 [==============================] - 17s 159us/step - loss: 0.6015 - accuracy: 0.6710 - val_loss: 0.6032 - val_accuracy: 0.6679\n"
          ],
          "name": "stdout"
        }
      ]
    },
    {
      "cell_type": "code",
      "metadata": {
        "id": "DR2blP2nMQYX",
        "colab_type": "code",
        "colab": {
          "base_uri": "https://localhost:8080/",
          "height": 87
        },
        "outputId": "165c33d9-32fc-4980-9eb3-4e4044e917b9"
      },
      "source": [
        "# Predicting the Test set results\n",
        "y_pred = classifier.predict_classes(test_x)\n",
        "from sklearn.metrics import confusion_matrix,accuracy_score\n",
        "cm = confusion_matrix(test_y, y_pred)\n",
        "accu=accuracy_score(test_y,y_pred)\n",
        "print(cm,\"\\n\")\n",
        "print(\"The accuracy is\",accu)\n"
      ],
      "execution_count": 28,
      "outputs": [
        {
          "output_type": "stream",
          "text": [
            "[[43184     0]\n",
            " [21266     0]] \n",
            "\n",
            "The accuracy is 0.6700387897595035\n"
          ],
          "name": "stdout"
        }
      ]
    },
    {
      "cell_type": "code",
      "metadata": {
        "id": "tzJCUQ14MP0j",
        "colab_type": "code",
        "colab": {
          "base_uri": "https://localhost:8080/",
          "height": 591
        },
        "outputId": "80c8eeed-950e-456c-a24b-806e25ff43a9"
      },
      "source": [
        "# list all data in history\n",
        "print(history.history.keys())\n",
        "# summarize history for accuracy\n",
        "plt.plot(history.history['accuracy'])\n",
        "plt.plot(history.history['val_accuracy'])\n",
        "plt.title('model accuracy')\n",
        "plt.ylabel('accuracy')\n",
        "plt.xlabel('epoch')\n",
        "plt.legend(['train', 'test'], loc='upper left')\n",
        "plt.show()\n",
        "# summarize history for loss\n",
        "plt.plot(history.history['loss'])\n",
        "plt.plot(history.history['val_loss'])\n",
        "plt.title('model loss')\n",
        "plt.ylabel('loss')\n",
        "plt.xlabel('epoch')\n",
        "plt.legend(['train', 'test'], loc='upper left') \n",
        "plt.show()"
      ],
      "execution_count": 29,
      "outputs": [
        {
          "output_type": "stream",
          "text": [
            "dict_keys(['val_loss', 'val_accuracy', 'loss', 'accuracy'])\n"
          ],
          "name": "stdout"
        },
        {
          "output_type": "display_data",
          "data": {
            "image/png": "[encoded data removed]",
            "text/plain": [
              "<Figure size 432x288 with 1 Axes>"
            ]
          },
          "metadata": {
            "tags": [],
            "needs_background": "light"
          }
        },
        {
          "output_type": "display_data",
          "data": {
            "image/png": "[encoded data removed]",
            "text/plain": [
              "<Figure size 432x288 with 1 Axes>"
            ]
          },
          "metadata": {
            "tags": [],
            "needs_background": "light"
          }
        }
      ]
    }
  ]
}